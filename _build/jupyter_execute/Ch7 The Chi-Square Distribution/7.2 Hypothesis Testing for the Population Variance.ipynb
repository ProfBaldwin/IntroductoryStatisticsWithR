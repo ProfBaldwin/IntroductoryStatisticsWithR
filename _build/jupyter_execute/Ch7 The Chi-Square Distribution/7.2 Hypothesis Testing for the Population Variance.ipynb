{
 "cells": [
  {
   "cell_type": "markdown",
   "metadata": {},
   "source": [
    "# Hypothesis Testing for the Population Variance"
   ]
  },
  {
   "cell_type": "markdown",
   "metadata": {},
   "source": [
    "## Objectives\n",
    "- Conduct a hypothesis test on the variance of a population."
   ]
  },
  {
   "cell_type": "markdown",
   "metadata": {},
   "source": [
    "## Variance and the Test Statistic"
   ]
  },
  {
   "cell_type": "markdown",
   "metadata": {},
   "source": [
    "In the previous chapter, we learned how we test a claim about the mean or the proportion of a population. The process for testing a claim about the variance of a population is very similar. \n",
    "\n",
    "Recall that the **variance** of a population is simply the square of the population standard deviation; that is, if $\\sigma$ is the population standard deviation, then $\\sigma^2$ is the population variance. While the variance and the standard deviation are not quite the same, the two parameters both measure how far data is from the mean. Testing the population variance is the same as testing the population standard deviation.\n",
    "\n",
    "Unlike hypothesis tests for the population mean or the population proportion, we do not directly use a point estimate when testing the population variance. Instead, we use a **test statistic**. A test statistic is a quantity that summarizes the data in a sample and can be used in hypothesis testing. The $z$-scores and $t$-scores we calculated when testing population means and population proportions in the previous chapter are test statistics.\n",
    "\n",
    "We assume the underlying population is normally distributed. Then the test statistic used when performing a hypothesis test on the population variance is\n",
    "\n",
    "$$ \\chi^2 = \\frac{(n - 1)s^2}{\\sigma^2}, $$\n",
    "\n",
    "where $n$ is the sample size, $s$ is the sample standard deviation, and $\\sigma$ is the population standard deviation hypothesized by the null hypothesis.\n",
    "\n",
    "In this case, the sampling distribution of all possible test statistics is a $\\chi^2$-distribution with $df = n - 1$ degrees of freedom.\n",
    "\n",
    "We can use this sampling distribution and test statistic to perform a hypothesis test on the population variance. The general steps for completing a hypothesis test have not changed:\n",
    "1. State the null and alternative hypotheses.\n",
    "2. Assuming the null hypothesis is true, identify the sampling distribution.\n",
    "3. Find the $p$-value.\n",
    "4. Draw a conclusion. "
   ]
  },
  {
   "cell_type": "markdown",
   "metadata": {},
   "source": [
    "***"
   ]
  },
  {
   "cell_type": "markdown",
   "metadata": {},
   "source": [
    "### Example 7.2.1\n",
    "A beverage company wants to make sure that the amount of soda in their two-liter bottles doesn't differ significantly bottle-to-bottle. Specifically, they want the population standard deviation to be no larger than $1.5$ milliliters. The quality control division of the company carefully measures the amount of soda in $13$ bottles and obtains the following results (in milliliters):\n",
    "\n",
    "2002.08, 1999.25, 2002, 1996.51, 1998.99, 2000.06, 1999.73, 2001.16, 2001.19, 2002.14, 2000.21, 2002.15, 2000.06\n",
    "\n",
    "Conduct a hypothesis test at the $10\\%$ significance level to determine is the beverage company's criterion is satisfied.\n",
    "\n",
    "#### Solution\n",
    "##### Step 1: State the null and alternative hypotheses.\n",
    "The beverage company doesn't want the population standard deviation to be larger than $1.5$ milliliters; that is, the company wants $\\sigma \\leq 1.5$. Since the symbol has an 'equal' in it, this is the null hypothesis. The alternative hypothesis is the opposite of the null hypothesis.\n",
    "\n",
    "\\begin{align*}\n",
    "H_0:&\\ \\sigma \\leq 1.5 \\\\\n",
    "H_a:&\\ \\sigma > 1.5\n",
    "\\end{align*}\n",
    "\n",
    "Note, we have chosen to write our hypotheses in terms of the population standard deviation $\\sigma$. But we could also have written the hypotheses in terms of the population variance $\\sigma^2$. Since $1.5^2 = 2.25$, the same hypotheses written in terms of the population variance are\n",
    "\n",
    "\\begin{align*}\n",
    "H_0:&\\ \\sigma^2 \\leq 2.25 \\\\\n",
    "H_a:&\\ \\sigma^2 > 2.25\n",
    "\\end{align*}\n",
    "\n",
    "These two ways of writing the hypotheses are equivalent and either is acceptable.\n",
    "\n",
    "##### Step 2: Assuming the null hypothesis is true, identify the sampling distribution.\n",
    "Because we are testing the population standard deviation, we will use a $\\chi^2$ distribution with $df = n - 1 = 13 - 1 = 12$ degrees of freedom.\n",
    "\n",
    "##### Step 3: Find the $p$-value.\n",
    "To calculate the test statistic, we first need to find the sample standard deviation. To begin, we calculate the sample mean:"
   ]
  },
  {
   "cell_type": "code",
   "execution_count": 1,
   "metadata": {},
   "outputs": [
    {
     "data": {
      "text/html": [
       "2000.42538461538"
      ],
      "text/latex": [
       "2000.42538461538"
      ],
      "text/markdown": [
       "2000.42538461538"
      ],
      "text/plain": [
       "[1] 2000.425"
      ]
     },
     "metadata": {},
     "output_type": "display_data"
    }
   ],
   "source": [
    "x = c(2002.08, 1999.25, 2002, 1996.51, 1998.99, 2000.06, 1999.73, 2001.16, 2001.19, 2002.14, 2000.21, 2002.15, 2000.06)\n",
    "n = length(x)\n",
    "\n",
    "xbar = sum(x)/n\n",
    "xbar"
   ]
  },
  {
   "cell_type": "markdown",
   "metadata": {},
   "source": [
    "The sample mean is about $\\bar{x} = 2000.4254$. Next, we calculate the sample standard deviation:"
   ]
  },
  {
   "cell_type": "code",
   "execution_count": 2,
   "metadata": {},
   "outputs": [
    {
     "data": {
      "text/html": [
       "1.62851473938995"
      ],
      "text/latex": [
       "1.62851473938995"
      ],
      "text/markdown": [
       "1.62851473938995"
      ],
      "text/plain": [
       "[1] 1.628515"
      ]
     },
     "metadata": {},
     "output_type": "display_data"
    }
   ],
   "source": [
    "s = sqrt(sum( (x - xbar)^2 )/(n - 1))\n",
    "s"
   ]
  },
  {
   "cell_type": "markdown",
   "metadata": {},
   "source": [
    "The sample standard deviation is $s = 1.6285$. Assuming the null hypothesis is true (so that $\\sigma = 1.5$), we calculate the test statistic\n",
    "\n",
    "$$ \\chi^2 = \\frac{(n - 1)s^2}{\\sigma^2} = \\frac{(13 - 1)1.6285^2}{1.5^2} = 14.1443. $$\n",
    "\n",
    "Noting that the alternative hypothesis uses a \"greater-than\" symbol, we will be performing a right-tailed test. Therefore, the $p$-value is equal to $P(\\chi^2 > 14.1443)$. We use R to calculate this probability."
   ]
  },
  {
   "cell_type": "code",
   "execution_count": 1,
   "metadata": {},
   "outputs": [
    {
     "data": {
      "text/html": [
       "0.291588646205538"
      ],
      "text/latex": [
       "0.291588646205538"
      ],
      "text/markdown": [
       "0.291588646205538"
      ],
      "text/plain": [
       "[1] 0.2915886"
      ]
     },
     "metadata": {},
     "output_type": "display_data"
    }
   ],
   "source": [
    "1 - pchisq(q = 14.1443, df = 12)"
   ]
  },
  {
   "cell_type": "markdown",
   "metadata": {},
   "source": [
    "So the $p$-value is $P(\\chi^2 > 14.1443) = 0.2916$. That means that, assuming the null hypothesis is true, there is a $29.16\\%$ chance that a random sample of $13$ bottles would have a sample standard deviation as extreme as $s = 1.6285$.\n",
    "\n",
    "##### Step 4: Draw a conclusion.\n",
    "The level of significance is $10\\%$, so $\\alpha = 0.10$. But since\n",
    "\n",
    "$$p\\text{-value} = 0.2916 \\geq 0.10 = \\alpha, $$\n",
    "\n",
    "we do not reject the null hypothesis.\n",
    "\n",
    "There is not enough evidence to conclude that the population standard deviation of the bottles of soda is greater than $1.5$ milliliters."
   ]
  }
 ],
 "metadata": {
  "kernelspec": {
   "display_name": "R",
   "language": "R",
   "name": "ir"
  },
  "language_info": {
   "codemirror_mode": "r",
   "file_extension": ".r",
   "mimetype": "text/x-r-source",
   "name": "R",
   "pygments_lexer": "r",
   "version": "4.2.3"
  }
 },
 "nbformat": 4,
 "nbformat_minor": 4
}