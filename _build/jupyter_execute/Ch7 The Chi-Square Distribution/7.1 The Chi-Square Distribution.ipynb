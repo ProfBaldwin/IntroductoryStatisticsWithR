{
 "cells": [
  {
   "cell_type": "markdown",
   "metadata": {},
   "source": [
    "# The $\\chi^2$-Distribution"
   ]
  },
  {
   "cell_type": "markdown",
   "metadata": {},
   "source": [
    "## Objectives\n",
    "- Calculate probabilities using the $\\chi$^2-distribution."
   ]
  },
  {
   "cell_type": "markdown",
   "metadata": {},
   "source": [
    "## The $\\chi^2$-Distribution\n",
    "\n",
    "In this chapter, we learn about how to conduct hypothesis tests using the $\\chi^2$-distribution. The $\\chi^2$-distribution ($\\chi$ is the Greek letter \"chi\", pronounced \"kai\") is different than the normal distribution or the $t$-distribution. Like the $t$-distribution, the $\\chi^2$-distribution depends on the degrees of freedom $df$, and there are different $\\chi^2$-distributions for different values of the degrees of freedom. The mean of the $\\chi^2$-distribution is $\\mu = df$, where $df$ is the degrees of freedom. The standard deviation is $\\sigma = \\sqrt{2(df)}$.\n",
    "\n",
    "The random variable for a $\\chi^2$-distribution with $k$ degrees of freedom is the sum of $k$ independent squared standard normal variables:\n",
    "\n",
    "$$ \\chi^2 = Z_1^2 + Z_2^2 + \\cdots + Z_k^2. $$\n",
    "\n",
    "Unlike the normal distribution and the $t$-distribution, the curve of the $\\chi^2$-distribution is asymmetrical."
   ]
  },
  {
   "cell_type": "code",
   "execution_count": 1,
   "metadata": {
    "tags": [
     "remove-cell"
    ]
   },
   "outputs": [
    {
     "data": {
      "text/html": [
       "<strong>png:</strong> 2"
      ],
      "text/latex": [
       "\\textbf{png:} 2"
      ],
      "text/markdown": [
       "**png:** 2"
      ],
      "text/plain": [
       "png \n",
       "  2 "
      ]
     },
     "metadata": {},
     "output_type": "display_data"
    }
   ],
   "source": [
    "png(\"chisq_diff_df.png\", width = 1000, height = 750)\n",
    "\n",
    "#par(mar = c(2, 0, 0, 0))\n",
    "par(mfrow = c(3, 1), mar = c(2, 0, 0, 0), mgp = c(3, 2, 0))\n",
    "\n",
    "x = seq(0, 60, 0.01)\n",
    "y1 = dchisq(x, df = 2)\n",
    "y2 = dchisq(x, df = 8)\n",
    "y3 = dchisq(x, df = 24)\n",
    "\n",
    "polyx = c(0, x, 60)\n",
    "polyy1 = c(0, y1, 0)\n",
    "polyy2 = c(0, y2, 0)\n",
    "polyy3 = c(0, y3, 0)\n",
    "\n",
    "M = dchisq(0, 2)\n",
    "\n",
    "plot(x, y1, type=\"l\", xlab = \"\", ylab = \"\", ylim = c(0, M), axes = FALSE, cex = 2, cex.lab = 2)\n",
    "polygon(polyx, polyy1, col = \"gray90\", border = \"NA\")\n",
    "text(3.9, dchisq(2, 2) + 0.01, labels = \"df = 2\", cex = 3, pos = 3)\n",
    "axis(1, pos=0, at=0:60, lwd.ticks = 0, cex.axis = 3)\n",
    "lines(c(2, 2), c(0, dchisq(2, 2)), type = \"l\", lty = 2)\n",
    "lines(x, y1, type=\"l\")\n",
    "lines(c(0, 0), c(0, M))\n",
    "\n",
    "plot(x, y2, type=\"l\", xlab = \"\", ylab = \"\", ylim = c(0, M), axes = FALSE, cex = 2, cex.lab = 2)\n",
    "polygon(polyx, polyy2, col = \"gray90\", border = \"NA\")\n",
    "text(8, dchisq(8, 8) + 0.01, labels = \"df = 8\", cex = 3, pos = 3)\n",
    "axis(1, pos=0, at=0:60, lwd.ticks = 0, cex.axis = 3)\n",
    "lines(c(8, 8), c(0, dchisq(8, 8)), type = \"l\", lty = 2)\n",
    "lines(x, y2, type=\"l\")\n",
    "\n",
    "plot(x, y3, type=\"l\", xlab = \"\", ylab = \"\", ylim = c(0, M), axes = FALSE, cex = 2, cex.lab = 2)\n",
    "polygon(polyx, polyy3, col = \"gray90\", border = \"NA\")\n",
    "text(24, dchisq(24, 24), labels = \"df = 24\", cex = 3, pos = 3)\n",
    "axis(1, pos=0, at=0:60, lwd.ticks = 0, cex.axis = 3)\n",
    "lines(c(24, 24), c(0, dchisq(24, 24)), type = \"l\", lty = 2)\n",
    "lines(x, y3, type=\"l\")\n",
    "\n",
    "dev.off()"
   ]
  },
  {
   "cell_type": "markdown",
   "metadata": {},
   "source": [
    "```{figure} chisq_diff_df.png\n",
    "---\n",
    "width: 100%\n",
    "alt: The plots of the chi-squared distributions with df = 2, with df = 8, and with df = 24.\n",
    "name: chisq_diff_df\n",
    "---\n",
    "Three different $\\chi^2$-distributions with different degrees of freedom. The mean $\\mu$ of a $\\chi^2$-distribution is equal to its degrees of freedom $df$, so $\\mu = df$.\n",
    "```"
   ]
  },
  {
   "cell_type": "markdown",
   "metadata": {},
   "source": [
    "To find probability left of some value when using the $\\chi^2$-distribution, we will use the R function\n",
    "\n",
    "```R\n",
    "pchisq(q, df)\n",
    "```\n",
    "\n",
    "where <code>q</code> is the $\\chi^2$-value, and <code>df</code> is the degrees of freedom."
   ]
  },
  {
   "cell_type": "markdown",
   "metadata": {},
   "source": [
    "***"
   ]
  },
  {
   "cell_type": "markdown",
   "metadata": {},
   "source": [
    "\n",
    "### Example 7.1.1\n",
    "Consider a $\\chi^2$-distribution with $4$ degrees of freedom.\n",
    "\n",
    "1. Find $P(\\chi^2 < 2)$.\n",
    "2. Find $P(\\chi^2 > 6)$.\n",
    "3. Find $P(3 < \\chi^2 < 5)$.\n",
    "\n",
    "#### Solution\n",
    "##### Part 1\n",
    "We can calculate $P(\\chi^2 < 2)$ simply using R:"
   ]
  },
  {
   "cell_type": "code",
   "execution_count": 25,
   "metadata": {},
   "outputs": [
    {
     "data": {
      "text/html": [
       "0.264241117657115"
      ],
      "text/latex": [
       "0.264241117657115"
      ],
      "text/markdown": [
       "0.264241117657115"
      ],
      "text/plain": [
       "[1] 0.2642411"
      ]
     },
     "metadata": {},
     "output_type": "display_data"
    }
   ],
   "source": [
    "pchisq(q = 2, df = 4)"
   ]
  },
  {
   "cell_type": "markdown",
   "metadata": {},
   "source": [
    "So $P( \\chi^2 < 2) = 0.2642$.\n",
    "\n",
    "##### Part 2\n",
    "We want to find $P(\\chi^2 > 6)$, which means we want to find the area to the *right* of $\\chi^2 = 6$. The <code>pchisq</code> function only returns the probability to the *left* of the given value, sowe will use the formula $P(\\chi^2 > 6) = 1 - P(\\chi^2 < 6)$ to calculate what we need. In R, this formula becomes:"
   ]
  },
  {
   "cell_type": "code",
   "execution_count": 27,
   "metadata": {},
   "outputs": [
    {
     "data": {
      "text/html": [
       "0.199148273471456"
      ],
      "text/latex": [
       "0.199148273471456"
      ],
      "text/markdown": [
       "0.199148273471456"
      ],
      "text/plain": [
       "[1] 0.1991483"
      ]
     },
     "metadata": {},
     "output_type": "display_data"
    }
   ],
   "source": [
    "1 - pchisq(q = 6, df = 4)"
   ]
  },
  {
   "cell_type": "markdown",
   "metadata": {},
   "source": [
    "So $P(\\chi^2 > 6) = 0.1991$.\n",
    "\n",
    "##### Part 3\n",
    "To find $P(3 < \\chi^2 < 5)$, we will first calculate *all* the area to the left of the larger value $\\chi^2 = 5$, then subtract the excess area to the left of the smaller value $\\chi^2 = 3$."
   ]
  },
  {
   "cell_type": "code",
   "execution_count": 28,
   "metadata": {
    "scrolled": true
   },
   "outputs": [
    {
     "data": {
      "text/html": [
       "0.270527905187429"
      ],
      "text/latex": [
       "0.270527905187429"
      ],
      "text/markdown": [
       "0.270527905187429"
      ],
      "text/plain": [
       "[1] 0.2705279"
      ]
     },
     "metadata": {},
     "output_type": "display_data"
    }
   ],
   "source": [
    "pchisq(q = 5, df = 4) - pchisq(q = 3, df = 4)"
   ]
  },
  {
   "cell_type": "markdown",
   "metadata": {},
   "source": [
    "So $P(3 < \\chi^2 < 5) = 0.2705$.\n"
   ]
  }
 ],
 "metadata": {
  "kernelspec": {
   "display_name": "R",
   "language": "R",
   "name": "ir"
  },
  "language_info": {
   "codemirror_mode": "r",
   "file_extension": ".r",
   "mimetype": "text/x-r-source",
   "name": "R",
   "pygments_lexer": "r",
   "version": "4.2.3"
  }
 },
 "nbformat": 4,
 "nbformat_minor": 4
}