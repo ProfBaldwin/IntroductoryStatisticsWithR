{
 "cells": [
  {
   "cell_type": "markdown",
   "metadata": {},
   "source": [
    "# The Standard Normal Distribution"
   ]
  },
  {
   "cell_type": "markdown",
   "metadata": {},
   "source": [
    "## Objectives\n",
    "- Calculate probabilities involving the standard normal distribution.\n",
    "- Calculate quantiles of the standard normal distribution corresponding to given probabilities."
   ]
  },
  {
   "cell_type": "markdown",
   "metadata": {},
   "source": [
    "## The Standard Normal Distribution\n",
    "To begin to understand how to calculate probabilities of normal distributions, we will first study how to find probabilities of special kind of normal distribution called the **standard normal distribution**. The standard normal distribution is the particular normal distribution with mean $\\mu = 0$ and standard deviation $\\sigma = 1$. The standard normal distribution is so important that we reserve the random variable $Z$ exclusively for the standard normal distribution, so $Z \\sim N(0, 1)$."
   ]
  },
  {
   "cell_type": "code",
   "execution_count": 189,
   "metadata": {
    "tags": [
     "remove-cell"
    ]
   },
   "outputs": [
    {
     "data": {
      "text/html": [
       "<strong>png:</strong> 2"
      ],
      "text/latex": [
       "\\textbf{png:} 2"
      ],
      "text/markdown": [
       "**png:** 2"
      ],
      "text/plain": [
       "png \n",
       "  2 "
      ]
     },
     "metadata": {},
     "output_type": "display_data"
    }
   ],
   "source": [
    "png(\"stdnormal1.png\", width = 1000, height = 500)\n",
    "\n",
    "par(mar = c(2, 0, 0, 0))\n",
    "\n",
    "#library(repr)\n",
    "#options(repr.plot.width = 7, repr.plot.height=4)\n",
    "library(\"shape\")\n",
    "\n",
    "rangebrace = function(x0, x1, y, d, col){\n",
    "    Y = seq(y, y+d, length = 500)\n",
    "    Xl = (x1 - x0)/4 * ( (2/d)^(1/3) * sign(Y - (y + d/2))*abs(Y - (y + d/2))^(1/3) + 1 ) + (x0 + x1)/2\n",
    "    Xr = (x1 - x0)/4 * ( -(2/d)^(1/3) * sign(Y - (y + d/2))*abs(Y - (y + d/2))^(1/3) - 1 ) + (x0 + x1)/2\n",
    "    lines(Xl, Y, lwd = 3, col = col)\n",
    "    lines(Xr, Y, lwd = 3, col = col)\n",
    "    }\n",
    "\n",
    "z = seq(-3, 3, 0.01)\n",
    "y = dnorm(z)\n",
    "plot(z, y, type=\"l\", xlab = \"\", ylab = \"\", axes = FALSE, cex = 2)\n",
    "polyz = c(-3, seq(-3, 3, 0.01), 3)\n",
    "polyy = c(0, dnorm(seq(-3, 3, 0.01)), 0)\n",
    "polygon(polyz, polyy, col=\"gray90\", border=\"NA\")\n",
    "\n",
    "polyz = c(-3, seq(-3, 1, 0.01), 1)\n",
    "polyy = c(0, dnorm(seq(-3, 1, 0.01)), 0)\n",
    "polygon(polyz, polyy, col=\"lightsteelblue\", border = \"NA\")\n",
    "lines(c(1, 1), c(0, dnorm(1)))\n",
    "\n",
    "lines(z, y, type=\"l\", cex = 2)\n",
    "axis(1, pos=0, at=-3:3, lwd.ticks = 0, cex.axis = 2)\n",
    "text(3, -0.01, labels = \"z\", cex = 2.5, pos = 4, xpd = TRUE)\n",
    "\n",
    "text(-0.3, 0.1, labels = expression(P(Z < 1)), cex = 2, col = \"blue3\")\n",
    "\n",
    "#lines(c(0, 0), c(0, dnorm(0)), type = \"l\", cex = 2)\n",
    "\n",
    "dev.off()"
   ]
  },
  {
   "cell_type": "markdown",
   "metadata": {},
   "source": [
    "```{figure} stdnormal1.png\n",
    "---\n",
    "width: 100%\n",
    "alt: The standard normal distribution with the area to the left of z = 1 shaded.\n",
    "name: stdnormal1\n",
    "---\n",
    "The standard normal distribution with the area to the left of $z = 1$ shaded. The shaded area is equal to $P(Z < 1)$.\n",
    "```"
   ]
  },
  {
   "cell_type": "markdown",
   "metadata": {},
   "source": [
    "Suppose we want to calculate $P(Z < 1)$. This probability is equal to the area under the curve of the standard normal distribution and to the left of $z = 1$. (See {numref}`Figure {number} <stdnormal1>`.) This region has an unusual shape, so we can't calculate the area of this region using the usual geometric formulas for shapes like rectangles and triangles. For this reason, probabilities of normal distributions are found using computers or calculators instead of being calculated directly."
   ]
  },
  {
   "cell_type": "markdown",
   "metadata": {},
   "source": [
    "## Finding Probability Given a $z$-value\n",
    "\n",
    "For $Z\\sim N(0, 1)$, we can calculate the probability $P(Z < z)$ of randomly choosing a value less than $z$ using the R function <code>pnorm</code>:\n",
    "```R\n",
    "pnorm(q)\n",
    "```\n",
    "The argument <code>q</code> is the $z$-value we want to find the probability of being less than. (Here, <code>q</code> stands for **q**uantile, since the probability that <code>pnorm(q)</code> returns is the theoretical proportion of the values that are less than argument <code>q</code>.)\n",
    "\n",
    "For example, let's use R to find $P(Z < 1)$."
   ]
  },
  {
   "cell_type": "code",
   "execution_count": 1,
   "metadata": {},
   "outputs": [
    {
     "data": {
      "text/html": [
       "0.841344746068543"
      ],
      "text/latex": [
       "0.841344746068543"
      ],
      "text/markdown": [
       "0.841344746068543"
      ],
      "text/plain": [
       "[1] 0.8413447"
      ]
     },
     "metadata": {},
     "output_type": "display_data"
    }
   ],
   "source": [
    "pnorm(q = 1)"
   ]
  },
  {
   "cell_type": "markdown",
   "metadata": {},
   "source": [
    "So $P(Z < 1) = 0.8413$.\n",
    "\n",
    "Note that <code>pnorm(q = z)</code> only directly computes probability of the form $P(Z < z)$, the probability that a randomly chosen value is <i>less</i> than $z$. What if we want to calculate $P(Z > z)$, the probability that a randomly chosen value is <i>greater</i> than $z$? Or, even trickier, what if we want to calculate $P(z_1 < Z < z_2)$, the probability that a randomly chosen value is <i>between</i> the values $z_1$ and $z_2$? We can actually still indirectly use the <code>pnorm</code> function to calculate these probabilities as the next examples illustrate."
   ]
  },
  {
   "cell_type": "markdown",
   "metadata": {},
   "source": [
    "***\n",
    "### Example 4.1.4\n",
    "The data in a research study has a standard normal distribution.\n",
    "1. If you randomly choose a data value from the study, what is the probability that the data value will be less than $z = -0.83$?\n",
    "2. If you randomly choose a data value from the study, what is the probability that the data value will be greater than $z = -0.57$?\n",
    "3. If you randomly choose a data value from the study, what is the probability that the data value will be between $z = -0.94$ and $z = 1.25$?\n",
    "\n",
    "#### Solution\n",
    "##### Part 1\n",
    "Graphically, we want to find the area under the curve of the standard normal distribution and to the left of $z = -0.83$. This area is equal to $P(Z < -0.83)$."
   ]
  },
  {
   "cell_type": "code",
   "execution_count": 190,
   "metadata": {
    "tags": [
     "remove-cell"
    ]
   },
   "outputs": [
    {
     "data": {
      "text/html": [
       "<strong>png:</strong> 2"
      ],
      "text/latex": [
       "\\textbf{png:} 2"
      ],
      "text/markdown": [
       "**png:** 2"
      ],
      "text/plain": [
       "png \n",
       "  2 "
      ]
     },
     "metadata": {},
     "output_type": "display_data"
    }
   ],
   "source": [
    "png(\"stdnormal_ex1.png\", width = 1000, height = 500)\n",
    "\n",
    "par(mar = c(2, 0, 0, 0))\n",
    "\n",
    "#library(repr)\n",
    "#options(repr.plot.width = 7, repr.plot.height=4)\n",
    "\n",
    "rangebrace = function(x0, x1, y, d, col){\n",
    "    Y = seq(y, y+d, length = 500)\n",
    "    Xl = (x1 - x0)/4 * ( (2/d)^(1/3) * sign(Y - (y + d/2))*abs(Y - (y + d/2))^(1/3) + 1 ) + (x0 + x1)/2\n",
    "    Xr = (x1 - x0)/4 * ( -(2/d)^(1/3) * sign(Y - (y + d/2))*abs(Y - (y + d/2))^(1/3) - 1 ) + (x0 + x1)/2\n",
    "    lines(Xl, Y, lwd = 3, col = col)\n",
    "    lines(Xr, Y, lwd = 3, col = col)\n",
    "    }\n",
    "\n",
    "z = seq(-3, 3, 0.01)\n",
    "y = dnorm(z)\n",
    "plot(z, y, type=\"l\", xlab = \"\", ylab = \"\", axes = FALSE, cex = 2)\n",
    "polyz = c(-3, seq(-3, 3, 0.01), 3)\n",
    "polyy = c(0, dnorm(seq(-3, 3, 0.01)), 0)\n",
    "polygon(polyz, polyy, col=\"gray90\", border=\"NA\")\n",
    "\n",
    "zval = -0.83\n",
    "polyz = c(-3, seq(-3, zval, 0.01), zval)\n",
    "polyy = c(0, dnorm(seq(-3, zval, 0.01)), 0)\n",
    "polygon(polyz, polyy, col=\"lightsteelblue\", border = \"NA\")\n",
    "lines(c(zval, zval), c(0, dnorm(zval)))\n",
    "\n",
    "lines(z, y, type=\"l\", cex = 2)\n",
    "axis(1, pos=0, at=c(-3, -0.83, 0, 3), labels=c(\"\", -0.83, 0, \"\"), cex.axis = 2, lwd.ticks = 0)\n",
    "text(3, -0.01, labels = \"z\", cex = 2.5, pos = 4, xpd = TRUE)\n",
    "\n",
    "text(-1.37, 0.05, labels = expression(P(Z < -0.83)), cex = 2, col = \"blue3\")\n",
    "\n",
    "#lines(c(0, 0), c(0, dnorm(0)), type = \"l\", cex = 2)\n",
    "\n",
    "dev.off()"
   ]
  },
  {
   "cell_type": "markdown",
   "metadata": {},
   "source": [
    "```{figure} stdnormal_ex1.png\n",
    "---\n",
    "width: 100%\n",
    "alt: The standard normal distribution with the area to the left of z = -0.83 shaded.\n",
    "name: stdnormal_ex1\n",
    "---\n",
    "The standard normal distribution with the area equal to $P(Z < -0.83)$ shaded.\n",
    "```"
   ]
  },
  {
   "cell_type": "markdown",
   "metadata": {},
   "source": [
    "We use the <code>pnorm</code> function to calculate the probability."
   ]
  },
  {
   "cell_type": "code",
   "execution_count": 25,
   "metadata": {},
   "outputs": [
    {
     "data": {
      "text/html": [
       "0.203269391828068"
      ],
      "text/latex": [
       "0.203269391828068"
      ],
      "text/markdown": [
       "0.203269391828068"
      ],
      "text/plain": [
       "[1] 0.2032694"
      ]
     },
     "metadata": {},
     "output_type": "display_data"
    }
   ],
   "source": [
    "pnorm(q = -0.83)"
   ]
  },
  {
   "cell_type": "markdown",
   "metadata": {},
   "source": [
    "So $P(Z < -0.83) = 0.2033$. This means that if we randomly choose a data value from the research study, there is about a $20.33\\%$ chance that the value will be less than $z = -0.83$.\n",
    "\n",
    "##### Part 2\n",
    "We want to find $P(Z > -0.57)$. This is a bit tricky since <code>pnorm(q = -0.57)</code> gives the probability that a randomly chosen value is <i>less</i> than $z = -0.57$, but we want the probability that a randomly chosen value is <i>greater</i> than $z = -0.57$. How can we use R to calculate $P(Z > -0.57)$?\n",
    "\n",
    "Instead of calculating $P(Z > -0.57)$ directly, we start with the <i>total</i> area under the <i>entire</i> curve (which is equal to $1$), then take away the area that we <i>don't</i> want (which equals $P(Z < -0.57)$). (See {numref}`Figure {number} <stdnormals_rtail_eqn>`.) This idea expressed as an equation gives us\n",
    "\n",
    "$$ P(Z > -0.57) = 1 - P(Z < -0.57). $$"
   ]
  },
  {
   "cell_type": "code",
   "execution_count": 41,
   "metadata": {
    "tags": [
     "remove-cell"
    ]
   },
   "outputs": [
    {
     "data": {
      "text/html": [
       "<strong>png:</strong> 2"
      ],
      "text/latex": [
       "\\textbf{png:} 2"
      ],
      "text/markdown": [
       "**png:** 2"
      ],
      "text/plain": [
       "png \n",
       "  2 "
      ]
     },
     "metadata": {},
     "output_type": "display_data"
    }
   ],
   "source": [
    "png(\"stdnormals_rtail_eqn.png\", width = 1500, height = 275)\n",
    "\n",
    "library(\"shape\")\n",
    "\n",
    "mat = matrix(c(1, 2, 3, 4, 5), ncol = 5)\n",
    "layout(mat, widths = c(1, 0.1, 1, 0.1, 1))\n",
    "\n",
    "\n",
    "z = seq(-3, 3, 0.01)\n",
    "y = dnorm(z)\n",
    "zval = -0.57\n",
    "cexsize = 3\n",
    "\n",
    "\n",
    "# Area P(Z > -0.57)\n",
    "par(mar = c(3, 0, 0, 0), mgp = c(3, 2, 0))\n",
    "plot(z, y, type=\"l\", xlab = \"\", ylab = \"\", axes = FALSE, cex = 2, ylim = c(0, dnorm(0) + 0.06))\n",
    "polyz = c(-3, seq(-3, 3, 0.01), 3)\n",
    "polyy = c(0, dnorm(seq(-3, 3, 0.01)), 0)\n",
    "polygon(polyz, polyy, col=\"gray90\", border=\"NA\")\n",
    "\n",
    "polyz = c(zval, seq(zval, 3, 0.01), 3)\n",
    "polyy = c(0, dnorm(seq(zval, 3, 0.01)), 0)\n",
    "polygon(polyz, polyy, col=\"lightsteelblue\", border = \"NA\")\n",
    "lines(c(zval, zval), c(0, dnorm(zval)))\n",
    "\n",
    "lines(z, y, type=\"l\", cex = 2)\n",
    "axis(1, pos=0, at=c(-3, zval, 0, 3), lab=c(\"\", zval, 0, \"\"), lwd.ticks = 0, cex.axis = cexsize)\n",
    "\n",
    "text(0, dnorm(0), labels = expression(P(Z > -0.57)), cex = cexsize, col = \"blue3\", pos = 3)\n",
    "\n",
    "\n",
    "# Equal Sign\n",
    "par(mar = c(0, 0, 0, 0))\n",
    "plot.new()\n",
    "text(0.5, 0.5, labels = \"=\", cex = 4)\n",
    "\n",
    "\n",
    "# Area 1.00\n",
    "par(mar = c(3, 0, 0, 0), mgp = c(3, 2, 0))\n",
    "plot(z, y, type=\"l\", xlab = \"\", ylab = \"\", axes = FALSE, cex = 2, ylim = c(0, dnorm(0) + 0.06))\n",
    "polyz = c(-3, seq(-3, 3, 0.01), 3)\n",
    "polyy = c(0, dnorm(seq(-3, 3, 0.01)), 0)\n",
    "polygon(polyz, polyy, col=\"lightsteelblue\", border=\"NA\")\n",
    "#lines(c(zval, zval), c(0, dnorm(zval)))\n",
    "\n",
    "lines(z, y, type=\"l\", cex = 2)\n",
    "axis(1, pos=0, at=c(-3, zval, 0, 3), lab=c(\"\", zval, 0, \"\"), lwd.ticks = 0, cex.axis = cexsize)\n",
    "\n",
    "text(0, dnorm(0), labels = expression(1), cex = cexsize, col = \"blue3\", pos = 3)\n",
    "\n",
    "\n",
    "# Minus Sign\n",
    "par(mar = c(0, 0, 0, 0))\n",
    "plot.new()\n",
    "text(0.5, 0.5, labels = \"–\", cex = 4)\n",
    "\n",
    "\n",
    "# Area P(Z < -0.57)\n",
    "par(mar = c(3, 0, 0, 0), mgp = c(3, 2, 0))\n",
    "plot(z, y, type=\"l\", xlab = \"\", ylab = \"\", axes = FALSE, cex = 2, ylim = c(0, dnorm(0) + 0.06))\n",
    "polyz = c(-3, seq(-3, 3, 0.01), 3)\n",
    "polyy = c(0, dnorm(seq(-3, 3, 0.01)), 0)\n",
    "polygon(polyz, polyy, col=\"gray90\", border=\"NA\")\n",
    "\n",
    "polyz = c(-3, seq(-3, zval, 0.01), zval)\n",
    "polyy = c(0, dnorm(seq(-3, zval, 0.01)), 0)\n",
    "polygon(polyz, polyy, col=\"lightsteelblue\", border = \"NA\")\n",
    "lines(c(zval, zval), c(0, dnorm(zval)))\n",
    "\n",
    "lines(z, y, type=\"l\", cex = 2)\n",
    "axis(1, pos=0, at=c(-3, zval, 0, 3), lab=c(\"\", zval, 0, \"\"), lwd.ticks = 0, cex.axis = cexsize)\n",
    "\n",
    "text(0, dnorm(0), labels = expression(P(Z < -0.57)), cex = cexsize, col = \"blue3\", pos = 3)\n",
    "\n",
    "\n",
    "dev.off()"
   ]
  },
  {
   "cell_type": "markdown",
   "metadata": {},
   "source": [
    "````{div} full-width\n",
    "```{figure} stdnormals_rtail_eqn.png\n",
    "---\n",
    "width: 100%\n",
    "alt: A diagram illustrating that P(Z > -0.57) = 1 - P(Z < -0.57).\n",
    "name: stdnormals_rtail_eqn\n",
    "---\n",
    "A diagram illustrating that $P(Z > -0.57) = 1 - P(Z < -0.57)$. Rather than calculating $P(Z > -0.57)$ directly, we take the total area under the standard normal distribution (which equals $1$), then take away the part that we don't want (the part equal to $P(Z < -0.57)$). \n",
    "```\n",
    "````"
   ]
  },
  {
   "cell_type": "markdown",
   "metadata": {},
   "source": [
    "With this formula, we can compute $P(Z > -0.57)$ using R."
   ]
  },
  {
   "cell_type": "code",
   "execution_count": 2,
   "metadata": {},
   "outputs": [
    {
     "data": {
      "text/html": [
       "0.715661150953676"
      ],
      "text/latex": [
       "0.715661150953676"
      ],
      "text/markdown": [
       "0.715661150953676"
      ],
      "text/plain": [
       "[1] 0.7156612"
      ]
     },
     "metadata": {},
     "output_type": "display_data"
    }
   ],
   "source": [
    "1 - pnorm(q = -0.57) "
   ]
  },
  {
   "cell_type": "markdown",
   "metadata": {},
   "source": [
    "Then $P(Z > -0.57) = 0.7157$. So if we randomly choose one of the data values from the research study, there is about a $71.57\\%$ chance that the data value will be greater than $z = -0.57$.\n",
    "\n",
    "##### Part 3\n",
    "We need to calculate $P(-0.94 < Z < 1.25)$. Once again, we can't calculate this probability directly using the <code>pnorm</code> function since, in this instance, we want the probability that a randomly chosen value is <i>in between</i> two other values, $z = -0.94$ and $z = 1.25$. Similar to what we did before, we begin by finding <i>all</i> of the area under the curve to the left of the larger $z$-value (which is equal to $P(Z < 1.25)$ in this case), then take away the extra area to the left of the smaller $z$-value (which equals $P(Z < -0.94)$). (See {numref}`Figure {number} <stdnormals_between_eqn>`.) This gives us the equation\n",
    "\n",
    "$$ P(-0.94 < Z < 1.25) = P(Z < 1.25) - P(Z < -0.94). $$"
   ]
  },
  {
   "cell_type": "code",
   "execution_count": 40,
   "metadata": {
    "tags": [
     "remove-cell"
    ]
   },
   "outputs": [
    {
     "data": {
      "text/html": [
       "<strong>png:</strong> 2"
      ],
      "text/latex": [
       "\\textbf{png:} 2"
      ],
      "text/markdown": [
       "**png:** 2"
      ],
      "text/plain": [
       "png \n",
       "  2 "
      ]
     },
     "metadata": {},
     "output_type": "display_data"
    }
   ],
   "source": [
    "png(\"stdnormals_between_eqn.png\", width = 1500, height = 275)\n",
    "\n",
    "library(\"shape\")\n",
    "\n",
    "mat = matrix(c(1, 2, 3, 4, 5), ncol = 5)\n",
    "layout(mat, widths = c(1, 0.1, 1, 0.1, 1))\n",
    "\n",
    "\n",
    "z = seq(-3, 3, 0.01)\n",
    "y = dnorm(z)\n",
    "z1 = -0.94\n",
    "z2 = 1.25\n",
    "cexsize = 3\n",
    "\n",
    "\n",
    "# Area P(z1 < Z < z2)\n",
    "par(mar = c(3, 0, 0, 0), mgp = c(3, 2, 0))\n",
    "plot(z, y, type=\"l\", xlab = \"\", ylab = \"\", axes = FALSE, cex = 2, ylim = c(0, dnorm(0) + 0.06))\n",
    "polyz = c(-3, seq(-3, 3, 0.01), 3)\n",
    "polyy = c(0, dnorm(seq(-3, 3, 0.01)), 0)\n",
    "polygon(polyz, polyy, col=\"gray90\", border=\"NA\")\n",
    "\n",
    "polyz = c(z1, seq(z1, z2, 0.01), z2)\n",
    "polyy = c(0, dnorm(seq(z1, z2, 0.01)), 0)\n",
    "polygon(polyz, polyy, col=\"lightsteelblue\", border = \"NA\")\n",
    "lines(c(z1, z1), c(0, dnorm(z1)))\n",
    "lines(c(z2, z2), c(0, dnorm(z2)))\n",
    "\n",
    "lines(z, y, type=\"l\", cex = 2)\n",
    "axis(1, pos=0, at=c(-3, z1, z2, 3), lab=c(\"\", z1, z2, \"\"), lwd.ticks = 0, cex.axis = cexsize)\n",
    "\n",
    "text(0, dnorm(0), labels = expression(P(~paste(-0.94 < Z) < 1.25)), cex = cexsize, col = \"blue3\", pos = 3)\n",
    "\n",
    "\n",
    "# Equal Sign\n",
    "par(mar = c(0, 0, 0, 0))\n",
    "plot.new()\n",
    "text(0.5, 0.5, labels = \"=\", cex = 4)\n",
    "\n",
    "\n",
    "# Area P(Z < z2)\n",
    "par(mar = c(3, 0, 0, 0), mgp = c(3, 2, 0))\n",
    "plot(z, y, type=\"l\", xlab = \"\", ylab = \"\", axes = FALSE, cex = 2, ylim = c(0, dnorm(0) + 0.06))\n",
    "polyz = c(-3, seq(-3, 3, 0.01), 3)\n",
    "polyy = c(0, dnorm(seq(-3, 3, 0.01)), 0)\n",
    "polygon(polyz, polyy, col=\"gray90\", border=\"NA\")\n",
    "\n",
    "polyz = c(-3, seq(-3, z2, 0.01), z2)\n",
    "polyy = c(0, dnorm(seq(-3, z2, 0.01)), 0)\n",
    "polygon(polyz, polyy, col=\"lightsteelblue\", border = \"NA\")\n",
    "#lines(c(z1, z1), c(0, dnorm(z1)))\n",
    "lines(c(z2, z2), c(0, dnorm(z2)))\n",
    "\n",
    "lines(z, y, type=\"l\", cex = 2)\n",
    "axis(1, pos=0, at=c(-3, z1, z2, 3), lab=c(\"\", z1, z2, \"\"), lwd.ticks = 0, cex.axis = cexsize)\n",
    "\n",
    "text(0, dnorm(0), labels = expression(P(Z < 1.25)), cex = cexsize, col = \"blue3\", pos = 3)\n",
    "\n",
    "\n",
    "# Minus Sign\n",
    "par(mar = c(0, 0, 0, 0))\n",
    "plot.new()\n",
    "text(0.5, 0.5, labels = \"–\", cex = 4)\n",
    "\n",
    "\n",
    "# Area P(Z < z1)\n",
    "par(mar = c(3, 0, 0, 0), mgp = c(3, 2, 0))\n",
    "plot(z, y, type=\"l\", xlab = \"\", ylab = \"\", axes = FALSE, cex = 2, ylim = c(0, dnorm(0) + 0.06))\n",
    "polyz = c(-3, seq(-3, 3, 0.01), 3)\n",
    "polyy = c(0, dnorm(seq(-3, 3, 0.01)), 0)\n",
    "polygon(polyz, polyy, col=\"gray90\", border=\"NA\")\n",
    "\n",
    "polyz = c(-3, seq(-3, z1, 0.01), z1)\n",
    "polyy = c(0, dnorm(seq(-3, z1, 0.01)), 0)\n",
    "polygon(polyz, polyy, col=\"lightsteelblue\", border = \"NA\")\n",
    "lines(c(z1, z1), c(0, dnorm(z1)))\n",
    "#lines(c(z2, z2), c(0, dnorm(z2)))\n",
    "\n",
    "lines(z, y, type=\"l\", cex = 2)\n",
    "axis(1, pos=0, at=c(-3, z1, z2, 3), lab=c(\"\", z1, z2, \"\"), lwd.ticks = 0, cex.axis = cexsize)\n",
    "\n",
    "text(0, dnorm(0), labels = expression(P(Z < -0.94)), cex = cexsize, col = \"blue3\", pos = 3)\n",
    "\n",
    "\n",
    "dev.off()"
   ]
  },
  {
   "cell_type": "markdown",
   "metadata": {},
   "source": [
    "````{div} full-width\n",
    "```{figure} stdnormals_between_eqn.png\n",
    "---\n",
    "width: 100%\n",
    "alt: A diagram illustrating that P(-0.94 < Z < 1.25) = P(Z < 1.25) - P(Z < -0.94).\n",
    "name: stdnormals_between_eqn\n",
    "---\n",
    "A diagram illustrating that $P(-0.94 < Z < 1.25) = P(Z < 1.25) - P(Z < -0.94)$. Rather than calculating $P(Z > -0.57)$ directly, we take all the area under the curve to the left of $z = 1.25$ (which equals $P(Z < 1.25)$), then take away the part that we don't want (the part equal to $P(Z < -0.94)$). \n",
    "```\n",
    "````"
   ]
  },
  {
   "cell_type": "markdown",
   "metadata": {},
   "source": [
    "Using this formula, we can use R to find $P(-0.94 < Z < 1.25)$."
   ]
  },
  {
   "cell_type": "code",
   "execution_count": 42,
   "metadata": {},
   "outputs": [
    {
     "data": {
      "text/html": [
       "0.72074144599452"
      ],
      "text/latex": [
       "0.72074144599452"
      ],
      "text/markdown": [
       "0.72074144599452"
      ],
      "text/plain": [
       "[1] 0.7207414"
      ]
     },
     "metadata": {},
     "output_type": "display_data"
    }
   ],
   "source": [
    "pnorm(q = 1.25) - pnorm(q = -0.94)"
   ]
  },
  {
   "cell_type": "markdown",
   "metadata": {},
   "source": [
    "So $P(-0.94 < Z < 1.25) = 0.7207$, meaning there is about a $72.07\\%$ chance that a randomly chosen data value from the research study will be between $z = -0.94$ and $z = 1.25$."
   ]
  },
  {
   "cell_type": "markdown",
   "metadata": {},
   "source": [
    "***"
   ]
  },
  {
   "cell_type": "markdown",
   "metadata": {},
   "source": [
    "### Example 4.1.5\n",
    "Let $Z\\sim N(0, 1)$.\n",
    "1. Find $P(Z < 0.67)$.\n",
    "2. Find $P(Z > -1.91)$.\n",
    "3. Find $P(0.34 < Z < 1.62)$.\n",
    "\n",
    "#### Solution\n",
    "##### Part 1"
   ]
  },
  {
   "cell_type": "code",
   "execution_count": 28,
   "metadata": {
    "tags": [
     "remove-cell"
    ]
   },
   "outputs": [
    {
     "data": {
      "text/html": [
       "<strong>png:</strong> 2"
      ],
      "text/latex": [
       "\\textbf{png:} 2"
      ],
      "text/markdown": [
       "**png:** 2"
      ],
      "text/plain": [
       "png \n",
       "  2 "
      ]
     },
     "metadata": {},
     "output_type": "display_data"
    }
   ],
   "source": [
    "png(\"stdnormal_ex2.png\", width = 1000, height = 500)\n",
    "\n",
    "par(mar = c(2, 0, 0, 0))\n",
    "\n",
    "#library(repr)\n",
    "#options(repr.plot.width = 7, repr.plot.height=4)\n",
    "\n",
    "rangebrace = function(x0, x1, y, d, col){\n",
    "    Y = seq(y, y+d, length = 500)\n",
    "    Xl = (x1 - x0)/4 * ( (2/d)^(1/3) * sign(Y - (y + d/2))*abs(Y - (y + d/2))^(1/3) + 1 ) + (x0 + x1)/2\n",
    "    Xr = (x1 - x0)/4 * ( -(2/d)^(1/3) * sign(Y - (y + d/2))*abs(Y - (y + d/2))^(1/3) - 1 ) + (x0 + x1)/2\n",
    "    lines(Xl, Y, lwd = 3, col = col)\n",
    "    lines(Xr, Y, lwd = 3, col = col)\n",
    "    }\n",
    "\n",
    "z = seq(-3, 3, 0.01)\n",
    "y = dnorm(z)\n",
    "plot(z, y, type=\"l\", xlab = \"\", ylab = \"\", axes = FALSE, cex = 2)\n",
    "polyz = c(-3, seq(-3, 3, 0.01), 3)\n",
    "polyy = c(0, dnorm(seq(-3, 3, 0.01)), 0)\n",
    "polygon(polyz, polyy, col=\"gray90\", border=\"NA\")\n",
    "\n",
    "zval = 0.67\n",
    "polyz = c(-3, seq(-3, zval, 0.01), zval)\n",
    "polyy = c(0, dnorm(seq(-3, zval, 0.01)), 0)\n",
    "polygon(polyz, polyy, col=\"lightsteelblue\", border = \"NA\")\n",
    "lines(c(zval, zval), c(0, dnorm(zval)))\n",
    "\n",
    "lines(z, y, type=\"l\", cex = 2)\n",
    "axis(1, pos=0, at=c(-3, zval, 0, 3), labels=c(\"\", zval, 0, \"\"), cex.axis = 2, lwd.ticks = 0)\n",
    "text(3, -0.01, labels = \"z\", cex = 2.5, pos = 4, xpd = TRUE)\n",
    "\n",
    "text(-0.45, 0.1, labels = expression(P(Z < 0.67)), cex = 2, col = \"blue3\")\n",
    "\n",
    "#lines(c(0, 0), c(0, dnorm(0)), type = \"l\", cex = 2)\n",
    "\n",
    "dev.off()"
   ]
  },
  {
   "cell_type": "markdown",
   "metadata": {},
   "source": [
    "```{figure} stdnormal_ex2.png\n",
    "---\n",
    "width: 100%\n",
    "alt: The area under the standard normal distribution and to the left of z = 0.67 is shaded. The shaded area is labeled P(Z < 0.67).\n",
    "name: stdnormal_ex2\n",
    "---\n",
    "The area equal to $P(Z < 0.67)$.\n",
    "```"
   ]
  },
  {
   "cell_type": "markdown",
   "metadata": {},
   "source": [
    "We want to find $P(Z < 0.67)$, the probability that a randomly chosen value from the distribution is <i>less</i> than $z = 0.67$. We don't need to do anything special to use R to calculate this probability. We just use the <code>pnorm</code> function without any changes."
   ]
  },
  {
   "cell_type": "code",
   "execution_count": 6,
   "metadata": {},
   "outputs": [
    {
     "data": {
      "text/html": [
       "0.74857110490469"
      ],
      "text/latex": [
       "0.74857110490469"
      ],
      "text/markdown": [
       "0.74857110490469"
      ],
      "text/plain": [
       "[1] 0.7485711"
      ]
     },
     "metadata": {},
     "output_type": "display_data"
    }
   ],
   "source": [
    "pnorm(q = 0.67)"
   ]
  },
  {
   "cell_type": "markdown",
   "metadata": {},
   "source": [
    "So $P(Z < 0.67) = 0.74857$.\n",
    "\n",
    "##### Part 2"
   ]
  },
  {
   "cell_type": "code",
   "execution_count": 23,
   "metadata": {
    "tags": [
     "remove-cell"
    ]
   },
   "outputs": [
    {
     "data": {
      "text/html": [
       "<strong>png:</strong> 2"
      ],
      "text/latex": [
       "\\textbf{png:} 2"
      ],
      "text/markdown": [
       "**png:** 2"
      ],
      "text/plain": [
       "png \n",
       "  2 "
      ]
     },
     "metadata": {},
     "output_type": "display_data"
    }
   ],
   "source": [
    "png(\"stdnormals_rtail_eqn2.png\", width = 1500, height = 275)\n",
    "\n",
    "library(\"shape\")\n",
    "\n",
    "mat = matrix(c(1, 2, 3, 4, 5), ncol = 5)\n",
    "layout(mat, widths = c(1, 0.1, 1, 0.1, 1))\n",
    "\n",
    "\n",
    "z = seq(-3, 3, 0.01)\n",
    "y = dnorm(z)\n",
    "zval = -1.91\n",
    "cexsize = 3\n",
    "\n",
    "\n",
    "# Area P(Z > -1.91)\n",
    "par(mar = c(3, 0, 0, 0), mgp = c(3, 2, 0))\n",
    "plot(z, y, type=\"l\", xlab = \"\", ylab = \"\", axes = FALSE, cex = 2, ylim = c(0, dnorm(0) + 0.06))\n",
    "polyz = c(-3, seq(-3, 3, 0.01), 3)\n",
    "polyy = c(0, dnorm(seq(-3, 3, 0.01)), 0)\n",
    "polygon(polyz, polyy, col=\"gray90\", border=\"NA\")\n",
    "\n",
    "polyz = c(zval, seq(zval, 3, 0.01), 3)\n",
    "polyy = c(0, dnorm(seq(zval, 3, 0.01)), 0)\n",
    "polygon(polyz, polyy, col=\"lightsteelblue\", border = \"NA\")\n",
    "lines(c(zval, zval), c(0, dnorm(zval)))\n",
    "\n",
    "lines(z, y, type=\"l\", cex = 2)\n",
    "axis(1, pos=0, at=c(-3, zval, 0, 3), lab=c(\"\", zval, 0, \"\"), lwd.ticks = 0, cex.axis = cexsize)\n",
    "\n",
    "text(0, dnorm(0), labels = expression(P(Z > -1.91)), cex = cexsize, col = \"blue3\", pos = 3)\n",
    "\n",
    "\n",
    "# Equal Sign\n",
    "par(mar = c(0, 0, 0, 0))\n",
    "plot.new()\n",
    "text(0.5, 0.5, labels = \"=\", cex = 4)\n",
    "\n",
    "\n",
    "# Area 1.00\n",
    "par(mar = c(3, 0, 0, 0), mgp = c(3, 2, 0))\n",
    "plot(z, y, type=\"l\", xlab = \"\", ylab = \"\", axes = FALSE, cex = 2, ylim = c(0, dnorm(0) + 0.06))\n",
    "polyz = c(-3, seq(-3, 3, 0.01), 3)\n",
    "polyy = c(0, dnorm(seq(-3, 3, 0.01)), 0)\n",
    "polygon(polyz, polyy, col=\"lightsteelblue\", border=\"NA\")\n",
    "#lines(c(zval, zval), c(0, dnorm(zval)))\n",
    "\n",
    "lines(z, y, type=\"l\", cex = 2)\n",
    "axis(1, pos=0, at=c(-3, zval, 0, 3), lab=c(\"\", zval, 0, \"\"), lwd.ticks = 0, cex.axis = cexsize)\n",
    "\n",
    "text(0, dnorm(0), labels = expression(1), cex = cexsize, col = \"blue3\", pos = 3)\n",
    "\n",
    "\n",
    "# Minus Sign\n",
    "par(mar = c(0, 0, 0, 0))\n",
    "plot.new()\n",
    "text(0.5, 0.5, labels = \"–\", cex = 4)\n",
    "\n",
    "\n",
    "# Area P(Z < -1.91)\n",
    "par(mar = c(3, 0, 0, 0), mgp = c(3, 2, 0))\n",
    "plot(z, y, type=\"l\", xlab = \"\", ylab = \"\", axes = FALSE, cex = 2, ylim = c(0, dnorm(0) + 0.06))\n",
    "polyz = c(-3, seq(-3, 3, 0.01), 3)\n",
    "polyy = c(0, dnorm(seq(-3, 3, 0.01)), 0)\n",
    "polygon(polyz, polyy, col=\"gray90\", border=\"NA\")\n",
    "\n",
    "polyz = c(-3, seq(-3, zval, 0.01), zval)\n",
    "polyy = c(0, dnorm(seq(-3, zval, 0.01)), 0)\n",
    "polygon(polyz, polyy, col=\"lightsteelblue\", border = \"NA\")\n",
    "lines(c(zval, zval), c(0, dnorm(zval)))\n",
    "\n",
    "lines(z, y, type=\"l\", cex = 2)\n",
    "axis(1, pos=0, at=c(-3, zval, 0, 3), lab=c(\"\", zval, 0, \"\"), lwd.ticks = 0, cex.axis = cexsize)\n",
    "\n",
    "text(0, dnorm(0), labels = expression(P(Z < -1.91)), cex = cexsize, col = \"blue3\", pos = 3)\n",
    "\n",
    "\n",
    "dev.off()"
   ]
  },
  {
   "cell_type": "markdown",
   "metadata": {},
   "source": [
    "````{div} full-width\n",
    "```{figure} stdnormals_rtail_eqn2.png\n",
    "---\n",
    "width: 100%\n",
    "alt: A diagram illustrating that P(Z > -1.91) = 1 - P(Z < -1.91).\n",
    "---\n",
    "A diagram illustrating that $P(Z > -1.91) = 1 - P(Z < -1.91)$.\n",
    "```\n",
    "````"
   ]
  },
  {
   "cell_type": "markdown",
   "metadata": {},
   "source": [
    "We want to find $P(Z > -1.91)$, the probability that a randomly chosen value from the distribution is <i>greater</i> than $z = -1.91$. To find $P(Z > -1.91)$, we take the total area under the standard normal distribution (which equals $1$), then take away the part that we don't want (the part equal to $P(Z < -1.91)$)."
   ]
  },
  {
   "cell_type": "code",
   "execution_count": 29,
   "metadata": {},
   "outputs": [
    {
     "data": {
      "text/html": [
       "0.971933393340227"
      ],
      "text/latex": [
       "0.971933393340227"
      ],
      "text/markdown": [
       "0.971933393340227"
      ],
      "text/plain": [
       "[1] 0.9719334"
      ]
     },
     "metadata": {},
     "output_type": "display_data"
    }
   ],
   "source": [
    "1 - pnorm(q = -1.91)"
   ]
  },
  {
   "cell_type": "markdown",
   "metadata": {},
   "source": [
    "So $P(Z > -1.91) = 0.97193$.\n",
    "\n",
    "##### Part 3"
   ]
  },
  {
   "cell_type": "code",
   "execution_count": 41,
   "metadata": {
    "tags": [
     "remove-cell"
    ]
   },
   "outputs": [
    {
     "data": {
      "text/html": [
       "<strong>png:</strong> 2"
      ],
      "text/latex": [
       "\\textbf{png:} 2"
      ],
      "text/markdown": [
       "**png:** 2"
      ],
      "text/plain": [
       "png \n",
       "  2 "
      ]
     },
     "metadata": {},
     "output_type": "display_data"
    }
   ],
   "source": [
    "png(\"stdnormals_between_eqn2.png\", width = 1500, height = 275)\n",
    "\n",
    "library(\"shape\")\n",
    "\n",
    "mat = matrix(c(1, 2, 3, 4, 5), ncol = 5)\n",
    "layout(mat, widths = c(1, 0.1, 1, 0.1, 1))\n",
    "\n",
    "\n",
    "z = seq(-3, 3, 0.01)\n",
    "y = dnorm(z)\n",
    "z1 = 0.34\n",
    "z2 = 1.62\n",
    "cexsize = 3\n",
    "\n",
    "\n",
    "# Area P(z1 < Z < z2)\n",
    "par(mar = c(3, 0, 0, 0), mgp = c(3, 2, 0))\n",
    "plot(z, y, type=\"l\", xlab = \"\", ylab = \"\", axes = FALSE, cex = 2, ylim = c(0, dnorm(0) + 0.06))\n",
    "polyz = c(-3, seq(-3, 3, 0.01), 3)\n",
    "polyy = c(0, dnorm(seq(-3, 3, 0.01)), 0)\n",
    "polygon(polyz, polyy, col=\"gray90\", border=\"NA\")\n",
    "\n",
    "polyz = c(z1, seq(z1, z2, 0.01), z2)\n",
    "polyy = c(0, dnorm(seq(z1, z2, 0.01)), 0)\n",
    "polygon(polyz, polyy, col=\"lightsteelblue\", border = \"NA\")\n",
    "lines(c(z1, z1), c(0, dnorm(z1)))\n",
    "lines(c(z2, z2), c(0, dnorm(z2)))\n",
    "\n",
    "lines(z, y, type=\"l\", cex = 2)\n",
    "axis(1, pos=0, at=c(-3, z1, z2, 3), lab=c(\"\", z1, z2, \"\"), lwd.ticks = 0, cex.axis = cexsize)\n",
    "\n",
    "text(0, dnorm(0), labels = expression(P(~paste(0.34 < Z) < 1.62)), cex = cexsize, col = \"blue3\", pos = 3)\n",
    "\n",
    "\n",
    "# Equal Sign\n",
    "par(mar = c(0, 0, 0, 0))\n",
    "plot.new()\n",
    "text(0.5, 0.5, labels = \"=\", cex = 4)\n",
    "\n",
    "\n",
    "# Area P(Z < z2)\n",
    "par(mar = c(3, 0, 0, 0), mgp = c(3, 2, 0))\n",
    "plot(z, y, type=\"l\", xlab = \"\", ylab = \"\", axes = FALSE, cex = 2, ylim = c(0, dnorm(0) + 0.06))\n",
    "polyz = c(-3, seq(-3, 3, 0.01), 3)\n",
    "polyy = c(0, dnorm(seq(-3, 3, 0.01)), 0)\n",
    "polygon(polyz, polyy, col=\"gray90\", border=\"NA\")\n",
    "\n",
    "polyz = c(-3, seq(-3, z2, 0.01), z2)\n",
    "polyy = c(0, dnorm(seq(-3, z2, 0.01)), 0)\n",
    "polygon(polyz, polyy, col=\"lightsteelblue\", border = \"NA\")\n",
    "#lines(c(z1, z1), c(0, dnorm(z1)))\n",
    "lines(c(z2, z2), c(0, dnorm(z2)))\n",
    "\n",
    "lines(z, y, type=\"l\", cex = 2)\n",
    "axis(1, pos=0, at=c(-3, z1, z2, 3), lab=c(\"\", z1, z2, \"\"), lwd.ticks = 0, cex.axis = cexsize)\n",
    "\n",
    "text(0, dnorm(0), labels = expression(P(Z < 1.62)), cex = cexsize, col = \"blue3\", pos = 3)\n",
    "\n",
    "\n",
    "# Minus Sign\n",
    "par(mar = c(0, 0, 0, 0))\n",
    "plot.new()\n",
    "text(0.5, 0.5, labels = \"–\", cex = 4)\n",
    "\n",
    "\n",
    "# Area P(Z < z1)\n",
    "par(mar = c(3, 0, 0, 0), mgp = c(3, 2, 0))\n",
    "plot(z, y, type=\"l\", xlab = \"\", ylab = \"\", axes = FALSE, cex = 2, ylim = c(0, dnorm(0) + 0.06))\n",
    "polyz = c(-3, seq(-3, 3, 0.01), 3)\n",
    "polyy = c(0, dnorm(seq(-3, 3, 0.01)), 0)\n",
    "polygon(polyz, polyy, col=\"gray90\", border=\"NA\")\n",
    "\n",
    "polyz = c(-3, seq(-3, z1, 0.01), z1)\n",
    "polyy = c(0, dnorm(seq(-3, z1, 0.01)), 0)\n",
    "polygon(polyz, polyy, col=\"lightsteelblue\", border = \"NA\")\n",
    "lines(c(z1, z1), c(0, dnorm(z1)))\n",
    "#lines(c(z2, z2), c(0, dnorm(z2)))\n",
    "\n",
    "lines(z, y, type=\"l\", cex = 2)\n",
    "axis(1, pos=0, at=c(-3, z1, z2, 3), lab=c(\"\", z1, z2, \"\"), lwd.ticks = 0, cex.axis = cexsize)\n",
    "\n",
    "text(0, dnorm(0), labels = expression(P(Z < 0.34)), cex = cexsize, col = \"blue3\", pos = 3)\n",
    "\n",
    "\n",
    "dev.off()"
   ]
  },
  {
   "cell_type": "markdown",
   "metadata": {},
   "source": [
    "````{div} full-width\n",
    "```{figure} stdnormals_between_eqn2.png\n",
    "---\n",
    "width: 100%\n",
    "alt: A diagram illustrating that P(0.34 < Z < 1.62) = P(Z < 1.62) - P(Z < 0.34).\n",
    "name: stdnormals_between_eqn2\n",
    "---\n",
    "A diagram illustrating that $P(0.34 < Z < 1.62) = P(Z < 1.62) - P(Z < 0.34)$.\n",
    "```\n",
    "````"
   ]
  },
  {
   "cell_type": "markdown",
   "metadata": {},
   "source": [
    "We want to find $P(0.34 < Z < 1.62)$, the probability that a randomly chosen value from the distribution is <i>between</i> $z = 0.34$ and $z = 1.62$. To calculate $P(0.34 < Z < 1.62)$, we take <i>all</i> the area under the curve to the left of the larger $z$ value (which equals $P(Z < 1.62)$ in this case), then take away the area that we don't want to the left of the smaller $z$ value (which equals $P(Z < 0.34)$)."
   ]
  },
  {
   "cell_type": "code",
   "execution_count": 42,
   "metadata": {},
   "outputs": [
    {
     "data": {
      "text/html": [
       "0.31431212550972"
      ],
      "text/latex": [
       "0.31431212550972"
      ],
      "text/markdown": [
       "0.31431212550972"
      ],
      "text/plain": [
       "[1] 0.3143121"
      ]
     },
     "metadata": {},
     "output_type": "display_data"
    }
   ],
   "source": [
    "pnorm(q = 1.62) - pnorm(q = 0.34)"
   ]
  },
  {
   "cell_type": "markdown",
   "metadata": {},
   "source": [
    "So $P(0.34 < Z < 1.62) = 0.31431$."
   ]
  },
  {
   "cell_type": "markdown",
   "metadata": {},
   "source": [
    "***"
   ]
  },
  {
   "cell_type": "markdown",
   "metadata": {},
   "source": [
    "## Finding a $z$-value Given Probability\n",
    "We've seen that, given a $z$-value, the R code <code>pnorm(q = z)</code> will tell us $P(Z < z)$, the probability that a randomly chosen value from the standard normal distribution is smaller than $z$. But how do we do the inverse? That is, given a probability, how do we find a $z$-value so that $P(Z < z)$ is equal to that probability?\n",
    "\n",
    "We can do this using the <code>qnorm</code> function:\n",
    "```R\n",
    "qnorm(p)\n",
    "```\n",
    "Here, <code>p</code> is the given **p**robability. The function <code>qnorm(p)</code> tells us the $z$-value (or **q**uantile) so that $P(Z < z)$ equals <code>p</code>."
   ]
  },
  {
   "cell_type": "markdown",
   "metadata": {},
   "source": [
    "To illustrate the inverse relationship between the <code>pnorm</code> function and the <code>qnorm</code> function, let us take an arbitrary $z$-value, say $z = 0.52$. Let's use the <code>pnorm</code> function to find $P(Z < 0.52)$."
   ]
  },
  {
   "cell_type": "code",
   "execution_count": 78,
   "metadata": {},
   "outputs": [
    {
     "data": {
      "text/html": [
       "0.698468212453034"
      ],
      "text/latex": [
       "0.698468212453034"
      ],
      "text/markdown": [
       "0.698468212453034"
      ],
      "text/plain": [
       "[1] 0.6984682"
      ]
     },
     "metadata": {},
     "output_type": "display_data"
    }
   ],
   "source": [
    "pnorm(q = 0.52)"
   ]
  },
  {
   "cell_type": "markdown",
   "metadata": {},
   "source": [
    "So $P(Z < 0.52) = 0.69847$."
   ]
  },
  {
   "cell_type": "code",
   "execution_count": 12,
   "metadata": {
    "tags": [
     "remove-cell"
    ]
   },
   "outputs": [
    {
     "data": {
      "text/html": [
       "<strong>png:</strong> 2"
      ],
      "text/latex": [
       "\\textbf{png:} 2"
      ],
      "text/markdown": [
       "**png:** 2"
      ],
      "text/plain": [
       "png \n",
       "  2 "
      ]
     },
     "metadata": {},
     "output_type": "display_data"
    }
   ],
   "source": [
    "png(\"stdnormal_ex3.png\", width = 1000, height = 500)\n",
    "\n",
    "par(mar = c(2, 0, 0, 0))\n",
    "\n",
    "#library(repr)\n",
    "#options(repr.plot.width = 7, repr.plot.height=4)\n",
    "\n",
    "rangebrace = function(x0, x1, y, d, col){\n",
    "    Y = seq(y, y+d, length = 500)\n",
    "    Xl = (x1 - x0)/4 * ( (2/d)^(1/3) * sign(Y - (y + d/2))*abs(Y - (y + d/2))^(1/3) + 1 ) + (x0 + x1)/2\n",
    "    Xr = (x1 - x0)/4 * ( -(2/d)^(1/3) * sign(Y - (y + d/2))*abs(Y - (y + d/2))^(1/3) - 1 ) + (x0 + x1)/2\n",
    "    lines(Xl, Y, lwd = 3, col = col)\n",
    "    lines(Xr, Y, lwd = 3, col = col)\n",
    "    }\n",
    "\n",
    "z = seq(-3, 3, 0.01)\n",
    "y = dnorm(z)\n",
    "plot(z, y, type=\"l\", xlab = \"\", ylab = \"\", axes = FALSE, cex = 2)\n",
    "polyz = c(-3, seq(-3, 3, 0.01), 3)\n",
    "polyy = c(0, dnorm(seq(-3, 3, 0.01)), 0)\n",
    "polygon(polyz, polyy, col=\"gray90\", border=\"NA\")\n",
    "\n",
    "zval = 0.52\n",
    "polyz = c(-3, seq(-3, zval, 0.01), zval)\n",
    "polyy = c(0, dnorm(seq(-3, zval, 0.01)), 0)\n",
    "polygon(polyz, polyy, col=\"lightsteelblue\", border = \"NA\")\n",
    "lines(c(zval, zval), c(0, dnorm(zval)))\n",
    "\n",
    "lines(z, y, type=\"l\", cex = 2)\n",
    "axis(1, pos=0, at=c(-3, zval, 0, 3), labels=c(\"\", zval, 0, \"\"), cex.axis = 2, lwd.ticks = 0)\n",
    "text(3, -0.01, labels = \"z\", cex = 2.5, pos = 4, xpd = TRUE)\n",
    "\n",
    "text(-0.52, 0.1, labels = expression(P(Z < 0.52) == 0.69847), cex = 2, col = \"blue3\")\n",
    "\n",
    "#lines(c(0, 0), c(0, dnorm(0)), type = \"l\", cex = 2)\n",
    "\n",
    "dev.off()"
   ]
  },
  {
   "cell_type": "markdown",
   "metadata": {},
   "source": [
    "```{figure} stdnormal_ex3.png\n",
    "---\n",
    "width: 100%\n",
    "alt: The standard normal distribution. The area under the curve to the left of z = 0.52 is shaded. The shaded region is labeled P(Z < 0.52) = 0.69847.\n",
    "name: stdnormal_ex3\n",
    "---\n",
    "The standard normal distribution with the area equal to $P(Z < 0.52) = 0.69847$ shaded.\n",
    "```"
   ]
  },
  {
   "cell_type": "markdown",
   "metadata": {},
   "source": [
    "Now let's see what happens when we plug this probability, $p = 0.69847$, into the <code>qnorm</code> function."
   ]
  },
  {
   "cell_type": "code",
   "execution_count": 79,
   "metadata": {},
   "outputs": [
    {
     "data": {
      "text/html": [
       "0.520005129376629"
      ],
      "text/latex": [
       "0.520005129376629"
      ],
      "text/markdown": [
       "0.520005129376629"
      ],
      "text/plain": [
       "[1] 0.5200051"
      ]
     },
     "metadata": {},
     "output_type": "display_data"
    }
   ],
   "source": [
    "qnorm(p = 0.69847)"
   ]
  },
  {
   "cell_type": "markdown",
   "metadata": {},
   "source": [
    "We get $z = 0.52$, which is the $z$-value we started with."
   ]
  },
  {
   "cell_type": "code",
   "execution_count": 1,
   "metadata": {
    "tags": [
     "remove-cell"
    ]
   },
   "outputs": [
    {
     "data": {
      "text/html": [
       "<strong>png:</strong> 2"
      ],
      "text/latex": [
       "\\textbf{png:} 2"
      ],
      "text/markdown": [
       "**png:** 2"
      ],
      "text/plain": [
       "png \n",
       "  2 "
      ]
     },
     "metadata": {},
     "output_type": "display_data"
    }
   ],
   "source": [
    "png(\"pnorm_qnorm_inv.png\", width = 1000, height = 300)\n",
    "\n",
    "library(\"shape\")\n",
    "\n",
    "par(mar = c(0, 0, 0, 0))\n",
    "\n",
    "a = 2\n",
    "b = 1\n",
    "\n",
    "top_theta = seq(1.5*pi/12, 10.5/12*pi, 0.01)\n",
    "x = a*cos(top_theta)\n",
    "y = b*sin(top_theta)\n",
    "\n",
    "plot(x, y, type=\"l\", xlab=\"\", ylab=\"\", axes=FALSE, col=\"blue3\", lwd = 5, xlim=c(-a-0.25, a+0.25), ylim=c(-b-0.25, b+0.25))\n",
    "Arrows(x[2], y[2], x[1], y[1], lwd = 5, arr.type = \"triangle\", arr.width = 0.3, col = \"blue3\")\n",
    "\n",
    "bot_theta = seq(-10.5/12*pi, -1.5*pi/12, 0.01)\n",
    "x = a*cos(bot_theta)\n",
    "y = b*sin(bot_theta)\n",
    "\n",
    "lines(x, y, col=\"red3\", lwd = 5)\n",
    "Arrows(x[2], y[2], x[1], y[1], lwd = 5, arr.type = \"triangle\", arr.width = 0.3, col = \"red3\")\n",
    "\n",
    "text(-a, 0.15, labels=expression(z), cex=2.5)\n",
    "text(-a, -0.15, labels=expression(N(0, 1)), cex=1.5)\n",
    "text(a, 0, labels=\"Probability\", cex=2.5)\n",
    "\n",
    "text(0, b, labels=\"pnorm(q)\", cex=2.5, col=\"blue3\", pos=3)\n",
    "text(0, -b, labels=\"qnorm(p)\", cex=2.5, col=\"red3\", pos=1)\n",
    "\n",
    "dev.off()"
   ]
  },
  {
   "cell_type": "markdown",
   "metadata": {},
   "source": [
    "```{figure} pnorm_qnorm_inv.png\n",
    "---\n",
    "width: 100%\n",
    "alt: One arrow labled pnorm(q) points from \"z\" to \"Probability\". Another arrow labeled qnorm(p) points the opposite direction, from \"Probability\" to \"z\".\n",
    "name: pnorm_qnorm_inv\n",
    "---\n",
    "The <code>pnorm</code> and <code>qnorm</code> functions are inverse functions. For the <code>pnorm</code> function, we input the $z$-value, and the function outputs the corresponding probability $P(Z < z)$. For the <code>qnorm</code> function, we input a probability, and the function outputs the $z$-value so $P(Z < z)$ equals the probability we input.\n",
    "```"
   ]
  },
  {
   "cell_type": "markdown",
   "metadata": {},
   "source": [
    "Similar to the <code>pnorm</code> function, the <code>qnorm</code> function expects a probability with corresponding area in the lower tail of the standard normal distribution, not in the upper tail of the distribution. That is, if we input a probability into the <code>qnorm</code> function, the function will output the $z$-value so that the probability equals $P(Z < z)$, not $P(Z > z)$. As before, we can work around this limitation with a little arithmetic. The following examples illustrate the different cases."
   ]
  },
  {
   "cell_type": "markdown",
   "metadata": {},
   "source": [
    "***"
   ]
  },
  {
   "cell_type": "markdown",
   "metadata": {},
   "source": [
    "### Example 4.1.6\n",
    "Find $a$ so that $P(Z < a) = 0.85$.\n",
    "\n",
    "#### Solution"
   ]
  },
  {
   "cell_type": "code",
   "execution_count": 65,
   "metadata": {
    "tags": [
     "remove-cell"
    ]
   },
   "outputs": [
    {
     "data": {
      "text/html": [
       "<strong>png:</strong> 2"
      ],
      "text/latex": [
       "\\textbf{png:} 2"
      ],
      "text/markdown": [
       "**png:** 2"
      ],
      "text/plain": [
       "png \n",
       "  2 "
      ]
     },
     "metadata": {},
     "output_type": "display_data"
    }
   ],
   "source": [
    "png(\"stdnormal_ex4.png\", width = 1000, height = 500)\n",
    "\n",
    "par(mar = c(2, 0, 0, 0))\n",
    "\n",
    "#library(repr)\n",
    "#options(repr.plot.width = 7, repr.plot.height=4)\n",
    "\n",
    "rangebrace = function(x0, x1, y, d, col){\n",
    "    Y = seq(y, y+d, length = 500)\n",
    "    Xl = (x1 - x0)/4 * ( (2/d)^(1/3) * sign(Y - (y + d/2))*abs(Y - (y + d/2))^(1/3) + 1 ) + (x0 + x1)/2\n",
    "    Xr = (x1 - x0)/4 * ( -(2/d)^(1/3) * sign(Y - (y + d/2))*abs(Y - (y + d/2))^(1/3) - 1 ) + (x0 + x1)/2\n",
    "    lines(Xl, Y, lwd = 3, col = col)\n",
    "    lines(Xr, Y, lwd = 3, col = col)\n",
    "    }\n",
    "\n",
    "z = seq(-3, 3, 0.01)\n",
    "y = dnorm(z)\n",
    "plot(z, y, type=\"l\", xlab = \"\", ylab = \"\", axes = FALSE, cex = 2)\n",
    "polyz = c(-3, seq(-3, 3, 0.01), 3)\n",
    "polyy = c(0, dnorm(seq(-3, 3, 0.01)), 0)\n",
    "polygon(polyz, polyy, col=\"gray90\", border=\"NA\")\n",
    "\n",
    "zval = qnorm(0.85)\n",
    "polyz = c(-3, seq(-3, zval, 0.01), zval)\n",
    "polyy = c(0, dnorm(seq(-3, zval, 0.01)), 0)\n",
    "polygon(polyz, polyy, col=\"lightsteelblue\", border = \"NA\")\n",
    "lines(c(zval, zval), c(0, dnorm(zval)))\n",
    "\n",
    "lines(z, y, type=\"l\", cex = 2)\n",
    "axis(1, pos=0, at=c(-3, zval, 0, 3), labels=c(\"\", expression(a), 0, \"\"), cex.axis = 2, lwd.ticks = 0)\n",
    "text(3, -0.01, labels = \"z\", cex = 2.5, pos = 4, xpd = TRUE)\n",
    "\n",
    "text(-0.3, 0.1, labels = expression(P(Z < a) == 0.85), cex = 2, col = \"blue3\")\n",
    "\n",
    "#lines(c(0, 0), c(0, dnorm(0)), type = \"l\", cex = 2)\n",
    "\n",
    "dev.off()"
   ]
  },
  {
   "cell_type": "markdown",
   "metadata": {},
   "source": [
    "```{figure} stdnormal_ex4.png\n",
    "---\n",
    "width: 100%\n",
    "alt: The standard normal distribution. The area under the curve to the left of some value z=a is shaded. The shaded region is labeled P(Z < a) = 0.85.\n",
    "name: stdnormal_ex4\n",
    "---\n",
    "The standard normal distribution. The area under the curve to the left of some unknown value $z = a$ is shaded. We want to find $z = a$ so that $P(Z < a) = 0.85$.\n",
    "```"
   ]
  },
  {
   "cell_type": "markdown",
   "metadata": {},
   "source": [
    "We want to find some value $z = a$ so that $P(Z < a) = 0.85$. In this case, we already know the probability, and we want to find the corresponding $z$-value. That means we need to use the <code>qnorm</code> function."
   ]
  },
  {
   "cell_type": "code",
   "execution_count": 66,
   "metadata": {},
   "outputs": [
    {
     "data": {
      "text/html": [
       "1.03643338949379"
      ],
      "text/latex": [
       "1.03643338949379"
      ],
      "text/markdown": [
       "1.03643338949379"
      ],
      "text/plain": [
       "[1] 1.036433"
      ]
     },
     "metadata": {},
     "output_type": "display_data"
    }
   ],
   "source": [
    "qnorm(p = 0.85)"
   ]
  },
  {
   "cell_type": "markdown",
   "metadata": {},
   "source": [
    "So $a = 1.03643$, and $P(Z < 1.03643) = 0.85$. In other words, we have found that $z = 1.03643$ is larger than $85\\%$ of the values in the distribution."
   ]
  },
  {
   "cell_type": "markdown",
   "metadata": {},
   "source": [
    "***"
   ]
  },
  {
   "cell_type": "markdown",
   "metadata": {},
   "source": [
    "### Example 4.1.7\n",
    "Find $b$ so that $P(Z > b) = 0.59$.\n",
    "\n",
    "#### Solution"
   ]
  },
  {
   "cell_type": "code",
   "execution_count": 5,
   "metadata": {
    "tags": [
     "remove-cell"
    ]
   },
   "outputs": [
    {
     "data": {
      "text/html": [
       "<strong>png:</strong> 2"
      ],
      "text/latex": [
       "\\textbf{png:} 2"
      ],
      "text/markdown": [
       "**png:** 2"
      ],
      "text/plain": [
       "png \n",
       "  2 "
      ]
     },
     "metadata": {},
     "output_type": "display_data"
    }
   ],
   "source": [
    "png(\"stdnormal_ex5.png\", width = 1000, height = 500)\n",
    "\n",
    "par(mar = c(2, 0, 0, 0))\n",
    "\n",
    "#library(repr)\n",
    "#options(repr.plot.width = 7, repr.plot.height=4)\n",
    "\n",
    "rangebrace = function(x0, x1, y, d, col){\n",
    "    Y = seq(y, y+d, length = 500)\n",
    "    Xl = (x1 - x0)/4 * ( (2/d)^(1/3) * sign(Y - (y + d/2))*abs(Y - (y + d/2))^(1/3) + 1 ) + (x0 + x1)/2\n",
    "    Xr = (x1 - x0)/4 * ( -(2/d)^(1/3) * sign(Y - (y + d/2))*abs(Y - (y + d/2))^(1/3) - 1 ) + (x0 + x1)/2\n",
    "    lines(Xl, Y, lwd = 3, col = col)\n",
    "    lines(Xr, Y, lwd = 3, col = col)\n",
    "    }\n",
    "\n",
    "z = seq(-3, 3, 0.01)\n",
    "y = dnorm(z)\n",
    "plot(z, y, type=\"l\", xlab = \"\", ylab = \"\", axes = FALSE, cex = 2)\n",
    "polyz = c(-3, seq(-3, 3, 0.01), 3)\n",
    "polyy = c(0, dnorm(seq(-3, 3, 0.01)), 0)\n",
    "polygon(polyz, polyy, col=\"gray90\", border=\"NA\")\n",
    "\n",
    "zval = qnorm(1 - 0.59)\n",
    "polyz = c(zval, seq(zval, 3, 0.01), 3)\n",
    "polyy = c(0, dnorm(seq(zval, 3, 0.01)), 0)\n",
    "polygon(polyz, polyy, col=\"lightsteelblue\", border = \"NA\")\n",
    "lines(c(zval, zval), c(0, dnorm(zval)))\n",
    "\n",
    "lines(z, y, type=\"l\", cex = 2)\n",
    "axis(1, pos=0, at=c(-3, zval, 0, 3), labels=c(\"\", expression(b), 0, \"\"), cex.axis = 2, lwd.ticks = 0)\n",
    "text(3, -0.01, labels = \"z\", cex = 2.5, pos = 4, xpd = TRUE)\n",
    "\n",
    "text(0.9, 0.1, labels = expression(P(Z > b) == 0.59), cex = 2, col = \"blue3\")\n",
    "\n",
    "#lines(c(0, 0), c(0, dnorm(0)), type = \"l\", cex = 2)\n",
    "\n",
    "dev.off()"
   ]
  },
  {
   "cell_type": "markdown",
   "metadata": {},
   "source": [
    "```{figure} stdnormal_ex5.png\n",
    "---\n",
    "width: 100%\n",
    "alt: The standard normal distribution. The area under the curve to the right of some value z=b is shaded. The shaded region is labeled P(Z > b) = 0.59.\n",
    "name: stdnormal_ex5\n",
    "---\n",
    "The standard normal distribution. The area under the curve to the right of some unknown value $z = b$ is shaded. We want to find $z = b$ so that $P(Z > b) = 0.85$.\n",
    "```"
   ]
  },
  {
   "cell_type": "markdown",
   "metadata": {},
   "source": [
    "We want to find some value $z = b$ so that $P(Z > b) = 0.59$. In this case, we already know the probability, and we want to find the corresponding $z$-value. That means we need to use the <code>qnorm</code> function.\n",
    "\n",
    "However, the <code>qnorm</code> function expects a probability with corresponding area in the lower tail, but the area corresponding to our probability fills the upper tail of the distribution. To use the <code>qnorm</code> function, we first need to re-express the problem to one dealing with probability in the lower tail. To do so, note that since the total area under the curve is equal to $1$, it must be that $P(Z < b) = 1 - P(Z > b) = 1 - 0.59$. Since $P(Z < b)$ is the form of probability that <code>qnorm</code> expects as input, this formula gives us a way to find $b$ using the <code>qnorm</code> function."
   ]
  },
  {
   "cell_type": "code",
   "execution_count": 73,
   "metadata": {},
   "outputs": [
    {
     "data": {
      "text/html": [
       "-0.227544976641149"
      ],
      "text/latex": [
       "-0.227544976641149"
      ],
      "text/markdown": [
       "-0.227544976641149"
      ],
      "text/plain": [
       "[1] -0.227545"
      ]
     },
     "metadata": {},
     "output_type": "display_data"
    }
   ],
   "source": [
    "qnorm(p = 1 - 0.59)"
   ]
  },
  {
   "cell_type": "markdown",
   "metadata": {},
   "source": [
    "So $b = -0.22754$, and $P(Z > -0.22754) = 0.59$. In other words, we have found that $z = -0.22754$ is less than than $59\\%$ of the values in the distribution."
   ]
  },
  {
   "cell_type": "markdown",
   "metadata": {},
   "source": [
    "***"
   ]
  },
  {
   "cell_type": "markdown",
   "metadata": {},
   "source": [
    "### Example 4.1.8\n",
    "\n",
    "Find the $34$th percentile of the standard normal distribution.\n",
    "\n",
    "#### Solution"
   ]
  },
  {
   "cell_type": "code",
   "execution_count": 1,
   "metadata": {
    "tags": [
     "remove-cell"
    ]
   },
   "outputs": [
    {
     "data": {
      "text/html": [
       "<strong>png:</strong> 2"
      ],
      "text/latex": [
       "\\textbf{png:} 2"
      ],
      "text/markdown": [
       "**png:** 2"
      ],
      "text/plain": [
       "png \n",
       "  2 "
      ]
     },
     "metadata": {},
     "output_type": "display_data"
    }
   ],
   "source": [
    "png(\"stdnormal_ex6.png\", width = 1000, height = 500)\n",
    "\n",
    "par(mar = c(2, 0, 0, 0))\n",
    "\n",
    "#library(repr)\n",
    "#options(repr.plot.width = 7, repr.plot.height=4)\n",
    "\n",
    "rangebrace = function(x0, x1, y, d, col){\n",
    "    Y = seq(y, y+d, length = 500)\n",
    "    Xl = (x1 - x0)/4 * ( (2/d)^(1/3) * sign(Y - (y + d/2))*abs(Y - (y + d/2))^(1/3) + 1 ) + (x0 + x1)/2\n",
    "    Xr = (x1 - x0)/4 * ( -(2/d)^(1/3) * sign(Y - (y + d/2))*abs(Y - (y + d/2))^(1/3) - 1 ) + (x0 + x1)/2\n",
    "    lines(Xl, Y, lwd = 3, col = col)\n",
    "    lines(Xr, Y, lwd = 3, col = col)\n",
    "    }\n",
    "\n",
    "z = seq(-3, 3, 0.01)\n",
    "y = dnorm(z)\n",
    "plot(z, y, type=\"l\", xlab = \"\", ylab = \"\", axes = FALSE, cex = 2)\n",
    "polyz = c(-3, seq(-3, 3, 0.01), 3)\n",
    "polyy = c(0, dnorm(seq(-3, 3, 0.01)), 0)\n",
    "polygon(polyz, polyy, col=\"gray90\", border=\"NA\")\n",
    "\n",
    "zval = qnorm(0.34)\n",
    "polyz = c(-3, seq(-3, zval, 0.001), zval)\n",
    "polyy = c(0, dnorm(seq(-3, zval, 0.001)), 0)\n",
    "polygon(polyz, polyy, col=\"lightsteelblue\", border = \"NA\")\n",
    "lines(c(zval, zval), c(0, dnorm(zval)))\n",
    "\n",
    "lines(z, y, type=\"l\", cex = 2)\n",
    "axis(1, pos=0, at=c(-3, zval, 0, 3), labels=c(\"\", expression(z), 0, \"\"), cex.axis = 2, lwd.ticks = 0)\n",
    "text(3, -0.01, labels = \"z\", cex = 2.5, pos = 4, xpd = TRUE)\n",
    "\n",
    "text(-1, 0.1, labels = expression(P(Z < z) == 0.34), cex = 2, col = \"blue3\")\n",
    "\n",
    "#lines(c(0, 0), c(0, dnorm(0)), type = \"l\", cex = 2)\n",
    "\n",
    "dev.off()"
   ]
  },
  {
   "cell_type": "markdown",
   "metadata": {},
   "source": [
    "```{figure} stdnormal_ex6.png\n",
    "---\n",
    "width: 100%\n",
    "alt: The standard normal distribution. The area under the curve to the left of some value z is shaded. The shaded region is labeled P(Z < z) = 0.34.\n",
    "name: stdnormal_ex6\n",
    "---\n",
    "The standard normal distribution. The area under the curve to the left of some unknown value $z$ is shaded. We want to find $z$ so that $P(Z < z) = 0.34$.\n",
    "```"
   ]
  },
  {
   "cell_type": "markdown",
   "metadata": {},
   "source": [
    "Recall that the $34$th percentile of the standard normal distribution would be the $z$-value larger than $34\\%$ of the possible values in the distribution. In the language of probability, we want to find $z$ so that $P(Z < z) = 0.34$. Then since we know the probability, we can use the <code>qnorm</code> function to find the corresponding $z$-value."
   ]
  },
  {
   "cell_type": "code",
   "execution_count": 3,
   "metadata": {},
   "outputs": [
    {
     "data": {
      "text/html": [
       "-0.412463129441405"
      ],
      "text/latex": [
       "-0.412463129441405"
      ],
      "text/markdown": [
       "-0.412463129441405"
      ],
      "text/plain": [
       "[1] -0.4124631"
      ]
     },
     "metadata": {},
     "output_type": "display_data"
    }
   ],
   "source": [
    "qnorm(p = 0.)"
   ]
  },
  {
   "cell_type": "markdown",
   "metadata": {},
   "source": [
    "So $P(Z < -0.41246) = 0.34$, meaning the $34$th percentile of the standard normal distribution is $z = -0.41246$."
   ]
  },
  {
   "cell_type": "markdown",
   "metadata": {},
   "source": [
    "***"
   ]
  },
  {
   "cell_type": "markdown",
   "metadata": {},
   "source": [
    "### Example 4.1.9\n",
    "\n",
    "Find the $z$-value less than $95\\%$ of values in the standard normal distribution.\n",
    "\n",
    "#### Solution"
   ]
  },
  {
   "cell_type": "code",
   "execution_count": 7,
   "metadata": {
    "tags": [
     "remove-cell"
    ]
   },
   "outputs": [
    {
     "data": {
      "text/html": [
       "<strong>png:</strong> 2"
      ],
      "text/latex": [
       "\\textbf{png:} 2"
      ],
      "text/markdown": [
       "**png:** 2"
      ],
      "text/plain": [
       "png \n",
       "  2 "
      ]
     },
     "metadata": {},
     "output_type": "display_data"
    }
   ],
   "source": [
    "png(\"stdnormal_ex7.png\", width = 1000, height = 500)\n",
    "\n",
    "par(mar = c(2, 0, 0, 0))\n",
    "\n",
    "#library(repr)\n",
    "#options(repr.plot.width = 7, repr.plot.height=4)\n",
    "\n",
    "rangebrace = function(x0, x1, y, d, col){\n",
    "    Y = seq(y, y+d, length = 500)\n",
    "    Xl = (x1 - x0)/4 * ( (2/d)^(1/3) * sign(Y - (y + d/2))*abs(Y - (y + d/2))^(1/3) + 1 ) + (x0 + x1)/2\n",
    "    Xr = (x1 - x0)/4 * ( -(2/d)^(1/3) * sign(Y - (y + d/2))*abs(Y - (y + d/2))^(1/3) - 1 ) + (x0 + x1)/2\n",
    "    lines(Xl, Y, lwd = 3, col = col)\n",
    "    lines(Xr, Y, lwd = 3, col = col)\n",
    "    }\n",
    "\n",
    "z = seq(-3, 3, 0.01)\n",
    "y = dnorm(z)\n",
    "plot(z, y, type=\"l\", xlab = \"\", ylab = \"\", axes = FALSE, cex = 2)\n",
    "polyz = c(-3, seq(-3, 3, 0.01), 3)\n",
    "polyy = c(0, dnorm(seq(-3, 3, 0.01)), 0)\n",
    "polygon(polyz, polyy, col=\"gray90\", border=\"NA\")\n",
    "\n",
    "zval = qnorm(1 - 0.95)\n",
    "polyz = c(zval, seq(zval, 3, 0.01), 3)\n",
    "polyy = c(0, dnorm(seq(zval, 3, 0.01)), 0)\n",
    "polygon(polyz, polyy, col=\"lightsteelblue\", border = \"NA\")\n",
    "lines(c(zval, zval), c(0, dnorm(zval)))\n",
    "\n",
    "lines(z, y, type=\"l\", cex = 2)\n",
    "axis(1, pos=0, at=c(-3, zval, 0, 3), labels=c(\"\", expression(z), 0, \"\"), cex.axis = 2, lwd.ticks = 0)\n",
    "text(3, -0.01, labels = \"z\", cex = 2.5, pos = 4, xpd = TRUE)\n",
    "\n",
    "text(0.1, 0.1, labels = expression(P(Z > z) == 0.95), cex = 2, col = \"blue3\")\n",
    "\n",
    "#lines(c(0, 0), c(0, dnorm(0)), type = \"l\", cex = 2)\n",
    "\n",
    "dev.off()"
   ]
  },
  {
   "cell_type": "markdown",
   "metadata": {},
   "source": [
    "```{figure} stdnormal_ex7.png\n",
    "---\n",
    "width: 100%\n",
    "alt: The standard normal distribution. The area under the curve to the right of some value z is shaded. The shaded region is labeled P(Z > z) = 0.95.\n",
    "name: stdnormal_ex7\n",
    "---\n",
    "The standard normal distribution. The area under the curve to the right of some unknown value $z$ is shaded. We want to find $z$ so that $P(Z > z) = 0.95$.\n",
    "```"
   ]
  },
  {
   "cell_type": "markdown",
   "metadata": {},
   "source": [
    "We want the $z$-value smaller than $95\\%$ of values in the standard normal distribution, which means we want $z$ so that $P(Z > z) = 0.95$. Since we know the probability, we want to use the <code>qnorm</code> function to find the corresponding $z$-score. However, the probability we are given corresponds to an area in the upper tail of the distribution. The <code>qnorm</code> function only works for probabilities in the lower tail of the distribution. \n",
    "\n",
    "With a little arithmetic, we can see that if $P(Z > z) = 0.95$, then $P(Z < z) = 1 - P(Z > z) = 1 - 0.95 = 0.05$. In other words, if a $z$-value smaller than exactly $95\\%$ of the values in the distribution, it is also larger than the remaining $5\\%$ of the values. Now that we have the probability in the form the <code>qnorm</code> function expects, we can use the function to find $z$."
   ]
  },
  {
   "cell_type": "code",
   "execution_count": 8,
   "metadata": {},
   "outputs": [
    {
     "data": {
      "text/html": [
       "-1.64485362695147"
      ],
      "text/latex": [
       "-1.64485362695147"
      ],
      "text/markdown": [
       "-1.64485362695147"
      ],
      "text/plain": [
       "[1] -1.644854"
      ]
     },
     "metadata": {},
     "output_type": "display_data"
    }
   ],
   "source": [
    "qnorm(p = 1 - 0.95)"
   ]
  },
  {
   "cell_type": "markdown",
   "metadata": {},
   "source": [
    "So $P(Z > -1.64485) = 0.95$, meaning $z = -1.64485$ is less than $95\\%$ of the values in the standard normal distribution."
   ]
  }
 ],
 "metadata": {
  "kernelspec": {
   "display_name": "R",
   "language": "R",
   "name": "ir"
  },
  "language_info": {
   "codemirror_mode": "r",
   "file_extension": ".r",
   "mimetype": "text/x-r-source",
   "name": "R",
   "pygments_lexer": "r",
   "version": "4.2.3"
  }
 },
 "nbformat": 4,
 "nbformat_minor": 4
}