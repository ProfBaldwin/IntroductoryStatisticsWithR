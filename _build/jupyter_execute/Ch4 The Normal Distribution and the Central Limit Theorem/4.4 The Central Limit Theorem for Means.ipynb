{
 "cells": [
  {
   "cell_type": "markdown",
   "metadata": {},
   "source": [
    "# The Central Limit Theorem for Means"
   ]
  },
  {
   "cell_type": "markdown",
   "metadata": {},
   "source": [
    "## Objectives\n",
    "\n",
    "- Apply the central limit theorem for means to identify sampling distributions of sample means.\n",
    "- Computer probabilities involving sampling distributions of means."
   ]
  },
  {
   "cell_type": "markdown",
   "metadata": {},
   "source": [
    "## The Central Limit Theorem\n",
    "\n",
    "Suppose we want to find the average hourly wage of workers in Brazil. There are millions of workers in Brazil, so we can't practically survey all Brazilian workers to find the true population mean of their hourly wages. Instead, we can approximate the population mean by surveying a random sample of, say, $500$ Brazilian workers and calculating the mean of this smaller sample. This sample mean would probably not be *exactly* equal to the population mean, but the sample mean would likely be a good *approximation* of the population mean.\n",
    "\n",
    "But our random sample of $500$ Brazilian workers is only one particular sample of many random samples that are possible. Because there are millions of Brazilian workers, there are many possible ways a sample of $500$ Brazilian workers might be randomly chosen. For instance, if we were to collect a second random sample of $500$ Brazilian workers, this second sample would almost certainly include $500$ different workers than those workers which were selected for our first sample. The sample mean from this new second sample would probably be a little different than the sample mean from our first sample, though both sample means would probably give a good approximation of the population mean.\n",
    "\n",
    "So far, we've imagined taking just two different samples of $500$ Brazilian workers from the population. Now imagine *all* the possible ways we can sample $500$ Brazilian workers from the population. How would the different sample means from all those samples be distributed? Well, like with the two sample means we considered above, we would expect most of the possible sample means to be close to the population mean. In fact, the further we get from the population mean, the fewer sample means we will to find.\n",
    "\n",
    "For example, it is *possible* that in random sample of $500$ Brazilian workers, just by chance, all $500$ workers are extremely well-paid. The sample mean of this sample would be considerably higher than the population mean since we only sampled well-paid workers. However, though it is *possible* to randomly select a sample like this, it is *extremely unlikely*. The vast majority of possible samples would include workers at a variety of income levels. Only a very small proportion of samples would have a sample mean as far from the population mean as in this example.\n",
    "\n",
    "We call the distribution of sample means taken from the possible random samples of a population the **sampling distribution** of the sample mean. From the above discussion, we expect the sampling distribution to be distributed like a bell curve, with most sample means clustered near the population mean, and few samples means far from the population mean."
   ]
  },
  {
   "cell_type": "markdown",
   "metadata": {},
   "source": [
    "If we formalize this idea mathematically, we get the **central limit theorem** for sample means:\n",
    "\n",
    "```{prf:theorem} The Central Limit Theorem for Sample Means\n",
    "\n",
    "Let $X$ be a random variable for a population with mean $\\mu$ and standard deviation $\\sigma$. Let $\\bar{X}$ be the random variable of the sampling distribution of the sample mean for this population, where the samples are of size $n$. If the sample size $n$ is big enough (so that $n \\geq 30$), then the sampling distribution is roughly a normal distribution with mean $\\mu$ and standard deviation $\\frac{\\sigma}{\\sqrt{n}}$. That is,\n",
    "\n",
    "$$ \\bar{X} \\sim N\\left(\\mu, \\frac{\\sigma}{\\sqrt{n}}\\right). $$\n",
    "```\n",
    "\n",
    "There are several important observations about this theorem that we should note:\n",
    "- The central limit theorem does not make any requirements on how the population is distributed. This is why the central limit theorem is so powerful. The population can have any distribution. We do not even need to know *how* the population is distributed. No matter how the population is distributed, the sampling distribution of sample means (with $n \\geq 30$) will approximate a normal distribution.\n",
    "- The theorem states that the distribution of sample means $\\bar{X}$ only *approximates* a normal distribution. But in practice, as long as the sample size $n \\geq 30$, the distribution of sample means approximates the normal distribution so closely that we can treat the distribution as if it is normally distributed. (In the special case that the population is also normally distributed, we can drop the requirement that $n \\geq 30$. If the population is normally distributed, then the sampling distribution will also be normally distributed for any sample size $n$.)\n",
    "- The standard deviation of the population, $\\sigma$, is different from the standard deviation of the sampling distribution, $\\frac{\\sigma}{\\sqrt{n}}$. To distringuish between the standard deviations of the two different distributions, we call $\\frac{\\sigma}{\\sqrt{n}}$ the **standard error**.\n",
    "- Note that the larger the sample size $n$ is, the smaller the standard error $\\frac{\\sigma}{\\sqrt{n}}$ becomes. That is, sample means from larger samples will tend to better approximate the population mean than sample means from smaller samples.\n",
    "- The central limit theorem only applies for samples that are randomly selected. If a sample is not selected randomly, the central limit theorem may not apply.\n",
    "\n",
    "In the previous section, we learned that if we have a normal distribution with mean $\\mu$ and standard deviation $\\sigma$, the formulas\n",
    "\n",
    "$$ z = \\frac{x - \\mu}{\\sigma}, \\hspace{0.5in} x = \\mu + z\\sigma,$$\n",
    "\n",
    "allow us to calculate a $z$-score from an $x$-value or and $x$-value from a $z$-score. We use these same formulas in this section, but because we are focusing on the sampling distribution for sample means instead of just the population distribution, some of the variables in the formula look a little different. In particular, we use $\\bar{x}$ instead of $x$ (since we are dealing with the distribution of sample means, not particular values of the population), and we use the standard error $\\frac{\\sigma}{\\sqrt{n}}$ instead of the population standard deviation $\\sigma$ (since the standard error is the standard deviation of the sampling distribution). Making these substitutions, the formulas above become\n",
    "\n",
    "$$ z = \\frac{\\bar{x} - \\mu}{\\frac{\\sigma}{\\sqrt{n}}}, \\hspace{0.5in} \\bar{x} = \\mu + z\\frac{\\sigma}{\\sqrt{n}}. $$"
   ]
  },
  {
   "cell_type": "markdown",
   "metadata": {},
   "source": [
    "***"
   ]
  },
  {
   "cell_type": "markdown",
   "metadata": {},
   "source": [
    "### Example 4.4.1\n",
    "The expected value of a fair six-sided die roll is $\\mu = 3.5$. The standard deviation is $\\sigma = 1.7078$.\n",
    "\n",
    "1. If we roll the die $50$ times, what is the likelihood that the sample mean is smaller than $3.0$?\n",
    "2. If we roll the die $100$ times, what is the likelihood that the sample mean is smaller than $3.0$?\n",
    "3. Is it more likely that our sample mean is smaller than $3.0$ if we roll the die $50$ times or $100$ times? Why?\n",
    "\n",
    "#### Solution ####\n",
    "\n",
    "##### Part 1\n",
    "\n",
    "By the central limit theorem, we know that the distribution of sample means of samples of size $n = 50$ are normally distributed with population mean \n",
    "\n",
    "$$\\mu = 3.5$$ \n",
    "\n",
    "and with standard error\n",
    "\n",
    "$$\\frac{\\sigma}{\\sqrt{n}} = \\frac{1.7078}{\\sqrt{50}} = 0.2415$$\n",
    "\n",
    "We want to find $P(\\bar{X} < 3.0)$. Since $\\bar{X} \\sim N(3.5, 0.2415)$, we first find the $z$-score for $\\bar{x} = 3.0$:\n",
    "\n",
    "$$z = \\frac{\\bar{x} - \\mu}{\\frac{\\sigma}{\\sqrt{n}}} = \\frac{3.0 - 3.5}{0.2415} = -2.0704. $$\n",
    "\n",
    "So $P(\\bar{X} < 3.0) = P(Z < -2.0704)$. We use R to find the probability."
   ]
  },
  {
   "cell_type": "code",
   "execution_count": 1,
   "metadata": {},
   "outputs": [
    {
     "data": {
      "text/html": [
       "0.0192074509255941"
      ],
      "text/latex": [
       "0.0192074509255941"
      ],
      "text/markdown": [
       "0.0192074509255941"
      ],
      "text/plain": [
       "[1] 0.01920745"
      ]
     },
     "metadata": {},
     "output_type": "display_data"
    }
   ],
   "source": [
    "pnorm(q = -2.0704)"
   ]
  },
  {
   "cell_type": "markdown",
   "metadata": {},
   "source": [
    "So $P(\\bar{X} < 3.0) = P(Z < -2.0704) = 0.0192$. That is, there is only a $1.92\\%$ chance that our $50$ die rolls have an average of less than $3.0$.\n",
    "\n",
    "##### Part 2\n",
    "By the central limit theorem, we know that the distribution of sample means of samples of size $n = 100$ are normally distributed with population mean\n",
    "\n",
    "$$ \\mu = 3.5 $$\n",
    "\n",
    "and with standard error\n",
    "\n",
    "$$ \\frac{\\sigma}{\\sqrt{n}} = \\frac{1.7078}{\\sqrt{100}} = 0.1708. $$\n",
    "\n",
    "We want to find $P(\\bar{X} < 3.0)$. Since $\\bar{X} \\sim N(3.5, 0.1708)$, we first need to find the $z$-score associated with $\\bar{x} = 3.0$:\n",
    "\n",
    "$$ z = \\frac{\\bar{x} - \\mu}{\\frac{\\sigma}{\\sqrt{n}}} = \\frac{3.0 - 3.5}{0.1708} = -2.9274. $$\n",
    "\n",
    "So $P(\\bar{X} < 3.0) = P(Z < -2.9274)$. We use R to find the probability."
   ]
  },
  {
   "cell_type": "code",
   "execution_count": 2,
   "metadata": {},
   "outputs": [
    {
     "data": {
      "text/html": [
       "0.00170904480232814"
      ],
      "text/latex": [
       "0.00170904480232814"
      ],
      "text/markdown": [
       "0.00170904480232814"
      ],
      "text/plain": [
       "[1] 0.001709045"
      ]
     },
     "metadata": {},
     "output_type": "display_data"
    }
   ],
   "source": [
    "pnorm(q = -2.9274)"
   ]
  },
  {
   "cell_type": "markdown",
   "metadata": {},
   "source": [
    "So $P(\\bar{X} < 3.0) = P(Z < -2.9274) = 0.0017$. That is, there is only a $0.17\\%$ chance that our $100$ die rolls have an average of less than $3.0$.\n",
    "\n",
    "##### Part 3\n",
    "The probability of getting a sample mean of less than $3.0$ after $50$ die rolls is $1.92\\%$. But the probability of getting a sample mean of less than $3.0$ after $100$ die rolls is only $0.17\\%$, more than $10$ times smaller. While both are unlikely, we are much more likely to have a sample mean of less than $3.0$ after only $50$ die rolls than we are after $100$ die rolls.\n",
    "\n",
    "This is because the larger the sample size is, the smaller the standard error is, and, therefore, the more likely the sample mean from a randomly selected sample will be close to the population mean or expected value."
   ]
  },
  {
   "cell_type": "markdown",
   "metadata": {},
   "source": [
    "***"
   ]
  },
  {
   "cell_type": "markdown",
   "metadata": {},
   "source": [
    "### Example 4.4.2\n",
    "The length of time taken on the SAT for a group of students is normally distributed with a mean of $2.5$ hours and a standard deviation of $0.85$ hours. A sample size of $n = 30$ is drawn randomly from the population. Find the probability that the sample mean is between $2.3$ hours and $2.7$ hours.\n",
    "\n",
    "#### Solution\n",
    "By the central limit theorem, sample means of samples of size $n = 30$ are normally distributed with\n",
    "\n",
    "$$ \\mu = 2.5 $$\n",
    "\n",
    "and a standard error of\n",
    "\n",
    "$$ \\frac{\\sigma}{\\sqrt{n}} = \\frac{0.85}{\\sqrt{30}} = 0.1552; $$\n",
    "\n",
    "that is, $\\bar{X} \\sim N(2.5, 0.1552)$.\n",
    "\n",
    "We want to find $P(2.3 < \\bar{X} < 2.7)$. To do so, we first must find the $z$-scores associated with $\\bar{x} = 2.3$ and $\\bar{x} = 2.7$. We calculate\n",
    "\n",
    "$$ z = \\frac{\\bar{x} - \\mu}{\\frac{\\sigma}{\\sqrt{n}}} = \\frac{2.3 - 2.5}{0.1552} = -1.2887, $$\n",
    "\n",
    "$$ z = \\frac{\\bar{x} - \\mu}{\\frac{\\sigma}{\\sqrt{n}}} = \\frac{2.7 - 2.5}{0.1552} = 1.2887. $$\n",
    "\n",
    "Then $P(2.3 < \\bar{X} < 2.7) = P(-1.2887 < Z < 1.2887)$. We will use R to find the probability. We will first find *all* the area to the left of $z = 1.2887$, then subtract off the excess area to the left of $z = -1.2887$."
   ]
  },
  {
   "cell_type": "code",
   "execution_count": 1,
   "metadata": {},
   "outputs": [
    {
     "data": {
      "text/html": [
       "0.802497597503648"
      ],
      "text/latex": [
       "0.802497597503648"
      ],
      "text/markdown": [
       "0.802497597503648"
      ],
      "text/plain": [
       "[1] 0.8024976"
      ]
     },
     "metadata": {},
     "output_type": "display_data"
    }
   ],
   "source": [
    "pnorm(q = 1.2887) - pnorm(q = -1.2887)"
   ]
  },
  {
   "cell_type": "markdown",
   "metadata": {},
   "source": [
    "So $P(2.3 < \\bar{X} < 2.7) = P(-1.2887 < Z < 1.2887) = 0.8025$. There is an $80.25\\%$ chance that the sample of $30$ individuals has a sample mean test time of between $2.3$ and $2.7$ hours."
   ]
  },
  {
   "cell_type": "markdown",
   "metadata": {},
   "source": [
    "***"
   ]
  },
  {
   "cell_type": "markdown",
   "metadata": {},
   "source": [
    "### Example 4.4.3\n",
    "\n",
    "A statistics instructor at Mt. San Jacinto College assigns each student in his class to randomly sample $40$ other students at the college and find out how far they travel to get to campus, then calculate the sample mean. If the population mean is $26$ miles with a standard deviation of $32$ miles, then the top $10\\%$ of sample means submitted by the instrutor's students should be greater than what value?\n",
    "\n",
    "#### Solution\n",
    "We will need to approach this problem a little differently than the way we approached the last two examples, but we start off the same way: by using the central limit theorem to find the properties of the sampling distribution of sample means. Since we are looking at samples of size $n = 40$, the central limit theorem tells us that the sampling distribution is normally distributed with mean\n",
    "\n",
    "$$ \\mu = 26 $$\n",
    "\n",
    "and a standard error of\n",
    "\n",
    "$$ \\frac{\\sigma}{\\sqrt{n}} = \\frac{32}{\\sqrt{40}} = 5.05964. $$\n",
    "\n",
    "So $\\bar{X} \\sim N(26, 5.05964)$.\n",
    "\n",
    "In this problem, we are given a probability ($10\\% = 0.10$), and we need to find an $\\bar{x}$-value associated with it. We start by using R to find the $z$-score associated with the probability:"
   ]
  },
  {
   "cell_type": "code",
   "execution_count": 4,
   "metadata": {},
   "outputs": [
    {
     "data": {
      "text/html": [
       "1.2815515655446"
      ],
      "text/latex": [
       "1.2815515655446"
      ],
      "text/markdown": [
       "1.2815515655446"
      ],
      "text/plain": [
       "[1] 1.281552"
      ]
     },
     "metadata": {},
     "output_type": "display_data"
    }
   ],
   "source": [
    "qnorm(p = 1 - 0.10)"
   ]
  },
  {
   "cell_type": "markdown",
   "metadata": {},
   "source": [
    "So $P(Z > 1.28155) = 0.10$, meaing $10\\%$ of all $z$-values are greater than $z = 1.28155$.\n",
    "\n",
    "Then we calculate\n",
    "\n",
    "$$\\bar{x} = \\mu + z\\frac{\\sigma}{\\sqrt{n}} = 26 + 1.28155(5.05964) = 32.48420.$$\n",
    "\n",
    "Then the top $10%$ of sample means will be greater than $\\bar{x} = 32.48420$ miles."
   ]
  }
 ],
 "metadata": {
  "kernelspec": {
   "display_name": "R",
   "language": "R",
   "name": "ir"
  },
  "language_info": {
   "codemirror_mode": "r",
   "file_extension": ".r",
   "mimetype": "text/x-r-source",
   "name": "R",
   "pygments_lexer": "r",
   "version": "4.2.3"
  }
 },
 "nbformat": 4,
 "nbformat_minor": 4
}