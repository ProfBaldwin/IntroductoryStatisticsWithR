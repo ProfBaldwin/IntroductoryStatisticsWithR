{
 "cells": [
  {
   "cell_type": "markdown",
   "metadata": {},
   "source": [
    "# The Normal Distribution and $z$-Scores"
   ]
  },
  {
   "cell_type": "markdown",
   "metadata": {},
   "source": [
    "## Objectives ##\n",
    "- Use $z$-scores to find probabilities for non-standard normal distributions.\n",
    "- Use $z$-scores to find quantiles for non-standard normal distributions."
   ]
  },
  {
   "cell_type": "markdown",
   "metadata": {},
   "source": [
    "## Finding Probability Given an $x$-value by Computing the $z$-score\n",
    "In the last section, we learned how to find probabilities for the standard normal distribution, $Z \\sim N(0, 1)$. To find probabilities generally for a non-standard normal distribution, $X \\sim N(\\mu, \\sigma)$, we first convert the $x$-value of interest into a **$z$-score**.\n",
    "\n",
    "The $z$-score of an $x$-value is how many standard deviations the $x$-value is away from the mean and in which direction. For example, consider $X \\sim N(5, 2)$, the normal distribution with mean $\\mu = 5$ and standard deviation $\\sigma = 2$. Then $x = 11$ is three standard deviations above (or to the right of) the mean since\n",
    "\n",
    "$$ 11 = \\mu + 3\\sigma = 5 + 3(2),$$\n",
    "\n",
    "so the $z$-score of $x = 11$ is $z = 3$.\n",
    "\n",
    "Similarly, $x = -3$ is four standard deviations below (or the the left of) the mean since\n",
    "\n",
    "$$ -3 = \\mu + (-4)\\sigma = 5 + (-4)(2),$$\n",
    "\n",
    "so the $z$-score of $x = -3$ is $z = -4$.\n",
    "\n",
    "Generally, if $X \\sim N(\\mu, \\sigma)$, an $x$-value and its $z$-score are related by the formula $x = \\mu + z\\sigma$. If we use algebra to rearrange this equation so that the $z$ variable is by itself, we find that formula for finding the $z$-score of an $x$-value is\n",
    "\n",
    "$$ z = \\frac{x - \\mu}{\\sigma}. $$\n",
    "\n",
    "When calculating a probability for a non-standard normal distribution, we first find the $z$-score corresponding to an $x$-value because it transforms the distribution we are working with from a non-standard normal distribution $X \\sim N(\\mu, \\sigma)$ to the standard normal distribution $Z \\sim N(0, 1)$. From the previous section, we know how to find a probability of the standard normal distribution using the <code>pnorm</code> function. So once we tranform the distribution to the standard normal distribution by finding the $z$-score, we can use the <code>pnorm</code> function to find the probability.\n",
    "\n",
    "For example, suppose we want to find the probability $P(X < x)$ to the left of an $x$-value in a non-standard normal distribution $X \\sim N(\\mu, \\sigma)$. We first calculate the $z$-score using the formula $z = \\frac{x - \\mu}{\\sigma}$. Then the probability we are looking for, $P(X < x)$, is equal to the probability $P(Z < z)$ to the left of the $z$-score in the standard normal distribution $Z \\sim N(0, 1)$. So we can find $P(X < x)$ by first finding the $z$-score of $x$, then calculating $P(Z < z)$ using the <code>pnorm</code> function."
   ]
  },
  {
   "cell_type": "code",
   "execution_count": 22,
   "metadata": {
    "tags": [
     "remove-cell"
    ]
   },
   "outputs": [
    {
     "data": {
      "text/html": [
       "<strong>png:</strong> 2"
      ],
      "text/latex": [
       "\\textbf{png:} 2"
      ],
      "text/markdown": [
       "**png:** 2"
      ],
      "text/plain": [
       "png \n",
       "  2 "
      ]
     },
     "metadata": {},
     "output_type": "display_data"
    }
   ],
   "source": [
    "png(\"pnorm_zscore.png\", width = 1000, height = 250)\n",
    "\n",
    "library(\"shape\")\n",
    "\n",
    "par(mar = c(0, 0, 0, 0))\n",
    "\n",
    "a = 2\n",
    "b = 1\n",
    "\n",
    "top_theta = seq(1.5*pi/12, 10.5/12*pi, 0.01)\n",
    "x1 = a*cos(top_theta) - a\n",
    "x2 = a*cos(top_theta) + a\n",
    "y = b*sin(top_theta)\n",
    "\n",
    "plot(x1, y, type=\"l\", xlab=\"\", ylab=\"\", axes=FALSE, col=\"blue3\", lwd = 5, xlim=c(-2*a-0.35, 2*a+0.55), ylim=c(-0.35, b+0.55))\n",
    "Arrows(x1[2], y[2], x1[1], y[1], lwd = 5, arr.type = \"triangle\", arr.width = 0.3, col = \"blue3\")\n",
    "lines(x2, y, col=\"blue3\", lwd=5)\n",
    "Arrows(x2[2], y[2], x2[1], y[1], lwd = 5, arr.type = \"triangle\", arr.width = 0.3, col = \"blue3\")\n",
    "\n",
    "text(-2*a, 0.15, labels=expression(x), cex=2.5)\n",
    "text(-2*a, -0.15, labels=expression(N(mu, sigma)), cex=1.5)\n",
    "text(0, 0.15, labels=expression(z), cex=2.5)\n",
    "text(0, -0.15, labels=expression(N(0, 1)), cex=1.5)\n",
    "text(2*a, 0, labels=\"Probability\", cex=2.5)\n",
    "\n",
    "text(-a, b, labels=expression(z == frac(x-mu,sigma)), cex=2.5, col=\"blue3\", pos=3)\n",
    "text(a, b, labels=\"pnorm(q)\", cex=2.5, col=\"blue3\", pos=3)\n",
    "\n",
    "dev.off()"
   ]
  },
  {
   "cell_type": "markdown",
   "metadata": {},
   "source": [
    "```{figure} pnorm_zscore.png\n",
    "---\n",
    "width: 100%\n",
    "alt: An arrow labeled z = (x - mu)/sigma points from \"x\" to \"z\", then another arrow labeled pnorm(q) points from \"z\" to \"Probability\".\n",
    "name: pnorm_zscore\n",
    "---\n",
    "To find the probability associated with an $x$-value in a non-standard normal distribution, first tranform the problem to be over the standard normal distribution by finding the $z$-score using the formula $z = \\frac{x - \\mu}{\\sigma}$, then use the <code>pnorm</code> function to compute the probability.\n",
    "```"
   ]
  },
  {
   "cell_type": "markdown",
   "metadata": {},
   "source": [
    "***"
   ]
  },
  {
   "cell_type": "markdown",
   "metadata": {},
   "source": [
    "### Example 4.2.1\n",
    "Let $X \\sim N(15, 2.4)$.\n",
    "\n",
    "1. Find $P(X < 13.5)$.\n",
    "2. Find $P(X > 16.1)$.\n",
    "3. Find $P(12.4 < X < 19.5)$.\n",
    "\n",
    "#### Solution\n",
    "Recall that $X \\sim N(15, 2.4)$ means that $X$ is a normally distributed random variable with mean $\\mu = 15$ and standard deviation $\\sigma = 2.4$. \n",
    "\n",
    "##### Part 1\n",
    "To find $P(X < 13.5)$, we first need to calculate the $z$-score of $x = 13.5$:\n",
    "\n",
    "$$ z = \\frac{x - \\mu}{\\sigma} = \\frac{13.5 - 15}{2.4} = -0.625. $$\n",
    "\n",
    "So the $z$-score of $x = 13.5$ is $z = -0.625$, meaning $P(X < 13.5) = P(Z < -0.625)$."
   ]
  },
  {
   "cell_type": "code",
   "execution_count": 5,
   "metadata": {
    "jupyter": {
     "source_hidden": true
    },
    "tags": [
     "remove-cell"
    ]
   },
   "outputs": [
    {
     "data": {
      "text/html": [
       "<strong>png:</strong> 2"
      ],
      "text/latex": [
       "\\textbf{png:} 2"
      ],
      "text/markdown": [
       "**png:** 2"
      ],
      "text/plain": [
       "png \n",
       "  2 "
      ]
     },
     "metadata": {},
     "output_type": "display_data"
    }
   ],
   "source": [
    "png(\"stdnormal_ex11.png\", width = 1000, height = 500)\n",
    "\n",
    "par(mar = c(2, 0, 0, 0))\n",
    "\n",
    "#library(repr)\n",
    "#options(repr.plot.width = 7, repr.plot.height=4)\n",
    "library(\"shape\")\n",
    "\n",
    "rangebrace = function(x0, x1, y, d, col){\n",
    "    Y = seq(y, y+d, length = 500)\n",
    "    Xl = (x1 - x0)/4 * ( (2/d)^(1/3) * sign(Y - (y + d/2))*abs(Y - (y + d/2))^(1/3) + 1 ) + (x0 + x1)/2\n",
    "    Xr = (x1 - x0)/4 * ( -(2/d)^(1/3) * sign(Y - (y + d/2))*abs(Y - (y + d/2))^(1/3) - 1 ) + (x0 + x1)/2\n",
    "    lines(Xl, Y, lwd = 3, col = col)\n",
    "    lines(Xr, Y, lwd = 3, col = col)\n",
    "    }\n",
    "\n",
    "z = seq(-3, 3, 0.01)\n",
    "y = dnorm(z)\n",
    "plot(z, y, type=\"l\", xlab = \"\", ylab = \"\", axes = FALSE, cex = 2)\n",
    "polyz = c(-3, seq(-3, 3, 0.01), 3)\n",
    "polyy = c(0, dnorm(seq(-3, 3, 0.01)), 0)\n",
    "polygon(polyz, polyy, col=\"gray90\", border=\"NA\")\n",
    "\n",
    "zval = -0.625\n",
    "polyz = c(-3, seq(-3, zval, 0.01), zval)\n",
    "polyy = c(0, dnorm(seq(-3, zval, 0.01)), 0)\n",
    "polygon(polyz, polyy, col=\"lightsteelblue\", border = \"NA\")\n",
    "lines(c(zval, zval), c(0, dnorm(zval)))\n",
    "\n",
    "lines(z, y, type=\"l\", cex = 2)\n",
    "axis(1, pos=0, at=c(-3, zval, 0, 3), labels=c(\"\", zval, 0, \"\"), cex.axis = 2, lwd.ticks = 0)\n",
    "text(3, -0.01, labels = \"z\", cex = 2.5, pos = 4, xpd = TRUE)\n",
    "\n",
    "text(-1.225, 0.05, labels = expression(P(Z < -0.625)), cex = 2, col = \"blue3\", pos = 3)\n",
    "\n",
    "#Arrows(-2.75, 0.05, -2.75, 0.013, lwd = 5, arr.type = \"triangle\", arr.width = 0.3, col = \"blue3\")\n",
    "\n",
    "#lines(c(0, 0), c(0, dnorm(0)), type = \"l\", cex = 2)\n",
    "\n",
    "dev.off()"
   ]
  },
  {
   "cell_type": "markdown",
   "metadata": {
    "tags": []
   },
   "source": [
    "```{figure} stdnormal_ex11.png\n",
    "---\n",
    "width: 100%\n",
    "alt: The area under the standard normal distribution and to the left of z = -0.625 is shaded. The shaded area is labeled P(Z < -0.625).\n",
    "name: stdnormal_ex11\n",
    "---\n",
    "The standard normal distribution with the area equal to $P(Z < -0.625)$ shaded.\n",
    "```"
   ]
  },
  {
   "cell_type": "markdown",
   "metadata": {},
   "source": [
    "Now that we have converted the probability from a non-standard normal distribution to the standard normal distribution, we can use R to find the probability."
   ]
  },
  {
   "cell_type": "code",
   "execution_count": 7,
   "metadata": {},
   "outputs": [
    {
     "data": {
      "text/html": [
       "0.265985529048701"
      ],
      "text/latex": [
       "0.265985529048701"
      ],
      "text/markdown": [
       "0.265985529048701"
      ],
      "text/plain": [
       "[1] 0.2659855"
      ]
     },
     "metadata": {},
     "output_type": "display_data"
    }
   ],
   "source": [
    "pnorm(q = -0.625)"
   ]
  },
  {
   "cell_type": "markdown",
   "metadata": {},
   "source": [
    "Thus, $P(X < 13.5) = P(Z < -0.625) = 0.26599$."
   ]
  },
  {
   "cell_type": "markdown",
   "metadata": {},
   "source": [
    "##### Part 2\n",
    "For this part, we want to find $P(X > 16.1)$. To calculate this probability, we first find the $z$-score of $x = 16.1$:\n",
    "\n",
    "$$ z = \\frac{x - \\mu}{\\sigma} = \\frac{16.1 - 15}{2.4} = 0.45833. $$\n",
    "\n",
    "Thus $P(X > 16.1) = P(Z > 0.45833)$."
   ]
  },
  {
   "cell_type": "code",
   "execution_count": 10,
   "metadata": {
    "tags": [
     "remove-cell"
    ]
   },
   "outputs": [
    {
     "data": {
      "text/html": [
       "<strong>png:</strong> 2"
      ],
      "text/latex": [
       "\\textbf{png:} 2"
      ],
      "text/markdown": [
       "**png:** 2"
      ],
      "text/plain": [
       "png \n",
       "  2 "
      ]
     },
     "metadata": {},
     "output_type": "display_data"
    }
   ],
   "source": [
    "png(\"stdnormal_ex12.png\", width = 1000, height = 500)\n",
    "\n",
    "par(mar = c(2, 0, 0, 0))\n",
    "\n",
    "#library(repr)\n",
    "#options(repr.plot.width = 7, repr.plot.height=4)\n",
    "library(\"shape\")\n",
    "\n",
    "rangebrace = function(x0, x1, y, d, col){\n",
    "    Y = seq(y, y+d, length = 500)\n",
    "    Xl = (x1 - x0)/4 * ( (2/d)^(1/3) * sign(Y - (y + d/2))*abs(Y - (y + d/2))^(1/3) + 1 ) + (x0 + x1)/2\n",
    "    Xr = (x1 - x0)/4 * ( -(2/d)^(1/3) * sign(Y - (y + d/2))*abs(Y - (y + d/2))^(1/3) - 1 ) + (x0 + x1)/2\n",
    "    lines(Xl, Y, lwd = 3, col = col)\n",
    "    lines(Xr, Y, lwd = 3, col = col)\n",
    "    }\n",
    "\n",
    "z = seq(-3, 3, 0.01)\n",
    "y = dnorm(z)\n",
    "plot(z, y, type=\"l\", xlab = \"\", ylab = \"\", axes = FALSE, cex = 2)\n",
    "polyz = c(-3, seq(-3, 3, 0.01), 3)\n",
    "polyy = c(0, dnorm(seq(-3, 3, 0.01)), 0)\n",
    "polygon(polyz, polyy, col=\"gray90\", border=\"NA\")\n",
    "\n",
    "zval = 0.45833\n",
    "polyz = c(zval, seq(zval, 3, 0.01), 3)\n",
    "polyy = c(0, dnorm(seq(zval, 3, 0.01)), 0)\n",
    "polygon(polyz, polyy, col=\"lightsteelblue\", border = \"NA\")\n",
    "lines(c(zval, zval), c(0, dnorm(zval)))\n",
    "\n",
    "lines(z, y, type=\"l\", cex = 2)\n",
    "axis(1, pos=0, at=c(-3, zval, 0, 3), labels=c(\"\", zval, 0, \"\"), cex.axis = 2, lwd.ticks = 0)\n",
    "text(3, -0.01, labels = \"z\", cex = 2.5, pos = 4, xpd = TRUE)\n",
    "\n",
    "text(1.03, 0.1, labels = expression(P(Z > 0.45833)), cex = 2, col = \"blue3\")\n",
    "\n",
    "#lines(c(0, 0), c(0, dnorm(0)), type = \"l\", cex = 2)\n",
    "\n",
    "dev.off()"
   ]
  },
  {
   "cell_type": "markdown",
   "metadata": {},
   "source": [
    "```{figure} stdnormal_ex12.png\n",
    "---\n",
    "width: 100%\n",
    "alt: The area under the standard normal distribution and to the right of z = 0.45833 is shaded. The shaded area is labeled P(Z > 0.45833).\n",
    "name: stdnormal_ex12\n",
    "---\n",
    "The standard normal distribution with the area equal to $P(Z > 0.45833)$ shaded.\n",
    "```"
   ]
  },
  {
   "cell_type": "markdown",
   "metadata": {},
   "source": [
    "Next, we use R to calculate the probability. Recall that the <code>pnorm</code> function only gives the area to the left of the input $z$-value. To find the area to the right of a $z$-value, we start with the total area under the standard normal distribution (which is $1 = 100\\%$), then subtract away the part that we don't want, which is the area left of the $z$-value."
   ]
  },
  {
   "cell_type": "code",
   "execution_count": 11,
   "metadata": {},
   "outputs": [
    {
     "data": {
      "text/html": [
       "0.323357687025688"
      ],
      "text/latex": [
       "0.323357687025688"
      ],
      "text/markdown": [
       "0.323357687025688"
      ],
      "text/plain": [
       "[1] 0.3233577"
      ]
     },
     "metadata": {},
     "output_type": "display_data"
    }
   ],
   "source": [
    "1 - pnorm(q = 0.45833)"
   ]
  },
  {
   "cell_type": "markdown",
   "metadata": {},
   "source": [
    "We find that $P(X > 16.1) = P(Z > 0.45833) = 0.32336$."
   ]
  },
  {
   "cell_type": "markdown",
   "metadata": {},
   "source": [
    "##### Part 3\n",
    "We want to find $P(12.4 < X < 19.5)$. We need to find two $z$-scores: one for $x = 12.4$, and one for $x = 17.5$. The $z$-score of $x = 12.4$ is\n",
    "\n",
    "$$ z = \\frac{x - \\mu}{\\sigma} = \\frac{12.4 - 15}{2.4} = -1.08333. $$\n",
    "\n",
    "The $z$-score of $x = 19.5$ is\n",
    "\n",
    "$$ z = \\frac{x - \\mu}{\\sigma} = \\frac{19.5 - 15}{2.4} = 1.875. $$\n",
    "\n",
    "So $P(12.4 < X < 19.5) = P(-1.08333 < Z < 1.875)$."
   ]
  },
  {
   "cell_type": "code",
   "execution_count": 17,
   "metadata": {
    "tags": [
     "remove-cell"
    ]
   },
   "outputs": [
    {
     "data": {
      "text/html": [
       "<strong>png:</strong> 2"
      ],
      "text/latex": [
       "\\textbf{png:} 2"
      ],
      "text/markdown": [
       "**png:** 2"
      ],
      "text/plain": [
       "png \n",
       "  2 "
      ]
     },
     "metadata": {},
     "output_type": "display_data"
    }
   ],
   "source": [
    "png(\"stdnormal_ex13.png\", width = 1000, height = 500)\n",
    "\n",
    "par(mar = c(2, 0, 0, 0))\n",
    "\n",
    "#library(repr)\n",
    "#options(repr.plot.width = 7, repr.plot.height=4)\n",
    "library(\"shape\")\n",
    "\n",
    "rangebrace = function(x0, x1, y, d, col){\n",
    "    Y = seq(y, y+d, length = 500)\n",
    "    Xl = (x1 - x0)/4 * ( (2/d)^(1/3) * sign(Y - (y + d/2))*abs(Y - (y + d/2))^(1/3) + 1 ) + (x0 + x1)/2\n",
    "    Xr = (x1 - x0)/4 * ( -(2/d)^(1/3) * sign(Y - (y + d/2))*abs(Y - (y + d/2))^(1/3) - 1 ) + (x0 + x1)/2\n",
    "    lines(Xl, Y, lwd = 3, col = col)\n",
    "    lines(Xr, Y, lwd = 3, col = col)\n",
    "    }\n",
    "\n",
    "z = seq(-3, 3, 0.01)\n",
    "y = dnorm(z)\n",
    "plot(z, y, type=\"l\", xlab = \"\", ylab = \"\", axes = FALSE, cex = 2)\n",
    "polyz = c(-3, seq(-3, 3, 0.01), 3)\n",
    "polyy = c(0, dnorm(seq(-3, 3, 0.01)), 0)\n",
    "polygon(polyz, polyy, col=\"gray90\", border=\"NA\")\n",
    "\n",
    "zval1 = -1.08333\n",
    "zval2 = 1.875\n",
    "polyz = c(zval1, seq(zval1, zval2, 0.01), zval2)\n",
    "polyy = c(0, dnorm(seq(zval1, zval2, 0.01)), 0)\n",
    "polygon(polyz, polyy, col=\"lightsteelblue\", border = \"NA\")\n",
    "lines(c(zval1, zval1), c(0, dnorm(zval1)))\n",
    "lines(c(zval2, zval2), c(0, dnorm(zval2)))\n",
    "\n",
    "lines(z, y, type=\"l\", cex = 2)\n",
    "axis(1, pos=0, at=c(-3, zval1, 0, zval2, 3), labels=c(\"\", zval1, 0, zval2, \"\"), cex.axis = 2, lwd.ticks = 0)\n",
    "text(3, -0.01, labels = \"z\", cex = 2.5, pos = 4, xpd = TRUE)\n",
    "\n",
    "text(0.23, 0.1, labels = expression(P(~paste(-1.08333 < Z) < 1.875)), cex = 2, col = \"blue3\")\n",
    "\n",
    "#lines(c(0, 0), c(0, dnorm(0)), type = \"l\", cex = 2)\n",
    "\n",
    "dev.off()"
   ]
  },
  {
   "cell_type": "markdown",
   "metadata": {},
   "source": [
    "```{figure} stdnormal_ex13.png\n",
    "---\n",
    "width: 100%\n",
    "alt: The area under the standard normal distribution between z = -1.08333 and z = 1.875 is shaded. The shaded area is labeled P(-1.08333 < Z < 1.875).\n",
    "name: stdnormal_ex13\n",
    "---\n",
    "The standard normal distribution with the area equal to $P(-1.08333 < Z < 1.875)$ shaded.\n",
    "```"
   ]
  },
  {
   "cell_type": "markdown",
   "metadata": {},
   "source": [
    "Next, we'll use R to calculate the probability. Since we want the probability between two $z$-values, recall that we first calculate all the area to the left of the larger $z$-value, then subtract the excess area to the left of the smaller $z$-value."
   ]
  },
  {
   "cell_type": "code",
   "execution_count": 19,
   "metadata": {},
   "outputs": [
    {
     "data": {
      "text/html": [
       "0.830272651276599"
      ],
      "text/latex": [
       "0.830272651276599"
      ],
      "text/markdown": [
       "0.830272651276599"
      ],
      "text/plain": [
       "[1] 0.8302727"
      ]
     },
     "metadata": {},
     "output_type": "display_data"
    }
   ],
   "source": [
    "pnorm(q = 1.875) - pnorm(q = -1.08333)"
   ]
  },
  {
   "cell_type": "markdown",
   "metadata": {},
   "source": [
    "Thus, $P(12.4 < X < 19.5) = P(-1.08333 < Z < 1.875) = 0.83027$."
   ]
  },
  {
   "cell_type": "markdown",
   "metadata": {},
   "source": [
    "***"
   ]
  },
  {
   "cell_type": "markdown",
   "metadata": {},
   "source": [
    "\n",
    "### Example 4.2.2\n",
    "\n",
    "The heights of adult men in the United States are normally distributed with a mean of 70 inches (5 ft, 10 in) and a standard deviation of 4 inches. If you choose an adult male from the U.S. population at random, what is the probability that:\n",
    "1. he will be shorter than $60$ inches ($5$ ft)?\n",
    "2. he will be taller than $72$ inches ($6$ ft)?\n",
    "3. he will be between $60$ inches and $72$ inches tall?\n",
    "\n",
    "#### Solution\n",
    "The distribution of the heights of adult males is $X \\sim N(70, 4)$. This is a non-standard normal distribution. In each case, to find the probabilities, we will first convert to the standard normal distribution by finding the appropriate $z$-scores."
   ]
  },
  {
   "cell_type": "markdown",
   "metadata": {},
   "source": [
    "##### Part 1\n",
    "We want $P(X < 60)$. To find the $z$-score associated with $x = 60$, we calculate\n",
    "\n",
    "$$ z = \\frac{x - \\mu}{\\sigma} = \\frac{60 - 70}{4} = -2.5. $$\n",
    "\n",
    "So the $z$-score of $x = 60$ is $z = -2.5$. This means $P(X < 60) = P(Z < -2.5)$."
   ]
  },
  {
   "cell_type": "code",
   "execution_count": 15,
   "metadata": {
    "tags": [
     "remove-cell"
    ]
   },
   "outputs": [
    {
     "data": {
      "text/html": [
       "<strong>png:</strong> 2"
      ],
      "text/latex": [
       "\\textbf{png:} 2"
      ],
      "text/markdown": [
       "**png:** 2"
      ],
      "text/plain": [
       "png \n",
       "  2 "
      ]
     },
     "metadata": {},
     "output_type": "display_data"
    }
   ],
   "source": [
    "png(\"stdnormal_ex8.png\", width = 1000, height = 500)\n",
    "\n",
    "par(mar = c(2, 0, 0, 0))\n",
    "\n",
    "#library(repr)\n",
    "#options(repr.plot.width = 7, repr.plot.height=4)\n",
    "library(\"shape\")\n",
    "\n",
    "rangebrace = function(x0, x1, y, d, col){\n",
    "    Y = seq(y, y+d, length = 500)\n",
    "    Xl = (x1 - x0)/4 * ( (2/d)^(1/3) * sign(Y - (y + d/2))*abs(Y - (y + d/2))^(1/3) + 1 ) + (x0 + x1)/2\n",
    "    Xr = (x1 - x0)/4 * ( -(2/d)^(1/3) * sign(Y - (y + d/2))*abs(Y - (y + d/2))^(1/3) - 1 ) + (x0 + x1)/2\n",
    "    lines(Xl, Y, lwd = 3, col = col)\n",
    "    lines(Xr, Y, lwd = 3, col = col)\n",
    "    }\n",
    "\n",
    "z = seq(-3, 3, 0.01)\n",
    "y = dnorm(z)\n",
    "plot(z, y, type=\"l\", xlab = \"\", ylab = \"\", axes = FALSE, cex = 2)\n",
    "polyz = c(-3, seq(-3, 3, 0.01), 3)\n",
    "polyy = c(0, dnorm(seq(-3, 3, 0.01)), 0)\n",
    "polygon(polyz, polyy, col=\"gray90\", border=\"NA\")\n",
    "\n",
    "zval = -2.5\n",
    "polyz = c(-3, seq(-3, zval, 0.01), zval)\n",
    "polyy = c(0, dnorm(seq(-3, zval, 0.01)), 0)\n",
    "polygon(polyz, polyy, col=\"lightsteelblue\", border = \"NA\")\n",
    "lines(c(zval, zval), c(0, dnorm(zval)))\n",
    "\n",
    "lines(z, y, type=\"l\", cex = 2)\n",
    "axis(1, pos=0, at=c(-3, zval, 0, 3), labels=c(\"\", zval, 0, \"\"), cex.axis = 2, lwd.ticks = 0)\n",
    "text(3, -0.01, labels = \"z\", cex = 2.5, pos = 4, xpd = TRUE)\n",
    "\n",
    "text(-2.75, 0.05, labels = expression(P(Z < -2.5)), cex = 2, col = \"blue3\", pos = 3)\n",
    "\n",
    "Arrows(-2.75, 0.05, -2.75, 0.013, lwd = 5, arr.type = \"triangle\", arr.width = 0.3, col = \"blue3\")\n",
    "\n",
    "#lines(c(0, 0), c(0, dnorm(0)), type = \"l\", cex = 2)\n",
    "\n",
    "dev.off()"
   ]
  },
  {
   "cell_type": "markdown",
   "metadata": {},
   "source": [
    "```{figure} stdnormal_ex8.png\n",
    "---\n",
    "width: 100%\n",
    "alt: The area under the standard normal distribution and to the left of z = -2.5 is shaded. The shaded area is labeled P(Z < -2.5).\n",
    "name: stdnormal_ex8\n",
    "---\n",
    "The standard normal distribution with the area equal to $P(Z < -2.5)$ shaded.\n",
    "```"
   ]
  },
  {
   "cell_type": "markdown",
   "metadata": {},
   "source": [
    " Now that we have converted the probability from a non-standard normal distribution to the standard normal distribution, we can use R to find the probability."
   ]
  },
  {
   "cell_type": "code",
   "execution_count": 1,
   "metadata": {},
   "outputs": [
    {
     "data": {
      "text/html": [
       "0.00620966532577613"
      ],
      "text/latex": [
       "0.00620966532577613"
      ],
      "text/markdown": [
       "0.00620966532577613"
      ],
      "text/plain": [
       "[1] 0.006209665"
      ]
     },
     "metadata": {},
     "output_type": "display_data"
    }
   ],
   "source": [
    "pnorm(q = -2.5)"
   ]
  },
  {
   "cell_type": "markdown",
   "metadata": {},
   "source": [
    "Then $P(X < 60) = P(Z < -2.5) = 0.00621$. In other words, there is only a $0.621\\%$ chance that the adult male you randomly choose from the population is less than $5$ feet tall."
   ]
  },
  {
   "cell_type": "markdown",
   "metadata": {
    "tags": []
   },
   "source": [
    "##### Part 2\n",
    "We want $P(X > 72)$. To find the $z$-score associated with $x = 72$, we calculate\n",
    "\n",
    "$$ z = \\frac{x - \\mu}{\\sigma} = \\frac{72 - 70}{4} = 0.5. $$\n",
    "\n",
    "So the $z$-score of $x = 72$ is $z = 0.5$. This means $P(X > 72) = P(Z > 0.5)$."
   ]
  },
  {
   "cell_type": "code",
   "execution_count": 20,
   "metadata": {
    "tags": [
     "remove-cell"
    ]
   },
   "outputs": [
    {
     "data": {
      "text/html": [
       "<strong>png:</strong> 2"
      ],
      "text/latex": [
       "\\textbf{png:} 2"
      ],
      "text/markdown": [
       "**png:** 2"
      ],
      "text/plain": [
       "png \n",
       "  2 "
      ]
     },
     "metadata": {},
     "output_type": "display_data"
    }
   ],
   "source": [
    "png(\"stdnormal_ex9.png\", width = 1000, height = 500)\n",
    "\n",
    "par(mar = c(2, 0, 0, 0))\n",
    "\n",
    "#library(repr)\n",
    "#options(repr.plot.width = 7, repr.plot.height=4)\n",
    "library(\"shape\")\n",
    "\n",
    "rangebrace = function(x0, x1, y, d, col){\n",
    "    Y = seq(y, y+d, length = 500)\n",
    "    Xl = (x1 - x0)/4 * ( (2/d)^(1/3) * sign(Y - (y + d/2))*abs(Y - (y + d/2))^(1/3) + 1 ) + (x0 + x1)/2\n",
    "    Xr = (x1 - x0)/4 * ( -(2/d)^(1/3) * sign(Y - (y + d/2))*abs(Y - (y + d/2))^(1/3) - 1 ) + (x0 + x1)/2\n",
    "    lines(Xl, Y, lwd = 3, col = col)\n",
    "    lines(Xr, Y, lwd = 3, col = col)\n",
    "    }\n",
    "\n",
    "z = seq(-3, 3, 0.01)\n",
    "y = dnorm(z)\n",
    "plot(z, y, type=\"l\", xlab = \"\", ylab = \"\", axes = FALSE, cex = 2)\n",
    "polyz = c(-3, seq(-3, 3, 0.01), 3)\n",
    "polyy = c(0, dnorm(seq(-3, 3, 0.01)), 0)\n",
    "polygon(polyz, polyy, col=\"gray90\", border=\"NA\")\n",
    "\n",
    "zval = 0.5\n",
    "polyz = c(zval, seq(zval, 3, 0.01), 3)\n",
    "polyy = c(0, dnorm(seq(zval, 3, 0.01)), 0)\n",
    "polygon(polyz, polyy, col=\"lightsteelblue\", border = \"NA\")\n",
    "lines(c(zval, zval), c(0, dnorm(zval)))\n",
    "\n",
    "lines(z, y, type=\"l\", cex = 2)\n",
    "axis(1, pos=0, at=c(-3, zval, 0, 3), labels=c(\"\", zval, 0, \"\"), cex.axis = 2, lwd.ticks = 0)\n",
    "text(3, -0.01, labels = \"z\", cex = 2.5, pos = 4, xpd = TRUE)\n",
    "\n",
    "text(1.05, 0.1, labels = expression(P(Z > 0.5)), cex = 2, col = \"blue3\")\n",
    "\n",
    "#lines(c(0, 0), c(0, dnorm(0)), type = \"l\", cex = 2)\n",
    "\n",
    "dev.off()"
   ]
  },
  {
   "cell_type": "markdown",
   "metadata": {},
   "source": [
    "```{figure} stdnormal_ex9.png\n",
    "---\n",
    "width: 100%\n",
    "alt: The area under the standard normal distribution and to the right of z = 0.5 is shaded. The shaded area is labeled P(Z > 0.5).\n",
    "name: stdnormal_ex9\n",
    "---\n",
    "The standard normal distribution with the area equal to $P(Z > 0.5)$ shaded.\n",
    "```"
   ]
  },
  {
   "cell_type": "markdown",
   "metadata": {},
   "source": [
    " Now that we have converted the probability from a non-standard normal distribution to the standard normal distribution, we can use R to find the probability."
   ]
  },
  {
   "cell_type": "code",
   "execution_count": 2,
   "metadata": {},
   "outputs": [
    {
     "data": {
      "text/html": [
       "0.308537538725987"
      ],
      "text/latex": [
       "0.308537538725987"
      ],
      "text/markdown": [
       "0.308537538725987"
      ],
      "text/plain": [
       "[1] 0.3085375"
      ]
     },
     "metadata": {},
     "output_type": "display_data"
    }
   ],
   "source": [
    "1 - pnorm(q = 0.5)"
   ]
  },
  {
   "cell_type": "markdown",
   "metadata": {},
   "source": [
    "So $P(x > 72) = P(z > 0.5) = 0.30854$. In other words, there is a $30.854\\%$ chance that the adult male you randomly choose from the population is more than $6$ feet tall."
   ]
  },
  {
   "cell_type": "markdown",
   "metadata": {
    "tags": []
   },
   "source": [
    "##### Part 3\n",
    "We want $P(60 < X < 72)$. We need a $z$-score for both $x = 60$ and $x = 72$. Fortunately, we've already done the hard work. We already found the $z$-score of $x = 60$ is $z = -2.5$ in part 1, and we found the $z$-score of $x = 72$ is $z = 0.5$ in part 2. This means that\n",
    "\n",
    "$$ P(60 < X < 72) = P(-2.5 < Z < 0.5). $$"
   ]
  },
  {
   "cell_type": "code",
   "execution_count": 28,
   "metadata": {
    "tags": [
     "remove-cell"
    ]
   },
   "outputs": [
    {
     "data": {
      "text/html": [
       "<strong>png:</strong> 2"
      ],
      "text/latex": [
       "\\textbf{png:} 2"
      ],
      "text/markdown": [
       "**png:** 2"
      ],
      "text/plain": [
       "png \n",
       "  2 "
      ]
     },
     "metadata": {},
     "output_type": "display_data"
    }
   ],
   "source": [
    "png(\"stdnormal_ex10.png\", width = 1000, height = 500)\n",
    "\n",
    "par(mar = c(2, 0, 0, 0))\n",
    "\n",
    "#library(repr)\n",
    "#options(repr.plot.width = 7, repr.plot.height=4)\n",
    "library(\"shape\")\n",
    "\n",
    "rangebrace = function(x0, x1, y, d, col){\n",
    "    Y = seq(y, y+d, length = 500)\n",
    "    Xl = (x1 - x0)/4 * ( (2/d)^(1/3) * sign(Y - (y + d/2))*abs(Y - (y + d/2))^(1/3) + 1 ) + (x0 + x1)/2\n",
    "    Xr = (x1 - x0)/4 * ( -(2/d)^(1/3) * sign(Y - (y + d/2))*abs(Y - (y + d/2))^(1/3) - 1 ) + (x0 + x1)/2\n",
    "    lines(Xl, Y, lwd = 3, col = col)\n",
    "    lines(Xr, Y, lwd = 3, col = col)\n",
    "    }\n",
    "\n",
    "z = seq(-3, 3, 0.01)\n",
    "y = dnorm(z)\n",
    "plot(z, y, type=\"l\", xlab = \"\", ylab = \"\", axes = FALSE, cex = 2)\n",
    "polyz = c(-3, seq(-3, 3, 0.01), 3)\n",
    "polyy = c(0, dnorm(seq(-3, 3, 0.01)), 0)\n",
    "polygon(polyz, polyy, col=\"gray90\", border=\"NA\")\n",
    "\n",
    "zval1 = -2.5\n",
    "zval2 = 0.5\n",
    "polyz = c(zval1, seq(zval1, zval2, 0.01), zval2)\n",
    "polyy = c(0, dnorm(seq(zval1, zval2, 0.01)), 0)\n",
    "polygon(polyz, polyy, col=\"lightsteelblue\", border = \"NA\")\n",
    "lines(c(zval1, zval1), c(0, dnorm(zval1)))\n",
    "lines(c(zval2, zval2), c(0, dnorm(zval2)))\n",
    "\n",
    "lines(z, y, type=\"l\", cex = 2)\n",
    "axis(1, pos=0, at=c(-3, zval1, 0, zval2, 3), labels=c(\"\", zval1, 0, zval2, \"\"), cex.axis = 2, lwd.ticks = 0)\n",
    "text(3, -0.01, labels = \"z\", cex = 2.5, pos = 4, xpd = TRUE)\n",
    "\n",
    "text(-0.55, 0.1, labels = expression(P(~paste(-2.5 < Z) < 0.5)), cex = 2, col = \"blue3\")\n",
    "\n",
    "#lines(c(0, 0), c(0, dnorm(0)), type = \"l\", cex = 2)\n",
    "\n",
    "dev.off()"
   ]
  },
  {
   "cell_type": "markdown",
   "metadata": {},
   "source": [
    "```{figure} stdnormal_ex10.png\n",
    "---\n",
    "width: 100%\n",
    "alt: The area under the standard normal distribution between z = -2.5 and z = 0.5 is shaded. The shaded area is labeled P(-2.5 < Z < 0.5).\n",
    "name: stdnormal_ex10\n",
    "---\n",
    "The standard normal distribution with the area equal to $P(-2.5 < Z < 0.5)$ shaded.\n",
    "```"
   ]
  },
  {
   "cell_type": "markdown",
   "metadata": {},
   "source": [
    "Now that we have converted the probability from a non-standard normal distribution to the standard normal distribution, we can use R to find the probability."
   ]
  },
  {
   "cell_type": "code",
   "execution_count": 3,
   "metadata": {},
   "outputs": [
    {
     "data": {
      "text/html": [
       "0.685252795948237"
      ],
      "text/latex": [
       "0.685252795948237"
      ],
      "text/markdown": [
       "0.685252795948237"
      ],
      "text/plain": [
       "[1] 0.6852528"
      ]
     },
     "metadata": {},
     "output_type": "display_data"
    }
   ],
   "source": [
    "pnorm(q = 0.5) - pnorm(q = -2.5)"
   ]
  },
  {
   "cell_type": "markdown",
   "metadata": {},
   "source": [
    "So $P(60 < X < 72) = P(-2.5 < Z < 0.5) = 0.68525$. That is, there is a $68.525\\%$ chance that the adult male you choose is between $5$ feet and $6$ feet tall."
   ]
  },
  {
   "cell_type": "markdown",
   "metadata": {},
   "source": [
    "***"
   ]
  },
  {
   "cell_type": "markdown",
   "metadata": {},
   "source": [
    "## Finding an $x$-value Given Probability by Computing the $z$-score\n",
    "In the above examples, we saw how to find a probability involving a non-standard normal distribution. Next, we will learn how to do the inverse: given a probability, we want to find a corresponding $x$-value in a non-standard normal distribution. For example, we might want to find $x$ so that $P(X < x)$ is equal to a certain probability.\n",
    "\n",
    "To do so, we first use the <code>qnorm</code> function (which is the inverse of the <code>pnorm</code> function) to find the $z$-score associated with our initial probability. Once we have the $z$-score, we use the formula\n",
    "\n",
    "$$ x = \\mu + z\\sigma $$\n",
    "\n",
    "to calculate the $x$-value we are looking for."
   ]
  },
  {
   "cell_type": "code",
   "execution_count": 16,
   "metadata": {
    "tags": [
     "remove-cell"
    ]
   },
   "outputs": [
    {
     "data": {
      "text/html": [
       "<strong>png:</strong> 2"
      ],
      "text/latex": [
       "\\textbf{png:} 2"
      ],
      "text/markdown": [
       "**png:** 2"
      ],
      "text/plain": [
       "png \n",
       "  2 "
      ]
     },
     "metadata": {},
     "output_type": "display_data"
    }
   ],
   "source": [
    "png(\"pnorm_qnorm_zscore.png\", width = 1000, height = 350)\n",
    "\n",
    "library(\"shape\")\n",
    "\n",
    "par(mar = c(0, 0, 0, 0))\n",
    "\n",
    "a = 2\n",
    "b = 1\n",
    "\n",
    "top_theta = seq(1.5*pi/12, 10.5/12*pi, 0.01)\n",
    "x1 = a*cos(top_theta) - a\n",
    "x2 = a*cos(top_theta) + a\n",
    "y = b*sin(top_theta)\n",
    "\n",
    "plot(x1, y, type=\"l\", xlab=\"\", ylab=\"\", axes=FALSE, col=\"blue3\", lwd = 5, xlim=c(-2*a-0.35, 2*a+0.55), ylim=c(-b-0.35, b+0.55))\n",
    "Arrows(x1[2], y[2], x1[1], y[1], lwd = 5, arr.type = \"triangle\", arr.width = 0.3, col = \"blue3\")\n",
    "lines(x2, y, col=\"blue3\", lwd=5)\n",
    "Arrows(x2[2], y[2], x2[1], y[1], lwd = 5, arr.type = \"triangle\", arr.width = 0.3, col = \"blue3\")\n",
    "\n",
    "bot_theta = seq(-10.5/12*pi, -1.5*pi/12, 0.01)\n",
    "x1 = a*cos(bot_theta) - a\n",
    "x2 = a*cos(bot_theta) + a\n",
    "y = b*sin(bot_theta)\n",
    "\n",
    "lines(x1, y, col=\"red3\", lwd = 5)\n",
    "Arrows(x1[2], y[2], x1[1], y[1], lwd = 5, arr.type = \"triangle\", arr.width = 0.3, col = \"red3\")\n",
    "lines(x2, y, col=\"red3\", lwd = 5)\n",
    "Arrows(x2[2], y[2], x2[1], y[1], lwd = 5, arr.type = \"triangle\", arr.width = 0.3, col = \"red3\")\n",
    "\n",
    "text(-2*a, 0.15, labels=expression(x), cex=2.5)\n",
    "text(-2*a, -0.15, labels=expression(N(mu, sigma)), cex=1.5)\n",
    "text(0, 0.15, labels=expression(z), cex=2.5)\n",
    "text(0, -0.15, labels=expression(N(0, 1)), cex=1.5)\n",
    "text(2*a, 0, labels=\"Probability\", cex=2.5)\n",
    "\n",
    "text(-a, b, labels=expression(z == frac(x-mu,sigma)), cex=2.5, col=\"blue3\", pos=3)\n",
    "text(a, b, labels=\"pnorm(q)\", cex=2.5, col=\"blue3\", pos=3)\n",
    "\n",
    "text(-a, -b, labels=expression(x == mu + z*sigma), cex=2.5, col=\"red3\", pos=1)\n",
    "text(a, -b, labels=\"qnorm(p)\", cex=2.5, col=\"red3\", pos=1)\n",
    "\n",
    "dev.off()"
   ]
  },
  {
   "cell_type": "markdown",
   "metadata": {},
   "source": [
    "```{figure} pnorm_qnorm_zscore.png\n",
    "---\n",
    "width: 100%\n",
    "alt: At the top of the image, an arrow labeled z = (x - mu)/sigma points from \"x\" to \"z\", then another arrow labeled pnorm(q) points from \"z\" to \"Probability\". At the bottom of the image, an arrow labeled qnorm(p) points from \"probability\" to \"z\", then another arrow labeled x = mu + z*sigma points from \"z\" to \"x\".\n",
    "name: pnorm_qnorm_zscore\n",
    "---\n",
    "The approach we take to solve a problem involving a non-standard normal distribution depends on whether we know an $x$-value and want to find an associated probability, or we know a probability and want to find an associated $x$-value. But in either case, we must find a $z$-score as an intermediary step.\n",
    "```"
   ]
  },
  {
   "cell_type": "markdown",
   "metadata": {},
   "source": [
    "***"
   ]
  },
  {
   "cell_type": "markdown",
   "metadata": {},
   "source": [
    "### Example 4.2.3\n",
    "Let $X \\sim N(5, 0.6)$.\n",
    "\n",
    "1. Find $a$ so that $P(X < a) = 0.75$.\n",
    "2. Find $b$ so that $P(X > b) = 0.9$.\n",
    "\n",
    "#### Solution\n",
    "First, observe that the random variable $X$ is normally distributed with mean $\\mu = 5$ and standard deviation $\\sigma = 0.6$.\n",
    "\n",
    "##### Part 1\n"
   ]
  },
  {
   "cell_type": "code",
   "execution_count": 35,
   "metadata": {
    "tags": [
     "remove-cell"
    ]
   },
   "outputs": [
    {
     "data": {
      "text/html": [
       "<strong>png:</strong> 2"
      ],
      "text/latex": [
       "\\textbf{png:} 2"
      ],
      "text/markdown": [
       "**png:** 2"
      ],
      "text/plain": [
       "png \n",
       "  2 "
      ]
     },
     "metadata": {},
     "output_type": "display_data"
    }
   ],
   "source": [
    "S = 0.6\n",
    "png(\"normal_ex6.png\", width = 1000, height = 500*dnorm(0, sd = S)/dnorm(0))\n",
    "\n",
    "par(mar = c(2, 0, 0, 0))\n",
    "\n",
    "#library(repr)\n",
    "#options(repr.plot.width = 7, repr.plot.height=4)\n",
    "\n",
    "rangebrace = function(x0, x1, y, d, col){\n",
    "    Y = seq(y, y+d, length = 500)\n",
    "    Xl = (x1 - x0)/4 * ( (2/d)^(1/3) * sign(Y - (y + d/2))*abs(Y - (y + d/2))^(1/3) + 1 ) + (x0 + x1)/2\n",
    "    Xr = (x1 - x0)/4 * ( -(2/d)^(1/3) * sign(Y - (y + d/2))*abs(Y - (y + d/2))^(1/3) - 1 ) + (x0 + x1)/2\n",
    "    lines(Xl, Y, lwd = 3, col = col)\n",
    "    lines(Xr, Y, lwd = 3, col = col)\n",
    "    }\n",
    "\n",
    "z = seq(-3, 3, 0.01)\n",
    "y = dnorm(z, sd = S)\n",
    "plot(z, y, type=\"l\", xlab = \"\", ylab = \"\", ylim = c(0, dnorm(0, sd = S)), axes = FALSE, cex = 2)\n",
    "polyz = c(-3, seq(-3, 3, 0.01), 3)\n",
    "polyy = c(0, dnorm(seq(-3, 3, 0.01), sd = S), 0)\n",
    "polygon(polyz, polyy, col=\"gray90\", border=\"NA\")\n",
    "\n",
    "zval = qnorm(0.75, sd = S)\n",
    "polyz = c(-3, seq(-3, zval, 0.001), zval)\n",
    "polyy = c(0, dnorm(seq(-3, zval, 0.001), sd = S), 0)\n",
    "polygon(polyz, polyy, col=\"lightsteelblue\", border = \"NA\")\n",
    "lines(c(zval, zval), c(0, dnorm(zval, sd = S)))\n",
    "\n",
    "lines(z, y, type=\"l\", cex = 2)\n",
    "axis(1, pos=0, at=c(-3, zval, 0, 3), labels=c(\"\", expression(a), 5, \"\"), cex.axis = 2, lwd.ticks = 0)\n",
    "text(3, -0.01, labels = \"x\", cex = 2.5, pos = 4, xpd = TRUE)\n",
    "\n",
    "text(-0.37, 0.1, labels = expression(P(X < a) == 0.75), cex = 2, col = \"blue3\")\n",
    "\n",
    "#lines(c(0, 0), c(0, dnorm(0)), type = \"l\", cex = 2)\n",
    "\n",
    "dev.off()"
   ]
  },
  {
   "cell_type": "markdown",
   "metadata": {},
   "source": [
    "```{figure} normal_ex6.png\n",
    "---\n",
    "width: 100%\n",
    "alt: A normal distribution with mean 5 is shown. The area under the curve to the left of an unknown value a is shaded, and the shaded region is labeled P(X < a) = 0.75.\n",
    "name: normal_ex6\n",
    "---\n",
    "The distribution $N(5, 0.6)$ is shown. We want to find the value $a$ so that $P(X < a) = 0.75$.\n",
    "```"
   ]
  },
  {
   "cell_type": "markdown",
   "metadata": {},
   "source": [
    "We want to find $a$ so that $P(X < a) = 0.75$. Note that we are given a probability ($0.75$), and we want to find a particular $x$-value in the distribution ($x = a$). To do this, we first need to use the <code>qnorm</code> function to find the $z$-score associated with the probability:"
   ]
  },
  {
   "cell_type": "code",
   "execution_count": 36,
   "metadata": {},
   "outputs": [
    {
     "data": {
      "text/html": [
       "0.674489750196082"
      ],
      "text/latex": [
       "0.674489750196082"
      ],
      "text/markdown": [
       "0.674489750196082"
      ],
      "text/plain": [
       "[1] 0.6744898"
      ]
     },
     "metadata": {},
     "output_type": "display_data"
    }
   ],
   "source": [
    "qnorm(p = 0.75)"
   ]
  },
  {
   "cell_type": "markdown",
   "metadata": {},
   "source": [
    "So the $z$-score is $z = 0.67449$, meaning $P(Z < 0.67449) = 0.7$.\n",
    "\n",
    "Now that we have the $z$-score, we can calculate the value of $x = a$:\n",
    "\n",
    "$$ a = \\mu + z\\sigma = 5 + 0.67449(0.6) = 5.40469. $$\n",
    "\n",
    "Thus, $P(X < 5.40469) = 0.75$."
   ]
  },
  {
   "cell_type": "markdown",
   "metadata": {},
   "source": [
    "##### Part 2"
   ]
  },
  {
   "cell_type": "code",
   "execution_count": 43,
   "metadata": {
    "tags": [
     "remove-cell"
    ]
   },
   "outputs": [
    {
     "data": {
      "text/html": [
       "<strong>png:</strong> 2"
      ],
      "text/latex": [
       "\\textbf{png:} 2"
      ],
      "text/markdown": [
       "**png:** 2"
      ],
      "text/plain": [
       "png \n",
       "  2 "
      ]
     },
     "metadata": {},
     "output_type": "display_data"
    }
   ],
   "source": [
    "S = 0.6\n",
    "png(\"normal_ex7.png\", width = 1000, height = 500*dnorm(0, sd = S)/dnorm(0))\n",
    "\n",
    "par(mar = c(2, 0, 0, 0))\n",
    "\n",
    "#library(repr)\n",
    "#options(repr.plot.width = 7, repr.plot.height=4)\n",
    "\n",
    "rangebrace = function(x0, x1, y, d, col){\n",
    "    Y = seq(y, y+d, length = 500)\n",
    "    Xl = (x1 - x0)/4 * ( (2/d)^(1/3) * sign(Y - (y + d/2))*abs(Y - (y + d/2))^(1/3) + 1 ) + (x0 + x1)/2\n",
    "    Xr = (x1 - x0)/4 * ( -(2/d)^(1/3) * sign(Y - (y + d/2))*abs(Y - (y + d/2))^(1/3) - 1 ) + (x0 + x1)/2\n",
    "    lines(Xl, Y, lwd = 3, col = col)\n",
    "    lines(Xr, Y, lwd = 3, col = col)\n",
    "    }\n",
    "\n",
    "z = seq(-3, 3, 0.01)\n",
    "y = dnorm(z, sd = S)\n",
    "plot(z, y, type=\"l\", xlab = \"\", ylab = \"\", ylim = c(0, dnorm(0, sd = S)), axes = FALSE, cex = 2)\n",
    "polyz = c(-3, seq(-3, 3, 0.01), 3)\n",
    "polyy = c(0, dnorm(seq(-3, 3, 0.01), sd = S), 0)\n",
    "polygon(polyz, polyy, col=\"gray90\", border=\"NA\")\n",
    "\n",
    "zval = qnorm(1 - 0.9, sd = S)\n",
    "polyz = c(zval, seq(zval, 3, 0.001),3)\n",
    "polyy = c(0, dnorm(seq(zval, 3, 0.001), sd = S), 0)\n",
    "polygon(polyz, polyy, col=\"lightsteelblue\", border = \"NA\")\n",
    "lines(c(zval, zval), c(0, dnorm(zval, sd = S)))\n",
    "\n",
    "lines(z, y, type=\"l\", cex = 2)\n",
    "axis(1, pos=0, at=c(-3, zval, 0, 3), labels=c(\"\", expression(b), 5, \"\"), cex.axis = 2, lwd.ticks = 0)\n",
    "text(3, -0.01, labels = \"x\", cex = 2.5, pos = 4, xpd = TRUE)\n",
    "\n",
    "text(0.18, 0.1, labels = expression(P(X > b) == 0.9), cex = 2, col = \"blue3\")\n",
    "\n",
    "#lines(c(0, 0), c(0, dnorm(0)), type = \"l\", cex = 2)\n",
    "\n",
    "dev.off()"
   ]
  },
  {
   "cell_type": "markdown",
   "metadata": {},
   "source": [
    "```{figure} normal_ex7.png\n",
    "---\n",
    "width: 100%\n",
    "alt: A normal distribution with mean 5 is shown. The area under the curve to the right of an unknown value b is shaded, and the shaded region is labeled P(X > b) = 0.9.\n",
    "name: normal_ex7\n",
    "---\n",
    "The distribution $N(5, 0.6)$ is shown. We want to find the value of $b$ so that $P(X > b) = 0.9$.\n",
    "```"
   ]
  },
  {
   "cell_type": "markdown",
   "metadata": {},
   "source": [
    "We want to find the value of $b$ so that $P(X > b) = 0.9$. Again, we are given a probability ($0.9$), and we need to find an $x$-value associated with that probability ($x = b$).\n",
    "\n",
    "We will begin by using the <code>qnorm</code> function to find the $z$-value associated with the probability $0.9$. However, recall that the <code>qnorm</code> function assumes that the input represents a *left*-tailed probability. The probability of $0.9$ in this example is a *right*-tailed probability. To use the <code>qnorm</code> function, we first observe that since the probability to the right of $b$ is $P(X > b) = 0.9$, the probability to the left of $b$ is $P(X < b) = 1 - P(X > b) = 1 - 0.9$. With this observation, we are able to calculate the $z$-score:"
   ]
  },
  {
   "cell_type": "code",
   "execution_count": 44,
   "metadata": {},
   "outputs": [
    {
     "data": {
      "text/html": [
       "-1.2815515655446"
      ],
      "text/latex": [
       "-1.2815515655446"
      ],
      "text/markdown": [
       "-1.2815515655446"
      ],
      "text/plain": [
       "[1] -1.281552"
      ]
     },
     "metadata": {},
     "output_type": "display_data"
    }
   ],
   "source": [
    "qnorm(p = 1 - 0.9)"
   ]
  },
  {
   "cell_type": "markdown",
   "metadata": {},
   "source": [
    "We get $z = -1.28155$.\n",
    "\n",
    "Now that we have the $z$-score, we can calculate the value of $x = b$:\n",
    "\n",
    "$$ b = \\mu + z\\sigma = 5 + -1.28155(0.6) = 4.23107. $$\n",
    "\n",
    "Thus, $P(X > 4.23107) = 0.9$."
   ]
  },
  {
   "cell_type": "markdown",
   "metadata": {},
   "source": [
    "***"
   ]
  },
  {
   "cell_type": "markdown",
   "metadata": {},
   "source": [
    "### Example 4.2.4\n",
    "Scores on a calculus test are normally distributed with a mean score of $73$ and a standard deviation of $9$.\n",
    "1. Find the $80$th percentile.\n",
    "2. The highest $32\\%$ of scores are higher than which score?\n",
    "\n",
    "#### Solution\n",
    "##### Part 1"
   ]
  },
  {
   "cell_type": "code",
   "execution_count": 1,
   "metadata": {
    "tags": [
     "remove-cell"
    ]
   },
   "outputs": [
    {
     "data": {
      "text/html": [
       "<strong>png:</strong> 2"
      ],
      "text/latex": [
       "\\textbf{png:} 2"
      ],
      "text/markdown": [
       "**png:** 2"
      ],
      "text/plain": [
       "png \n",
       "  2 "
      ]
     },
     "metadata": {},
     "output_type": "display_data"
    }
   ],
   "source": [
    "S = 1.5\n",
    "png(\"normal_ex4.png\", width = 1000, height = 500*dnorm(0, sd = S)/dnorm(0))\n",
    "\n",
    "par(mar = c(2, 0, 0, 0))\n",
    "\n",
    "#library(repr)\n",
    "#options(repr.plot.width = 7, repr.plot.height=4)\n",
    "\n",
    "rangebrace = function(x0, x1, y, d, col){\n",
    "    Y = seq(y, y+d, length = 500)\n",
    "    Xl = (x1 - x0)/4 * ( (2/d)^(1/3) * sign(Y - (y + d/2))*abs(Y - (y + d/2))^(1/3) + 1 ) + (x0 + x1)/2\n",
    "    Xr = (x1 - x0)/4 * ( -(2/d)^(1/3) * sign(Y - (y + d/2))*abs(Y - (y + d/2))^(1/3) - 1 ) + (x0 + x1)/2\n",
    "    lines(Xl, Y, lwd = 3, col = col)\n",
    "    lines(Xr, Y, lwd = 3, col = col)\n",
    "    }\n",
    "\n",
    "z = seq(-3, 3, 0.01)\n",
    "y = dnorm(z, sd = S)\n",
    "plot(z, y, type=\"l\", xlab = \"\", ylab = \"\", ylim = c(0, dnorm(0, sd = S)), axes = FALSE, cex = 2)\n",
    "polyz = c(-3, seq(-3, 3, 0.01), 3)\n",
    "polyy = c(0, dnorm(seq(-3, 3, 0.01), sd = S), 0)\n",
    "polygon(polyz, polyy, col=\"gray90\", border=\"NA\")\n",
    "\n",
    "zval = qnorm(0.85, sd = S)\n",
    "polyz = c(-3, seq(-3, zval, 0.001), zval)\n",
    "polyy = c(0, dnorm(seq(-3, zval, 0.001), sd = S), 0)\n",
    "polygon(polyz, polyy, col=\"lightsteelblue\", border = \"NA\")\n",
    "lines(c(zval, zval), c(0, dnorm(zval, sd = S)))\n",
    "\n",
    "lines(z, y, type=\"l\", cex = 2)\n",
    "axis(1, pos=0, at=c(-3, zval, 0, 3), labels=c(\"\", expression(x), 73, \"\"), cex.axis = 2, lwd.ticks = 0)\n",
    "text(3, -0.01, labels = \"x\", cex = 2.5, pos = 4, xpd = TRUE)\n",
    "\n",
    "text(-0.3, 0.1, labels = expression(P(X < x) == 0.85), cex = 2, col = \"blue3\")\n",
    "\n",
    "#lines(c(0, 0), c(0, dnorm(0)), type = \"l\", cex = 2)\n",
    "\n",
    "dev.off()"
   ]
  },
  {
   "cell_type": "markdown",
   "metadata": {},
   "source": [
    "```{figure} normal_ex4.png\n",
    "---\n",
    "width: 100%\n",
    "alt: A normal distribution with mean 73 is shown. The area under the curve to the left of an unknown value x is shaded, and the shaded region is labeled P(X < x) = 0.85.\n",
    "name: normal_ex4\n",
    "---\n",
    "The distribution $N(73, 9)$ is shown. We want to find the $x$-value that is the $85$th percentile.\n",
    "```"
   ]
  },
  {
   "cell_type": "markdown",
   "metadata": {},
   "source": [
    "In this example, the $85$th percentile is the test score that is larger than $85\\%$ of all test scores. Note that we are given a probability ($85\\% = 0.85$), and we need to find a particular $x$-value (the test score that is the $85$th percentile). We will first use the <code>qnorm</code> function to find the $z$-score associated with the given probability."
   ]
  },
  {
   "cell_type": "code",
   "execution_count": 63,
   "metadata": {},
   "outputs": [
    {
     "data": {
      "text/html": [
       "1.03643338949379"
      ],
      "text/latex": [
       "1.03643338949379"
      ],
      "text/markdown": [
       "1.03643338949379"
      ],
      "text/plain": [
       "[1] 1.036433"
      ]
     },
     "metadata": {},
     "output_type": "display_data"
    }
   ],
   "source": [
    "qnorm(p = 0.85)"
   ]
  },
  {
   "cell_type": "markdown",
   "metadata": {},
   "source": [
    "We get $z = 1.03643$. This $z$-score is the $85$th percentile of the *standard* normal distribution. To find the $x$-value that is the $85$th percentile of test scores, we calculate\n",
    "\n",
    "$$ x = \\mu + z\\sigma = 73 + 1.03643(9) = 82.32790. $$\n",
    "\n",
    "So a test score of $x = 82.32790$ is greater than $85\\%$ of scores on the calculus test.\n",
    "\n",
    "##### Part 2"
   ]
  },
  {
   "cell_type": "code",
   "execution_count": 2,
   "metadata": {
    "tags": [
     "remove-cell"
    ]
   },
   "outputs": [
    {
     "data": {
      "text/html": [
       "<strong>png:</strong> 2"
      ],
      "text/latex": [
       "\\textbf{png:} 2"
      ],
      "text/markdown": [
       "**png:** 2"
      ],
      "text/plain": [
       "png \n",
       "  2 "
      ]
     },
     "metadata": {},
     "output_type": "display_data"
    }
   ],
   "source": [
    "S = 1.5\n",
    "png(\"normal_ex5.png\", width = 1000, height = 500*dnorm(0, sd = S)/dnorm(0))\n",
    "\n",
    "par(mar = c(2, 0, 0, 0))\n",
    "\n",
    "#library(repr)\n",
    "#options(repr.plot.width = 7, repr.plot.height=4)\n",
    "\n",
    "rangebrace = function(x0, x1, y, d, col){\n",
    "    Y = seq(y, y+d, length = 500)\n",
    "    Xl = (x1 - x0)/4 * ( (2/d)^(1/3) * sign(Y - (y + d/2))*abs(Y - (y + d/2))^(1/3) + 1 ) + (x0 + x1)/2\n",
    "    Xr = (x1 - x0)/4 * ( -(2/d)^(1/3) * sign(Y - (y + d/2))*abs(Y - (y + d/2))^(1/3) - 1 ) + (x0 + x1)/2\n",
    "    lines(Xl, Y, lwd = 3, col = col)\n",
    "    lines(Xr, Y, lwd = 3, col = col)\n",
    "    }\n",
    "\n",
    "z = seq(-3, 3, 0.01)\n",
    "y = dnorm(z, sd = S)\n",
    "plot(z, y, type=\"l\", xlab = \"\", ylab = \"\", ylim = c(0, dnorm(0, sd = S)), axes = FALSE, cex = 2)\n",
    "polyz = c(-3, seq(-3, 3, 0.01), 3)\n",
    "polyy = c(0, dnorm(seq(-3, 3, 0.01), sd = S), 0)\n",
    "polygon(polyz, polyy, col=\"gray90\", border=\"NA\")\n",
    "\n",
    "zval = qnorm(1 - 0.32, sd = S)\n",
    "polyz = c(zval, seq(zval, 3, 0.001),3)\n",
    "polyy = c(0, dnorm(seq(zval, 3, 0.001), sd = S), 0)\n",
    "polygon(polyz, polyy, col=\"lightsteelblue\", border = \"NA\")\n",
    "lines(c(zval, zval), c(0, dnorm(zval, sd = S)))\n",
    "\n",
    "lines(z, y, type=\"l\", cex = 2)\n",
    "axis(1, pos=0, at=c(-3, zval, 0, 3), labels=c(\"\", expression(x), 73, \"\"), cex.axis = 2, lwd.ticks = 0)\n",
    "text(3, -0.01, labels = \"x\", cex = 2.5, pos = 4, xpd = TRUE)\n",
    "\n",
    "text(1.35, 0.1, labels = expression(P(X > x) == 0.32), cex = 2, col = \"blue3\")\n",
    "\n",
    "#lines(c(0, 0), c(0, dnorm(0)), type = \"l\", cex = 2)\n",
    "\n",
    "dev.off()"
   ]
  },
  {
   "cell_type": "markdown",
   "metadata": {},
   "source": [
    "```{figure} normal_ex5.png\n",
    "---\n",
    "width: 100%\n",
    "alt: A normal distribution with mean 73 is shown. The area under the curve to the right of an unknown value x is shaded, and the shaded region is labeled P(X > x) = 0.36.\n",
    "name: normal_ex5\n",
    "---\n",
    "The distribution $N(73, 9)$ is shown. We want to find the $x$-value with $36\\%$ of test scores higher than it.\n",
    "```"
   ]
  },
  {
   "cell_type": "markdown",
   "metadata": {},
   "source": [
    "Again, we are given a probability ($32\\% = 0.32$), and we want to find an $x$-value (the test score with $32\\%$ of scores higher than it). We can use the <code>qnorm</code> function to find the $z$-score associated with the probability. However, the probability we are given is located in the *upper* tail of the distribution. The <code>qnorm</code> function expects probability in the *lower* tail of the distribution. But this is easy to calculate. Since the probability in the upper tail of the distribution is $0.32$, the area in the lower tail of the distribution is $1 - 0.32$."
   ]
  },
  {
   "cell_type": "code",
   "execution_count": 69,
   "metadata": {},
   "outputs": [
    {
     "data": {
      "text/html": [
       "0.467698799114508"
      ],
      "text/latex": [
       "0.467698799114508"
      ],
      "text/markdown": [
       "0.467698799114508"
      ],
      "text/plain": [
       "[1] 0.4676988"
      ]
     },
     "metadata": {},
     "output_type": "display_data"
    }
   ],
   "source": [
    "qnorm(p = 1 - 0.32)"
   ]
  },
  {
   "cell_type": "markdown",
   "metadata": {},
   "source": [
    "We get $z = 0.46770$. This means that the $32\\%$ of possible $z$-values in the *standard* normal distribution are larger than $z = 0.46770$. To find the $x$-value which is the test score with $32\\%$ of test scores greater than it, we calculate\n",
    "\n",
    "$$ x = \\mu + z\\sigma = 73 + 0.46770(9) = 77.20929. $$\n",
    "\n",
    "So $32\\%$ of test scores were higher than a score of $77.20929$."
   ]
  }
 ],
 "metadata": {
  "kernelspec": {
   "display_name": "R",
   "language": "R",
   "name": "ir"
  },
  "language_info": {
   "codemirror_mode": "r",
   "file_extension": ".r",
   "mimetype": "text/x-r-source",
   "name": "R",
   "pygments_lexer": "r",
   "version": "4.2.3"
  }
 },
 "nbformat": 4,
 "nbformat_minor": 4
}