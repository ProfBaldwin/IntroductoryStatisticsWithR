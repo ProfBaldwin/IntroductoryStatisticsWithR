{
 "cells": [
  {
   "cell_type": "markdown",
   "metadata": {},
   "source": [
    "# An Introduction to Hypothesis Testing"
   ]
  },
  {
   "cell_type": "markdown",
   "metadata": {},
   "source": [
    "## Objectives\n",
    "\n",
    "- Understand the fundamentals of hypothesis testing."
   ]
  },
  {
   "cell_type": "markdown",
   "metadata": {},
   "source": [
    "## Introduction to Hypothesis Testing\n",
    "Sometimes we want to test whether a claim made about a population parameter is true or not. For instance, a car dealer advertises that its new small truck averages $35$ miles per gallon. A tutoring service claims that $90\\%$ of its students get an A or a B. A company says that women managers in their company earn an average of $\\$53{,}000$ per year.\n",
    "\n",
    "It's often impractical to survey every member of a population to confirm a claim or **hypothesis**. Instead, statisticians sample a few members of the population and calculate a point estimate of the parameter they are interested in. Then they use the central limit theorem to determine how likely it is to randomly select a sample with that particular point estimate *assuming the hypothesis is true*. If it is exceptionally unlikely to get the point estimate that actually obtained if the hypothesis were true, we can conclude with some confidence that the claim is probably not true.\n",
    "\n",
    "In summary, the fundamental components to a **hypothesis test** are as follows:\n",
    "\n",
    "1. We want to test if a claim about a population parameter is true.\n",
    "2. We randomly sample members of the population to find a point estimate of the population parameter.\n",
    "3. Assuming the claim about the population parameter *is* true, we use the central limit theorem to determine the probability of obtaining the point estimate of our random sample.\n",
    "4. If the probability of obtaining the point estimate is exceptionally small, we reject the claim.\n",
    "\n",
    "We will formalize these ideas in the coming chapter and return to them throughout the rest of the course. For now, let's go over a few examples focusing on the big idea and the fundamental components."
   ]
  },
  {
   "cell_type": "markdown",
   "metadata": {},
   "source": [
    "***"
   ]
  },
  {
   "cell_type": "markdown",
   "metadata": {},
   "source": [
    "\n",
    "### Example 6.1.1\n",
    "A company says that women managers in their company earn an average of $\\$53{,}000$ per year with a standard deviation of $\\$5{,}000$. Janice wants to test the claim. She surveys $25$ women managers and obtains the following data on income per year:\n",
    "\n",
    "48230, 53491, 52926, 54832, 48080, 47101, 50126, 47433, 57753, 55107, 57205, 46297, 61249, 66936, 5463, 44429, 52696, 51243, 49008, 51522, 46658, 51788, 60244, 46164, 51103\n",
    "\n",
    "Assume the population is normally distributed. What do you think Janice should conclude about the claim?\n",
    "\n",
    "#### Solution\n",
    "##### Step 1: State the Hypothesis\n",
    "The claim or hypothesis is that the average annual income of women managers at the company is $\\$53,000$. Written mathematically, the hypothesis is that\n",
    "\n",
    "$$ \\mu = 53{,}000. $$\n",
    "\n",
    "##### Step 2: Determine the Features of the Distribution of Point Estimates Using the Central Limit Theorem\n",
    "We are testing the mean $\\mu$, and we are told what the population standard deviation $\\sigma$ is. Then by the central limit theorem, sample means follow a  normal distribution with mean\n",
    "\n",
    "$$ \\mu = 53{,}000 $$\n",
    "\n",
    "and standard error\n",
    "\n",
    "$$ \\frac{\\sigma}{\\sqrt{n}} = \\frac{5000}{\\sqrt{25}} = 1000. $$\n",
    "\n",
    "That is, $\\bar{X} \\sim N(53000, 1000)$.\n",
    "\n",
    "##### Step 3: Assuming the Claim is True, Find the Probability of Obtaining the Point Estimate\n",
    "\n",
    "First, we calculate the sample mean $\\bar{x}$, which is the point estimate of the population mean $\\mu$.\n"
   ]
  },
  {
   "cell_type": "code",
   "execution_count": 1,
   "metadata": {},
   "outputs": [
    {
     "data": {
      "text/html": [
       "50283.36"
      ],
      "text/latex": [
       "50283.36"
      ],
      "text/markdown": [
       "50283.36"
      ],
      "text/plain": [
       "[1] 50283.36"
      ]
     },
     "metadata": {},
     "output_type": "display_data"
    }
   ],
   "source": [
    "x = c(48230, 53491, 52926, 54832, 48080, 47101, 50126, 47433, 57753, 55107, 57205, 46297, 61249, 66936, 5463, 44429, 52696, 51243, 49008, 51522, 46658, 51788, 60244, 46164, 51103)\n",
    "n = length(x)\n",
    "\n",
    "xbar = sum(x)/n\n",
    "xbar"
   ]
  },
  {
   "cell_type": "markdown",
   "metadata": {},
   "source": [
    "The sample mean is $\\bar{x} = 50283.36$.\n",
    "\n",
    "The $z$-score associated with the sample mean $\\bar{x}$ is\n",
    "\n",
    "$$z = \\frac{\\bar{x} - \\mu}{\\frac{\\sigma}{\\sqrt{n}}} = \\frac{50283.36 - 53000}{1000} = -2.7166. $$\n",
    "\n",
    "To test the claim, we want to find the probability that a randomly selected sample will have a sample mean at least as far away from the hypothesized population mean as the sample mean we actually got. This means we want to find $P(\\bar{X} \\leq 50283.36) = P(Z \\leq -2.7166)$$. Let's use R to find this."
   ]
  },
  {
   "cell_type": "code",
   "execution_count": 1,
   "metadata": {},
   "outputs": [
    {
     "data": {
      "text/html": [
       "0.00329781334352045"
      ],
      "text/latex": [
       "0.00329781334352045"
      ],
      "text/markdown": [
       "0.00329781334352045"
      ],
      "text/plain": [
       "[1] 0.003297813"
      ]
     },
     "metadata": {},
     "output_type": "display_data"
    }
   ],
   "source": [
    "pnorm(q = -2.7166)"
   ]
  },
  {
   "cell_type": "markdown",
   "metadata": {},
   "source": [
    "So $P(\\bar{X} \\leq 50283.36) = P(Z \\leq -2.7166) = 0.00330$. That is, if the claim were true, there would only be a $0.33\\%$ chance that a random sample of women managers would yield a sample mean salary of $\\$50{,}283.36$ or less.\n",
    "\n",
    "##### Step 4: Make a Conclusion About the Claim\n",
    "In this case, it is very unlikely that we would obtain the point estimate we did if the claim were true. In fact, it is so unlikely (less than a 1% chance) that we feel confident in concluding that the claim is not true. \n",
    "\n",
    "We conclude that the average salary of women managers at the company is not $\\$53,000$."
   ]
  },
  {
   "cell_type": "markdown",
   "metadata": {},
   "source": [
    "***"
   ]
  },
  {
   "cell_type": "markdown",
   "metadata": {},
   "source": [
    "\n",
    "### Example 6.1.2\n",
    "A tutoring service claims that $90\\%$ of its students get an A or a B. Mike wants to test the claim. He surveys $45$ students who utilized the tutoring service and found that $37$ students got an A or a B. Do you think Mike should reject the claim?\n",
    "\n",
    "#### Solution\n",
    "##### Step 1: State the Hypothesis\n",
    "The claim we are testing is that the proportion of students of the tutoring service who get an A or a B is $90\\%$. Mathematically, the hypothesis is\n",
    "\n",
    "$$p = 0.90. $$\n",
    "\n",
    "##### Step 2: Determine the Features of the Distribution of Point Estimates Using the Central Limit Theorem\n",
    "Assuming the hypothesis is true, we know by the central limit theorem that the sampling distribution of sample proportions is normally distributed with mean\n",
    "\n",
    "$$ p = 0.90 $$\n",
    "\n",
    "and standard error\n",
    "\n",
    "$$ \\sqrt{\\frac{p(1 - p)}{n}} = \\sqrt{\\frac{0.90(1 - 0.90)}{45}} = 0.0447. $$\n",
    "\n",
    "So $\\hat{P} \\sim N(0.90, 0.0447)$.\n",
    "\n",
    "##### Step 3: Assuming the Claim is True, Find the Probability of Obtaining the Point Estimate\n",
    "\n",
    "First note that the sample proportion, the point estimate of the population proportion, is\n",
    "\n",
    "$$ \\hat{p} = \\frac{x}{n} = \\frac{37}{45} = 0.8222. $$\n",
    "\n",
    "The $z$-score associated with the sample proportion $\\hat{p}$ is\n",
    "\n",
    "$$z = \\frac{\\hat{p} - p}{\\sqrt{\\frac{p(1-p)}{n}}} = \\frac{0.8222 - 0.90}{0.0447} = -1.7405.$$\n",
    "\n",
    "We want to find the probability We want to find $P(\\hat{p} \\leq 0.8222) = P(z \\leq -1.7405)$. We calculate this using R.\n",
    "\n",
    "To test the claim, we want to find the probability that a randomly selected sample will have a sample proportion at least as far away from the hypothesized population proportion as the sample proportion we actually got. This means we want to find $P(\\hat{P} \\leq 0.8222) = P(Z \\leq -1.7405)$$. Let's use R to find this."
   ]
  },
  {
   "cell_type": "code",
   "execution_count": 2,
   "metadata": {},
   "outputs": [
    {
     "data": {
      "text/html": [
       "0.0408856300354386"
      ],
      "text/latex": [
       "0.0408856300354386"
      ],
      "text/markdown": [
       "0.0408856300354386"
      ],
      "text/plain": [
       "[1] 0.04088563"
      ]
     },
     "metadata": {},
     "output_type": "display_data"
    }
   ],
   "source": [
    "pnorm(q = -1.7405)"
   ]
  },
  {
   "cell_type": "markdown",
   "metadata": {},
   "source": [
    "Then $P(\\hat{P} \\leq 0.8222) = P(Z \\leq -1.7405) = 0.0409$. So if the population proportion is actually $p = 0.90$, there is a $4.09\\%$ chance that a random sample gives a sample proportion of $\\hat{p} = 0.8222$ or less.\n",
    "\n",
    "##### Step 4: Make a Conclusion About the Claim\n",
    "There is about a $4\\%$ chance of obtaining a sample proportion of $\\hat{p} \\leq 0.8222$ if the claim were true. This is somewhat unlikely, but it wouldn't be outlandish. \n",
    "\n",
    "Ultimately, whether we reject a hypothesis or not is a choice. Would you reject the hypothesis if there is only a $1\\%$ chance that we get a point estimate as extreme as the point estimate we actually get from our sample? What if it was a $4\\%$ chance? An $8\\%$ chance? The choice ultimately must be made by the statistician where to draw the line. In a later section, we will cover some guidelines on making this choice.\n",
    "\n",
    "So what do you think? In this particular case, do you think the evidence is sufficient to reject the claim that $90\\%$ of students of the tutoring service get an A or a B? Or do you think the evidence isn't strong enough to make that conclusion?"
   ]
  },
  {
   "cell_type": "markdown",
   "metadata": {},
   "source": [
    "***"
   ]
  },
  {
   "cell_type": "markdown",
   "metadata": {},
   "source": [
    "### Example 6.1.3\n",
    "A statistics instructor claims that the class average on an exam is $65$ points. Richard thinks the class average is higher. He collects the following scores from 9 students in the class:\n",
    "\n",
    "84, 67, 60, 55, 51, 64, 66, 70, 83\n",
    "\n",
    "Richard assumes the scores in the class are normally distributed. Should Richard reject his instructor's claim?\n",
    "\n",
    "#### Solution\n",
    "##### Step 1: State the Hypothesis\n",
    "The hypothesis is that the class average is $65$ points. Mathematically, we write\n",
    "\n",
    "$$ \\mu = 65. $$\n",
    "\n",
    "##### Step 2: Determine the Features of the Distribution of Point Estimates Using the Central Limit Theorem\n",
    "We want to test the population mean $\\mu$, but we are *not* given the population standard deviation $\\sigma$. We will need to use the sample standard deviation $s$ and a $t$-distribution with $df = n - 1 = 9 - 1 = 8$ degrees of freedom.\n",
    "\n",
    "To find the $t$-score, we need the mean of the sampling distribution, \n",
    "\n",
    "$$ \\mu = 65. $$\n",
    "\n",
    "The standard error is given by the formula $\\frac{s}{\\sqrt{n}}$, so we will need to find the sample standard deviation $s$ first.\n",
    "\n",
    "To find the sample standard deviation $s$, we first find the sample mean $\\bar{x}$."
   ]
  },
  {
   "cell_type": "code",
   "execution_count": 1,
   "metadata": {},
   "outputs": [
    {
     "data": {
      "text/html": [
       "66.6666666666667"
      ],
      "text/latex": [
       "66.6666666666667"
      ],
      "text/markdown": [
       "66.6666666666667"
      ],
      "text/plain": [
       "[1] 66.66667"
      ]
     },
     "metadata": {},
     "output_type": "display_data"
    }
   ],
   "source": [
    "x = c(84, 67, 60, 55, 51, 64, 66, 70, 83)\n",
    "n = length(x)\n",
    "\n",
    "xbar = sum(x)/n\n",
    "xbar"
   ]
  },
  {
   "cell_type": "markdown",
   "metadata": {},
   "source": [
    "The sample mean is $\\bar{x} = 66.6667$.\n",
    "\n",
    "Next, we find the sample standard deviation."
   ]
  },
  {
   "cell_type": "code",
   "execution_count": 2,
   "metadata": {},
   "outputs": [
    {
     "data": {
      "text/html": [
       "11.247221879202"
      ],
      "text/latex": [
       "11.247221879202"
      ],
      "text/markdown": [
       "11.247221879202"
      ],
      "text/plain": [
       "[1] 11.24722"
      ]
     },
     "metadata": {},
     "output_type": "display_data"
    }
   ],
   "source": [
    "s = sqrt(sum( (x - xbar)^2 )/(n - 1))\n",
    "s"
   ]
  },
  {
   "cell_type": "markdown",
   "metadata": {},
   "source": [
    "So the sample standard deviation is $s = 11.2472$. We can now calculate the standard deviation of the distribution of sample means:\n",
    "\n",
    "$$ \\frac{s}{\\sqrt{n}} = \\frac{11.2472}{\\sqrt{9}} = 3.7491. $$\n",
    "\n",
    "##### Step 3: Assuming the Claim is True, Find the Probability of Obtaining the Point Estimate\n",
    "We calculated the point estimate in step 2: the sample mean is $\\bar{x} =  66.6667$. The $t$-score associated with $\\bar{x} = 66.6667$ is\n",
    "\n",
    "$$t = \\frac{\\bar{x} - \\mu}{\\frac{s}{\\sqrt{n}}} = \\frac{66.6667 - 65}{3.7491} = 0.4446. $$\n",
    "\n",
    "To test the claim, we want to find the probability that a randomly selected sample will have a sample mean at least as far away from the hypothesized population mean as the sample mean we actually got. This means we want to find $P(\\bar{X} \\geq 66.6667) = P(T \\geq -0.4446)$. We calculate this using R."
   ]
  },
  {
   "cell_type": "code",
   "execution_count": 3,
   "metadata": {},
   "outputs": [
    {
     "data": {
      "text/html": [
       "0.334195519428358"
      ],
      "text/latex": [
       "0.334195519428358"
      ],
      "text/markdown": [
       "0.334195519428358"
      ],
      "text/plain": [
       "[1] 0.3341955"
      ]
     },
     "metadata": {},
     "output_type": "display_data"
    }
   ],
   "source": [
    "1 - pt(q = 0.4446, df = 8)"
   ]
  },
  {
   "cell_type": "markdown",
   "metadata": {},
   "source": [
    "So $P(\\bar{X} \\geq 66.6667) = P(T \\geq 0.4446) = 0.3342$. That is, assuming the claim is true, there is a $33.42\\%$ chance that our sample would have a sample mean of $66.6667$ or greater.\n",
    "\n",
    "##### Step 4: Make a Conclusion About the Claim\n",
    "If the claim is true, there is a $33.42\\%$ chance that a random sample of the population has a sample mean as extreme as $\\bar{x} = 66.6667$. This isn't a small probability; there is a fairly large chance that we obtain a sample with the sample mean we do given that the claim is true. We usually don't reject a claim unless we obtain at a probability of at least less than $10\\%$. So we do not have enough evidence to conclude that the mean exam score is greater than $65$ points.\n"
   ]
  }
 ],
 "metadata": {
  "kernelspec": {
   "display_name": "R",
   "language": "R",
   "name": "ir"
  },
  "language_info": {
   "codemirror_mode": "r",
   "file_extension": ".r",
   "mimetype": "text/x-r-source",
   "name": "R",
   "pygments_lexer": "r",
   "version": "4.2.3"
  }
 },
 "nbformat": 4,
 "nbformat_minor": 4
}