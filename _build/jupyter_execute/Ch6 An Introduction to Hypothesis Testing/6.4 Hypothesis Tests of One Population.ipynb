{
 "cells": [
  {
   "cell_type": "markdown",
   "metadata": {},
   "source": [
    "# Hypothesis Tests of One Population"
   ]
  },
  {
   "cell_type": "markdown",
   "metadata": {},
   "source": [
    "## Objectives\n",
    "\n",
    "- Perform full hypothesis tests on the means and the proportions of populations.\n",
    "- Identify the null and alternative hypotheses of a hypothesis test.\n",
    "- Assuming the null hypothesis is true, use the central limit theorem to identify the sampling distribution that should be used to calculate the $p$-value.\n",
    "- Calculate the $p$-value.\n",
    "- Draw a conclusion based on the $p$-value."
   ]
  },
  {
   "cell_type": "markdown",
   "metadata": {},
   "source": [
    "## Calculating the $p$-value\n",
    "\n",
    "When calculating the $p$-value in a hypothesis test, we assume the null hypothesis $H_0$ is true, then we calculate the probability that the point estimate of a random sample supports the alternative hypothesis $H_a$ at least as strongly as the point estimate we actually obtained. This means the alternative hypothesis determines whether we perform:\n",
    "- a **left-tailed test**, where the $p$-value is the probability to the left of the point estimate;\n",
    "- a **right-tailed test**, where the $p$-value is the probability to the right of the point estimate; or\n",
    "- a **two-tailed test**, where the $p$-value is the sum of equal probabilities in both tails of the sampling distribution.\n",
    "\n",
    "The mathematical symbol used in the statement of the alternative hypothesis indicates which test we should use to calculate the $p$-value as illustrated in {numref}`symbols-test-table`.\n",
    "\n",
    "```{list-table} The inequality symbol in the alternative hypothesis tells us which test we should perform.\n",
    ":header-rows: 1\n",
    ":name: symbols-test-table\n",
    "* - Symbol in $H_a$\n",
    "  - Test\n",
    "* - $<$\n",
    "  - Left-Tailed Test\n",
    "* - $>$\n",
    "  - Right-Tailed Test\n",
    "* - $\\neq$\n",
    "  - Two-Tailed Test\n",
    "```\n",
    "\n",
    "The following examples illustrate when to use a left-, right-, or two-tailed test."
   ]
  },
  {
   "cell_type": "markdown",
   "metadata": {},
   "source": [
    "***"
   ]
  },
  {
   "cell_type": "markdown",
   "metadata": {},
   "source": [
    "\n",
    "### Example 6.4.1\n",
    "A hypothesis test has the hypotheses given below. Should a left-tailed test, a right-tailed test, or a two-tailed test be performed to find the $p$-value?\n",
    "\\begin{align*}\n",
    "H_0:\\ \\mu \\geq 5 \\\\\n",
    "H_a:\\ \\mu < 5\n",
    "\\end{align*}\n",
    "\n",
    "#### Solution\n",
    "Because the alternative hypothesis uses a \"less-than\" symbol, we would perform a left-tailed test to find the $p$-value."
   ]
  },
  {
   "cell_type": "code",
   "execution_count": 1,
   "metadata": {
    "tags": [
     "remove-cell"
    ]
   },
   "outputs": [
    {
     "data": {
      "text/html": [
       "<strong>png:</strong> 2"
      ],
      "text/latex": [
       "\\textbf{png:} 2"
      ],
      "text/markdown": [
       "**png:** 2"
      ],
      "text/plain": [
       "png \n",
       "  2 "
      ]
     },
     "metadata": {},
     "output_type": "display_data"
    }
   ],
   "source": [
    "png(\"left_tailed.png\", width = 1000, height = 500)\n",
    "\n",
    "par(mar = c(0, 0, 0, 0))\n",
    "\n",
    "#library(repr)\n",
    "#options(repr.plot.width = 7, repr.plot.height=4)\n",
    "library(\"shape\")\n",
    "\n",
    "rangebar = function(x0, x1, y, d, col){   \n",
    "    segments(x0, y-d, x0, y+d, lwd = 3, col = col)\n",
    "    segments(x0, y, x1, y, lwd = 3, col = col)\n",
    "    segments(x1, y-d, x1, y+d, lwd = 3, col = col)\n",
    "}\n",
    "\n",
    "z = seq(-3, 3, 0.01)\n",
    "y = dnorm(z)\n",
    "plot(z, y, type=\"l\", xlab = \"\", ylab = \"\", ylim = c(-0.02, max(y)), axes = FALSE, cex = 2)\n",
    "polyz = c(-3, seq(-3, 3, 0.01), 3)\n",
    "polyy = c(0, dnorm(seq(-3, 3, 0.01)), 0)\n",
    "polygon(polyz, polyy, col=\"gray90\", border=\"NA\")\n",
    "\n",
    "xtail = c(-3, seq(-3, -1, 0.01), -1)\n",
    "ytail = c(0, dnorm(seq(-3, -1, 0.01)), 0)\n",
    "polygon(xtail, ytail, col = \"lightsteelblue\", border=\"NA\")\n",
    "lines(c(-1, -1), c(0, dnorm(-1)), type = \"l\", cex = 2)\n",
    "\n",
    "#xtail = c(1, seq(1, 3, 0.01), 3)\n",
    "#ytail = c(0, dnorm(seq(1, 3, 0.01)), 0)\n",
    "#polygon(xtail, ytail, col = \"lightsteelblue\", border=\"NA\")\n",
    "#lines(c(1, 1), c(0, dnorm(1)), type = \"l\", cex = 2)\n",
    "\n",
    "lines(z, y, type=\"l\", cex = 2)\n",
    "axis(1, pos=0, at=c(-3, -1, 0, 3), labels = c(\"\", \"Point Estimate\", 5, \"\"), lwd.ticks = 0, cex.axis = 2)\n",
    "text(3, -0.01, labels = \"x̄\", cex = 2.5, pos = 4, xpd = TRUE)\n",
    "\n",
    "lines(c(0, 0), c(0, dnorm(0)), type = \"l\", cex = 2, lty=2)\n",
    "\n",
    "#Arrows(-2.5, 0.1, -2.5, 0.015, lwd = 3, arr.type = \"triangle\", arr.width = 0.3, col = \"blue3\")\n",
    "text(-1.4, 0.05, labels = \"p-value\", cex = 2, col = \"blue3\", pos = 3)\n",
    "\n",
    "dev.off()"
   ]
  },
  {
   "cell_type": "markdown",
   "metadata": {},
   "source": [
    "```{figure} left_tailed.png\n",
    "---\n",
    "width: 100%\n",
    "alt: The sampling distribution. A value is labeled \"point estimate\". The region left of the point estimate is shaded and labeled \"p-value\".\n",
    "name: left-tailed\n",
    "---\n",
    "The sampling distribution of the population in this example is shown illustrates a left-tailed test. In a left-tailed test, the $p$-value is the probability to the left of the point estimate.\n",
    "```"
   ]
  },
  {
   "cell_type": "markdown",
   "metadata": {},
   "source": [
    "***"
   ]
  },
  {
   "cell_type": "markdown",
   "metadata": {},
   "source": [
    "\n",
    "### Example 6.4.2\n",
    "A hypothesis test has the hypotheses given below. Should a left-tailed test, a right-tailed test, or a two-tailed test be performed to find the $p$-value?\n",
    "\n",
    "\\begin{align*}\n",
    "H_0:&\\ p \\leq 0.2 \\\\\n",
    "H_a:&\\ p > 0.2\n",
    "\\end{align*}\n",
    "\n",
    "#### Solution\n",
    "Because the alternative hypothesis uses the \"greater-than\" symbol, we would use a right-tailed test to find the $p$-value."
   ]
  },
  {
   "cell_type": "code",
   "execution_count": 5,
   "metadata": {
    "tags": [
     "remove-cell"
    ]
   },
   "outputs": [
    {
     "data": {
      "text/html": [
       "<strong>png:</strong> 2"
      ],
      "text/latex": [
       "\\textbf{png:} 2"
      ],
      "text/markdown": [
       "**png:** 2"
      ],
      "text/plain": [
       "png \n",
       "  2 "
      ]
     },
     "metadata": {},
     "output_type": "display_data"
    }
   ],
   "source": [
    "png(\"right_tailed.png\", width = 1000, height = 500)\n",
    "\n",
    "par(mar = c(0, 0, 0, 0))\n",
    "\n",
    "#library(repr)\n",
    "#options(repr.plot.width = 7, repr.plot.height=4)\n",
    "library(\"shape\")\n",
    "\n",
    "rangebar = function(x0, x1, y, d, col){   \n",
    "    segments(x0, y-d, x0, y+d, lwd = 3, col = col)\n",
    "    segments(x0, y, x1, y, lwd = 3, col = col)\n",
    "    segments(x1, y-d, x1, y+d, lwd = 3, col = col)\n",
    "}\n",
    "\n",
    "z = seq(-3, 3, 0.01)\n",
    "y = dnorm(z)\n",
    "plot(z, y, type=\"l\", xlab = \"\", ylab = \"\", ylim = c(-0.02, max(y)), axes = FALSE, cex = 2)\n",
    "polyz = c(-3, seq(-3, 3, 0.01), 3)\n",
    "polyy = c(0, dnorm(seq(-3, 3, 0.01)), 0)\n",
    "polygon(polyz, polyy, col=\"gray90\", border=\"NA\")\n",
    "\n",
    "#xtail = c(-3, seq(-3, -1, 0.01), -1)\n",
    "#ytail = c(0, dnorm(seq(-3, -1, 0.01)), 0)\n",
    "#polygon(xtail, ytail, col = \"lightsteelblue\", border=\"NA\")\n",
    "#lines(c(-1, -1), c(0, dnorm(-1)), type = \"l\", cex = 2)\n",
    "\n",
    "xtail = c(1, seq(1, 3, 0.01), 3)\n",
    "ytail = c(0, dnorm(seq(1, 3, 0.01)), 0)\n",
    "polygon(xtail, ytail, col = \"lightsteelblue\", border=\"NA\")\n",
    "lines(c(1, 1), c(0, dnorm(1)), type = \"l\", cex = 2)\n",
    "\n",
    "lines(z, y, type=\"l\", cex = 2)\n",
    "axis(1, pos=0, at=c(-3, 0, 1, 3), labels = c(\"\", 0.2, \"Point Estimate\", \"\"), lwd.ticks = 0, cex.axis = 2)\n",
    "text(3, -0.01, labels = \"p̂\", cex = 2.5, pos = 4, xpd = TRUE)\n",
    "\n",
    "lines(c(0, 0), c(0, dnorm(0)), type = \"l\", cex = 2, lty=2)\n",
    "\n",
    "text(1.4, 0.05, labels = \"p-value\", cex = 2, col = \"blue3\", pos = 3)\n",
    "\n",
    "dev.off()"
   ]
  },
  {
   "cell_type": "markdown",
   "metadata": {},
   "source": [
    "```{figure} right_tailed.png\n",
    "---\n",
    "width: 100%\n",
    "alt: The sampling distribution. A value is labeled \"point estimate\". The region right of the point estimate is shaded and labeled \"p-value\".\n",
    "name: right-tailed\n",
    "---\n",
    "The sampling distribution of the population in this example is shown and illustrates a right-tailed test. In a right-tailed test, the $p$-value is the probability to the right of the point estimate.\n",
    "```"
   ]
  },
  {
   "cell_type": "markdown",
   "metadata": {},
   "source": [
    "***"
   ]
  },
  {
   "cell_type": "markdown",
   "metadata": {},
   "source": [
    "### Example 6.4.3\n",
    "A hypothesis test has the hypotheses given below. Should a left-tailed test, a right-tailed test, or a two-tailed test be performed to find the $p$-value?\n",
    "\n",
    "\\begin{align*}\n",
    "H_0:&\\ p = 0.7 \\\\\n",
    "H_a:&\\ p \\neq 0.7\n",
    "\\end{align*}\n",
    "\n",
    "### Solution\n",
    "The alternative hypothesis is this test uses a \"not-equal\" symbol. Therefore, we would perform a two-tailed test to find the $p$-value."
   ]
  },
  {
   "cell_type": "code",
   "execution_count": 6,
   "metadata": {
    "tags": [
     "remove-cell"
    ]
   },
   "outputs": [
    {
     "data": {
      "text/html": [
       "<strong>png:</strong> 2"
      ],
      "text/latex": [
       "\\textbf{png:} 2"
      ],
      "text/markdown": [
       "**png:** 2"
      ],
      "text/plain": [
       "png \n",
       "  2 "
      ]
     },
     "metadata": {},
     "output_type": "display_data"
    }
   ],
   "source": [
    "png(\"two_tailed.png\", width = 1000, height = 500)\n",
    "\n",
    "par(mar = c(0, 0, 0, 0))\n",
    "\n",
    "#library(repr)\n",
    "#options(repr.plot.width = 7, repr.plot.height=4)\n",
    "library(\"shape\")\n",
    "\n",
    "rangebar = function(x0, x1, y, d, col){   \n",
    "    segments(x0, y-d, x0, y+d, lwd = 3, col = col)\n",
    "    segments(x0, y, x1, y, lwd = 3, col = col)\n",
    "    segments(x1, y-d, x1, y+d, lwd = 3, col = col)\n",
    "}\n",
    "\n",
    "z = seq(-3, 3, 0.01)\n",
    "y = dnorm(z)\n",
    "plot(z, y, type=\"l\", xlab = \"\", ylab = \"\", ylim = c(-0.02, max(y)), axes = FALSE, cex = 2)\n",
    "polyz = c(-3, seq(-3, 3, 0.01), 3)\n",
    "polyy = c(0, dnorm(seq(-3, 3, 0.01)), 0)\n",
    "polygon(polyz, polyy, col=\"gray90\", border=\"NA\")\n",
    "\n",
    "xtail = c(-3, seq(-3, -1, 0.01), -1)\n",
    "ytail = c(0, dnorm(seq(-3, -1, 0.01)), 0)\n",
    "polygon(xtail, ytail, col = \"lightsteelblue\", border=\"NA\")\n",
    "lines(c(-1, -1), c(0, dnorm(-1)), type = \"l\", cex = 2)\n",
    "\n",
    "xtail = c(1, seq(1, 3, 0.01), 3)\n",
    "ytail = c(0, dnorm(seq(1, 3, 0.01)), 0)\n",
    "polygon(xtail, ytail, col = \"lightsteelblue\", border=\"NA\")\n",
    "lines(c(1, 1), c(0, dnorm(1)), type = \"l\", cex = 2)\n",
    "\n",
    "lines(z, y, type=\"l\", cex = 2)\n",
    "axis(1, pos=0, at=c(-3, 0, 1, 3), labels = c(\"\", \"0.7\", \"Point Estimate\", \"\"), lwd.ticks = 0, cex.axis = 2)\n",
    "text(3, -0.01, labels = \"p̂\", cex = 2.5, pos = 4, xpd = TRUE)\n",
    "\n",
    "lines(c(0, 0), c(0, dnorm(0)), type = \"l\", cex = 2, lty=2)\n",
    "\n",
    "text(-1.4, 0.05, labels = \"½ p-value\", cex = 2, col = \"blue3\", pos = 3)\n",
    "text(1.4, 0.05, labels = \"½ p-value\", cex = 2, col = \"blue3\", pos = 3)\n",
    "\n",
    "dev.off()"
   ]
  },
  {
   "cell_type": "markdown",
   "metadata": {},
   "source": [
    "```{figure} two_tailed.png\n",
    "---\n",
    "width: 100%\n",
    "alt: The sampling distribution. A value is labeled \"point estimate\". The region right of the point estimate is shaded and labeled \"half p-value\". The mirror region in the left tail of the distribution is also shaded and labeled \"half p-value\".\n",
    "name: two-tailed\n",
    "---\n",
    "The sampling distribution of the population in this example is shown and illustrates a two-tailed test. In a two-tailed test, we first find just half of the $p$-value by calculating the probability to the left or right of the point estimate depending on which tail the point estimate is closer to. (In this figure, the point estimate is closer to the right tail, so we would calculate the probability to the right of the point estimate.) Then we double the probability to get the full $p$-value. Doubling the probability we initially calculate includes the mirror probability in the opposite tail in the $p$-value.\n",
    "```"
   ]
  },
  {
   "cell_type": "markdown",
   "metadata": {},
   "source": [
    "***"
   ]
  },
  {
   "cell_type": "markdown",
   "metadata": {},
   "source": [
    "## Hypothesis Tests\n",
    "\n",
    "We are finally ready to combine all the things we've learned in this chapter to perform full hypothesis tests. Here are the steps we will follow in the following examples.\n",
    "\n",
    "1. **State the null and alternative hypotheses.**<br/>The null and alternative hypotheses are complementary statements and use mathematically opposite symbols. The symbol used in the null hypothesis always has an \"equal\" in it, and the symbol used in the alternative hypothesis never has an \"equal\" in it.\n",
    "2. **Assuming the null hypothesis is true, identify the sampling distribution.**<br/>Use the central limit theorem to identify important features of the distribution like the mean and the standard error.\n",
    "3. **Find the $p$-value.**<br/>First, calculate the point estimate using the sample data. Determine whether to perform a left-tailed, right-tailed, or two-tailed test based on the alternative hypothesis, then use the sampling distribution to find the $p$-value.\n",
    "4. **Draw a conclusion.**<br/>Compare the $p$-value to the level of significance $\\alpha$. If the $p$-value is less than $\\alpha$, reject the null hypothesis and accept the alternative hypothesis. Otherwise, do not reject the null hypothesis and do not accept the alternative hypothesis. State the conclusion in context using plain words."
   ]
  },
  {
   "cell_type": "markdown",
   "metadata": {},
   "source": [
    "***"
   ]
  },
  {
   "cell_type": "markdown",
   "metadata": {},
   "source": [
    "\n",
    "### Example 6.4.4\n",
    "Jeffrey, an eight-year old, established a mean time of $16.43$ seconds for swimming the $25$-yard freestyle with a standard deviation of $0.8$ seconds. His dad, Frank, thought that Jeffrey could swim the $25$-yard freestyle faster using goggles. Frank bought Jeffrey a new pair of expensive goggles and timed Jeffrey as he swam the $25$-yard freestyle $15$ times. He obtained the following swim times (in seconds):\n",
    "\n",
    "14.96, 15.51, 15.54, 16.14, 15.55, 16.73, 16.4, 16.59, 14.76, 17.6, 17.68, 16.71, 14.87, 15.73, 16.42\n",
    "\n",
    "Frank assumes Jeffrey's swim times are normally distributed. Conduct a hypothesis test at the $5\\%$ significance level to conclude whether or not the goggles helped Jeffrey swim faster.\n",
    "\n",
    "#### Solution\n",
    "##### Step 1: State the null and alternative hypotheses.\n",
    "Frank thinks Jeffrey's mean swim time would be faster with goggles; that is, $\\mu < 16.43$. Since the symbol has no equal in it, this is the alternative hypothesis. Then we can write the null and alternative hypotheses as\n",
    "\n",
    "\\begin{align*}\n",
    "H_0:&\\ \\mu \\geq 16.43 \\\\\n",
    "H_a:&\\ \\mu < 16.43\n",
    "\\end{align*}\n",
    "\n",
    "##### Step 2: Assuming the null hypothesis is true, identify the sampling distribution.\n",
    "We are testing the population mean, and we are told the population standard deviation. Then by the central limit theorem and assuming the null hypothesis is true, sample means are normally distributed with mean\n",
    "\n",
    "$$ \\mu = 16.43 $$\n",
    "\n",
    "and standard error\n",
    "\n",
    "$$ \\frac{\\sigma}{\\sqrt{n}} = \\frac{0.8}{\\sqrt{15}} = 0.2066. $$\n",
    "\n",
    "##### Step 3: Find the  $p$-value.\n",
    "The point estimate of the population mean is the sample mean $\\bar{x}$."
   ]
  },
  {
   "cell_type": "code",
   "execution_count": 1,
   "metadata": {},
   "outputs": [
    {
     "data": {
      "text/html": [
       "16.0793333333333"
      ],
      "text/latex": [
       "16.0793333333333"
      ],
      "text/markdown": [
       "16.0793333333333"
      ],
      "text/plain": [
       "[1] 16.07933"
      ]
     },
     "metadata": {},
     "output_type": "display_data"
    }
   ],
   "source": [
    "x = c(14.96, 15.51, 15.54, 16.14, 15.55, 16.73, 16.4, 16.59, 14.76, 17.6, 17.68, 16.71, 14.87, 15.73, 16.42)\n",
    "n = length(x)\n",
    "\n",
    "xbar = sum(x)/n\n",
    "xbar"
   ]
  },
  {
   "cell_type": "markdown",
   "metadata": {},
   "source": [
    "The sample mean is $\\bar{x} = 16.0793$.\n",
    "\n",
    "Since the alternative hypothesis $H_a$ uses a less-than symbol, we will perform a left-tailed test. That is, the $p$-value is the probability $P(\\bar{x} \\leq 16.0793)$. To find this probability, we first calculate the $z$-score\n",
    "\n",
    "$$ z = \\frac{\\bar{x} - \\mu}{\\frac{\\sigma}{\\sqrt{n}}} = \\frac{16.0793 - 16.43}{0.2066} = -1.6975. $$\n",
    "\n",
    "So $P(\\bar{x} \\leq 16.0793) = P(z \\leq -1.6975)$. We use R to calculate this."
   ]
  },
  {
   "cell_type": "code",
   "execution_count": 7,
   "metadata": {},
   "outputs": [
    {
     "data": {
      "text/html": [
       "0.0448010855505775"
      ],
      "text/latex": [
       "0.0448010855505775"
      ],
      "text/markdown": [
       "0.0448010855505775"
      ],
      "text/plain": [
       "[1] 0.04480109"
      ]
     },
     "metadata": {},
     "output_type": "display_data"
    }
   ],
   "source": [
    "pnorm(q = -1.6975)"
   ]
  },
  {
   "cell_type": "markdown",
   "metadata": {},
   "source": [
    "Then the $p$-value is $P(\\bar{x} \\leq 16.0793) = P(z \\leq -1.6975) = 0.0448$. That is, assuming the null hypothesis is true, that using goggles didn't improve Jeffrey's mean swim time, there is a $4.48\\%$ chance that a random sample of $15$ of Jeffrey's swims with goggles would yield a sample mean of $16.0793$ seconds or less.\n",
    "\n",
    "##### Step 4: Draw a conclusion\n",
    "The hypothesis test is at the $5\\%$ significance level, so $\\alpha = 0.05$. Since\n",
    "\n",
    "$$p\\text{-value} = 0.0448 < 0.05 = \\alpha, $$\n",
    "\n",
    "we reject the null hypothesis and accept the alternative hypothesis. The chance of obtaining the sample mean we did if the null hypothesis were true is so unlikely that we think it is more likely that the null hypothesis is not true.\n",
    "\n",
    "We conclude that Jeffrey *does* improve his swim time using goggles."
   ]
  },
  {
   "cell_type": "markdown",
   "metadata": {},
   "source": [
    "***"
   ]
  },
  {
   "cell_type": "markdown",
   "metadata": {},
   "source": [
    "\n",
    "### Example 6.4.5\n",
    "A college football coach records the mean weight that his players can bench press as $275$ pounds. Three of his players thought that the mean weight was more than that amount. They asked $30$ of their teammates for their estimated maximum lift on the bench press exercise, obtaining the following data (in pounds):\n",
    "\n",
    "205, 205, 205, 215, 215, 215, 225, 241, 241, 252, 252, 265, 265, 275, 275, 313, 313, 316, 316, 316, 316, 316, 338, 338, 341, 345, 345, 368, 368, 385\n",
    "\n",
    "Conduct a hypothesis test using a $2.5\\%$ level of significance to determine if the bench press mean is more than $275$ pounds.\n",
    "\n",
    "#### Solution\n",
    "##### Step 1: State the null and alternative hypotheses.\n",
    "The three players think the mean bench press weight of the team is more than $275$ pounds. Mathematically, we write this as $\\mu > 275$. Since the greater-than symbol has no equal in it, this is our alternative hypothesis. Then the hypotheses are\n",
    "\n",
    "\\begin{align*}\n",
    "H_0:&\\ \\mu \\leq 275 \\\\\n",
    "H_a:&\\ \\mu > 275\n",
    "\\end{align*}\n",
    "\n",
    "##### Step 2: Assuming the null hypothesis is true, identify the sampling distribution.\n",
    "\n",
    "We are testing the population mean, but we are *not* given the population standard deviation. We will need to approximate the population standard deviation using the sample standard deviation and a $t$-distribution with $df = n-1 = 30-1 = 29 $ degrees of freedom.\n",
    "\n",
    "Assuming the null hypothesis is true, the mean of the distribution is\n",
    "\n",
    "$$ \\mu = 275. $$\n",
    "\n",
    "To find the standard error $\\frac{s}{\\sqrt{n}}$ of the distribution, we first need to find the standard deviation $s$ of the sample. To do so, first find the sample mean."
   ]
  },
  {
   "cell_type": "code",
   "execution_count": 1,
   "metadata": {},
   "outputs": [
    {
     "data": {
      "text/html": [
       "286.166666666667"
      ],
      "text/latex": [
       "286.166666666667"
      ],
      "text/markdown": [
       "286.166666666667"
      ],
      "text/plain": [
       "[1] 286.1667"
      ]
     },
     "metadata": {},
     "output_type": "display_data"
    }
   ],
   "source": [
    "x = c(205, 205, 205, 215, 215, 215, 225, 241, 241, 252, 252, 265, 265, 275, 275, 313, 313, 316, 316, 316, 316, 316, 338, 338, 341, 345, 345, 368, 368, 385)\n",
    "n = length(x)\n",
    "\n",
    "xbar = sum(x)/n\n",
    "xbar"
   ]
  },
  {
   "cell_type": "markdown",
   "metadata": {},
   "source": [
    "The sample mean is $\\bar{x} = 286.1667$. Using this, we calculate the sample standard deviation."
   ]
  },
  {
   "cell_type": "code",
   "execution_count": 2,
   "metadata": {},
   "outputs": [
    {
     "data": {
      "text/html": [
       "55.8983580866344"
      ],
      "text/latex": [
       "55.8983580866344"
      ],
      "text/markdown": [
       "55.8983580866344"
      ],
      "text/plain": [
       "[1] 55.89836"
      ]
     },
     "metadata": {},
     "output_type": "display_data"
    }
   ],
   "source": [
    "s = sqrt(sum( (x - xbar)^2 )/(n-1))\n",
    "s"
   ]
  },
  {
   "cell_type": "markdown",
   "metadata": {},
   "source": [
    "The sample standard deviation is $s = 55.8984$. Then the standard error of the sampling distribution is\n",
    "\n",
    "$$ \\frac{s}{\\sqrt{n}} = \\frac{55.8984}{\\sqrt{30}} = 10.2056. $$\n",
    "\n",
    "##### Step 3: Find the  $p$-value.\n",
    "We already found in step 2 that the sample mean is $\\bar{x} = 286.1667$. This is the point estimate of the population mean. \n",
    "\n",
    "Since $H_a$ uses a greater-than symbol, we will perform a right-tailed test. So the $p$-value is $P(\\bar{x} \\geq 286.1667)$. To calculate this, we will need the $t$-score of $\\bar{x}$:\n",
    "\n",
    "$$t = \\frac{\\bar{x} - \\mu}{\\frac{s}{\\sqrt{n}}} = \\frac{286.1667 - 275}{10.2056} = 0.9962. $$\n",
    "\n",
    "So $P(\\bar{x} \\geq 286.1667) = P(t \\geq 0.9962)$. Let's use R to find this probability."
   ]
  },
  {
   "cell_type": "code",
   "execution_count": 8,
   "metadata": {},
   "outputs": [
    {
     "data": {
      "text/html": [
       "0.163696572454292"
      ],
      "text/latex": [
       "0.163696572454292"
      ],
      "text/markdown": [
       "0.163696572454292"
      ],
      "text/plain": [
       "[1] 0.1636966"
      ]
     },
     "metadata": {},
     "output_type": "display_data"
    }
   ],
   "source": [
    "1 - pt(q = 0.9962, df = 29)"
   ]
  },
  {
   "cell_type": "markdown",
   "metadata": {},
   "source": [
    "Then the $p$-value is $P(\\bar{x} \\geq 286.1667) = P(t \\geq 0.9962) = 0.1637$. That is, assuming the null hypothesis is true, that the team's mean lift weight is $275$ pounds, there is a $16.37\\%$ chance that if we randomly sample $30$ team members, their mean lift weight would be at least $286.1667$ pounds.\n",
    "\n",
    "##### Step 4: Draw a conclusion.\n",
    "The level of significance is $2.5\\%$, so $\\alpha = 0.025$. Since\n",
    "\n",
    "$$ p\\text{-value} = 0.1637 \\geq 0.025 = \\alpha, $$\n",
    "\n",
    "we do not reject the null hypothesis and do not accept the alternative hypothesis.\n",
    "\n",
    "The evidence is not strong enough to conclude that the team mean lift weight is greater than $275$ pounds."
   ]
  },
  {
   "cell_type": "markdown",
   "metadata": {},
   "source": [
    "***"
   ]
  },
  {
   "cell_type": "markdown",
   "metadata": {},
   "source": [
    "\n",
    "### Example 6.4.6\n",
    "Joon believes that $50\\%$ of first-time brides in the United States are younger than their grooms. She performs a hypothesis test to determine if the percentage is the same or different from $50\\%$. Joon samples $95$ first-time brides, and $51$ reply that they are younger than their grooms. For the hypothesis test, she uses a $1\\%$ level of significance.\n",
    "\n",
    "#### Solution\n",
    "##### Step 1: State the null and alternative hypotheses.\n",
    "Joon wants to know if the percent of first-time brides that are younger than their grooms is $50\\%$ (that is, if $p = 0.50$) or different from $50\\%$ (that is, if $p \\neq 0.50$). Then the hypotheses are\n",
    "\n",
    "\\begin{align*}\n",
    "H_0:&\\ p = 0.50 \\\\\n",
    "H_a:&\\ p \\neq 0.50\n",
    "\\end{align*}\n",
    "\n",
    "##### Step 2: Assuming the null hypothesis is true, identify the sampling distribution.\n",
    "\n",
    "We are testing the population proportion. By the central limit theorem, sample proportions are normally distributed with mean\n",
    "\n",
    "$$ p = 0.50 $$\n",
    "\n",
    "and standard error\n",
    "\n",
    "$$ \\sqrt{\\frac{p(1 - p)}{n}} = \\sqrt{\\frac{0.50(1 - 0.50)}{95}} = 0.0513. $$\n",
    "\n",
    "##### Step 3: Find the  $p$-value.\n",
    "The point estimate of the population proportion is the sample proportion\n",
    "\n",
    "$$ \\hat{p} = \\frac{x}{n} = \\frac{51}{95} = 0.5368. $$\n",
    "\n",
    "Since $H_a$ uses a not-equal-to symbol, we will perform a two-tailed test. That means half of the $p$-value is in each tail. Since we are assuming the mean of the sampling distribution is $p = 0.50$, the point estimate $\\hat{p} = 0.5368$ is closer to the right tail of the distribution. So we will first calculate the half of the $p$-value in the right tail, as represented by $P(\\hat{p} \\geq 0.5368)$. To do so, we first need to find the $z$-score for $\\hat{p}$:\n",
    "\n",
    "$$ z = \\frac{\\hat{p} - p}{\\sqrt{\\frac{p(1-p)}{n}}} = \\frac{0.5368 - 0.50}{0.0513} = 0.7173. $$\n",
    "\n",
    "So $P(\\hat{p} \\geq 0.5368) = P(z \\geq 0.7173)$. We use R to calculate the probability."
   ]
  },
  {
   "cell_type": "code",
   "execution_count": 9,
   "metadata": {},
   "outputs": [
    {
     "data": {
      "text/html": [
       "0.236594503619779"
      ],
      "text/latex": [
       "0.236594503619779"
      ],
      "text/markdown": [
       "0.236594503619779"
      ],
      "text/plain": [
       "[1] 0.2365945"
      ]
     },
     "metadata": {},
     "output_type": "display_data"
    }
   ],
   "source": [
    "1 - pnorm(q = 0.7173)"
   ]
  },
  {
   "cell_type": "markdown",
   "metadata": {},
   "source": [
    "Then the half of the $p$-value in the right right tail is $P(\\hat{p} \\geq 0.5368) = P(z \\geq 0.7173) = 0.2366.$ To find the full $p$-value, we need to also include the mirror probability in the left tail, so we double the probability we just calculated:\n",
    "\n",
    "$$ p\\text{-value} = 2(0.2366) = 0.4732. $$\n",
    "\n",
    "So, assuming the null hypothesis that the proportion of first-time brides younger than their grooms is $50\\%$, there is a $47.32\\%$ chance that a random survey would yield a sample proportion at least as extreme as $\\hat{p} = 0.5368 = 53.68\\%$.\n",
    "\n",
    "##### Step 4: Draw a conclusion.\n",
    "The level of significance of the hypothesis test is $1\\%$, so $\\alpha = 0.01$. Since\n",
    "\n",
    "$$ p\\text{-value} = 0.4732 \\geq 0.01 = \\alpha, $$\n",
    "\n",
    "we cannot reject the null hypothesis.\n",
    "\n",
    "The evidence is insufficient to conclude that the proportion of first-time brides that are younger than their grooms is different than $50\\%$."
   ]
  }
 ],
 "metadata": {
  "kernelspec": {
   "display_name": "R",
   "language": "R",
   "name": "ir"
  },
  "language_info": {
   "codemirror_mode": "r",
   "file_extension": ".r",
   "mimetype": "text/x-r-source",
   "name": "R",
   "pygments_lexer": "r",
   "version": "4.2.3"
  }
 },
 "nbformat": 4,
 "nbformat_minor": 4
}