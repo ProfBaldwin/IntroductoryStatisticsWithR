{
 "cells": [
  {
   "cell_type": "markdown",
   "metadata": {},
   "source": [
    "# Drawing a Conclusion"
   ]
  },
  {
   "cell_type": "markdown",
   "metadata": {},
   "source": [
    "## Objectives\n",
    "\n",
    "- Understand the meaning of the $p$-value in a hypothesis test.\n",
    "- Compare the $p$-value of a hypothesis test with the predetermined level of significance $\\alpha$ to draw a conclusion."
   ]
  },
  {
   "cell_type": "markdown",
   "metadata": {},
   "source": [
    "## Drawing a Conclusion\n",
    "After identifying the hypotheses for a hypothesis test, we calculate the point estimate from the sample data. Next, we calculate the probability that, if the null hypothesis is true, the point estimate from a randomly selected sample would be at least as extreme as the point estimate we obtained from the given sample. This probability is called the **$p$-value** of the hypothesis test.\n",
    "\n",
    "A small $p$-value means that, if the null hypothesis is true, there is only a small probability of getting the point estimate we do. The smaller the $p$-value, the more unlikely the outcome we get. If this probability is unlikely enough, we may conclude that it is more reasonably to reject the null hypothesis and accept the alternative hypothesis instead.\n",
    "\n",
    "If the $p$-value is not small, we may conclude that we do not have enough evidence to reject the null hypothesis and accept the alternative hypothesis.\n",
    "\n",
    "How do we know if the $p$-value is small enough to reject the null hypothesis? A systematic way to make a decision of whether or not to reject the null hypothesis is to compare the $p$-value to a predetermined **level of significance**, denoted by $\\alpha$ (the Greek letter \"alpha\"). The level of significance $\\alpha$ is probability that the hypothesis test results in a type I error. In this textbook, the value of $\\alpha$ will always be given at the beginning of each problem. Real statisticians must themselves choose a value for $\\alpha$ appropriate to each particular problem. A choice of $\\alpha = 5\\% = 0.05$ is a common choice for real-life hypothesis tests.\n",
    "\n",
    "To determine whether or not to reject the null hypothesis $H_0$, do the following:\n",
    "\n",
    "- If the $p$-value $< \\alpha$ then reject $H_0$. The results from the sample data are significant. There is sufficient evidence to reject the null hypothesis $H_0$ and conclude that the alternative hypothesis $H_a$ is correct.\n",
    "- If the $p$-value $\\geq \\alpha$ then do not reject $H_0$. The results from the sample data are not significant. There is insufficient evidence to reject the null hypothesis $H_0$ and conclude that the alternative hypothesis $H_a$ is correct.\n",
    "\n",
    "```{list-table} Possible results of a hypothesis test and the corresponding conclusions that should be drawn from the results.\n",
    ":widths: 40 60\n",
    ":header-rows: 1\n",
    ":name: hypothesis-conclusion-table\n",
    "* - Result\n",
    "  - Conclusion\n",
    "* - $p$-value $< \\alpha$\n",
    "  - Reject $H_0$ and<br/>Accept $H_a$\n",
    "* - $p$-value $\\geq \\alpha$\n",
    "  - Do Not Reject $H_0$ and<br/>Do Not Accept $H_a$\n",
    "```"
   ]
  },
  {
   "cell_type": "markdown",
   "metadata": {},
   "source": [
    "***"
   ]
  },
  {
   "cell_type": "markdown",
   "metadata": {},
   "source": [
    "\n",
    "### Example 6.3.1\n",
    "Boy Genetics Labs claim that their procedures improve the chances of a pregnancy resulting in a boy.\n",
    "\n",
    "1. What are the null and alternative hypotheses?\n",
    "2. Sample data is gathered, and a hypothesis test is conducted at a $1\\%$ level of significance. If the $p$-value is $0.025$, what conclusion should be made?\n",
    "\n",
    "#### Solution\n",
    "##### Part 1\n",
    "A normal pregnancy has a $50\\%$ chance in being a boy and a $50\\%$ chance of being a girl. So the claim that the procedures improve the chances of a boy can be written mathematically as $p > 0.50$. Since the symbol has no \"equal\" in it, this is the alternative hypothesis. Then the null hypothesis is $p \\leq 0.50$.\n",
    "\n",
    "\\begin{align*}\n",
    "H_0:&\\ p \\leq 0.50 \\\\\n",
    "H_a:&\\ p > 0.50\n",
    "\\end{align*}\n",
    "\n",
    "##### Part 2\n",
    "The level of significance is $\\alpha = 0.01$. So we are only comfortable with rejecting the null hypothesis if the $p$-value is smaller than $\\alpha = 0.01$. Since\n",
    "\n",
    "$$p\\text{-value} = 0.025 \\geq 0.01 = \\alpha, $$\n",
    "\n",
    "we do not have sufficient evidence to reject the null hypothesis.\n",
    "\n",
    "We cannot conclude from this sample data that that Boy Genetics Labs procedures improve the chances of a pregnancy resulting in a boy."
   ]
  },
  {
   "cell_type": "markdown",
   "metadata": {},
   "source": [
    "***"
   ]
  },
  {
   "cell_type": "markdown",
   "metadata": {},
   "source": [
    "\n",
    "### Example 6.3.2\n",
    "Your friend claims that his mean golf score is $63$. You want to test to see if his mean score is actually higher.\n",
    "\n",
    "1. What are the null and alternative hypotheses?\n",
    "2. A hypothesis test is conducted at the $5\\%$ level of significance. If the $p$-value is $0.045$, what conclusion should be made?\n",
    "\n",
    "#### Solution\n",
    "##### Part 1\n",
    "You want to test if your friend's mean golf score is higher than $63$. Written mathematically, you want to test if $\\mu > 63$. The symbol used in this inequality has no \"equal\" in it, so the inequality represents the alternative hypothesis of the hypothesis test. The null hypothesis is the mathematical opposite: $\\mu \\leq 63$.\n",
    "\n",
    "\\begin{align*}\n",
    "H_0:&\\ \\mu \\leq 63 \\\\\n",
    "H_a:&\\ \\mu > 63\n",
    "\\end{align*}\n",
    "\n",
    "##### Part 2\n",
    "Since\n",
    "\n",
    "$$p\\text{-value} = 0.045 < 0.05 = \\alpha, $$\n",
    "\n",
    "the evidence is strong enough to reject the null hypothesis.\n",
    "\n",
    "We conclude that your friend's mean golf score is higher than $\\mu = 63$.\n"
   ]
  }
 ],
 "metadata": {
  "kernelspec": {
   "display_name": "R",
   "language": "R",
   "name": "ir"
  },
  "language_info": {
   "codemirror_mode": "r",
   "file_extension": ".r",
   "mimetype": "text/x-r-source",
   "name": "R",
   "pygments_lexer": "r",
   "version": "4.2.3"
  }
 },
 "nbformat": 4,
 "nbformat_minor": 4
}