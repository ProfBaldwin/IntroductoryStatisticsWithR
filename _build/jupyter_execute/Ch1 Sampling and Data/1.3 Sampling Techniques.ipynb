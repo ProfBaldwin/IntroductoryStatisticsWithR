{
 "cells": [
  {
   "cell_type": "markdown",
   "metadata": {},
   "source": [
    "# Sampling Techniques"
   ]
  },
  {
   "cell_type": "markdown",
   "metadata": {},
   "source": [
    "## Objectives\n",
    "- Identify the standard methods of obtaining data and the advantages and disadvantages of each.\n",
    "- Construct a random sample from a population using simple random sampling, systematic sampling, stratified sampling, and cluster sampling."
   ]
  },
  {
   "cell_type": "markdown",
   "metadata": {},
   "source": [
    "## Sampling and Bias\n",
    "Gathering information about an entire population often costs too much or is virtually impossible. Instead, we gather information about a sample of the population. **A sample should have the same characteristics as the population it is representing.** If the sample does not have the same characteristics as the population, the statistic may not be a good estimator for the parameter. When this happens, we say the sample statistic is **biased**.\n",
    "\n",
    "For example, suppose a pollster wants to find out if the United States population believes a college education is important for a successful career. If the pollster only samples college students, then we might expect the proportion of the sample that believes college is important to be higher than the proportion of the population that believes college is important. Because the sample (which includes only college students) does not have the same characteristics as the population (which includes college students, college graduates, those who have never been to college, etc.), the sample statistic probably isn't a good estimate of the population parameter.\n",
    "\n",
    "To try to make sure that the sample has the same characteristics as the population, most statisticians use various methods of **random sampling**. There are several different methods of random sampling. In each form of random sampling, each member of a population initially has an equal chance of being selected for the sample. Each method has pros and cons. We describe some of the most common methods below."
   ]
  },
  {
   "cell_type": "markdown",
   "metadata": {},
   "source": [
    "## Simple Random Sampling\n",
    "The easiest method to describe is called a **simple random sample**. In simple random sampling, each member of the population has an equal chance of being chosen for the sample and is chosen independent of any other member in the population.\n",
    "\n",
    "```{figure} Simple_random_sampling.png\n",
    "---\n",
    "width: 60%\n",
    "alt: A simple random sample of four individuals is chosen from a population of twelve individuals.\n",
    "name: simple_random_sampling\n",
    "---\n",
    "A simple random sample of four individuals is chosen from a population of twelve individuals.[^simple-random-attribution]\n",
    "```\n",
    "\n",
    "[^simple-random-attribution]: {numref}`Figure {number} <simple_random_sampling>` was [created by Dan Kernler](https://commons.wikimedia.org/wiki/File:Simple_random_sampling.PNG) and is licensed under the [Creative Commons Attribution-Share Alike 4.0 International](https://creativecommons.org/licenses/by-sa/4.0/deed.en) license.\n",
    "\n",
    "For example, suppose Professor Baldwin wants to form a six-person study group from the students in his precalculus class, which has 30 students. To choose a simple random sample of size six from the students of his class, Professor Baldwin could put all 30 names in a hat, shake the hat, close his eyes, and pick out six names. A more technological way is for Professor Baldwin to first list the last names of the members of his class together with a number, as in {numref}`name-table`.\n",
    "\n",
    "```{list-table} Lisa's Class Roster.\n",
    ":header-rows: 1\n",
    ":name: name-table\n",
    "\n",
    "* - Number\n",
    "  - Name\n",
    "  - Number\n",
    "  - Name\n",
    "  - Number\n",
    "  - Name\n",
    "* - 1\n",
    "  - Anselmo\n",
    "  - 11\n",
    "  - Khan\n",
    "  - 21\n",
    "  - Roquero\n",
    "* - 2\n",
    "  - Bautista\n",
    "  - 12\n",
    "  - Legeny\n",
    "  - 22\n",
    "  - Roth\n",
    "* - 3\n",
    "  - Bayani\n",
    "  - 13\n",
    "  - Lundquist\n",
    "  - 23\n",
    "  - Rowell\n",
    "* - 4\n",
    "  - Cheng\n",
    "  - 14\n",
    "  - Macierz\n",
    "  - 24\n",
    "  - Salangsang\n",
    "* - 5\n",
    "  - Cuarismo\n",
    "  - 15\n",
    "  - Motogawa\n",
    "  - 25\n",
    "  - Slade\n",
    "* - 6\n",
    "  - Cuningham\n",
    "  - 16\n",
    "  - Okimoto\n",
    "  - 26\n",
    "  - Stratcher\n",
    "* - 7\n",
    "  - Fontecha\n",
    "  - 17\n",
    "  - Patel\n",
    "  - 27\n",
    "  - Tallai\n",
    "* - 8\n",
    "  - Hong\n",
    "  - 18\n",
    "  - Price\n",
    "  - 28\n",
    "  - Tran\n",
    "* - 9\n",
    "  - Hoobler\n",
    "  - 19\n",
    "  - Quizon\n",
    "  - 29\n",
    "  - Wai\n",
    "* - 10\n",
    "  - Jiao\n",
    "  - 20\n",
    "  - Reyes\n",
    "  - 30\n",
    "  - Wood\n",
    "```\n",
    "\n",
    "Professor Baldwin could now use a computer to generate six random numbers and choose the individuals on the table matching the numbers. We can do this in R with the <code>sample</code> function:\n",
    "\n",
    "```\n",
    "sample(x, size)\n",
    "```\n",
    "\n",
    "Here, <code>x</code> is a list of the members of the population, and <code>size</code> is the size of the sample we desire. The <code>sample</code> function will randomly choose a simple random sample from population <code>x</code> of the given <code>size</code>.\n",
    "\n",
    "In this example, we would want <code>x</code> to be a list of numbers from 1 to 30 corresponding to the numbers on our table. R makes it easy to create a list of consecutive numbers. Simply type <code>start:end</code>, where <code>start</code> is the first number in the list and <code>end</code> is the last number in the list. For a list from 1 to 30, we would type <code>1:30</code>.\n",
    "\n",
    "And since we want to choose six students from the class to be in the study group, <code>size</code> will be 6."
   ]
  },
  {
   "cell_type": "code",
   "execution_count": 1,
   "metadata": {},
   "outputs": [
    {
     "data": {
      "text/html": [
       "<style>\n",
       ".list-inline {list-style: none; margin:0; padding: 0}\n",
       ".list-inline>li {display: inline-block}\n",
       ".list-inline>li:not(:last-child)::after {content: \"\\00b7\"; padding: 0 .5ex}\n",
       "</style>\n",
       "<ol class=list-inline><li>4</li><li>25</li><li>19</li><li>7</li><li>17</li><li>18</li></ol>\n"
      ],
      "text/latex": [
       "\\begin{enumerate*}\n",
       "\\item 4\n",
       "\\item 25\n",
       "\\item 19\n",
       "\\item 7\n",
       "\\item 17\n",
       "\\item 18\n",
       "\\end{enumerate*}\n"
      ],
      "text/markdown": [
       "1. 4\n",
       "2. 25\n",
       "3. 19\n",
       "4. 7\n",
       "5. 17\n",
       "6. 18\n",
       "\n",
       "\n"
      ],
      "text/plain": [
       "[1]  4 25 19  7 17 18"
      ]
     },
     "metadata": {},
     "output_type": "display_data"
    }
   ],
   "source": [
    "# Randomly choose 6 students from the class\n",
    "sample(1:30, size = 6)"
   ]
  },
  {
   "cell_type": "markdown",
   "metadata": {},
   "source": [
    "````{margin} Simple Random Sampling Study Group\n",
    "```{list-table} Students in the study group chosen by simple random sampling.\n",
    ":header-rows: 1\n",
    ":name: simple-random-table\n",
    "* - Number\n",
    "  - Name\n",
    "* - 4\n",
    "  - Cheng\n",
    "* - 25\n",
    "  - Slade\n",
    "* - 19\n",
    "  - Quizon\n",
    "* - 7\n",
    "  - Fontecha\n",
    "* - 17\n",
    "  - Patel\n",
    "* - 18\n",
    "  - Price\n",
    "```\n",
    "````"
   ]
  },
  {
   "cell_type": "markdown",
   "metadata": {},
   "source": [
    "\n",
    "In this case, the <code>sample</code> function randomly chose students 4, 25, 19, 7, 17, and 18 (Cheng, Slade, Quizon, Fontecha, Patel, and Price) to be in the study group. (See {numref}`simple-random-table`.)\n",
    "\n",
    "For large samples, simple random sampling tends to do a very good job at representing the characteristics of a population. However, the smaller the sample is, the more likely it is that some characteristics or groups of a population won't be accurately represented in the sample. Also, to make sure that each member of the population has an equal chance of being chosen, simple random sampling requires a list of the full population, which may be difficult or impossible to obtain for large populations. Because of this, simple random sampling can sometimes be tedious, time consuming, and expensive to implement."
   ]
  },
  {
   "cell_type": "code",
   "execution_count": 37,
   "metadata": {
    "tags": [
     "remove-cell"
    ]
   },
   "outputs": [
    {
     "data": {
      "text/html": [
       "<strong>png:</strong> 2"
      ],
      "text/latex": [
       "\\textbf{png:} 2"
      ],
      "text/markdown": [
       "**png:** 2"
      ],
      "text/plain": [
       "png \n",
       "  2 "
      ]
     },
     "metadata": {},
     "output_type": "display_data"
    }
   ],
   "source": [
    "# Generates the image of the two bar charts comparing human randomness with expected randomness below.\n",
    "responses = c(3, 7, 10, 14, 5, 24, 21, 5, 20, 4)\n",
    "n = sum(responses)\n",
    "\n",
    "\n",
    "png(\"human_randomness.png\", width = 1000, height = 500)\n",
    "\n",
    "par(mfrow = c(1, 2), cex.main = 2, cex.axis = 1.5, cex.lab = 2, mar = c(5, 5, 5, 0))\n",
    "\n",
    "# \"Random\" numbers chosen by students\n",
    "barplot(height = responses, names = 1:10, ylim = c(0, 25), ylab = \"Frequency\", xlab = \"Number Chosen\", main = paste(n, \"\\\"Random\\\" Numbers\\nChosen by Students\"))\n",
    "\n",
    "# Expected distribution with true randomness\n",
    "barplot(height = rep(n/10, 10), names = 1:10, ylim = c(0, 25), ylab = \"Frequency\", xlab = \"Number Chosen\", main = paste(\"Expected Distribution of\", n, \"\\nNumbers Chosen Truly Randomly\"))\n",
    "\n",
    "dev.off()"
   ]
  },
  {
   "cell_type": "markdown",
   "metadata": {},
   "source": [
    "\n",
    "````{warning}\n",
    "Humans don't have a good intuition for randomness. To demonstrate this point, the author asked 113 of his math students to pick a random number from 1 to 10. {numref}`Figure {number} <human_randomness>` shows a bar chart on the left of how many times each number was chosen by the students, as well as a bar chart on the right of how many times we would expect each number to be chosen by a truly uniformly random process.\n",
    "```{figure} human_randomness.png\n",
    "---\n",
    "width: 100%\n",
    "alt: Two bar charts. The bar chart on the left shows how many times each number from 1 to 10 was chosen by 113 students. The bar chart on the right shows how many we would expect each number from 1 to 10 to be chosen by a random process.\n",
    "name: human_randomness\n",
    "---\n",
    "The bar chart on the left shows how many times each number from 1 to 10 was chosen by 113 students. The bar chart on the right shows how many times we would expect each number to be chosen if the numbers were actually chosen randomly. The dramatic differences in the bar charts suggest that the students did not truly choose their numbers randomly.\n",
    "```\n",
    "With a truly random process, we would expect 1 to be chosen about as often as 6 is chosen. However, only three of the 113 students chose 1, while twenty-four students chose 6.\n",
    "\n",
    "When you need random values, **do not trust yourself to be random.** Instead, use a random process like rolling a die, picking values out of a hat, or (as we will most often do in this class) using a computer to generate random values.\n",
    "````"
   ]
  },
  {
   "cell_type": "markdown",
   "metadata": {},
   "source": [
    "***"
   ]
  },
  {
   "cell_type": "markdown",
   "metadata": {},
   "source": [
    "### Example 1.3.1\n",
    "\n",
    "{numref}`revenues-per-capita-1` contains real data of the revenues per capita from each city in Riverside County, California in 2019. The data in the table is displayed how data in a spreadsheet might be displayed. Sample five cities using simple random sampling.\n",
    "\n",
    "```{csv-table} Real data from the cities in Riverside County, California in 2019. The data is organized how data might be organized in a spreadsheet with each row labeled with a number and each column labeled with a letter. [^revenues-per-capita-attribution]\n",
    ":file: RiversideCountyRevenuesPerCapita.csv\n",
    ":header-rows: 2\n",
    ":stub-columns: 1\n",
    ":widths: 5 19 19 19 19 19\n",
    ":name: revenues-per-capita-1\n",
    "```\n",
    "\n",
    "[^revenues-per-capita-attribution]: Riverside County data on 2019 city revenues per capita obtained from https://data.ca.gov/dataset/city-revenues-per-capita\n",
    "\n",
    "#### Solution\n",
    "Rather than assign each city a number, we can use the row numbers already on the spreadsheet. Note, though, that row $1$ contains the column headers. The actual data is contained in rows $2$ to $29$. To perform simple random sampling, we use the <code>sample</code> function to select five random row numbers between $2$ and $29$."
   ]
  },
  {
   "cell_type": "code",
   "execution_count": 1,
   "metadata": {},
   "outputs": [
    {
     "data": {
      "text/html": [
       "<style>\n",
       ".list-inline {list-style: none; margin:0; padding: 0}\n",
       ".list-inline>li {display: inline-block}\n",
       ".list-inline>li:not(:last-child)::after {content: \"\\00b7\"; padding: 0 .5ex}\n",
       "</style>\n",
       "<ol class=list-inline><li>2</li><li>10</li><li>13</li><li>23</li><li>17</li></ol>\n"
      ],
      "text/latex": [
       "\\begin{enumerate*}\n",
       "\\item 2\n",
       "\\item 10\n",
       "\\item 13\n",
       "\\item 23\n",
       "\\item 17\n",
       "\\end{enumerate*}\n"
      ],
      "text/markdown": [
       "1. 2\n",
       "2. 10\n",
       "3. 13\n",
       "4. 23\n",
       "5. 17\n",
       "\n",
       "\n"
      ],
      "text/plain": [
       "[1]  2 10 13 23 17"
      ]
     },
     "metadata": {},
     "output_type": "display_data"
    }
   ],
   "source": [
    "sample(2:29, size = 5)"
   ]
  },
  {
   "cell_type": "markdown",
   "metadata": {},
   "source": [
    "Our sample includes the city in row 2 (Banning), row 10 (Desert Hot Springs), row 13 (Indian Wells), row 23 (Palm Springs), and row 17 (La Quinta)."
   ]
  },
  {
   "cell_type": "markdown",
   "metadata": {},
   "source": [
    "***"
   ]
  },
  {
   "cell_type": "markdown",
   "metadata": {},
   "source": [
    "## Systematic Sampling\n",
    "In a **systematic sample**, the population is in some order, and every $k$th member of the population is sampled for some number $k$ called the **sampling interval**. (For example, if $k = 7$, then every $7$th member of the population is included.) To make sure we sample members throughout the whole population, we calculate the sampling interval $k$ using the formula\n",
    "\n",
    "$$k = \\frac{N}{n}, $$\n",
    "\n",
    "where $N$ is the size of the population, and $n$ is the size of the sample we want. To make the sampling random, one of the first $k$ members of the population is randomly chosen as the first member of the sample and the starting point of the sampling process.\n",
    "\n",
    "```{figure} Systematic_sampling.png\n",
    "---\n",
    "width: 90%\n",
    "alt: Four individuals are chosen from a population of twelve individuals by sampling every third individual.\n",
    "name: systematic_sampling\n",
    "---\n",
    "Four individuals are chosen from a population of twelve individuals using systematic sampling. The second individual is randomly chosen as a starting point. Since there are $N = 12$ individuals in the population and the size of the sample is $n = 4$, the interval between each individual sampled is $k = 12/4 = 3$. So every 3rd individual is chosen from the starting point.[^systematic-attribution]\n",
    "```\n",
    "\n",
    "[^systematic-attribution]: {numref}`Figure {number} <systematic_sampling>` was [created by Dan Kernler](https://commons.wikimedia.org/wiki/File:Systematic_sampling.PNG) and is licensed under the [Creative Commons Attribution-Share Alike 4.0 International](https://creativecommons.org/licenses/by-sa/4.0/deed.en) license.\n",
    "\n",
    "For example, suppose Professor Baldwin wants to choose six students from his precalculus class for a study group using systematic sampling. The students are already in an ordered list in {numref}`name-table`. To begin the systematic sampling, Professor Baldwin first calculates the sampling interval $k$. Since there are $N = 30$ total students in the class, and since Professor Baldwin wants to sample $n = 6$ of the students for the study group, the sampling interval is\n",
    "\n",
    "$$ k = \\frac{30}{6} = 5. $$\n",
    "\n",
    "So Professor Baldwin will sample every $5$th student.\n",
    "\n",
    "To determine which student is the first student chosen to be sampled, Professor Baldwin uses R to randomly select one of the first 5 students.\n",
    "\n",
    "must randomly choose a starting point. To make sure the choice is truly random, we can use the <code>sample</code> function. We will choose $1$ student from the list of $30$ students as a starting point. Systematic sampling is frequently chosen because it is a simple method."
   ]
  },
  {
   "cell_type": "code",
   "execution_count": 1,
   "metadata": {},
   "outputs": [
    {
     "data": {
      "text/html": [
       "4"
      ],
      "text/latex": [
       "4"
      ],
      "text/markdown": [
       "4"
      ],
      "text/plain": [
       "[1] 4"
      ]
     },
     "metadata": {},
     "output_type": "display_data"
    }
   ],
   "source": [
    "# Randomly choose one student as a starting point\n",
    "sample(1:5, size = 1)"
   ]
  },
  {
   "cell_type": "markdown",
   "metadata": {},
   "source": [
    "````{margin} Systematic Sampling Study Group\n",
    "```{list-table} Students in the study group chosen by sytematic sampling.\n",
    ":header-rows: 1\n",
    ":name: systematic-table\n",
    "* - Number\n",
    "  - Name\n",
    "* - $4$\n",
    "  - Cheng\n",
    "* - $9$\n",
    "  - Hoobler\n",
    "* - $14$\n",
    "  - Macierz\n",
    "* - $19$\n",
    "  - Quizon\n",
    "* - $24$\n",
    "  - Salangsang\n",
    "* - $29$\n",
    "  - Wai\n",
    "```\n",
    "````"
   ]
  },
  {
   "cell_type": "markdown",
   "metadata": {},
   "source": [
    "So the $4$th student in {numref}`name-table`, Cheng, is the first person in the study group and the starting point of the systematic sample. \n",
    "\n",
    "Since the sampling interval is $k = 5$, Professor Baldwin next samples every $5$th student in the population after Cheng. After Cheng, the next student in the study group is student $4 + 5 = 9$, Hoobler. The next student after Hoobler is student number $9 + 5 = 14$, Macierz. The next student is number $14 + 5 = 19$, Quizon, then student number $19 + 5 = 24$, Salangsang. The final student is student number $24 + 5 = 29$, Wai. (See {numref}`systematic-table`.)\n",
    "\n",
    "Systematic sampling is a usually effective sampling technique that is easy to understand and implement. However, if members of the population with a certain characteristic regularly repeat in the order, systematic sampling may over-sample or under-sample these members. For example, suppose that a microchip manufacturer performs quality testing on every $9$th microchip in the assembly line. If there is a fault on the assembly line that causes every $3$rd microchip manufactured to malfunction, then the quality testing will either sample none of the faulty microchips (if the systematic sampling is started on a working microchip), or the quality testing will sample only faulty microchips (if the systematic sampling is started on a faulty microchip). In either case, the sample would be biased."
   ]
  },
  {
   "cell_type": "markdown",
   "metadata": {},
   "source": [
    "***"
   ]
  },
  {
   "cell_type": "markdown",
   "metadata": {},
   "source": [
    "### Example 1.3.2\n",
    "\n",
    "The spreadsheet below contains real data of the revenues per capita of each city in Riverside County, California in 2019. Sample five cities using systematic sampling.\n",
    "\n",
    "```{csv-table} Real data from the cities in Riverside County, California in 2019. The data is organized how data might be organized in a spreadsheet with each row labeled with a number and each column labeled with a letter. [^revenues-per-capita-attribution]\n",
    ":file: RiversideCountyRevenuesPerCapita.csv\n",
    ":header-rows: 2\n",
    ":stub-columns: 1\n",
    ":widths: 5 19 19 19 19 19\n",
    ":name: revenues-per-capita-2\n",
    "```\n",
    "\n",
    "#### Solution\n",
    "We must first determine the sampling interval $k$ between the cities in the sample. Since there are $N = 28$ cities in the population, and we want a sample size of $n = 5$, we calculate\n",
    "\n",
    "$$ k = \\frac{28}{5} = 5.6. $$\n",
    "\n",
    "But the size of the sampling interval must be a whole number, so we round $5.6$ to a sampling interval of $k = 6$.\n",
    "\n",
    "Next, we will randomly choose one city with which to begin the systematic sampling. We use the <code>sample</code> function to choose one city from the from the first $k = 6$ cities in the population. (Note that the first $6$ cities are on rows $2$ to $7$.)"
   ]
  },
  {
   "cell_type": "code",
   "execution_count": 11,
   "metadata": {
    "tags": []
   },
   "outputs": [
    {
     "data": {
      "text/html": [
       "3"
      ],
      "text/latex": [
       "3"
      ],
      "text/markdown": [
       "3"
      ],
      "text/plain": [
       "[1] 3"
      ]
     },
     "metadata": {},
     "output_type": "display_data"
    }
   ],
   "source": [
    "sample(2:7, size = 1)"
   ]
  },
  {
   "cell_type": "markdown",
   "metadata": {},
   "source": [
    "We will begin our systematic sampling with the city on row $3$ (Eastvale). Since the sampling interval is $k = 6$, we sample every $6$th city after Eastvale. The next city to be sampled is Corona on row $3 + 6 = 9$. After Corona is the city on row $9 + 6 = 15$, Jurupa Valley. Next is Norco on row $15 + 6 = 21$. The last city to be included in the sample is San Jacinto on row $21 + 6 = 27$."
   ]
  },
  {
   "cell_type": "markdown",
   "metadata": {},
   "source": [
    "***"
   ]
  },
  {
   "cell_type": "markdown",
   "metadata": {},
   "source": [
    "## Stratified Sampling\n",
    "\n",
    "To choose a **stratified sample**, divide the population into groups called strata, then randomly choose a **proportionate** number of members from each stratum. For example, if a certain stratum consists of 27% of the population, the sample should have 27% of its members taken from that strata. Usually, strata are chosen to guarantee that certain important characteristics of the population are present in the sample. For instance, imagine a pollster wants to make sure their sample accurately represents each ethnicity of the population. The pollster can do this using stratified sampling where the strata are the different ethnicities of the population. If the population is 13.4% African American and 5.9% Asian, then the pollster's stratified sample will be 13.4% African American and 5.9% Asian.\n",
    "\n",
    "```{figure} Stratified_sampling.png\n",
    "---\n",
    "width: 60%\n",
    "alt: Four individuals are chosen from a population of twelve individuals by dividing the population into strata (groups) and sampling a proportionate number of individuals from each strata.\n",
    "name: stratified_sampling\n",
    "---\n",
    "Four individuals are chosen from a population of twelve individuals by dividing the population into strata (groups) based on color, then sampling a proportionate number of individuals from each strata. In this example, one individual is sampled from the white stratum, two individuals from the black stratum, and one individual from the gray stratum. Twice as many individuals were sampled from the black stratum than from the other strata because the black stratum is twice as large as the other strata.[^stratified-attribution]\n",
    "```\n",
    "\n",
    "[^stratified-attribution]: {numref}`Figure {number} <stratified_sampling>` was [created by Dan Kernler](https://commons.wikimedia.org/wiki/File:Stratified_sampling.PNG) and is licensed under the [Creative Commons Attribution-Share Alike 4.0 International](https://creativecommons.org/licenses/by-sa/4.0/deed.en) license.\n",
    "\n",
    "To better illustrate stratified sampling, suppose Professor Baldwin was to choose six students from his precalculus class for a study group, but wants students with an A, students with a B, and students with a C or lower to be proportionately represented in the study group. He divides the 30 students in the class into three different strata based on their grade, as shown in {numref}`stratified-list`. (Note that we have assigned each student a new number in the stratum they are in. This will make it easier to randomly sample students in each stratum later.)"
   ]
  },
  {
   "cell_type": "code",
   "execution_count": 13,
   "metadata": {
    "collapsed": true,
    "jupyter": {
     "outputs_hidden": true
    },
    "tags": [
     "remove-cell"
    ]
   },
   "outputs": [
    {
     "data": {
      "text/html": [
       "<style>\n",
       ".list-inline {list-style: none; margin:0; padding: 0}\n",
       ".list-inline>li {display: inline-block}\n",
       ".list-inline>li:not(:last-child)::after {content: \"\\00b7\"; padding: 0 .5ex}\n",
       "</style>\n",
       "<ol class=list-inline><li>2</li><li>4</li><li>8</li><li>9</li><li>10</li><li>13</li><li>17</li><li>24</li><li>26</li><li>28</li></ol>\n"
      ],
      "text/latex": [
       "\\begin{enumerate*}\n",
       "\\item 2\n",
       "\\item 4\n",
       "\\item 8\n",
       "\\item 9\n",
       "\\item 10\n",
       "\\item 13\n",
       "\\item 17\n",
       "\\item 24\n",
       "\\item 26\n",
       "\\item 28\n",
       "\\end{enumerate*}\n"
      ],
      "text/markdown": [
       "1. 2\n",
       "2. 4\n",
       "3. 8\n",
       "4. 9\n",
       "5. 10\n",
       "6. 13\n",
       "7. 17\n",
       "8. 24\n",
       "9. 26\n",
       "10. 28\n",
       "\n",
       "\n"
      ],
      "text/plain": [
       " [1]  2  4  8  9 10 13 17 24 26 28"
      ]
     },
     "metadata": {},
     "output_type": "display_data"
    },
    {
     "data": {
      "text/html": [
       "<style>\n",
       ".list-inline {list-style: none; margin:0; padding: 0}\n",
       ".list-inline>li {display: inline-block}\n",
       ".list-inline>li:not(:last-child)::after {content: \"\\00b7\"; padding: 0 .5ex}\n",
       "</style>\n",
       "<ol class=list-inline><li>1</li><li>3</li><li>5</li><li>7</li><li>11</li><li>12</li><li>16</li><li>18</li><li>19</li><li>20</li><li>21</li><li>22</li><li>25</li><li>27</li><li>29</li></ol>\n"
      ],
      "text/latex": [
       "\\begin{enumerate*}\n",
       "\\item 1\n",
       "\\item 3\n",
       "\\item 5\n",
       "\\item 7\n",
       "\\item 11\n",
       "\\item 12\n",
       "\\item 16\n",
       "\\item 18\n",
       "\\item 19\n",
       "\\item 20\n",
       "\\item 21\n",
       "\\item 22\n",
       "\\item 25\n",
       "\\item 27\n",
       "\\item 29\n",
       "\\end{enumerate*}\n"
      ],
      "text/markdown": [
       "1. 1\n",
       "2. 3\n",
       "3. 5\n",
       "4. 7\n",
       "5. 11\n",
       "6. 12\n",
       "7. 16\n",
       "8. 18\n",
       "9. 19\n",
       "10. 20\n",
       "11. 21\n",
       "12. 22\n",
       "13. 25\n",
       "14. 27\n",
       "15. 29\n",
       "\n",
       "\n"
      ],
      "text/plain": [
       " [1]  1  3  5  7 11 12 16 18 19 20 21 22 25 27 29"
      ]
     },
     "metadata": {},
     "output_type": "display_data"
    },
    {
     "data": {
      "text/html": [
       "<style>\n",
       ".list-inline {list-style: none; margin:0; padding: 0}\n",
       ".list-inline>li {display: inline-block}\n",
       ".list-inline>li:not(:last-child)::after {content: \"\\00b7\"; padding: 0 .5ex}\n",
       "</style>\n",
       "<ol class=list-inline><li>6</li><li>14</li><li>15</li><li>23</li><li>30</li></ol>\n"
      ],
      "text/latex": [
       "\\begin{enumerate*}\n",
       "\\item 6\n",
       "\\item 14\n",
       "\\item 15\n",
       "\\item 23\n",
       "\\item 30\n",
       "\\end{enumerate*}\n"
      ],
      "text/markdown": [
       "1. 6\n",
       "2. 14\n",
       "3. 15\n",
       "4. 23\n",
       "5. 30\n",
       "\n",
       "\n"
      ],
      "text/plain": [
       "[1]  6 14 15 23 30"
      ]
     },
     "metadata": {},
     "output_type": "display_data"
    }
   ],
   "source": [
    "S = 1:30\n",
    "A = sort(sample(S, size = 10))\n",
    "A\n",
    "B = sort(sample(S[-A], size = 15))\n",
    "B\n",
    "C = S[-union(A, B)]\n",
    "C"
   ]
  },
  {
   "cell_type": "markdown",
   "metadata": {},
   "source": [
    "````{list-table} Students are divided into strata based on their grade in the course.\n",
    ":header-rows: 1\n",
    ":name: stratified-list\n",
    "\n",
    "* - Grade A Students\n",
    "  - Grade B Students\n",
    "  - Grade C or Lower Students\n",
    "* - ```{list-table}\n",
    "    :header-rows: 1\n",
    "    * - Number in Stratum\n",
    "      - Name\n",
    "    * - 1\n",
    "      - Bautista\n",
    "    * - 2\n",
    "      - Cheng\n",
    "    * - 3\n",
    "      - Hong\n",
    "    * - 4\n",
    "      - Hoobler\n",
    "    * - 5\n",
    "      - Jiao\n",
    "    * - 6\n",
    "      - Lundquist\n",
    "    * - 7\n",
    "      - Patel\n",
    "    * - 8\n",
    "      - Salangsang\n",
    "    * - 9\n",
    "      - Stratcher\n",
    "    * - 10\n",
    "      - Tran\n",
    "    ```\n",
    "  - ```{list-table}\n",
    "    :header-rows: 1\n",
    "    * - Number in Stratum\n",
    "      - Name\n",
    "    * - 1\n",
    "      - Anselmo\n",
    "    * - 2\n",
    "      - Bayani\n",
    "    * - 3\n",
    "      - Cuarismo\n",
    "    * - 4\n",
    "      - Fontecha\n",
    "    * - 5\n",
    "      - Khan\n",
    "    * - 6\n",
    "      - Legeny\n",
    "    * - 7\n",
    "      - Okimoto\n",
    "    * - 8\n",
    "      - Price\n",
    "    * - 9\n",
    "      - Quizon\n",
    "    * - 10\n",
    "      - Reyes\n",
    "    * - 11\n",
    "      - Roquero\n",
    "    * - 12\n",
    "      - Roth\n",
    "    * - 13\n",
    "      - Slade\n",
    "    * - 14\n",
    "      - Tallai\n",
    "    * - 15\n",
    "      - Wai\n",
    "    ```\n",
    "  - ```{list-table}\n",
    "    :header-rows: 1\n",
    "    * - Number in Stratum\n",
    "      - Name\n",
    "    * - 1\n",
    "      - Cuningham\n",
    "    * - 2\n",
    "      - Macierz\n",
    "    * - 3\n",
    "      - Motogawa\n",
    "    * - 4\n",
    "      - Rowell\n",
    "    * - 5\n",
    "      - Wood\n",
    "    ```\n",
    "````"
   ]
  },
  {
   "cell_type": "markdown",
   "metadata": {},
   "source": [
    "There are 10 students with an A out of the 30 total students in the class, so the proportion of students in the class in the \"Grade A\" stratum is $\\frac{10}{30}$. Since the size of the study group is 6, there should be $\\frac{10}{30} \\times 6 = 2$ students from the \"Grade A\" stratum in the study group. Similarly, the \"Grade B\" stratum has 15 students out of the 30 total students in the class, so there should be $\\frac{15}{30} \\times 6 = 3$ students from the \"Grade B\" stratum in the study group. And there should be $\\frac{5}{30} \\times 6 = 1$ student from the \"Grade C\" or Lower stratum in the study group since 5 of the 30 students in the class have a grade of C or lower.\n",
    "\n",
    "We can use simple random sampling using the <code>sample</code> function to choose the students for the study group in each stratum. We want to choose 2 students from the 10 students in the \"Grade A\" stratum."
   ]
  },
  {
   "cell_type": "code",
   "execution_count": 15,
   "metadata": {},
   "outputs": [
    {
     "data": {
      "text/html": [
       "<style>\n",
       ".list-inline {list-style: none; margin:0; padding: 0}\n",
       ".list-inline>li {display: inline-block}\n",
       ".list-inline>li:not(:last-child)::after {content: \"\\00b7\"; padding: 0 .5ex}\n",
       "</style>\n",
       "<ol class=list-inline><li>1</li><li>9</li></ol>\n"
      ],
      "text/latex": [
       "\\begin{enumerate*}\n",
       "\\item 1\n",
       "\\item 9\n",
       "\\end{enumerate*}\n"
      ],
      "text/markdown": [
       "1. 1\n",
       "2. 9\n",
       "\n",
       "\n"
      ],
      "text/plain": [
       "[1] 1 9"
      ]
     },
     "metadata": {},
     "output_type": "display_data"
    }
   ],
   "source": [
    "# Randomly choose 2 students from the Grade A stratum\n",
    "sample(1:10, size = 2)"
   ]
  },
  {
   "cell_type": "markdown",
   "metadata": {},
   "source": [
    "So student 1 (Bautista) and student 9 (Stratcher) from the \"Grade A\" stratum will be in the study group.\n",
    "\n",
    "Similarly, we choose 3 of the 15 students in the \"Grade B\" stratum for the study group."
   ]
  },
  {
   "cell_type": "code",
   "execution_count": 16,
   "metadata": {},
   "outputs": [
    {
     "data": {
      "text/html": [
       "<style>\n",
       ".list-inline {list-style: none; margin:0; padding: 0}\n",
       ".list-inline>li {display: inline-block}\n",
       ".list-inline>li:not(:last-child)::after {content: \"\\00b7\"; padding: 0 .5ex}\n",
       "</style>\n",
       "<ol class=list-inline><li>2</li><li>5</li><li>15</li></ol>\n"
      ],
      "text/latex": [
       "\\begin{enumerate*}\n",
       "\\item 2\n",
       "\\item 5\n",
       "\\item 15\n",
       "\\end{enumerate*}\n"
      ],
      "text/markdown": [
       "1. 2\n",
       "2. 5\n",
       "3. 15\n",
       "\n",
       "\n"
      ],
      "text/plain": [
       "[1]  2  5 15"
      ]
     },
     "metadata": {},
     "output_type": "display_data"
    }
   ],
   "source": [
    "# Randomly choose 3 students from the Grade B stratum\n",
    "sample(1:15, size = 3)"
   ]
  },
  {
   "cell_type": "markdown",
   "metadata": {},
   "source": [
    "We include student 2 (Bayani), student 5 (Khan), and student 15 (Wai) from the \"Grade B\" stratum in the study group.\n",
    "\n",
    "Finally, we want to select 1 of the 5 students in the \"Grade C or Lower\" stratum for the study group."
   ]
  },
  {
   "cell_type": "code",
   "execution_count": 18,
   "metadata": {},
   "outputs": [
    {
     "data": {
      "text/html": [
       "2"
      ],
      "text/latex": [
       "2"
      ],
      "text/markdown": [
       "2"
      ],
      "text/plain": [
       "[1] 2"
      ]
     },
     "metadata": {},
     "output_type": "display_data"
    }
   ],
   "source": [
    "# Randomly choose 1 student from the Grade C or Lower stratum\n",
    "sample(1:5, size = 1)"
   ]
  },
  {
   "cell_type": "markdown",
   "metadata": {},
   "source": [
    "````{margin} Stratified Sampling Study Group\n",
    "```{list-table} Students in the study group chosen by stratified sampling.\n",
    ":header-rows: 1\n",
    ":name: stratified-table\n",
    "* - Stratum\n",
    "  - Number in Stratum\n",
    "  - Name\n",
    "* - Grade A\n",
    "  - 1\n",
    "  - Bautista\n",
    "* - Grade A\n",
    "  - 9\n",
    "  - Stratcher\n",
    "* - Grade B\n",
    "  - 2\n",
    "  - Bayani\n",
    "* - Grade B\n",
    "  - 5\n",
    "  - Khan\n",
    "* - Grade B\n",
    "  - 15\n",
    "  - Wai\n",
    "* - Grade C or Lower\n",
    "  - 2\n",
    "  - Macierz\n",
    "```\n",
    "````"
   ]
  },
  {
   "cell_type": "markdown",
   "metadata": {},
   "source": [
    "The last student in the study group is student 2 (Macierz) from the \"Grade C or Lower\" stratum. (See {numref}`stratified-table`.)\n",
    "\n",
    "Unlike other sampling methods, stratified sampling guarantees that important characteristics of the population (the characteristics that determine the strata) are properly represented in the sample. However, it can be difficult to implement, since the size of each stratum and which stratum each member of the population belong to must be known beforehand."
   ]
  },
  {
   "cell_type": "markdown",
   "metadata": {},
   "source": [
    "***"
   ]
  },
  {
   "cell_type": "markdown",
   "metadata": {},
   "source": [
    "### Example 1.3.3\n",
    "\n",
    "An economist wants to survey 400 renters regarding their income and budgets. She wants to make sure her sample accurately reflects the different prices of rental units in the United States, so she will use stratified sampling to collect her sample, where the strata are the different price levels of rental units according to the nationwide data obtained by the Census Bureau shown in {numref}`rent-table`."
   ]
  },
  {
   "cell_type": "markdown",
   "metadata": {},
   "source": [
    "```{list-table} Occupied Units Paying Rent in the United States in 2019.[^rent-attribution]\n",
    ":header-rows: 1\n",
    ":widths: 500 100\n",
    ":name: rent-table\n",
    "* - Monthly Rent\n",
    "  - Percentage\n",
    "* - Less that \\$500\n",
    "  - 9.2%\n",
    "* - \\$500 to \\$999\n",
    "  - 34.1%\n",
    "* - \\$1,000 to \\$1,499\n",
    "  - 29.9%\n",
    "* - \\$1,500 to \\$1,999\n",
    "  - 15.2%\n",
    "* - \\$2,000 to \\$2,499\n",
    "  - 6.2%\n",
    "* - \\$2,500 to \\$2,999\n",
    "  - 2.7%\n",
    "* - \\$3,000 or More\n",
    "  - 2.7%\n",
    " ```\n",
    "\n",
    " [^rent-attribution]: The data in {numref}`rent-table` is from the United States Census Bureau's [2019 American Community Survey 1-Year Estimates](https://data.census.gov/cedsci/table?q=United%20States&g=0100000US&tid=ACSDP1Y2019.DP04&hidePreview=true). "
   ]
  },
  {
   "cell_type": "markdown",
   "metadata": {},
   "source": [
    "How many renters with rents between \\$1,500 and \\$1,999 should the economist include in her sample?\n",
    "\n",
    "#### Solution\n",
    "To find the number of renters that should be included in the sample with rents between \\$1,500 and \\$1,999, we need to multiply the proportion of renters with rents between \\$1,500 and \\$1,999 in the population with the size of the sample. From the table, we can see that the proportion of renters in this strata is 15.2% = 0.152. (Note, when performing mathematics with percentages, we must always first convert percentages to decimals.) Since the economist wants a sample of size 400, we simply multiply 0.152 by 400 to find the number of individuals we should sample from the strata."
   ]
  },
  {
   "cell_type": "code",
   "execution_count": 1,
   "metadata": {},
   "outputs": [
    {
     "data": {
      "text/html": [
       "60.8"
      ],
      "text/latex": [
       "60.8"
      ],
      "text/markdown": [
       "60.8"
      ],
      "text/plain": [
       "[1] 60.8"
      ]
     },
     "metadata": {},
     "output_type": "display_data"
    }
   ],
   "source": [
    "0.152 * 400"
   ]
  },
  {
   "cell_type": "markdown",
   "metadata": {},
   "source": [
    "We can't sample exactly 60.8 people, so we round up to 61. Thus, of the 400 renters in the sample, 61 of those renters should pay monthly rents of between \\$1,500 and \\$1,999."
   ]
  },
  {
   "cell_type": "markdown",
   "metadata": {},
   "source": [
    "***"
   ]
  },
  {
   "cell_type": "markdown",
   "metadata": {},
   "source": [
    "## Cluster Sampling\n",
    "\n",
    "To choose a **cluster sample**, divide the population into clusters (groups) and then randomly select some of the clusters. *All* the members from the selected clusters are in the sample. \n",
    "\n",
    "```{figure} Cluster_sampling.png\n",
    "---\n",
    "width: 60%\n",
    "alt: Four individuals are chosen from a population of twelve individuals by dividing the population into six clusters (groups) and sampling all individuals in two of the clusters.\n",
    "name: cluster_sampling\n",
    "---\n",
    "Four individuals are chosen from a population of twelve individuals by dividing the population into six clusters, then randomly selecting two of the clusters. All individuals in the two chosen clusters are sampled. [^cluster-attribution]\n",
    "```\n",
    "\n",
    "[^cluster-attribution]: {numref}`Figure {number} <cluster_sampling>` was [created by Dan Kernler](https://commons.wikimedia.org/wiki/File:Cluster_sampling.PNG) and is licensed under the [Creative Commons Attribution-Share Alike 4.0 International](https://creativecommons.org/licenses/by-sa/4.0/deed.en) license.\n",
    "\n",
    "For example, suppose Professor Baldwin's precalculus students are seated in class at tables in groups of three. (See {numref}`Figure {number} <table_clusters>`.) He wants to use cluster sampling to select a six-student study group, where the clusters are the groups of three students at each table.\n"
   ]
  },
  {
   "cell_type": "code",
   "execution_count": 17,
   "metadata": {
    "tags": [
     "remove-cell"
    ]
   },
   "outputs": [
    {
     "data": {
      "text/html": [
       "<strong>png:</strong> 2"
      ],
      "text/latex": [
       "\\textbf{png:} 2"
      ],
      "text/markdown": [
       "**png:** 2"
      ],
      "text/plain": [
       "png \n",
       "  2 "
      ]
     },
     "metadata": {},
     "output_type": "display_data"
    }
   ],
   "source": [
    "# Code to create table_clusters.png, to be displayed below.\n",
    "library(\"plotrix\")\n",
    "library(repr)\n",
    "\n",
    "#options(repr.plot.width = 14, repr.plot.height = 18)\n",
    "\n",
    "draw_table = function(x, y, r, \n",
    "                     ) {\n",
    "    \n",
    "    name_text_size = 2.1\n",
    "    table_text_size = 3\n",
    "    name_offset = 1.375\n",
    "    vert_offset = 1.375\n",
    "    \n",
    "    # Top Chair\n",
    "    draw.circle(x, y+1.25*r, r/1.5, lwd = 2)\n",
    "    text(x, y+1.375*r, names[1], cex = name_text_size)\n",
    "    \n",
    "    # Left Chair\n",
    "    draw.circle(x + 1.25*r*cos(pi/2 + 2*pi/3), y + 1.25*r*sin(pi/2 + 2*pi/3), r/1.5, lwd = 2)\n",
    "    text(x + 1.375*r*cos(pi/2 + 2*pi/3), y + vert_offset*r*sin(pi/2 + 2*pi/3), names[2], cex = name_text_size, srt = -60)\n",
    "    \n",
    "    # Right Chair\n",
    "    draw.circle(x + 1.25*r*cos(pi/2 + 4*pi/3), y + 1.25*r*sin(pi/2 + 4*pi/3), r/1.5, lwd = 2)\n",
    "    text(x + 1.375*r*cos(pi/2 + 4*pi/3), y + vert_offset*r*sin(pi/2 + 4*pi/3), names[3], cex = name_text_size, srt = 60)\n",
    "    \n",
    "    # Table\n",
    "    draw.circle(x, y, r, col = \"gray70\", border = \"white\", lwd = 5)\n",
    "    text(x, y, paste(\"Table\", tablenum, sep = \"\\n\"), cex = table_text_size)\n",
    "}\n",
    "\n",
    "students = c(\"Anselmo\", \"Bautista\", \"Bayani\", \"Cheng\", \"Cuarismo\", \"Cuningham\", \"Fontecha\", \"Hong\", \"Hoobler\", \"Jiao\", \"Khan\", \"Legeny\", \"Lundquist\", \"Macierz\", \"Motogawa\", \"Okimoto\", \"Patel\", \"Price\", \"Quizon\", \"Reyes\", \"Roquero\", \"Roth\", \"Rowell\", \"Salangsang\", \"Slade\", \"Stratcher\", \"Tallai\", \"Tran\", \"Wai\", \"Wood\")\n",
    "students = sample(students)\n",
    "\n",
    "\n",
    "png(\"table_clusters.png\", width = 1200, height = 1500)\n",
    "\n",
    "par(mar = c(0, 0, 0, 0))\n",
    "plot(c(-14, 14), c(-19, 21), type = \"n\", asp = 1, xaxs = \"i\", yaxs = \"i\", axes = FALSE, ann = FALSE)\n",
    "\n",
    "draw_table(-10, 10, 3, tablenum = 1, names = students[1:3])\n",
    "draw_table(-10, 0, 3, tablenum = 2, names = students[4:6])\n",
    "draw_table(-10, -10, 3, tablenum = 3, names = students[7:9])\n",
    "\n",
    "draw_table(0, 15, 3, tablenum = 4, names = students[10:12])\n",
    "draw_table(0, 5, 3, tablenum = 5, names = students[13:15])\n",
    "draw_table(0, -5, 3, tablenum = 6, names = students[16:18])\n",
    "draw_table(0, -15, 3, tablenum = 7, names = students[19:21])\n",
    "\n",
    "draw_table(10, 10, 3, tablenum = 8, names = students[22:24])\n",
    "draw_table(10, 0, 3, tablenum = 9, names = students[25:27])\n",
    "draw_table(10, -10, 3, tablenum = 10, names = students[28:30])\n",
    "\n",
    "dev.off()"
   ]
  },
  {
   "cell_type": "markdown",
   "metadata": {},
   "source": [
    "```{figure} table_clusters.png\n",
    "---\n",
    "width: 100%\n",
    "alt: Ten tables are shown, with each table numbered. At each table, the names of three individuals seated at the table are given.\n",
    "name: table_clusters\n",
    "---\n",
    "Three students sit at each of the ten tables in Professor Baldwin's precalculus classroom. The students at each table form a cluster.\n",
    "```"
   ]
  },
  {
   "cell_type": "markdown",
   "metadata": {},
   "source": [
    "Since each cluster has three students, Professor Baldwin will need to randomly select two of the ten tables to create the six-person study group. As with the other sampling methods described above, we can make a random selection with the `sample` function."
   ]
  },
  {
   "cell_type": "code",
   "execution_count": 1,
   "metadata": {},
   "outputs": [
    {
     "data": {
      "text/html": [
       "<style>\n",
       ".list-inline {list-style: none; margin:0; padding: 0}\n",
       ".list-inline>li {display: inline-block}\n",
       ".list-inline>li:not(:last-child)::after {content: \"\\00b7\"; padding: 0 .5ex}\n",
       "</style>\n",
       "<ol class=list-inline><li>2</li><li>8</li></ol>\n"
      ],
      "text/latex": [
       "\\begin{enumerate*}\n",
       "\\item 2\n",
       "\\item 8\n",
       "\\end{enumerate*}\n"
      ],
      "text/markdown": [
       "1. 2\n",
       "2. 8\n",
       "\n",
       "\n"
      ],
      "text/plain": [
       "[1] 2 8"
      ]
     },
     "metadata": {},
     "output_type": "display_data"
    }
   ],
   "source": [
    "# Randomly select two of the ten tables\n",
    "sample(1:10, size = 2)"
   ]
  },
  {
   "cell_type": "markdown",
   "metadata": {},
   "source": [
    "````{margin} Cluster Sampling Study Group\n",
    "```{list-table} Students in the study group chosen by cluster sampling.\n",
    ":header-rows: 1\n",
    ":name: cluster-table\n",
    "* - Cluster\n",
    "  - Name\n",
    "* - Table 2\n",
    "  - Hong\n",
    "* - Table 2\n",
    "  - Quizon\n",
    "* - Table 2\n",
    "  - Cuarismo\n",
    "* - Table 8\n",
    "  - Okimoto\n",
    "* - Table 8\n",
    "  - Tran\n",
    "* - Table 8\n",
    "  - Bautista\n",
    "```\n",
    "````"
   ]
  },
  {
   "cell_type": "markdown",
   "metadata": {},
   "source": [
    "The students in cluster 2 and cluster 8 have been randomly selected to be included in the study group. So *all* the students at table 2 (Hong, Quizon, and Cuarismo) and *all* the students at table 8 (Okimoto, Tran, and Bautista) have been selected for the study group. None of the students at any of the other tables are included in the study group. (See {numref}`cluster-table`.)\n",
    "\n",
    "Cluster sampling can be more convenient to implement than other sampling methods because it often involves sampling members of a population that are close together. Because of this, cluster sampling can be an economical sampling method. However, the clusters must be carefully chosen to reflect the population, or the sample may be biased."
   ]
  },
  {
   "cell_type": "markdown",
   "metadata": {},
   "source": [
    "***"
   ]
  },
  {
   "cell_type": "markdown",
   "metadata": {},
   "source": [
    "### Example 1.3.4\n",
    "About 130 planes fly out of Ontario International Airport in California each day. Airport management wants to survey customer satisfaction using cluster sampling by sampling the passengers on six different flights on a given day. Use R to randomly choose the flights that should be sampled.\n",
    "\n",
    "#### Solution\n",
    "The clusters in this sample are the flights. We will use the <code>sample</code> function to randomly choose six flights from the 130 total."
   ]
  },
  {
   "cell_type": "code",
   "execution_count": 1,
   "metadata": {},
   "outputs": [
    {
     "data": {
      "text/html": [
       "<style>\n",
       ".list-inline {list-style: none; margin:0; padding: 0}\n",
       ".list-inline>li {display: inline-block}\n",
       ".list-inline>li:not(:last-child)::after {content: \"\\00b7\"; padding: 0 .5ex}\n",
       "</style>\n",
       "<ol class=list-inline><li>36</li><li>67</li><li>77</li><li>79</li><li>26</li><li>106</li></ol>\n"
      ],
      "text/latex": [
       "\\begin{enumerate*}\n",
       "\\item 36\n",
       "\\item 67\n",
       "\\item 77\n",
       "\\item 79\n",
       "\\item 26\n",
       "\\item 106\n",
       "\\end{enumerate*}\n"
      ],
      "text/markdown": [
       "1. 36\n",
       "2. 67\n",
       "3. 77\n",
       "4. 79\n",
       "5. 26\n",
       "6. 106\n",
       "\n",
       "\n"
      ],
      "text/plain": [
       "[1]  36  67  77  79  26 106"
      ]
     },
     "metadata": {},
     "output_type": "display_data"
    }
   ],
   "source": [
    "sample(1:130, size = 6)"
   ]
  },
  {
   "cell_type": "markdown",
   "metadata": {},
   "source": [
    "We will sample *all* the passengers on the 36th flight to leave for the day, the 67th flight to leave for the day, the 77th flight to leave for the day, the 79th flight to leave for the day, the 26th flight to leave for the day, and the 106th flight to leave for the day."
   ]
  },
  {
   "cell_type": "markdown",
   "metadata": {},
   "source": [
    "***"
   ]
  },
  {
   "cell_type": "markdown",
   "metadata": {},
   "source": [
    "## Convenience Sampling: A Method to Avoid\n",
    "\n",
    "A type of sampling that is non-random is **convenience sampling**. Convenience sampling involves using results that are convenient and readily available. For example, a computer software store conducts a marketing study by interviewing potential customers who happen to be in the store browsing through the available software. The results of convenience sampling may be very good in some cases and highly biased (favor certain outcomes) in others. Because the outcome if often biased, convenience sampling should generally be avoided.\n",
    "\n",
    "For example, suppose Professor Baldwin chooses a six-student study group by conveniently choosing the six students sitting nearest to the front of the classroom. Note that Professor Baldwin's choice is *not* random: students who tend to sit at the back of the classroom did not have an equal chance of being chosen for the study group. The study group is also very likely to be biased: it is well established that students who sit at the front of the classroom tend to do better in the class, which means the study group is likely to have a higher proportion of students with high grades than the class as a whole."
   ]
  },
  {
   "cell_type": "markdown",
   "metadata": {},
   "source": [
    "## Sample Size and Variability\n",
    "When collecting a sample, the **sample size** is important. The larger the size of the sample, the more likely it is that the sample statistic will accurately approximate the population parameter. A random sample of 10 members of a population is less likely to give a good approximation of the population parameter than a random sample of 100 members. The examples you have seen in this book so far have been small. Samples of only a few hundred observations, or even smaller, are sufficient for many purposes. \n",
    "\n",
    "Additionally, two or more samples from the same population, taken randomly, and having close to the same characteristics of the population will likely be different from each other. This **sample variability** is completely natural. Suppose Doreen and Jung both decide to study the average amount of time students at their college sleep each night. Doreen and Jung each use simple random sampling to sample 500 students. Doreen's sample will be different from Jung's sample. Neither sample is wrong, but purely by chance, Doreen will sample students that Jung doesn't sample, and Jung will sample students that Doreen doesn't sample. So we shouldn't be surprised if the students in Doreen's sample sleep an average of 7.38 hours per night, while the students in Jung's sample sleep an average of 7.41 hours per night. While the results are different, both statistics are likely a good approximation of the population average.\n",
    "\n",
    "If Doreen and Jung took larger samples (i.e. the number of data values is increased), their sample statistics (the average amount of time a student sleeps) might be closer to the actual population average. But still, their samples would be, in all likelihood, different from each other."
   ]
  }
 ],
 "metadata": {
  "kernelspec": {
   "display_name": "R",
   "language": "R",
   "name": "ir"
  },
  "language_info": {
   "codemirror_mode": "r",
   "file_extension": ".r",
   "mimetype": "text/x-r-source",
   "name": "R",
   "pygments_lexer": "r",
   "version": "4.2.3"
  }
 },
 "nbformat": 4,
 "nbformat_minor": 4
}