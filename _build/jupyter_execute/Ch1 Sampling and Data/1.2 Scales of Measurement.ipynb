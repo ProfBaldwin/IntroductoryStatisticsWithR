{
 "cells": [
  {
   "cell_type": "markdown",
   "metadata": {},
   "source": [
    "# Qualitative Data and Quantitative Data"
   ]
  },
  {
   "cell_type": "markdown",
   "metadata": {},
   "source": [
    "## Objectives\n",
    "- Distinguish between qualitative and quantitative data.\n",
    "- For quantitative data, distinguish between discrete and continuous data."
   ]
  },
  {
   "cell_type": "markdown",
   "metadata": {},
   "source": [
    "## Qualitative Data and Quantitative Data\n",
    "Data may come from a population or from a sample. Lowercase letters like  $x$  or  $y$ generally are used to represent data values. Most data can be put into the following categories:\n",
    "\n",
    "- Qualitative\n",
    "- Quantitative\n",
    "\n",
    "**Qualitative data** are the result of categorizing or describing attributes in a population. Qualitative data are also often called **categorical data**. Hair color, blood type, ethnic group, the car a person drives, and the street a person lives on are examples of qualitative data. Qualitative data are generally described by words or letters. For instance, hair color might be black, dark brown, light brown, blonde, gray, or red. Blood type might be AB+, O-, or B+.\n",
    "\n",
    "**Quantitative data** are always numbers, and are often also called **numerical data**. Quantitative data are the result of **counting** or **measuring** attributes in a population. Weight, amount of money, pulse rate, and  thenumber of people living in your town are examples of quantitative data. Quantitative data may be either **discrete** or **continuous**.\n",
    "\n",
    "All data that are the result of counting are **quantitative discrete data**. These data take on only certain numerical values. If you count the number of phone calls you receive for each day of the week, you might get values such as $0$, $1$, $2$, or $3$. It doesn't make sense to receive $1.25$ phone calls in a day.\n",
    "\n",
    "Data that are not made up only of whole numbers, but that may include fractions, decimals, or irrational numbers, are **quantitative continuous data**. Continuous data are often the results of measurements like lengths, weights, or times. For example, if you record the duration in minutes for all the phone calls that you make in a week, you might get values like $1.25$, $7.53$, or $11.00$.\n",
    "\n",
    "Researchers often prefer to use quantitative data over qualitative data because it lends itself more easily to mathematical analysis. For example, it does not make sense to find an average of qualitative data like hair color or blood type."
   ]
  },
  {
   "cell_type": "markdown",
   "metadata": {},
   "source": [
    "\n",
    "```{tip}\n",
    "One way to remember the difference between qualitative data and quantitative data is that **qual**itative data describes the **qual**ities of the members of a population, whereas **quant**itative data deals with attributes that are measured using **quant**ities or numbers.\n",
    "```"
   ]
  },
  {
   "cell_type": "markdown",
   "metadata": {},
   "source": [
    "***"
   ]
  },
  {
   "cell_type": "markdown",
   "metadata": {},
   "source": [
    "\n",
    "### Example 1.2.1\n",
    "Students each carry a number of books in their backpacks. You sample five students. Two students carry $3$ books, one student carries $4$ books, one student carries $2$ books, and one student carries $1$ book. \n",
    "1. What are the data in this example? \n",
    "2. Are the data qualitative or quantitative?\n",
    "3. If the data are quantitative, are they continuous or discrete?\n",
    "\n",
    "#### Solution\n",
    "1. The data are the numbers of books the students carry: 3, 3, 4, 2, 1. \n",
    "2. Since this data are counts of the quantities of books each student caries, they are quantitative data.\n",
    "3. The data are discrete. A student can have $2$ books in their backpack or $3$ books in their backpack, but not $2.68$ books. Only whole numbers are possible.\n"
   ]
  },
  {
   "cell_type": "markdown",
   "metadata": {},
   "source": [
    "***"
   ]
  },
  {
   "cell_type": "markdown",
   "metadata": {},
   "source": [
    "### Example 1.2.2\n",
    "Students each have a backpack, and each backpack has a certain weight. You sample five students. The weights (in pounds) of their backpacks are: 6.2, 7, 6.8, 9.1, 4.3. \n",
    "1. What are the data in this example? \n",
    "2. Are the data qualitative or quantitative?\n",
    "3. If the data are quantitative, are they continuous or discrete?\n",
    "\n",
    "#### Solution\n",
    "1. The data are the weights of the backpacks: 6.2, 7, 6.8, 9.1, 4.3.\n",
    "2. Since the data are measures of how much the backpacks weigh, they are quantitative data.\n",
    "3. The data are continuous. A student can have a backpack that weighs $6.2$ pounds or a backpack that weighs $6.8$ pounds, or a backpack that weighs any amount in between."
   ]
  },
  {
   "cell_type": "markdown",
   "metadata": {},
   "source": [
    "***"
   ]
  },
  {
   "cell_type": "markdown",
   "metadata": {},
   "source": [
    "### Example 1.2.3\n",
    "Students each have a backpack of a certain color. Again, you sample five students. One student has a red backpack, two students have black backpacks, and two students have green backpacks.\n",
    "1. What are the data in this example? \n",
    "2. Are the data qualitative or quantitative?\n",
    "3. If the data are quantitative, are they continuous or discrete?\n",
    "\n",
    "#### Solution\n",
    "1. The data are the colors of the backpacks the students carry: red, black, black, green, green. \n",
    "2. Since this data describes a quality that each backpack possesses—its color—these are qualitative data.\n",
    "3. Since our data are qualitative, not quantitative, this question does not apply."
   ]
  },
  {
   "cell_type": "markdown",
   "metadata": {},
   "source": [
    "***"
   ]
  },
  {
   "cell_type": "markdown",
   "metadata": {},
   "source": [
    "### Example 1.2.4\n",
    "\n",
    "Determine the correct data type (quantitative or qualitative). Indicate whether quantitative data are continuous or discrete. \\[Hint: Data that are discrete often start with the phrase “the number of,” indicating the data are the result of counting.\\]\n",
    "1. the number of pairs of shoes you own\n",
    "2. the type of car you drive\n",
    "3. the distance it is from your home to the nearest grocery store\n",
    "4. the number of classes you take per school year\n",
    "5. the type of calculator you use\n",
    "6. weights of sumo wrestlers\n",
    "7. number of correct answers on a quiz\n",
    "\n",
    "#### Solution\n",
    "1. Quantitative discrete\n",
    "2. Qualitative\n",
    "3. Quantitative continuous\n",
    "4. Quantitative discrete\n",
    "5. Qualitative\n",
    "6. Quantitative continuous\n",
    "7. Quantitative discrete\n",
    "\n"
   ]
  }
 ],
 "metadata": {
  "kernelspec": {
   "display_name": "R",
   "language": "R",
   "name": "ir"
  },
  "language_info": {
   "codemirror_mode": "r",
   "file_extension": ".r",
   "mimetype": "text/x-r-source",
   "name": "R",
   "pygments_lexer": "r",
   "version": "4.3.3"
  }
 },
 "nbformat": 4,
 "nbformat_minor": 4
}