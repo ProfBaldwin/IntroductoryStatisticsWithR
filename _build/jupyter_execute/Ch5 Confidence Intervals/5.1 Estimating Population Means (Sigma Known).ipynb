{
 "cells": [
  {
   "cell_type": "markdown",
   "metadata": {},
   "source": [
    "# Estimating Population Means ($\\sigma$ Known)"
   ]
  },
  {
   "cell_type": "markdown",
   "metadata": {},
   "source": [
    "## Objectives\n",
    "- Construct confidence intervals for population means in populations where the standard deviation is known.\n",
    "- Identify and interpret the margin of error for a confidence interval."
   ]
  },
  {
   "cell_type": "markdown",
   "metadata": {},
   "source": [
    "## Introduction\n",
    "Suppose you were trying to determine the mean rent of a two-bedroom apartment in your town. You might look in the classified section of the newspaper, write down several rents listed, and average them together. You would have obtained a **point estimate** of the true mean. If you are trying to determine the percentage of times you make a basket when shooting a basketball, you might count the number of shots you make and divide that by the number of shots you attempted. In this case, you would have obtained a **point estimate** for the true proportion.\n",
    "\n",
    "We use sample data to make generalizations about an unknown population. This part of statistics is called **inferential statistics**. The sample data help us to make an estimate of a population parameter. We realize that the point estimate is most likely not the exact value of the population parameter, but close to it. After calculating point estimates, we can construct a range of values, called a confidence interval, where we have a high confidence the population parameter falls.\n",
    "\n",
    "A **confidence interval** is another type of estimate but, instead of being just one number, it is an interval of numbers. It provides a range of reasonable values in which we expect the population parameter to fall. There is no guarantee that a given confidence interval does capture the parameter, but there is a predictable probability of success."
   ]
  },
  {
   "cell_type": "markdown",
   "metadata": {},
   "source": [
    "## Calculating the Confidence Interval\n",
    "To construct a confidence interval for a single unknown population mean $\\mu$, **where the population standard deviation $\\sigma$ is known**, we need  to know $\\bar{x}$  and we need to know the **margin of error**, $E$. The sample mean $\\bar{x}$  is a **point estimate** of the unknown population mean $\\mu$. It is a single value or point that estimates the population parameter. The margin of error is a measure of how far $\\bar{x}$ might be from $\\mu$.\n",
    "\n",
    "A confidence interval has the form\n",
    "\n",
    "$$ (\\text{point estimate} - \\text{margin of error},\\ \\text{point estimate} + \\text{margin of error}), $$\n",
    "\n",
    "or, in symbols,\n",
    "\n",
    "$$ (\\bar{x} – E, \\bar{x} + E). $$\n",
    "\n",
    "We say $\\bar{x} - E$ is the **lower bound** of the confidence interval, and $\\bar{x} + E$ is the **upper bound** of the confidence interval.\n",
    "\n",
    "The margin of error, $E$, depends on the **confidence level** (abbreviated $\\text{CL}$). The confidence level is often considered the probability that the calculated confidence interval estimate will contain the true population parameter. However, it is more accurate to state that the confidence level is the percent of confidence intervals that contain the true population parameter when repeated samples are taken. Most often, the person constructing the confidence interval chooses a confidence level of $90\\%$ or higher because that person wants to be reasonably certain of their conclusions.\n",
    "\n",
    "Another probability, $\\alpha$ (the Greek letter *alpha*) is the probability that the interval does not contain the unknown population parameter. Mathematically, $\\alpha + \\text{CL} = 1.$"
   ]
  },
  {
   "cell_type": "markdown",
   "metadata": {},
   "source": [
    "***"
   ]
  },
  {
   "cell_type": "markdown",
   "metadata": {},
   "source": [
    "\n",
    "### Example 5.1.1\n",
    "Suppose we have sample data collected from a population. Imagine we've already found that the sample mean is $\\bar{x} = 7$ and that the margin of error is $E = 2.5$ for a confidence level of $\\text{CL} = 95\\%$. The population mean is unkown. Construct a confidence interval for the population mean.\n",
    "\n",
    "#### Solution\n",
    "Since we are told what $\\bar{x}$ and $E$ are already, calculating the confidence interval is straightforward. The confidence interval is\n",
    "\n",
    "$$ (\\bar{x} - E, \\bar{x} + E) = (7 - 2.5, 7 + 2.5) = (4.5, 9.5). $$\n",
    "\n",
    "So we are $95\\%$ confident that the population mean $\\mu$ is between $4.5$ and $9.5$.\n",
    "\n",
    "```{Note}\n",
    "In the media, margins of error and confidence intervals are often expressed a little differently than how we have expressed them here. The media might say the margin of error for this example is $\\pm 2.5$ and that the confidence interval is $7 \\pm 2.5$. This is just a different way to express the same idea.\n",
    "```"
   ]
  },
  {
   "cell_type": "markdown",
   "metadata": {},
   "source": [
    "***"
   ]
  },
  {
   "cell_type": "markdown",
   "metadata": {},
   "source": [
    "A confidence interval for a population mean $\\mu$ with a known standard deviation $\\sigma$ is based on the fact that the sample means follow an approximately normal distribution. Recall that by the central limit theorem, this sampling distribution is distributed as\n",
    "\n",
    "$$ \\bar{X} \\sim N\\left(\\mu, \\frac{\\sigma}{\\sqrt{n}}\\right). $$\n",
    "\n",
    "But in real-world scenarios, we generally do not know the population mean $\\mu$, which is also the mean of the sampling distribution. If we did know $\\mu$, we would have no need to estimate it by calculating a confidence interval. So we approximate the population mean $\\mu$ with the point estimate $\\bar{x}$. By making this substitution, the distribution becomes\n",
    "\n",
    "$$N\\left(\\bar{x}, \\frac{\\sigma}{\\sqrt{n}}\\right).$$\n",
    "\n",
    "We will use this approximate sampling distribution to calculate our confidence interval.\n",
    "\n",
    "```{Note}\n",
    "We replace $\\mu$ in the sampling distribution with its point estimate $\\bar{x}$, but why do we leave in the population standard deviation $\\sigma$? If we don't know $\\mu$, why should we expect to know $\\sigma$? After all, we generally need to know $\\mu$ to calculate $\\sigma$.\n",
    "\n",
    "This is a good question. Generally, if we do not know the mean of a population, we would *not* expect to know the standard deviation of the population. However, it turns out approximating $\\sigma$ with the sample standard deviation $s$ in the sampling distribution formulas is more delicate and more complicated than approximating $\\mu$ with $\\bar{x}$. In a future section, we will learn how to use $s$ instead of $\\sigma$ in the calculation. For now, since we are just beginning to learn about confidence intervals, we make the somewhat unrealistic assumption that we know the population standard deviation $\\sigma$ but not the population mean $\\mu$ in order to simplify the calculation.\n",
    "```\n",
    "\n",
    "Suppose we want to estimate the mean of a population, but we know the standard deviation is $\\sigma = 3$. We sample $n = 35$ members of the population and calculate a sample mean of $\\bar{x} = 52$. We want to construct a $90\\%$ confidence interval for the population mean. To get a $90\\%$ confidence interval, we must include the central $90\\%$ of the probability of the normal distribution. If we include the central $90\\%$, we leave out a total of $\\alpha = 10\\%$ in both tails of the normal distribution, or $\\frac{\\alpha}{2} = 5\\%$ in each tail."
   ]
  },
  {
   "cell_type": "code",
   "execution_count": 23,
   "metadata": {
    "tags": [
     "remove-cell"
    ]
   },
   "outputs": [
    {
     "data": {
      "text/html": [
       "<strong>png:</strong> 2"
      ],
      "text/latex": [
       "\\textbf{png:} 2"
      ],
      "text/markdown": [
       "**png:** 2"
      ],
      "text/plain": [
       "png \n",
       "  2 "
      ]
     },
     "metadata": {},
     "output_type": "display_data"
    }
   ],
   "source": [
    "png(\"confidence_interval.png\", width = 1000, height = 500)\n",
    "\n",
    "par(mar = c(2, 0, 0, 0))\n",
    "\n",
    "#library(repr)\n",
    "#options(repr.plot.width = 7, repr.plot.height=4)\n",
    "\n",
    "z = seq(-3, 3, 0.01)\n",
    "y = dnorm(z)\n",
    "z1 = qnorm(p = 0.05)\n",
    "z2 = qnorm(p = 0.95)\n",
    "cexsize = 2\n",
    "\n",
    "plot(z, y, type=\"l\", xlab = \"\", ylab = \"\", axes = FALSE, cex = 2, ylim = c(0, dnorm(0) + 0.06))\n",
    "polyz = c(-3, seq(-3, 3, 0.01), 3)\n",
    "polyy = c(0, dnorm(seq(-3, 3, 0.01)), 0)\n",
    "polygon(polyz, polyy, col=\"gray90\", border=\"NA\")\n",
    "\n",
    "polyz = c(z1, seq(z1, z2, 0.01), z2)\n",
    "polyy = c(0, dnorm(seq(z1, z2, 0.01)), 0)\n",
    "polygon(polyz, polyy, col=\"lightsteelblue\", border = \"NA\")\n",
    "lines(c(z1, z1), c(0, dnorm(z1)))\n",
    "lines(c(z2, z2), c(0, dnorm(z2)))\n",
    "\n",
    "lines(z, y, type=\"l\", cex = 2)\n",
    "axis(1, pos=0, at=c(-3, 3), lab=c(\"\", \"\"), lwd.ticks = 0, cex.axis = cexsize)\n",
    "\n",
    "text(-2, 0.025, labels = \"5%\", cex = 2, col = \"blue3\")\n",
    "text(0, 0.2, labels = \"90%\", cex = 2, col = \"blue3\")\n",
    "text(2, 0.025, labels = \"5%\", cex = 2, col = \"blue3\")\n",
    "\n",
    "#lines(c(0, 0), c(0, dnorm(0)), type = \"l\", cex = 2)\n",
    "\n",
    "dev.off()"
   ]
  },
  {
   "cell_type": "markdown",
   "metadata": {},
   "source": [
    "```{figure} confidence_interval.png\n",
    "---\n",
    "width: 100%\n",
    "alt: The standard normal distribution with the center 90% of the distribution shaded. This leaves 5% in each of the tails.\n",
    "name: confidence_interval\n",
    "---\n",
    "If we want to construct a confidence interval with $\\text{CL} = 90\\%$, that means $\\alpha = 1 - \\text{CL} = 10\\%$. This is split between the two tails, so each tail has $\\frac{\\alpha}{2} = 5\\%$.\n",
    "```"
   ]
  },
  {
   "cell_type": "markdown",
   "metadata": {},
   "source": [
    "We want to find the margin of error $E$ of our confidence interval. We know that the upper bound to our confidence interval is $\\bar{x} + E$. But we also know that we can express the upper bound of our confidence interval using a $z$-score as $\\bar{x} + z\\frac{\\sigma}{\\sqrt{n}}$. Since $\\bar{x} + E = \\bar{x} + z\\frac{\\sigma}{\\sqrt{n}}$, subtracting $\\bar{x}$ off from both sides tells us that the margin of error is\n",
    "\n",
    "$$ E = z\\frac{\\sigma}{\\sqrt{n}}. $$\n",
    "\n",
    "For this particular problem, we want the $z$-score with an area of $0.05$ to the right (since we want $\\frac{\\alpha}{2} = 5%$ probability to the right of the upper bound). We can calculate this using R."
   ]
  },
  {
   "cell_type": "code",
   "execution_count": 24,
   "metadata": {},
   "outputs": [
    {
     "data": {
      "text/html": [
       "1.64485362695147"
      ],
      "text/latex": [
       "1.64485362695147"
      ],
      "text/markdown": [
       "1.64485362695147"
      ],
      "text/plain": [
       "[1] 1.644854"
      ]
     },
     "metadata": {},
     "output_type": "display_data"
    }
   ],
   "source": [
    "qnorm(p = 1 - 0.05)"
   ]
  },
  {
   "cell_type": "markdown",
   "metadata": {},
   "source": [
    "So the $z$-score we will use is $z = 1.645$. To make it clear what this $z$-score represents, we often write $z_{0.05} = 1.645$, meaning $1.645$ is the $z$-score that has an area of $0.05$ to its right. \n",
    "\n",
    "Now we can calculate the margin of error:\n",
    "\n",
    "$$ E = z_{0.05}\\frac{\\sigma}{\\sqrt{n}} = 1.645\\left(\\frac{3}{\\sqrt{35}}\\right) = 0.83409. $$\n",
    "\n",
    "So the margin of error is $E = 0.83409$. Then the confidence interval is\n",
    "\n",
    "$$ (\\bar{x} - E, \\bar{x} + E) = (52 - 0.83409, 52 + 0.83409) = (51.16591, 52.83409). $$\n",
    "\n",
    "We are $90\\%$ confident that the population mean $\\mu$ is between $51.16591$ and $52.83409$.\n",
    "\n",
    "Based on this example, we can see that the steps to finding a confidence interval for a population mean are:\n",
    "\n",
    "1. Find the sample mean $\\bar{x}$.\n",
    "3. Find $z_{\\alpha/2}$, the $z$-score with an area of $\\alpha/2$ to its right.\n",
    "4. Calculate the margin of error using the formula $E = z_{\\alpha/2}\\dfrac{\\sigma}{\\sqrt{n}}$.\n",
    "5. Construct the confidence interval $(\\bar{x} - E, \\bar{x} + E)$."
   ]
  },
  {
   "cell_type": "markdown",
   "metadata": {},
   "source": [
    "```{Note}\n",
    "Note that we only found the $z$-score for the right tail in this example. Why didn't we find the $z$-score for the left tail? Because the standard normal distribution is symmetric about its mean $\\mu = 0$, we don't need to perform a separate calculation to find the $z$-score for the left tail: it is just the negative of the $z$-score for the right tail. In this case, since the $z$-score for the right tail is $z = 0.83409$, we know by symmetry that the $z$-score for the left tail is $z = -0.83409$. This negative is already reflected in the formula for the confidence interval: the negative in the lower bound $\\bar{x} - E$ is there because of the negative from the left-tailed $z$-score. So we only need to find the $z$-score for the right tail; the formula takes care of the rest.\n",
    "```"
   ]
  },
  {
   "cell_type": "markdown",
   "metadata": {},
   "source": [
    "***"
   ]
  },
  {
   "cell_type": "markdown",
   "metadata": {},
   "source": [
    "\n",
    "### Example 5.1.2\n",
    "The standard deviation of the weights of elephants is known to be approximately $50$ pounds. Forty-five newborn elephants are sampled and found to have the following weights, in pounds:\n",
    "\n",
    "333, 248, 303, 248, 153, 168, 280, 256, 195, 234, 366, 250, 325, 266, 164, 253, 262, 343, 244, 425, 345, 343, 277, 215, 226, 254, 289, 296, 268, 195, 268, 202, 249, 256, 284, 257, 205, 215, 251, 257, 144, 323, 238, 257, 218\n",
    "\n",
    "Construct a $95\\%$ confidence interval for the mean weight of a newborn elephant.\n",
    "\n",
    "#### Solution\n",
    "\n",
    "First, let's note what we are given. We are told that\n",
    "\n",
    "\\begin{align*}\n",
    "\\sigma &= 50, \\\\\n",
    "n &= 45, \\\\\n",
    "\\text{CL} &= 0.95.\n",
    "\\end{align*}\n",
    "\n",
    "##### Step 1: Find the sample mean $\\bar{x}$.\n",
    "\n",
    "Recall that $\\bar{x} = \\frac{\\sum x}{n}$. We will use R to calculate this."
   ]
  },
  {
   "cell_type": "code",
   "execution_count": 1,
   "metadata": {},
   "outputs": [
    {
     "data": {
      "text/html": [
       "258.844444444444"
      ],
      "text/latex": [
       "258.844444444444"
      ],
      "text/markdown": [
       "258.844444444444"
      ],
      "text/plain": [
       "[1] 258.8444"
      ]
     },
     "metadata": {},
     "output_type": "display_data"
    }
   ],
   "source": [
    "x = c(333, 248, 303, 248, 153, 168, 280, 256, 195, 234, 366, 250, 325, 266, 164, 253, 262, 343, 244, 425, 345, 343, 277, 215, 226, 254, 289, 296, 268, 195, 268, 202, 249, 256, 284, 257, 205, 215, 251, 257, 144, 323, 238, 257, 218)\n",
    "n = length(x)\n",
    "\n",
    "xbar = sum(x)/n\n",
    "xbar"
   ]
  },
  {
   "cell_type": "markdown",
   "metadata": {},
   "source": [
    "So the sample mean is $\\bar{x} = 258.8444$.\n",
    "\n",
    "##### Step 2: Find $z_{\\alpha/2}$.\n",
    "Since we want a $95\\%$ confidence interval, the area under the normal distribution outside our confidence interval is\n",
    "\n",
    "$$ \\alpha = 1 - \\text{CL} = 1 - 0.95 = 0.05 $$\n",
    "\n",
    "So we want an area of $\\alpha/2 = 0.05/2 = 0.025$ in each tail of the normal distribution. We can calculate $z_{\\alpha/2} = z_{0.025}$, the $z$-score with an area of $0.025$ to its right, using R."
   ]
  },
  {
   "cell_type": "code",
   "execution_count": 25,
   "metadata": {},
   "outputs": [
    {
     "data": {
      "text/html": [
       "1.95996398454005"
      ],
      "text/latex": [
       "1.95996398454005"
      ],
      "text/markdown": [
       "1.95996398454005"
      ],
      "text/plain": [
       "[1] 1.959964"
      ]
     },
     "metadata": {},
     "output_type": "display_data"
    }
   ],
   "source": [
    "qnorm(p = 1 - 0.025)"
   ]
  },
  {
   "cell_type": "markdown",
   "metadata": {},
   "source": [
    "So $z_{\\alpha/2} = z_{0.025} = 1.960$.\n",
    "\n",
    "##### Step 3: Calculate the Margin of Error.\n",
    "Using the formula, the margin of error is\n",
    "\n",
    "$$ E = z_{0.025} \\frac{\\sigma}{\\sqrt{n}} = 1.960\\left(\\frac{50}{\\sqrt{45}}\\right) = 14.6090. $$\n",
    "\n",
    "##### Step 4: Construct the Confidence Interval.\n",
    "Our confidence interval is\n",
    "\n",
    "$$(\\bar{x} - E, \\bar{x} + E) = (258.8444 - 14.6090, 258.8444 + 14.6090) = (244.2354, 273.4534). $$\n",
    "\n",
    "We are $95\\%$ confident that the population mean weight of newborn elephants is between $244.2354$ pounds and $273.4534$ pounds."
   ]
  },
  {
   "cell_type": "markdown",
   "metadata": {},
   "source": [
    "***"
   ]
  },
  {
   "cell_type": "markdown",
   "metadata": {},
   "source": [
    "\n",
    "### Example 5.1.3\n",
    "A Menifee High School math teacher, Mr. DeLeon, wants to know the average GPA of students at the high school. He randomly selects $30$ students and asks what their GPA is. He obtains the following data:\n",
    "\n",
    "3.55, 3.51, 3.27, 4.30, 3.17, 3.61, 3.24, 3.74, 3.40, 3.91, 3.00, 1.88, 2.54, 3.15, 4.35, 2.62, 4.01, 3.69, 3.82, 3.18, 2.60, 3.49, 3.05, 2.91, 3.28, 2.97, 3.09, 3.49, 3.49, 3.05\n",
    "\n",
    "Mr. DeLeon assumes the population standard deviation is $\\sigma = 0.5$. Construct a $98\\%$ confidence interval for the mean GPA.\n",
    "\n",
    "#### Solution\n",
    "First, note that\n",
    "\n",
    "\\begin{align*}\n",
    "n &= 30 \\\\\n",
    "\\sigma &= 0.5 \\\\\n",
    "\\text{CL} &= 0.98\n",
    "\\end{align*}\n",
    "\n",
    "##### Step 1: Find the Sample Mean $\\bar{x}$."
   ]
  },
  {
   "cell_type": "code",
   "execution_count": 1,
   "metadata": {},
   "outputs": [
    {
     "data": {
      "text/html": [
       "3.312"
      ],
      "text/latex": [
       "3.312"
      ],
      "text/markdown": [
       "3.312"
      ],
      "text/plain": [
       "[1] 3.312"
      ]
     },
     "metadata": {},
     "output_type": "display_data"
    }
   ],
   "source": [
    "x = c(3.55, 3.51, 3.27, 4.30, 3.17, 3.61, 3.24, 3.74, 3.40, 3.91, 3.00, 1.88, 2.54, 3.15, 4.35, 2.62, 4.01, 3.69, 3.82, 3.18, 2.60, 3.49, 3.05, 2.91, 3.28, 2.97, 3.09, 3.49, 3.49, 3.05)\n",
    "n = length(x)\n",
    "\n",
    "xbar = sum(x)/n\n",
    "xbar"
   ]
  },
  {
   "cell_type": "markdown",
   "metadata": {},
   "source": [
    "The sample mean GPA is $\\bar{x} = 3.312$.\n",
    "\n",
    "##### Step 2: Find $z_{\\alpha/2}$.\n",
    "Note that\n",
    "\n",
    "$$\\alpha = 1 - \\text{CL} = 1 - 0.98 = 0.02. $$\n",
    "\n",
    "Then we want area outside the confidence interval in each tail to be $\\alpha/2 = 0.02/2 = 0.01$.\n",
    "\n",
    "We use R to find $z_{\\alpha/2} = z_{0.01}$, the $z$-score with an area of 0.01 to its right."
   ]
  },
  {
   "cell_type": "code",
   "execution_count": 29,
   "metadata": {},
   "outputs": [
    {
     "data": {
      "text/html": [
       "2.32634787404084"
      ],
      "text/latex": [
       "2.32634787404084"
      ],
      "text/markdown": [
       "2.32634787404084"
      ],
      "text/plain": [
       "[1] 2.326348"
      ]
     },
     "metadata": {},
     "output_type": "display_data"
    }
   ],
   "source": [
    "qnorm(p = 1 - 0.01)"
   ]
  },
  {
   "cell_type": "markdown",
   "metadata": {},
   "source": [
    "So $z_{0.01} = 2.3263$.\n",
    "\n",
    "##### Step 3: Calculate the Margin of Error.\n",
    "The margin of error is\n",
    "\n",
    "$$E = z_{0.01}\\left(\\frac{\\sigma}{\\sqrt{n}}\\right) = 2.3263\\left(\\frac{0.5}{\\sqrt{30}}\\right) = 0.2124.$$\n",
    "\n",
    "##### Step 4: Construct the Confidence Interval.\n",
    "The confidence interval is\n",
    "\n",
    "$$(\\bar{x} - E, \\bar{x} + E) = (3.312 - 0.2124, 3.312 + 0.2124) = (3.0996, 3.5244).$$\n",
    "\n",
    "Mr. DeLeon can be $98\\%$ confident that the average GPA at Menifee High School is between $3.0996$ and $3.5244$.\n"
   ]
  }
 ],
 "metadata": {
  "kernelspec": {
   "display_name": "R",
   "language": "R",
   "name": "ir"
  },
  "language_info": {
   "codemirror_mode": "r",
   "file_extension": ".r",
   "mimetype": "text/x-r-source",
   "name": "R",
   "pygments_lexer": "r",
   "version": "4.2.3"
  }
 },
 "nbformat": 4,
 "nbformat_minor": 4
}