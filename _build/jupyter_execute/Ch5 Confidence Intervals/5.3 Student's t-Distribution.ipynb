{
 "cells": [
  {
   "cell_type": "markdown",
   "metadata": {},
   "source": [
    "# Student's $t$-Distribution"
   ]
  },
  {
   "cell_type": "markdown",
   "metadata": {},
   "source": [
    "## Objectives\n",
    "- Compute probabilities using Student's $t$-distribution."
   ]
  },
  {
   "cell_type": "markdown",
   "metadata": {},
   "source": [
    "## Why Student's $t$-Distribution?\n",
    "In practice, when constructing a confidence interval for a population mean, we rarely know the population standard deviation. In the past, when the sample size was large, this did not present a problem to statisticians. They used the sample standard deviation $s$ as an estimate for $\\sigma$ and proceeded as before to calculate a confidence interval with close enough results. However, statisticians ran into problems when the sample size was small. A small sample size caused inaccuracies in the confidence interval.\n",
    "\n",
    "William S. Goset (1876–1937) of the Guinness brewery in Dublin, Ireland ran into this problem. His experiments with hops and barley produced very few samples. Just replacing the population standard deviation $\\sigma$ with the sample standard deviation $s$ did not produce accurate results when he tried to calculate a confidence interval. He realized that he could not use a normal distribution for the calculation; he found that the actual distribution depends on the sample size. This problem led him to \"discover\" what is called the Student's $t$-distribution. The name comes from the fact that Gosset wrote under the pen name \"Student\" when he published his results.\n",
    "\n",
    "Up until the mid-1970s, some statisticians used the normal distribution approximation for large sample sizes and used Student's $t$-distribution only for sample sizes of at most $30$. With graphing calculators and computers, the practice now is to use Student's $t$-distribution whenever $s$ is used as an estimate for $\\sigma$."
   ]
  },
  {
   "cell_type": "markdown",
   "metadata": {},
   "source": [
    "## Student's $t$-Distribution\n",
    "If you draw a simple random sample of size $n$ from a population that has an approximately normal distribution with mean $\\mu$ and unknown population standard deviation $\\sigma$ and calculate the $t$-score \n",
    "\n",
    "$$t = \\frac{\\bar{x} - \\mu}{\\left(\\frac{s}{\\sqrt{n}}\\right)},$$\n",
    "\n",
    "then the $t$-scores follow a Student's $t$-distribution **with $n – 1$ degrees of freedom**. The $t$-score has the same interpretation as the $z$-score. It measures how far $\\bar{x}$ is from its mean $\\mu$. For each sample size $n$, there is a different Student's $t$-distribution.\n",
    "\n",
    "The degrees of freedom, $n – 1$, come from the calculation of the sample standard deviation $s$. Recall that if we have a sample of size $n$, we used $n$ deviations (that is, the $n$ values of $(x - \\bar{x})$) to calculate $s$. Because the sum of the deviations is zero, we can find the last deviation once we know the other $n – 1$ deviations. This means that the other $n – 1$ deviations can vary freely, but once $n-1$ deviations are known, there is only one number we can choose for the final deviation to get the sample standard deviation $s$. We call the number $n – 1$ the degrees of freedom ($df$).\n",
    "\n",
    "Here is some more information about Student's $t$-distribution:\n",
    "- The graph for the Student's $t$-distribution is similar to the standard normal curve.\n",
    "- The mean for the Student's $t$-distribution is zero and the distribution is symmetric about zero.\n",
    "- The Student's $t$-distribution has more probability in its tails than the standard normal distribution because the spread of the $t$-distribution is greater than the spread of the standard normal. So the graph of the Student's $t$-distribution will be thicker in the tails and shorter in the center than the graph of the standard normal distribution.\n",
    "- The exact shape of the Student's $t$-distribution depends on the degrees of freedom. As the degrees of freedom increases, the graph of Student's $t$-distribution becomes more like the graph of the standard normal distribution."
   ]
  },
  {
   "cell_type": "code",
   "execution_count": 27,
   "metadata": {
    "tags": [
     "remove-cell"
    ]
   },
   "outputs": [
    {
     "data": {
      "text/html": [
       "<strong>png:</strong> 2"
      ],
      "text/latex": [
       "\\textbf{png:} 2"
      ],
      "text/markdown": [
       "**png:** 2"
      ],
      "text/plain": [
       "png \n",
       "  2 "
      ]
     },
     "metadata": {},
     "output_type": "display_data"
    }
   ],
   "source": [
    "png(\"t_dists.png\", width = 1000, height = 500)\n",
    "\n",
    "par(mar = c(2, 0, 0, 0))\n",
    "\n",
    "t <- seq(-3, 3, 0.01)\n",
    "y <- dnorm(t)\n",
    "width = 4\n",
    "\n",
    "plot(t, y, type=\"l\", col=\"black\", xlab = \"\", ylab = \"\", axes = FALSE, lwd = width, ylim = c(0, dnorm(0) + 0.06), lty = 1)\n",
    "\n",
    "y <- dt(t, df = 12)\n",
    "\n",
    "lines(t, y, col=\"red\", lwd = width, lty = 6)\n",
    "\n",
    "y <- dt(t, df = 3)\n",
    "\n",
    "lines(t, y, col=\"blue\", lwd = width, lty = 5)\n",
    "\n",
    "axis(1, pos=0, at=-3:3, lab=-3:3, lwd.ticks = 0, cex.axis = 2)\n",
    "\n",
    "lines(c(0, 0), c(0, dnorm(0)), type = \"l\", lty = 2, cex = 2)\n",
    "\n",
    "legend(1, 0.4, legend=c(\"Standard Normal\", \"Student's t, df=12\", \"Student's t, df=3\"), col=c(\"black\", \"red\", \"blue\"), lty=c(1, 6, 5), lwd = width, cex = 2)\n",
    "\n",
    "dev.off()"
   ]
  },
  {
   "cell_type": "markdown",
   "metadata": {},
   "source": [
    "```{figure} t_dists.png\n",
    "---\n",
    "width: 100%\n",
    "alt: The standard normal distribution, a Student's t-distribution with df = 12, and a Student's t-distribution with df = 3.\n",
    "name: t_dists\n",
    "---\n",
    "The standard normal distribution, a Student's $t$-distribution with $df = 12$, and a Student's $t$-distribution with $df = 3$.\n",
    "```"
   ]
  },
  {
   "cell_type": "markdown",
   "metadata": {},
   "source": [
    "## Student's $t$-Distribution Using R\n",
    "We can use R to run calculations involving Student's $t$-distribution in almost the same way we did calculations involving the standard normal distribution. Recall that to find the area under the standard normal function to the left of a $z$-value, we use the function <code>pnorm(q)</code>. Similarly, to find the area under Student's $t$-distribution to the left of a $t$-value, we use the function\n",
    "\n",
    "```R\n",
    "pt(q, df)\n",
    "```\n",
    "\n",
    "where <code>q</code> is the $t$-value, and <code>df</code> is the degrees of freedom."
   ]
  },
  {
   "cell_type": "markdown",
   "metadata": {},
   "source": [
    "***"
   ]
  },
  {
   "cell_type": "markdown",
   "metadata": {},
   "source": [
    "\n",
    "### Example 5.3.1\n",
    "Consider a $t$-distribution with $11$ degrees of freedom.\n",
    "\n",
    "1. Find $P(T < -0.5)$.\n",
    "2. Find $P(T > 0.3)$.\n",
    "3. Find $P(-1.0 < T < 1.2)$.\n",
    "\n",
    "#### Solution\n",
    "##### Part 1"
   ]
  },
  {
   "cell_type": "code",
   "execution_count": 28,
   "metadata": {},
   "outputs": [
    {
     "data": {
      "text/html": [
       "0.313463109591923"
      ],
      "text/latex": [
       "0.313463109591923"
      ],
      "text/markdown": [
       "0.313463109591923"
      ],
      "text/plain": [
       "[1] 0.3134631"
      ]
     },
     "metadata": {},
     "output_type": "display_data"
    }
   ],
   "source": [
    "pt(q = -0.5, df = 11)"
   ]
  },
  {
   "cell_type": "markdown",
   "metadata": {},
   "source": [
    "So $P(T < -0.5) = 0.3135$.\n",
    "\n",
    "##### Part 2\n",
    "\n",
    "Just like with the <code>pnorm</code> function, the <code>pt</code> function only gives the area or probability to the *left* of a value. But in this case, we want to find $P(t > 0.3)$, which is the probability to the *right* of $t = 0.3$. Since the total probability is always equal to $1 = 100\\%$, we can find this using the formula\n",
    "\n",
    "$$ P(T > 0.3) = 1 - P(T < 0.3), $$\n",
    "\n",
    "just like we do with the standard normal distribution. We use R to perform the calculation."
   ]
  },
  {
   "cell_type": "code",
   "execution_count": 30,
   "metadata": {},
   "outputs": [
    {
     "data": {
      "text/html": [
       "0.384885178944686"
      ],
      "text/latex": [
       "0.384885178944686"
      ],
      "text/markdown": [
       "0.384885178944686"
      ],
      "text/plain": [
       "[1] 0.3848852"
      ]
     },
     "metadata": {},
     "output_type": "display_data"
    }
   ],
   "source": [
    "1 - pt(q = 0.3, df = 11)"
   ]
  },
  {
   "cell_type": "markdown",
   "metadata": {},
   "source": [
    "So $P(T > 0.3) = 0.3849$.\n",
    "\n",
    "##### Part 3\n",
    "As we do with the normal distribution, to find $P(-1.0 < t < 1.2)$, we will first find all the area to the left of the larger value $t = 1.2$, then subtract the excess area to the left of the smaller value $t = -1.0$."
   ]
  },
  {
   "cell_type": "code",
   "execution_count": 31,
   "metadata": {},
   "outputs": [
    {
     "data": {
      "text/html": [
       "0.702926510623682"
      ],
      "text/latex": [
       "0.702926510623682"
      ],
      "text/markdown": [
       "0.702926510623682"
      ],
      "text/plain": [
       "[1] 0.7029265"
      ]
     },
     "metadata": {},
     "output_type": "display_data"
    }
   ],
   "source": [
    "pt(q = 1.2, df = 11) - pt(q = -1.0, df = 11)"
   ]
  },
  {
   "cell_type": "markdown",
   "metadata": {},
   "source": [
    "So $P(-1.0 < T < 1.2) = 0.7029$."
   ]
  },
  {
   "cell_type": "markdown",
   "metadata": {},
   "source": [
    "***"
   ]
  },
  {
   "cell_type": "markdown",
   "metadata": {},
   "source": [
    "Given a value, we can find the corresponding probability using <code>pnorm</code> (for a standard normal distribution) or <code>pt</code> (for a $t$-distribution). We can also do the reverse: given a probability, we can find the value. For the standard normal distribution, we've seen that the function for doing this is <code>qnorm(p)</code>. Similarly, the function for finding a value given a probability for a $t$-distribution is\n",
    "\n",
    "```R\n",
    "qt(p, df)\n",
    "```\n",
    "\n",
    "where <code>p</code> is the probability to the left of the $t$-value, and <code>df</code> is the degrees of freedom."
   ]
  },
  {
   "cell_type": "markdown",
   "metadata": {},
   "source": [
    "***"
   ]
  },
  {
   "cell_type": "markdown",
   "metadata": {},
   "source": [
    "### Example 5.3.2\n",
    "Consider a $t$-distribution with $22$ degrees of freedom.\n",
    "\n",
    "1. Find $t$ so that the area to the left of $t$ is 0.12.\n",
    "2. Find $t$ so that the area to the right of $t$ is 0.34.\n",
    "3. Find $t_{0.05}$.\n",
    "\n",
    "#### Solution\n",
    "##### Part 1"
   ]
  },
  {
   "cell_type": "code",
   "execution_count": 1,
   "metadata": {},
   "outputs": [
    {
     "data": {
      "text/html": [
       "-1.20766344702836"
      ],
      "text/latex": [
       "-1.20766344702836"
      ],
      "text/markdown": [
       "-1.20766344702836"
      ],
      "text/plain": [
       "[1] -1.207663"
      ]
     },
     "metadata": {},
     "output_type": "display_data"
    }
   ],
   "source": [
    "qt(p = 0.12, df = 22)"
   ]
  },
  {
   "cell_type": "markdown",
   "metadata": {},
   "source": [
    "So the area to the left of $t = -1.0277$ is $0.12$.\n",
    "\n",
    "##### Part 2\n",
    "Just like with the <code>qnorm</code> function, the <code>qt</code> function expects a probability to the *left* of the $t$-value we want. But for this problem, we are asked to find a $t$-value so that the area or probability to the right of $t$ is $0.34$. To find the $t$-value, we first need to find the probability to the left of $t$. Since the total probability is equal to $1 = 100\\%$, if the probability to the right of $t$ is $0.34$, that means the probability to the left of $t$ is $1 - 0.34$. We use R to run the calculation."
   ]
  },
  {
   "cell_type": "code",
   "execution_count": 32,
   "metadata": {},
   "outputs": [
    {
     "data": {
      "text/html": [
       "0.417998499316742"
      ],
      "text/latex": [
       "0.417998499316742"
      ],
      "text/markdown": [
       "0.417998499316742"
      ],
      "text/plain": [
       "[1] 0.4179985"
      ]
     },
     "metadata": {},
     "output_type": "display_data"
    }
   ],
   "source": [
    "qt(p = 1 - 0.34, df = 22)"
   ]
  },
  {
   "cell_type": "markdown",
   "metadata": {},
   "source": [
    "So the area to the right of $t = 0.4180$ is $0.34$.\n",
    "\n",
    "##### Part 3\n",
    "Just as we saw with $z$-scores, the notation $t_{0.05}$ is the $t$-value with area $0.05$ to its right."
   ]
  },
  {
   "cell_type": "code",
   "execution_count": 33,
   "metadata": {},
   "outputs": [
    {
     "data": {
      "text/html": [
       "1.71714437438024"
      ],
      "text/latex": [
       "1.71714437438024"
      ],
      "text/markdown": [
       "1.71714437438024"
      ],
      "text/plain": [
       "[1] 1.717144"
      ]
     },
     "metadata": {},
     "output_type": "display_data"
    }
   ],
   "source": [
    "qt(p = 1 - 0.05, df = 22)"
   ]
  },
  {
   "cell_type": "markdown",
   "metadata": {},
   "source": [
    "So $t_{0.05} = 1.7171$."
   ]
  }
 ],
 "metadata": {
  "kernelspec": {
   "display_name": "R",
   "language": "R",
   "name": "ir"
  },
  "language_info": {
   "codemirror_mode": "r",
   "file_extension": ".r",
   "mimetype": "text/x-r-source",
   "name": "R",
   "pygments_lexer": "r",
   "version": "4.2.3"
  }
 },
 "nbformat": 4,
 "nbformat_minor": 4
}