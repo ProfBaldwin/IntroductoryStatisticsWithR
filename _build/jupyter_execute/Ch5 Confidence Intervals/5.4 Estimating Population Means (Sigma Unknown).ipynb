{
 "cells": [
  {
   "cell_type": "markdown",
   "metadata": {},
   "source": [
    "# Estimating Population Means ($\\sigma$ Unknown)"
   ]
  },
  {
   "cell_type": "markdown",
   "metadata": {},
   "source": [
    "## Objectives\n",
    "- Construct confidence intervals for population means in populations where the standard deviation is not known.\n",
    "- Identify and interpret the margin of error for a confidence interval."
   ]
  },
  {
   "cell_type": "markdown",
   "metadata": {},
   "source": [
    "## Confidence Intervals using Student's $t$-Distribution\n",
    "\n",
    "As mentioned before, we rarely actually know the population standard deviation $\\sigma$ when constructing a confidence interval for the population mean $\\mu$. To approximate the population standard deviation $\\sigma$ with the sample standard deviation $s$, we must use a $t$-distribution with $n - 1$ degrees of freedom (where $n$ is the sample size) instead of a normal distribution.\n",
    "\n",
    "With the exception of this change, the process of constructing a confidence interval for the population mean is largely the same:\n",
    "\n",
    "1. Find the sample mean $\\bar{x}$ and the sample standard deviation $s$.\n",
    "2. Find $t_{\\alpha/2}$, the $t$-score with area $\\alpha/2$ to its right and $n-1$ degrees of freedom.\n",
    "3. Calculate the margin of error using the formula $E = t_{\\alpha/2} \\dfrac{s}{\\sqrt{n}}$.\n",
    "4. Construct the confidence interval $(\\bar{x} - E, \\bar{x} + E)$."
   ]
  },
  {
   "cell_type": "markdown",
   "metadata": {},
   "source": [
    "***"
   ]
  },
  {
   "cell_type": "markdown",
   "metadata": {},
   "source": [
    "### Example 5.4.1\n",
    "Forty-five newborn elephants are sampled and found to have the following weights, in pounds:\n",
    "\n",
    "333, 248, 303, 248, 153, 168, 280, 256, 195, 234, 366, 250, 325, 266, 164, 253, 262, 343, 244, 425, 345, 343, 277, 215, 226, 254, 289, 296, 268, 195, 268, 202, 249, 256, 284, 257, 205, 215, 251, 257, 144, 323, 238, 257, 218\n",
    "\n",
    "Construct a $95\\%$ confidence interval for the mean weight of a newborn elephant.\n",
    "\n",
    "#### Solution\n",
    "Note that we are *not* told what the population standard deviation $\\sigma$ is. That means we will need to approximate it using the sample standard deviation $s$, and we'll need to use a $t$-distribution.\n",
    "\n",
    "We are given that\n",
    "\n",
    "\\begin{align*}\n",
    "n &= 25 \\\\\n",
    "CL &= 0.95\n",
    "\\end{align*}\n",
    "\n",
    "##### Step 1: Find the sample mean $\\bar{x}$ and the sample standard deviation $s$."
   ]
  },
  {
   "cell_type": "code",
   "execution_count": 1,
   "metadata": {},
   "outputs": [
    {
     "data": {
      "text/html": [
       "258.844444444444"
      ],
      "text/latex": [
       "258.844444444444"
      ],
      "text/markdown": [
       "258.844444444444"
      ],
      "text/plain": [
       "[1] 258.8444"
      ]
     },
     "metadata": {},
     "output_type": "display_data"
    }
   ],
   "source": [
    "x = c(333, 248, 303, 248, 153, 168, 280, 256, 195, 234, 366, 250, 325, 266, 164, 253, 262, 343, 244, 425, 345, 343, 277, 215, 226, 254, 289, 296, 268, 195, 268, 202, 249, 256, 284, 257, 205, 215, 251, 257, 144, 323, 238, 257, 218)\n",
    "n = length(x)\n",
    "\n",
    "xbar = sum(x)/n\n",
    "xbar"
   ]
  },
  {
   "cell_type": "markdown",
   "metadata": {},
   "source": [
    "Then the sample mean is $\\bar{x} = 258.84444$.\n",
    "\n",
    "To find the sample standard deviation, recall that we use the formula\n",
    "\n",
    "$$ s = \\sqrt{\\frac{\\sum (x - \\bar{x})^2}{n - 1}}. $$\n",
    "\n",
    "Let's translate this formula to R."
   ]
  },
  {
   "cell_type": "code",
   "execution_count": 2,
   "metadata": {},
   "outputs": [
    {
     "data": {
      "text/html": [
       "57.3842532865291"
      ],
      "text/latex": [
       "57.3842532865291"
      ],
      "text/markdown": [
       "57.3842532865291"
      ],
      "text/plain": [
       "[1] 57.38425"
      ]
     },
     "metadata": {},
     "output_type": "display_data"
    }
   ],
   "source": [
    "s = sqrt(sum( (x - xbar)^2 )/(n-1))\n",
    "s"
   ]
  },
  {
   "cell_type": "markdown",
   "metadata": {},
   "source": [
    "The sample standard deviation is $s = 57.38425$.\n",
    "\n",
    "##### Step 2: Find $t_{\\alpha/2}$.\n",
    "First, note the degrees of freedom for the $t$-distribution is\n",
    "\n",
    "$$ df = n-1 = 45 - 1 = 44. $$\n",
    "\n",
    "Next, since $\\text{CL} = 0.95$, the area outside of the confidence interval is\n",
    "\n",
    "$$ \\alpha = 1 - \\text{CL} = 1 - 0.95 = 0.05. $$\n",
    "\n",
    "So $\\alpha/2 = 0.05/2 = 0.025$. We want to find $t_{\\alpha/2} = t_{0.025}$, the $t$-score with an area of $0.025$ to its right."
   ]
  },
  {
   "cell_type": "code",
   "execution_count": 20,
   "metadata": {},
   "outputs": [
    {
     "data": {
      "text/html": [
       "17.2401382726373"
      ],
      "text/latex": [
       "17.2401382726373"
      ],
      "text/markdown": [
       "17.2401382726373"
      ],
      "text/plain": [
       "[1] 17.24014"
      ]
     },
     "metadata": {},
     "output_type": "display_data"
    }
   ],
   "source": [
    "qt(p = 1 - 0.025, df = 44)*sd(x)/sqrt(45)"
   ]
  },
  {
   "cell_type": "markdown",
   "metadata": {},
   "source": [
    "So $t_{0.025} = 2.01537$.\n",
    "\n",
    "##### Step 3: Calculate the Margin of Error.\n",
    "The margin of error is\n",
    "\n",
    "$$ E = t_{0.025}\\frac{s}{\\sqrt{n}} = 2.01537\\left(\\frac{57.38425}{\\sqrt{45}}\\right) = 17.24014. $$\n",
    "\n",
    "##### Step 4: Construct the Confidence Interval.\n",
    "The confidence interval is\n",
    "\n",
    "$$(\\bar{x} - E, \\bar{x} + E) = (258.84444 - 17.24014, 258.84444 + 17.24014) = (241.60431, 276.08458).$$\n",
    "\n",
    "We are $95\\%$ confident that the average weight of a newborn elephant is between $241.60431$ pounds and $276.08458$ pounds."
   ]
  },
  {
   "cell_type": "markdown",
   "metadata": {},
   "source": [
    "***"
   ]
  },
  {
   "cell_type": "markdown",
   "metadata": {},
   "source": [
    "\n",
    "### Example 5.4.2\n",
    "A Menifee High School math teacher, Mr. DeLeon, wants to know the average GPA of students at the high school. He randomly asks $30$ students what their GPA is, and obtains the following data:\n",
    "\n",
    "3.55, 3.51, 3.27, 4.30, 3.17, 3.61, 3.24, 3.74, 3.40, 3.91, 3.00, 1.88, 2.54, 3.15, 4.35, 2.62, 4.01, 3.69, 3.82, 3.18, 2.60, 3.49, 3.05, 2.91, 3.28, 2.97, 3.09, 3.49, 3.49, 3.05\n",
    "\n",
    "Construct a $98\\%$ confidence interval for the mean GPA.\n",
    "\n",
    "#### Solution\n",
    "We are not told the population standard deviation $\\sigma$, so we will need to approximate it using the sample standard deviation $s$ and use a $t$-distribution to find the margin of error.\n",
    "\n",
    "We are told that\n",
    "\n",
    "\\begin{align*}\n",
    "n &= 30 \\\\\n",
    "CL &= 0.98\n",
    "\\end{align*}\n",
    "\n",
    "##### Step 1: Find the Sample Mean $\\bar{x}$ and the Sample Standard Deviation $s$.\n"
   ]
  },
  {
   "cell_type": "code",
   "execution_count": 1,
   "metadata": {},
   "outputs": [
    {
     "data": {
      "text/html": [
       "3.312"
      ],
      "text/latex": [
       "3.312"
      ],
      "text/markdown": [
       "3.312"
      ],
      "text/plain": [
       "[1] 3.312"
      ]
     },
     "metadata": {},
     "output_type": "display_data"
    }
   ],
   "source": [
    "x = c(3.55, 3.51, 3.27, 4.30, 3.17, 3.61, 3.24, 3.74, 3.40, 3.91, 3.00, 1.88, 2.54, 3.15, 4.35, 2.62, 4.01, 3.69, 3.82, 3.18, 2.60, 3.49, 3.05, 2.91, 3.28, 2.97, 3.09, 3.49, 3.49, 3.05)\n",
    "n = length(x)\n",
    "\n",
    "xbar = sum(x)/n\n",
    "xbar"
   ]
  },
  {
   "cell_type": "markdown",
   "metadata": {},
   "source": [
    "So the sample mean is $\\bar{x} = 3.312$."
   ]
  },
  {
   "cell_type": "code",
   "execution_count": 2,
   "metadata": {},
   "outputs": [
    {
     "data": {
      "text/html": [
       "0.526428434406543"
      ],
      "text/latex": [
       "0.526428434406543"
      ],
      "text/markdown": [
       "0.526428434406543"
      ],
      "text/plain": [
       "[1] 0.5264284"
      ]
     },
     "metadata": {},
     "output_type": "display_data"
    }
   ],
   "source": [
    "s = sqrt(sum( (x - xbar)^2 )/(n-1))\n",
    "s"
   ]
  },
  {
   "cell_type": "markdown",
   "metadata": {},
   "source": [
    "The sample standard deviation is $s = 0.5264$.\n",
    "\n",
    "##### Step 2: Find $t_{\\alpha/2}$.\n",
    "First, note that the degrees of freedom for our $t$-distribution is\n",
    "\n",
    "$$ df = n-1 = 30-1 = 29. $$\n",
    "\n",
    "Next, since the area inside the confidence interval is $CL = 0.98$, the area outside the confidence interval is\n",
    "\n",
    "$$ \\alpha = 1 - CL = 1 - 0.98 = 0.02. $$\n",
    "\n",
    "So the area remaining in each tail of the $t$-distribution is $\\alpha/2 = 0.02/2 = 0.01$. We want to find $t_{\\alpha/2} = t_{0.01}$, the $t$-value with a area of $0.01$ to its right."
   ]
  },
  {
   "cell_type": "code",
   "execution_count": 24,
   "metadata": {},
   "outputs": [
    {
     "data": {
      "text/html": [
       "2.46202136015041"
      ],
      "text/latex": [
       "2.46202136015041"
      ],
      "text/markdown": [
       "2.46202136015041"
      ],
      "text/plain": [
       "[1] 2.462021"
      ]
     },
     "metadata": {},
     "output_type": "display_data"
    }
   ],
   "source": [
    "qt(p = 1 - 0.01, df = 29)"
   ]
  },
  {
   "cell_type": "markdown",
   "metadata": {},
   "source": [
    "Then $t_{0.01} = 2.4620$.\n",
    "\n",
    "##### Step 3: Calculate the Margin of Error.\n",
    "The margin of error is\n",
    "\n",
    "$$ E = t_{0.01}\\frac{s}{\\sqrt{n}} = 2.4620\\left(\\frac{0.5264}{\\sqrt{30}}\\right) = 0.2366. $$\n",
    "\n",
    "##### Step 4: Construct the Confidence Interval.\n",
    "The confidence interval is\n",
    "\n",
    "$$(\\bar{x} - E, \\bar{x} + E) = (3.312 - 0.2366, 3.312 + 0.2366) = (3.0754, 3.5486).$$\n",
    "\n",
    "We are $98\\%$ confident that the average GPA of students at Menifee High School is between $3.0754$ and $3.5486$.\n"
   ]
  }
 ],
 "metadata": {
  "kernelspec": {
   "display_name": "R",
   "language": "R",
   "name": "ir"
  },
  "language_info": {
   "codemirror_mode": "r",
   "file_extension": ".r",
   "mimetype": "text/x-r-source",
   "name": "R",
   "pygments_lexer": "r",
   "version": "4.2.3"
  }
 },
 "nbformat": 4,
 "nbformat_minor": 4
}