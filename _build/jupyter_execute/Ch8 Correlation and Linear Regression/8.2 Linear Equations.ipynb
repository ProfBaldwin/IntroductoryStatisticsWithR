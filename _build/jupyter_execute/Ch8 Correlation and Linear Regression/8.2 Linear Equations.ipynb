{
 "cells": [
  {
   "cell_type": "markdown",
   "metadata": {},
   "source": [
    "# Linear Equations"
   ]
  },
  {
   "cell_type": "markdown",
   "metadata": {},
   "source": [
    "## Objectives\n",
    "- Identify a linear equation in two variables, including the slope and $y$-intercept of the line.\n",
    "- Interpret the meaning of the slope and $y$-intercept of a linear equation..\n",
    "- Construct linear equations from applications."
   ]
  },
  {
   "cell_type": "markdown",
   "metadata": {},
   "source": [
    "## Linear Equations\n",
    "Linear regression for two variables is based on a linear equation with one independent variable. The equation has the form:\n",
    "\n",
    "$$y = a + bx, $$\n",
    "\n",
    "where $a$ and $b$ are constant numbers.\n",
    "\n",
    "The variable $x$ is called the **independent variable**, and $y$ is the **dependent variable**. While not always true, we often think of $x$ as causing or resulting in $y$; that is, $y$ depends on $x$. Typically, we choose a value to substitute for the independent variable and then solve for the dependent variable.\n",
    "\n",
    "The graph of a linear equation of the form $y = a + bx$ is a straight line. Any line that is not vertical can be described by this equation."
   ]
  },
  {
   "cell_type": "markdown",
   "metadata": {},
   "source": [
    "## Slope and Y-Intercept of a Linear Equation\n",
    "For the linear equation $y = a + bx$, the point $(0, a)$ is the **$y$-intercept** of the line, and $b$ is the **slope** of the line.\n",
    "\n",
    "The $y$-intercept $(0, a)$ of a line is the point where the line crosses the $y$-axis. In applications, it often represents a starting value or initial value of $y = a$ when $x = 0$.\n",
    "\n",
    "The slope of a line describes the steepness and direction of the line. The larger the absolute value of slope $b$, the steeper the line. If $b$ is positive, the line has an \"uphill\" slope from left to right. If $b$ is negative, the line has a \"downhill\" slope from left to right.\n",
    "\n",
    "In terms of the variables, a positive slope ($b > 0$) means that as the value of $x$ gets bigger, the value of $y$ gets bigger, too. Conversely, a negative slope ($b < 0$) means that as the value of $x$ gets bigger, the value of $y$ gets smaller. A line with zero slope ($b = 0$) means $x$ can get bigger or smaller, but $y$ always stays exactly the same."
   ]
  },
  {
   "cell_type": "code",
   "execution_count": 41,
   "metadata": {
    "tags": [
     "remove-cell"
    ]
   },
   "outputs": [
    {
     "data": {
      "text/html": [
       "<strong>png:</strong> 2"
      ],
      "text/latex": [
       "\\textbf{png:} 2"
      ],
      "text/markdown": [
       "**png:** 2"
      ],
      "text/plain": [
       "png \n",
       "  2 "
      ]
     },
     "metadata": {},
     "output_type": "display_data"
    }
   ],
   "source": [
    "png(\"line1.png\", width = 500, height = 500)\n",
    "\n",
    "par(mar = c(0, 0, 1.5, 0.6))\n",
    "\n",
    "x = c(-5, 5)\n",
    "y = c(-1.5, 3.5)\n",
    "plot(x, y, type = \"l\", lwd = 3, cex = 2, cex.axis = 2, cex.lab = 2, xlim = c(-5, 5), ylim = c(-5, 5), axes = FALSE, xlab = \"\", ylab = \"\")\n",
    "\n",
    "axis(1, pos = 0, at = c(seq(-5, -1, 1), seq(1, 5, 1)), cex.axis = 2)\n",
    "axis(2, pos = 0, at = c(seq(-5, -1, 1), seq(1, 5, 1)), cex.axis = 2)\n",
    "\n",
    "text(5.03, 0, labels = expression(x), cex = 2.5, pos = 4, xpd = TRUE)\n",
    "text(0, 5.1, labels = expression(y), cex = 2.5, pos = 3, xpd = TRUE)\n",
    "\n",
    "dev.off()"
   ]
  },
  {
   "cell_type": "markdown",
   "metadata": {},
   "source": [
    "```{figure} line1.png\n",
    "---\n",
    "width: 50%\n",
    "alt: The graph of the line $y = 1 + 0.5x$, with $y$-intercept (0, 1) and slope 0.5. The line has a gentle uphill slope from left to right.\n",
    "name: line1\n",
    "---\n",
    "The graph of the line $y = 1 + 0.5x$. Since $a = 1$, the line crosses the $y$-axis as the $y$-intercept $(0, 1)$. Since the slope $b = 0.5$ is a positive number, the line goes \"uphill\" from left to right. The slope $b = 0.5$ isn't a very big number, so the line isn't very steep.\n",
    "```"
   ]
  },
  {
   "cell_type": "code",
   "execution_count": 44,
   "metadata": {
    "tags": [
     "remove-cell"
    ]
   },
   "outputs": [
    {
     "data": {
      "text/html": [
       "<strong>png:</strong> 2"
      ],
      "text/latex": [
       "\\textbf{png:} 2"
      ],
      "text/markdown": [
       "**png:** 2"
      ],
      "text/plain": [
       "png \n",
       "  2 "
      ]
     },
     "metadata": {},
     "output_type": "display_data"
    }
   ],
   "source": [
    "png(\"line2.png\", width = 500, height = 500)\n",
    "\n",
    "par(mar = c(0, 0, 1.5, 0.6))\n",
    "\n",
    "x = c(-3/2.5, 7/2.5)\n",
    "y = c(5, -5)\n",
    "plot(x, y, type = \"l\", lwd = 3, cex = 2, cex.axis = 2, cex.lab = 2, xlim = c(-5, 5), ylim = c(-5, 5), axes = FALSE, xlab = \"\", ylab = \"\")\n",
    "\n",
    "axis(1, pos = 0, at = c(seq(-5, -1, 1), seq(1, 5, 1)), cex.axis = 2)\n",
    "axis(2, pos = 0, at = c(seq(-5, -1, 1), seq(1, 5, 1)), cex.axis = 2)\n",
    "\n",
    "text(5.03, 0, labels = expression(x), cex = 2.5, pos = 4, xpd = TRUE)\n",
    "text(0, 5.1, labels = expression(y), cex = 2.5, pos = 3, xpd = TRUE)\n",
    "\n",
    "dev.off()"
   ]
  },
  {
   "cell_type": "markdown",
   "metadata": {},
   "source": [
    "```{figure} line2.png\n",
    "---\n",
    "width: 50%\n",
    "alt: The graph of the line $y = 2 - 2.5x$, with $y$-intercept (0, 2) and slope -2.5. The line has a steep downhill slope from left to right.\n",
    "name: line2\n",
    "---\n",
    "The graph of the line $y = 2 - 2.5x$. Since $a = 2$, the line crosses the $y$-axis as the $y$-intercept $(0, 2)$. Since the slope $b = -2.5$ is a negative number, the line goes \"downhill\" from left to right. The absolute value of slope $b = -2.5$ is larger than the slope of the line in {numref}`Figure {number} <line1>`, so this line is steeper.\n",
    "```"
   ]
  },
  {
   "cell_type": "code",
   "execution_count": 45,
   "metadata": {
    "tags": [
     "remove-cell"
    ]
   },
   "outputs": [
    {
     "data": {
      "text/html": [
       "<strong>png:</strong> 2"
      ],
      "text/latex": [
       "\\textbf{png:} 2"
      ],
      "text/markdown": [
       "**png:** 2"
      ],
      "text/plain": [
       "png \n",
       "  2 "
      ]
     },
     "metadata": {},
     "output_type": "display_data"
    }
   ],
   "source": [
    "png(\"line3.png\", width = 500, height = 500)\n",
    "\n",
    "par(mar = c(0, 0, 1.5, 0.6))\n",
    "\n",
    "x = c(-5, 5)\n",
    "y = c(-3, -3)\n",
    "plot(x, y, type = \"l\", lwd = 3, cex = 2, cex.axis = 2, cex.lab = 2, xlim = c(-5, 5), ylim = c(-5, 5), axes = FALSE, xlab = \"\", ylab = \"\")\n",
    "\n",
    "axis(1, pos = 0, at = c(seq(-5, -1, 1), seq(1, 5, 1)), cex.axis = 2)\n",
    "axis(2, pos = 0, at = c(seq(-5, -1, 1), seq(1, 5, 1)), cex.axis = 2)\n",
    "\n",
    "text(5.03, 0, labels = expression(x), cex = 2.5, pos = 4, xpd = TRUE)\n",
    "text(0, 5.1, labels = expression(y), cex = 2.5, pos = 3, xpd = TRUE)\n",
    "\n",
    "dev.off()"
   ]
  },
  {
   "cell_type": "markdown",
   "metadata": {},
   "source": [
    "```{figure} line3.png\n",
    "---\n",
    "width: 50%\n",
    "alt: The graph of the line $y = -3$, with $y$-intercept (0, -3) and slope 0. The line is a horizontal line.\n",
    "name: line3\n",
    "---\n",
    "The graph of the line $y = -3$, which can also be written as $y = -3 + 0x$. Since $a = -3$, the line crosses the $y$-axis as the $y$-intercept $(0, -3)$. Since the slopeof the line is $b = 0$, the line is horizontal.\n",
    "```"
   ]
  },
  {
   "cell_type": "markdown",
   "metadata": {},
   "source": [
    "***"
   ]
  },
  {
   "cell_type": "markdown",
   "metadata": {},
   "source": [
    "\n",
    "### Example 8.2.1\n",
    "Svetlana tutors to make extra money for college. For each tutoring session, she charges a one-time fee of $\\$25$ plus $\\$15$ per hour of tutoring.\n",
    "\n",
    "1. Find the equation of the line that expresses the total amount Svetlana charges in terms of the number of hours of the tutoring session.\n",
    "2. What is the $y$-intercept of the line? How should we interpret this value?\n",
    "3. What is the slope of the line? How should we interpret this value?\n",
    "4. If Svetlana has a tutoring session that lasts $4.5$ hours, how much will she charge?\n",
    "\n",
    "#### Solution\n",
    "##### Part 1\n",
    "Let $x$ be the number of hours of the tutoring session.\n",
    "\n",
    "Let $y$ be the amount Svetlana charges for the tutoring session.\n",
    "\n",
    "Svetlana charges a one-time fee of $\\$25$ at the start of a tutoring session; it does not change with the length of the tutoring session. But Svetlana also charges $\\$15$ per hour. We will need to multiply the hourly rate of $\\$15$ by the number of hours $x$ to find the hourly charge. Combined, we have the total amount Svetlana charges for a tutoring session:\n",
    "\n",
    "$$ y = 25 + 15x. $$\n",
    "\n",
    "##### Part 2\n",
    "Since $a = 25$, the $y$-intercept is $(x, y) = (0, 25)$. If someone hires Svetlana for a tutoring session that lasts $x = 0$ hours (for example, if the person hires Svetlana but doesn't show), Svetlana still charges them $y = 25$ dollars.\n",
    "\n",
    "##### Part 3\n",
    "The slope is $b = 15$. Since $b$ is positive, the line has an \"uphill\" direction. Also, longer tutoring sessions (bigger $x$) mean Svetlana will charge more (bigger $y$).\n",
    "\n",
    "##### Part 4\n",
    "If Svetlana has a tutoring session that lasts $4.5$ hours then, mathematically, $x = 4.5$. Substituting this into our linear equation will tell us $y$:\n",
    "\n",
    "$$ y = 25 + 15(4.5) = 92.5. $$\n",
    "\n",
    "So for a $4.5$ hour tutoring session, Svetlana charges $\\$92.50$."
   ]
  },
  {
   "cell_type": "markdown",
   "metadata": {},
   "source": [
    "***"
   ]
  },
  {
   "cell_type": "markdown",
   "metadata": {},
   "source": [
    "\n",
    "### Example 8.2.2\n",
    "Belisario made $36$ cookies. He eats two cookies each day.\n",
    "\n",
    "1. Find an equation that expresses the total number of cookies that Belisario has in terms of the number of days that have passed.\n",
    "2. What is the $y$-intercept? How should we interpret this value?\n",
    "3. What is the slope? How should we interpret this value?\n",
    "4. After $6$ days, how many cookies does Belisario have?\n",
    "\n",
    "#### Solution\n",
    "##### Part 1\n",
    "Let $x$ be the number of days that have passed since Belisario made cookies.\n",
    "\n",
    "Let $y$ be the number of cookies Belisario has left.\n",
    "\n",
    "Belisario starts off with $36$ cookies, but we need to take $2$ away for each day that has passed. This gives us the equation\n",
    "\n",
    "$$ y = 36 - 2x. $$\n",
    "\n",
    "##### Part 2\n",
    "Since $a = 36$, the $y$-intercept is $(x, y) = (0, 36)$. That means when $x = 0$ days have passed, Belisario has $y = 36$ cookies. Or, even more simply, this is just saying that Belisario starts off with $36$ cookies.\n",
    "\n",
    "##### Part 3\n",
    "The slope is $b = -2$. Since $b$ is negative, the line has a \"downhill\" direction. Also, the more days that pass (bigger $x$), the fewer cookies Belisario will have (fewer $y$).\n",
    "\n",
    "##### Part 4\n",
    "To find out how many cookies Belisario has after $6$ days, we plug in $x = 6$ into the equation:\n",
    "\n",
    "$$ y = 36 - 2(6) = 24. $$\n",
    "\n",
    "After $6$ days Belisario has $24$ cookies left.\n"
   ]
  }
 ],
 "metadata": {
  "kernelspec": {
   "display_name": "R",
   "language": "R",
   "name": "ir"
  },
  "language_info": {
   "codemirror_mode": "r",
   "file_extension": ".r",
   "mimetype": "text/x-r-source",
   "name": "R",
   "pygments_lexer": "r",
   "version": "4.2.3"
  }
 },
 "nbformat": 4,
 "nbformat_minor": 4
}