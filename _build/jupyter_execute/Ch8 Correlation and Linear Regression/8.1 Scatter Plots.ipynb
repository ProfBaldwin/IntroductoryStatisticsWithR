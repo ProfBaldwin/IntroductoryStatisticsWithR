{
 "cells": [
  {
   "cell_type": "markdown",
   "metadata": {},
   "source": [
    "# Scatter Plots"
   ]
  },
  {
   "cell_type": "markdown",
   "metadata": {},
   "source": [
    "## Objectives\n",
    "- Create scatter plots of bivariate data.\n",
    "- Identify from a scatter plot if two variables appear to be correlated and, if so, whether the variables are positively or negatively correlated."
   ]
  },
  {
   "cell_type": "markdown",
   "metadata": {},
   "source": [
    "## Introduction\n",
    "Professionals often want to know how two or more variables are related. For example, is there a relationship in a math class between the score on the midterm exam and the score on the final exam? If there is a relationship, what is the relationship and how strong is it? For instance, if a student gets an $86\\%$ on the midterm exam, how accurately can we predict their score on the final exam? \n",
    "\n",
    "Data from two paired variables together is called **bivariate data**. (In reality, statisticians use multivariate data, meaning many variables.) When two variables are related so that we can predict the value of one variable if we know the value of the other variable, we say the two variables are **correlated**. In this chapter, we will learn how to measure how correlated two variables are, how to model the correlation, and how to make predictions from correlated bivariate data.\n",
    "\n",
    "## Scatter Plots\n",
    "It will be usefuly to first examine a way to graphically display the relation between two variables $x$ and $y$. The easiest and most common way to do this is to use a **scatter plot**. A scatter plot is a plot of the known $(x, y)$ data point pairs on a coordinate plane. Plotting the data graphically allows us to more easily visualize any correlation between $x$ and $y$.\n",
    "\n",
    "We can create a scatter plot using R with the <code>plot</code> function:\n",
    "\n",
    "```R\n",
    "plot(x, y)\n",
    "```\n",
    "\n",
    "Here, <code>x</code> is a list of the $x$-values, and <code>y</code> is a list of the corresponding $y$-values. Note that corresponding values in <code>x</code> and <code>y</code> must be in the same order. For example, if one of the points we want to plot is $(x, y) = (7, 3)$, and $x = 7$ is the fifth value in list <code>x</code>, then $y = 3$ must also be the fifth value in list <code>y</code>.\n",
    "\n"
   ]
  },
  {
   "cell_type": "markdown",
   "metadata": {},
   "source": [
    "***"
   ]
  },
  {
   "cell_type": "markdown",
   "metadata": {},
   "source": [
    "\n",
    "### Example 8.1.1\n",
    "Amelia plays basketball for her high school. She wants to improve to play at the college level. She notices that the number of points she scores in a game goes up in response to the number of hours she practices her jump shot each week. She records the following data:\n",
    "\n",
    "```{list-table} The number of hours Amelia practices her jump shot each week and the points she scores in the next basketball game.\n",
    ":header-rows: 1\n",
    ":name: scatter-plot-ex-1\n",
    "* - $x$—Hours practicing jump shot\n",
    "  - $y$—Points scored in a game\n",
    "* - 5\n",
    "  - 15\n",
    "* - 7\n",
    "  - 22\n",
    "* - 9\n",
    "  - 28\n",
    "* - 10\n",
    "  - 31\n",
    "* - 11\n",
    "  - 33\n",
    "* - 12\n",
    "  - 36\n",
    "```\n",
    "\n",
    "Construct a scatter plot and state if what Amelia thinks appears to be true.\n",
    "\n",
    "#### Solution\n",
    "We get $6$ pairs of $(x, y)$ points from the data: $(5, 15)$, $(7, 22)$, $(9, 28)$, $(10, 31)$, $(11, 33)$, and $(12, 36)$. We can easily plot these by hand, but it is faster and easier to use R to obtain our scatter plot using the <code>plot</code> function."
   ]
  },
  {
   "cell_type": "code",
   "execution_count": 2,
   "metadata": {
    "tags": [
     "remove-output"
    ]
   },
   "outputs": [
    {
     "data": {
      "image/png": "[encoded data removed]",
      "text/plain": [
       "plot without title"
      ]
     },
     "metadata": {
      "image/png": {
       "height": 420,
       "width": 420
      }
     },
     "output_type": "display_data"
    }
   ],
   "source": [
    "x = c(5, 7, 9, 10, 11, 12)\n",
    "y = c(15, 22, 28, 31, 33, 36)\n",
    "\n",
    "plot(x, y)"
   ]
  },
  {
   "cell_type": "code",
   "execution_count": 1,
   "metadata": {
    "tags": [
     "remove-cell"
    ]
   },
   "outputs": [
    {
     "data": {
      "text/html": [
       "<strong>png:</strong> 2"
      ],
      "text/latex": [
       "\\textbf{png:} 2"
      ],
      "text/markdown": [
       "**png:** 2"
      ],
      "text/plain": [
       "png \n",
       "  2 "
      ]
     },
     "metadata": {},
     "output_type": "display_data"
    }
   ],
   "source": [
    "png(\"scatterplot1.png\", width = 500, height = 500)\n",
    "\n",
    "par(mar = c(4, 4.5, 0, 0))\n",
    "\n",
    "x = c(5, 7, 9, 10, 11, 12)\n",
    "y = c(15, 22, 28, 31, 33, 36)\n",
    "plot(x, y, pch=19, cex = 2, cex.axis = 2, cex.lab = 2)\n",
    "\n",
    "dev.off()"
   ]
  },
  {
   "cell_type": "markdown",
   "metadata": {},
   "source": [
    "```{figure} scatterplot1.png\n",
    "---\n",
    "width: 50%\n",
    "alt: A scatterplot of the data in the example. Each ordered pair of the data is plotted.\n",
    "name: scatterplot1\n",
    "---\n",
    "The scatterplot of the data. Each $(x, y)$ pair is represented by a point.\n",
    "```"
   ]
  },
  {
   "cell_type": "markdown",
   "metadata": {},
   "source": [
    "Notice in {numref}`Figure {number} <scatterplot1>` there appears to be a strong linear correlation between the number of hours Amelia spends practicing each week ($x$) and the number of points she scores in a game ($y$). That is, the points almost fall on a straight line. Also, the larger the value of $x$ is, the larger the corresponding value of $y$ tends to be. From this, we might presume that the more hours Amelia spends practicing, the more points she'll score in a game."
   ]
  },
  {
   "cell_type": "markdown",
   "metadata": {},
   "source": [
    "***"
   ]
  },
  {
   "cell_type": "markdown",
   "metadata": {},
   "source": [
    "A scatter plot shows the **direction** of the correlation between the variables. A clear direction happens when either:\n",
    "\n",
    "- Higher values of one variable tend to occur with higher values of the other variable, and lower values of one variable tend to occur with lower values of the other variable. Graphically, the points tend to go \"uphill\" when viewing the graph from left to right. In this case, we say the variables have a **positive** correlation.\n",
    "- Higher values of one variable tend to occur with lower values of the other variable. Graphically, the points tend to go \"downhill\" when viewing the graph from left to right. In this case, we say the variables have a **negative** correlation.\n",
    "\n",
    "We can determine the **strength** of the relationship by looking at the scatter plot and seeing how close the points are to a line, a power function, an exponential function, or to some other type of function.\n",
    "\n",
    "When you look at a scatterplot, you want to notice the overall pattern and any deviations from the pattern. The following scatterplot examples illustrate these concepts."
   ]
  },
  {
   "cell_type": "code",
   "execution_count": 1,
   "metadata": {
    "tags": [
     "remove-cell"
    ]
   },
   "outputs": [
    {
     "data": {
      "text/html": [
       "<strong>png:</strong> 2"
      ],
      "text/latex": [
       "\\textbf{png:} 2"
      ],
      "text/markdown": [
       "**png:** 2"
      ],
      "text/plain": [
       "png \n",
       "  2 "
      ]
     },
     "metadata": {},
     "output_type": "display_data"
    }
   ],
   "source": [
    "png(\"scatterplot2.png\", width = 500, height = 500)\n",
    "\n",
    "par(mar = c(4, 4.5, 0, 0))\n",
    "\n",
    "n = 15\n",
    "x = runif(n)\n",
    "y = x + rnorm(n, 0, 0.015)\n",
    "plot(x, y, pch=19, cex = 2, cex.axis = 2, cex.lab = 2, xaxt = \"n\", yaxt = \"n\")\n",
    "\n",
    "dev.off()"
   ]
  },
  {
   "cell_type": "markdown",
   "metadata": {},
   "source": [
    "```{figure} scatterplot2.png\n",
    "---\n",
    "width: 50%\n",
    "alt: A scatter plot of points that fall almost perfectly on a line that would go uphill from left to right.\n",
    "name: scatterplot2\n",
    "---\n",
    "The data in this scatter plot are strongly correlated; they fall almost perfectly on a straight line. Points with higher $x$-values tend to also have higher $y$-values, so the points look like they are trending \"uphill\" when viewed from left to right. This means the variables are positively correlated.\n",
    "```"
   ]
  },
  {
   "cell_type": "code",
   "execution_count": null,
   "metadata": {
    "tags": [
     "remove-cell"
    ]
   },
   "outputs": [
    {
     "data": {
      "text/html": [
       "<strong>png:</strong> 2"
      ],
      "text/latex": [
       "\\textbf{png:} 2"
      ],
      "text/markdown": [
       "**png:** 2"
      ],
      "text/plain": [
       "png \n",
       "  2 "
      ]
     },
     "metadata": {},
     "output_type": "display_data"
    }
   ],
   "source": [
    "png(\"scatterplot3.png\", width = 500, height = 500)\n",
    "\n",
    "par(mar = c(4, 4.5, 0, 0))\n",
    "\n",
    "n = 20\n",
    "x = runif(n)\n",
    "y = -x + rnorm(n, 0, 0.15)\n",
    "plot(x, y, pch=19, cex = 2, cex.axis = 2, cex.lab = 2, xaxt = \"n\", yaxt = \"n\")\n",
    "\n",
    "dev.off()"
   ]
  },
  {
   "cell_type": "markdown",
   "metadata": {},
   "source": [
    "```{figure} scatterplot3.png\n",
    "---\n",
    "width: 50%\n",
    "alt: A scatter plot of points that roughly follow a line that would go downhill from left to right.\n",
    "name: scatterplot3\n",
    "---\n",
    "The data in this scatter plot are more weakly correlated than the data plotted in {numref}`Figure {number} <scatterplot2>`; the data roughly fall along a line but are more spread out than in the previous figure. Points with higher $x$-values tend to also have lower $y$-values, so the points look like they are trending \"downhill\" when viewed from left to right. This means the variables are negatively correlated.\n",
    "```"
   ]
  },
  {
   "cell_type": "code",
   "execution_count": 89,
   "metadata": {
    "tags": [
     "remove-cell"
    ]
   },
   "outputs": [
    {
     "data": {
      "text/html": [
       "<strong>png:</strong> 2"
      ],
      "text/latex": [
       "\\textbf{png:} 2"
      ],
      "text/markdown": [
       "**png:** 2"
      ],
      "text/plain": [
       "png \n",
       "  2 "
      ]
     },
     "metadata": {},
     "output_type": "display_data"
    }
   ],
   "source": [
    "png(\"scatterplot4.png\", width = 500, height = 500)\n",
    "\n",
    "par(mar = c(4, 4.5, 0, 0))\n",
    "\n",
    "n = 20\n",
    "x = rnorm(n)\n",
    "y = rnorm(n)\n",
    "plot(x, y, pch=19, cex = 2, cex.axis = 2, cex.lab = 2, xaxt = \"n\", yaxt = \"n\")\n",
    "\n",
    "dev.off()"
   ]
  },
  {
   "cell_type": "markdown",
   "metadata": {},
   "source": [
    "```{figure} scatterplot4.png\n",
    "---\n",
    "width: 50%\n",
    "alt: A scatter plot of points that appear randomly distributed.\n",
    "name: scatterplot4\n",
    "---\n",
    "The data in this scatter plot do not appear to be correlated at all. Knowing the value of $x$ for a data point would not help us predict the value of $y$.\n",
    "```"
   ]
  },
  {
   "cell_type": "code",
   "execution_count": 126,
   "metadata": {
    "tags": [
     "remove-cell"
    ]
   },
   "outputs": [
    {
     "data": {
      "text/html": [
       "<strong>png:</strong> 2"
      ],
      "text/latex": [
       "\\textbf{png:} 2"
      ],
      "text/markdown": [
       "**png:** 2"
      ],
      "text/plain": [
       "png \n",
       "  2 "
      ]
     },
     "metadata": {},
     "output_type": "display_data"
    }
   ],
   "source": [
    "png(\"scatterplot5.png\", width = 500, height = 500)\n",
    "\n",
    "par(mar = c(4, 4.5, 0, 0))\n",
    "\n",
    "n = 20\n",
    "x = runif(n)\n",
    "y = -x + rnorm(n, 0, 0.07)\n",
    "y[1] = y[1] + 1\n",
    "plot(x, y, pch=19, cex = 2, cex.axis = 2, cex.lab = 2, xaxt = \"n\", yaxt = \"n\")\n",
    "\n",
    "dev.off()"
   ]
  },
  {
   "cell_type": "markdown",
   "metadata": {},
   "source": [
    "```{figure} scatterplot5.png\n",
    "---\n",
    "width: 50%\n",
    "alt: A scatter plot of points that roughly follow a line that would go downhill from left to right with one point that has a y-value that is considerably larger than we would expect based on its x-value.\n",
    "name: scatterplot5\n",
    "---\n",
    "The data in this scatter plot are negatively correlated, but note that there is one point that is an outlier. When we get a point like this one that is a strong outlier, it may indicate there is a problem. For example, maybe we made a mistake when collecting the data for this point. Or maybe we made a mistake when inputting the data into the computer. It's also possible that the point is correct and it simply doesn't follow the pattern we would expect.\n",
    "```"
   ]
  },
  {
   "cell_type": "code",
   "execution_count": 152,
   "metadata": {
    "tags": [
     "remove-cell"
    ]
   },
   "outputs": [
    {
     "data": {
      "text/html": [
       "<strong>png:</strong> 2"
      ],
      "text/latex": [
       "\\textbf{png:} 2"
      ],
      "text/markdown": [
       "**png:** 2"
      ],
      "text/plain": [
       "png \n",
       "  2 "
      ]
     },
     "metadata": {},
     "output_type": "display_data"
    }
   ],
   "source": [
    "png(\"scatterplot6.png\", width = 500, height = 500)\n",
    "\n",
    "par(mar = c(4, 4.5, 0, 0))\n",
    "\n",
    "n = 25\n",
    "a = 4\n",
    "x = runif(n, min = -a, max = a)\n",
    "y = exp(x) + rnorm(n, 0, 0.6)\n",
    "plot(x, y, pch=19, cex = 2, cex.axis = 2, cex.lab = 2, xaxt = \"n\", yaxt = \"n\")\n",
    "\n",
    "dev.off()"
   ]
  },
  {
   "cell_type": "markdown",
   "metadata": {},
   "source": [
    "```{figure} scatterplot6.png\n",
    "---\n",
    "width: 50%\n",
    "alt: A scatter plot of points that roughly follow an exponential growth function.\n",
    "name: scatterplot6\n",
    "---\n",
    "The data in this scatter plot are clearly correlated, but the data is not *linearly* correlated. Instead of following a line, the data appear to follow an exponential growth function.\n",
    "```"
   ]
  },
  {
   "cell_type": "markdown",
   "metadata": {},
   "source": [
    "In this chapter, we are interested in scatter plots that are linearly correlated. Linear correlation is quite common. The linear correlation between two variables is strong if the points are close to a straight line. In a future section, we will use a process called **linear regression** to find the line that best \"fits\" points that appear to show a linear relationship. We can use this line to predict a value of $y$ for a given value of $x$.\n",
    "\n",
    "```{warning}\n",
    "In this section, we have learned that data are linearly correlated when the scatter plot of the data shows a linear relationship. However, there are two exceptions that we should be aware of. Data where the the linear relationship matches a horizontal line or a vertical line are *not* correlated. This is because when a line is vertical or horizontal, one of the variables never changes, so knowing the value of one variable does not give any more predictive power over the other variable.\n",
    "\n",
    "For example, suppose we gather data each week where $x$ is the number of cars a car dealership sells that week and $y$ is the number of Tuesdays in that week. Since every week has exactly one Tuesday, the value of $y$ never changes; it is always $y = 1$. Knowing how many cars $x$ that are sold in a given week  does not give us any more information about $y$; we already know $y = 1$. Similarly, knowing that $y = 1$ does not help us predict how many cars $x$ are sold in any given week.\n",
    "```"
   ]
  }
 ],
 "metadata": {
  "kernelspec": {
   "display_name": "R",
   "language": "R",
   "name": "ir"
  },
  "language_info": {
   "codemirror_mode": "r",
   "file_extension": ".r",
   "mimetype": "text/x-r-source",
   "name": "R",
   "pygments_lexer": "r",
   "version": "4.2.3"
  }
 },
 "nbformat": 4,
 "nbformat_minor": 4
}