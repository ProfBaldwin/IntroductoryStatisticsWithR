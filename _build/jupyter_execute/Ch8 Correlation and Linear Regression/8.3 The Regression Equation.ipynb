{
 "cells": [
  {
   "cell_type": "markdown",
   "metadata": {},
   "source": [
    "# The Regression Equation"
   ]
  },
  {
   "cell_type": "markdown",
   "metadata": {},
   "source": [
    "## Objectives\n",
    "- Construct the line of best fit for bivariate data.\n",
    "- Plot a scatter plot together with its line of best fit.\n",
    "- Given an $x$-value, use the line of best fit for a data set to predict the corresponding $y$-value."
   ]
  },
  {
   "cell_type": "markdown",
   "metadata": {},
   "source": [
    "## The Regression Equation\n",
    "Data rarely fit a straight line exactly. Usually, we must be satisfied with rough predictions. We might have a set of data whose scatter plot appears to approximately **\"fit\"** a straight line. This line is called the **line of best fit** or the **least squares regression line**.\n",
    "\n",
    "We can use R to find the coefficients of the line of best fit using the function:\n",
    "\n",
    "```R\n",
    "lm(y~x)\n",
    "```\n",
    "\n",
    "Here, <code>x</code> and <code>y</code> are paired lists of values, and <code>y~x</code> means we assume <code>y</code> depends on <code>x</code>. The function <code>lm(y~x)</code> returns the coefficients of the **l**inear **m**odel that best fits the data.\n",
    "\n",
    "For example, imagine we have the following data:\n",
    "\n",
    "```{list-table} Example data values for an independent variable $x$ and the corresponding values for a dependent variable $y$. We will find the line of best fit for this data.\n",
    ":stub-columns: 1\n",
    ":name: reg-data-1\n",
    ":widths: 100 10 10 10 10 10 10 10 10\n",
    "* - $x$-values\n",
    "  - $5$\n",
    "  - $2$\n",
    "  - $4$\n",
    "  - $5$\n",
    "  - $11$\n",
    "  - $0$\n",
    "  - $8$\n",
    "  - $5$\n",
    "* - $y$-values\n",
    "  - $6$\n",
    "  - $4$\n",
    "  - $2$\n",
    "  - $7$\n",
    "  - $13$\n",
    "  - $-2$\n",
    "  - $12$\n",
    "  - $8$\n",
    "```\n",
    "\n",
    "We can use R to find the coefficients of the line of best fit."
   ]
  },
  {
   "cell_type": "code",
   "execution_count": 2,
   "metadata": {},
   "outputs": [
    {
     "data": {
      "text/plain": [
       "\n",
       "Call:\n",
       "lm(formula = y ~ x)\n",
       "\n",
       "Coefficients:\n",
       "(Intercept)            x  \n",
       "     -0.625        1.375  \n"
      ]
     },
     "metadata": {},
     "output_type": "display_data"
    }
   ],
   "source": [
    "x = c(5, 2, 4, 5, 11, 0, 8, 5)\n",
    "y = c(6, 4, 2, 7, 13, -2, 12, 8)\n",
    "\n",
    "lm(y~x)"
   ]
  },
  {
   "cell_type": "markdown",
   "metadata": {},
   "source": [
    "This gives us the $y$-value of the $y$-intercept, $a = -0.625$, and the slope, $b = 1.375$, of the line of best fit. So the line of best fit for the data is\n",
    "\n",
    "$$ y = -0.625 + 1.375x $$\n",
    "\n",
    "We can graph this line *after* graphing the scatterplot using the function <code>abline</code>:\n",
    "\n",
    "```R\n",
    "abline(a, b)\n",
    "```\n",
    "\n",
    "Here, <code>a</code> is the $a$ coefficient and <code>b</code> is the $b$ coefficient in the linear equation $y = a + bx$."
   ]
  },
  {
   "cell_type": "code",
   "execution_count": 3,
   "metadata": {
    "tags": [
     "remove-output"
    ]
   },
   "outputs": [
    {
     "data": {
      "image/png": "[encoded data removed]",
      "text/plain": [
       "plot without title"
      ]
     },
     "metadata": {
      "image/png": {
       "height": 420,
       "width": 420
      }
     },
     "output_type": "display_data"
    }
   ],
   "source": [
    "# Graph the scatter plot\n",
    "plot(x, y)\n",
    "\n",
    "# Plot the line\n",
    "abline(a = -0.625, b = 1.375)"
   ]
  },
  {
   "cell_type": "code",
   "execution_count": 14,
   "metadata": {
    "tags": [
     "remove-cell"
    ]
   },
   "outputs": [
    {
     "data": {
      "text/html": [
       "<strong>png:</strong> 2"
      ],
      "text/latex": [
       "\\textbf{png:} 2"
      ],
      "text/markdown": [
       "**png:** 2"
      ],
      "text/plain": [
       "png \n",
       "  2 "
      ]
     },
     "metadata": {},
     "output_type": "display_data"
    }
   ],
   "source": [
    "png(\"regline1.png\", width = 500, height = 500)\n",
    "\n",
    "par(mar = c(4, 4.5, 0, 0))\n",
    "\n",
    "x = c(5, 2, 4, 5, 11, 0, 8, 5)\n",
    "y = c(6, 4, 2, 7, 13, -2, 12, 8)\n",
    "plot(x, y, pch=19, cex = 2, cex.axis = 2, cex.lab = 2)\n",
    "abline(lm(y~x)$coefficients, lwd = 3)\n",
    "\n",
    "dev.off()"
   ]
  },
  {
   "cell_type": "markdown",
   "metadata": {},
   "source": [
    "```{figure} regline1.png\n",
    "---\n",
    "width: 50%\n",
    "alt: The scatter plot of the data above together with the line of best fit y = -0.625 + 1.375x.\n",
    "name: regline1\n",
    "---\n",
    "The scatter plot of the data above together with the line of best fit $y = -0.625 + 1.375x$.\n",
    "```"
   ]
  },
  {
   "cell_type": "markdown",
   "metadata": {},
   "source": [
    "The line $y = -0.625 + 1.375x$ plotted in {numref}`Figure {number} <regline1>` is the best fit for the observed data points. We can use the equation of the best fit line to predict the $y$-value that would correlate to a given $x$-value.\n",
    "\n",
    "For example, we might want to predict what the value of $y$ would be if $x = 6.5$. We can predict this $y$-value by plugging $x = 6.5$ into the equation of the best fit line:\n",
    "\n",
    "$$ y = -0.625 + 1.375(6.5) = 8.3125. $$\n",
    "\n",
    "So if $x = 6.5$, we predict that $y = 8.3125$."
   ]
  },
  {
   "cell_type": "markdown",
   "metadata": {},
   "source": [
    "***"
   ]
  },
  {
   "cell_type": "markdown",
   "metadata": {},
   "source": [
    "\n",
    "### Example 8.3.1\n",
    "A random sample of $11$ statistics students produced the following data, where $x$ is the score of the third exam (with $80$ points possible), and $y$ is the score of the final exam (with $200$ points possible).\n",
    "\n",
    "```{list-table} The scores of $11$ students on the third exam and the final exam.\n",
    ":header-rows: 1\n",
    ":name: reg-data-2\n",
    "* - $x$ (Third Exam Score)\n",
    "  - $y$ (Final Exam Score)\n",
    "* - 65\n",
    "  - 175\n",
    "* - 67\n",
    "  - 133\n",
    "* - 71\n",
    "  - 185\n",
    "* - 71\n",
    "  - 163\n",
    "* - 66\n",
    "  - 126\n",
    "* - 75\n",
    "  - 198\n",
    "* - 67\n",
    "  - 153\n",
    "* - 70\n",
    "  - 163\n",
    "* - 71\n",
    "  - 159\n",
    "* - 69\n",
    "  - 151\n",
    "* - 69\n",
    "  - 159\n",
    "```\n",
    "\n",
    "1. Find the best fit line for the data.\n",
    "2. Graph the scatter plot of the data together with the best fit line.\n",
    "3. Predict a student's final exam score if their third exam score is $73$.\n",
    "\n",
    "#### Solution\n",
    "##### Part 1\n",
    "We will use R to find the coefficients of the line of best fit."
   ]
  },
  {
   "cell_type": "code",
   "execution_count": 8,
   "metadata": {},
   "outputs": [
    {
     "data": {
      "text/plain": [
       "\n",
       "Call:\n",
       "lm(formula = y ~ x)\n",
       "\n",
       "Coefficients:\n",
       "(Intercept)            x  \n",
       "   -176.301        4.866  \n"
      ]
     },
     "metadata": {},
     "output_type": "display_data"
    }
   ],
   "source": [
    "x = c(65, 67, 71, 71, 66, 75, 67, 70, 71, 69, 69)\n",
    "y = c(175, 133, 185, 163, 125, 198, 153, 163, 159, 151, 159)\n",
    "\n",
    "lm(y~x)"
   ]
  },
  {
   "cell_type": "markdown",
   "metadata": {},
   "source": [
    "The coefficients of the best fit line are $a = -176.301$ and $b = 4.866$. So the best fit line is\n",
    "\n",
    "$$ y= -176.301 + 4.866x. $$\n",
    "\n",
    "##### Part 2"
   ]
  },
  {
   "cell_type": "code",
   "execution_count": 9,
   "metadata": {
    "tags": [
     "remove-output"
    ]
   },
   "outputs": [
    {
     "data": {
      "image/png": "[encoded data removed]",
      "text/plain": [
       "plot without title"
      ]
     },
     "metadata": {
      "image/png": {
       "height": 420,
       "width": 420
      }
     },
     "output_type": "display_data"
    }
   ],
   "source": [
    "# Graph of the scatter plot\n",
    "plot(x, y)\n",
    "\n",
    "# Plot of the best fit line\n",
    "abline(a = -176.301, b = 4.866)"
   ]
  },
  {
   "cell_type": "code",
   "execution_count": 15,
   "metadata": {
    "tags": [
     "remove-cell"
    ]
   },
   "outputs": [
    {
     "data": {
      "text/html": [
       "<strong>png:</strong> 2"
      ],
      "text/latex": [
       "\\textbf{png:} 2"
      ],
      "text/markdown": [
       "**png:** 2"
      ],
      "text/plain": [
       "png \n",
       "  2 "
      ]
     },
     "metadata": {},
     "output_type": "display_data"
    }
   ],
   "source": [
    "png(\"regline2.png\", width = 500, height = 500)\n",
    "\n",
    "par(mar = c(4, 4.5, 1, 0))\n",
    "\n",
    "x = c(65, 67, 71, 71, 66, 75, 67, 70, 71, 69, 69)\n",
    "y = c(175, 133, 185, 163, 125, 198, 153, 163, 159, 151, 159)\n",
    "plot(x, y, pch=19, cex = 2, cex.axis = 2, cex.lab = 2)\n",
    "abline(lm(y~x)$coefficients, lwd = 3)\n",
    "\n",
    "dev.off()\n",
    "\n"
   ]
  },
  {
   "cell_type": "markdown",
   "metadata": {},
   "source": [
    "```{figure} regline2.png\n",
    "---\n",
    "width: 50%\n",
    "alt: The scatter plot of the data above together with the line of best fit y = -176.301 + 4.866x.\n",
    "name: regline2\n",
    "---\n",
    "The scatter plot of the data above together with the line of best fit $y = -176.301 + 4.866x$.\n",
    "```"
   ]
  },
  {
   "cell_type": "markdown",
   "metadata": {},
   "source": [
    "##### Step 3\n",
    "If the third exam score is $73$, we can predict the final exam score by plugging $x = 73$ into the equation for the best fit line:\n",
    "\n",
    "$$ y = -176.301 + 4.866(73) = 178.917. $$\n",
    "\n",
    "So if a student scores $73$ out of $80$ points on the third exam, we predict that they would score about $178.917$ out of $200$ points on their final exam.\n"
   ]
  }
 ],
 "metadata": {
  "kernelspec": {
   "display_name": "R",
   "language": "R",
   "name": "ir"
  },
  "language_info": {
   "codemirror_mode": "r",
   "file_extension": ".r",
   "mimetype": "text/x-r-source",
   "name": "R",
   "pygments_lexer": "r",
   "version": "4.2.3"
  }
 },
 "nbformat": 4,
 "nbformat_minor": 4
}