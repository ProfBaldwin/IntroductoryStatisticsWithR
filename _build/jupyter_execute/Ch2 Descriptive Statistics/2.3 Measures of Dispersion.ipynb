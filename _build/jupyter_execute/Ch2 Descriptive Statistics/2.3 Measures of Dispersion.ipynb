{
 "cells": [
  {
   "cell_type": "markdown",
   "metadata": {},
   "source": [
    "# Measures of Dispersion"
   ]
  },
  {
   "cell_type": "markdown",
   "metadata": {},
   "source": [
    "## Objectives ##\n",
    "- Calculate the standard deviation of a data set.\n",
    "- Distinguish between the population standard deviation and sample standard deviation.\n",
    "- Identify the outliers of a data set. "
   ]
  },
  {
   "cell_type": "markdown",
   "metadata": {},
   "source": [
    "## The Standard Deviation ##\n",
    "An important characteristic of any set of data is the variation in the data. In some data sets, the data values are concentrated closely near the mean; in other data sets, the data values are more widely spread out from the mean. The most common measure of variation is the standard deviation. The **standard deviation** is a number that measures the average distance of data values from their mean.\n",
    "\n",
    "Because distance is never a negative value, the standard deviation is always positive or zero. The standard deviation is small when the data are all concentrated close to the mean, exhibiting little variation. The standard deviation is larger when the data values are more spread out from the mean, exhibiting more variation.\n",
    "\n",
    "Suppose that we are studying the amount of time customers wait in line at the checkout at supermarket A and supermarket B. the average wait time at both supermarkets is five minutes. At supermarket A, the standard deviation for the wait time is two minutes; at supermarket B the standard deviation for the wait time is four minutes.\n",
    "\n",
    "Because supermarket B has a higher standard deviation, we know that there is more variation in the wait times at supermarket B. Overall, wait times at supermarket B are more spread out from the mean; wait times at supermarket A are more concentrated near the mean."
   ]
  },
  {
   "cell_type": "code",
   "execution_count": 18,
   "metadata": {
    "tags": [
     "remove-cell"
    ]
   },
   "outputs": [
    {
     "data": {
      "text/html": [
       "<strong>png:</strong> 2"
      ],
      "text/latex": [
       "\\textbf{png:} 2"
      ],
      "text/markdown": [
       "**png:** 2"
      ],
      "text/plain": [
       "png \n",
       "  2 "
      ]
     },
     "metadata": {},
     "output_type": "display_data"
    }
   ],
   "source": [
    "png(\"sd_example.png\", width = 1000, height = 1000)\n",
    "\n",
    "library(\"beeswarm\")\n",
    "\n",
    "rangebrace = function(x, y0, y1, d, col){\n",
    "    X = seq(x, x-d, length = 500)\n",
    "    Ytop = (y1 - y0)/4 * ( (2/d)^(1/3) * sign(X - (x - d/2))*abs(X - (x - d/2))^(1/3) + 1 ) + (y0 + y1)/2\n",
    "    Ybot = (y1 - y0)/4 * ( -(2/d)^(1/3) * sign(X - (x - d/2))*abs(X - (x - d/2))^(1/3) - 1 ) + (y0 + y1)/2\n",
    "    lines(X, Ytop, lwd = 3, col = col)\n",
    "    lines(X, Ybot, lwd = 3, col = col)\n",
    "}\n",
    "\n",
    "rangebar = function(x, y0, y1, d, col){\n",
    "    segments(x-d, y0, x+d, y0, lwd = 3, col = col)\n",
    "    segments(x, y0, x, y1, lwd = 3, col = col)\n",
    "    segments(x-d, y1, x+d, y1, lwd = 3, col = col)\n",
    "}\n",
    "\n",
    "x1 = rnorm(100, mean = 3, sd = 1.5)\n",
    "x2 = rnorm(100, mean = -1, sd = 3.5)\n",
    "\n",
    "par(mar = c(2, 3.5, 2, 0))\n",
    "beeswarm(x = list(x1, x2), pch = 21, col = \"black\", bg = \"gray70\", \n",
    "         cex = 2.5, cex.axis = 2, cex.main = 2, main = \"The Standard Deviations of Two Data Sets\", xlim = c(0.4, 2.4), xaxt = \"n\", yaxt = \"n\")\n",
    "axis(1, at = c(1, 2), labels = c(\"Data Set 1\", \"Data Set 2\"), cex.axis = 2)\n",
    "axis(2, at = seq(floor(min(c(x1), c(x2))), ceiling(max(c(x1),c(x2))), 1), cex.axis = 2, las = 2)\n",
    "\n",
    "d = 0.2\n",
    "\n",
    "segments(1.0 - d, mean(x1), 1.0 + d, mean(x1), lwd = 4, lty = \"dotted\", col = \"blue3\")\n",
    "segments(2.0 - d, mean(x2), 2.0 + d, mean(x2), lwd = 4, lty = \"dotted\", col = \"blue3\")\n",
    "\n",
    "text(x = 1.0 + d, y = mean(x1), labels = \"Mean\\nData Set 1\", cex = 2, col = \"blue3\", pos = 4)\n",
    "text(x = 2.0 + d, y = mean(x2), labels = \"Mean\\nData Set 2\", cex = 2, col = \"blue3\", pos = 4)\n",
    "\n",
    "eps = 0.05\n",
    "rangebar(x = 1.0 - d, y0 = mean(x1) + eps, y1 = mean(x1) + sd(x1), d = 0.02, col = \"red3\")\n",
    "rangebar(x = 1.0 - d, y0 = mean(x1) - sd(x1), y1 = mean(x1) - eps, d = 0.02, col = \"red3\")\n",
    "rangebar(x = 2.0 - d, y0 = mean(x2) + eps, y1 = mean(x2) + sd(x2), d = 0.02, col = \"red3\")\n",
    "rangebar(x = 2.0 - d, y0 = mean(x2) - sd(x2), y1 = mean(x2) - eps, d = 0.02, col = \"red3\")\n",
    "\n",
    "text(x = 1.0-d, y = mean(x1) + 0.5*sd(x1), labels = \"Standard Deviation\\nData Set 1\", cex = 2, col = \"red3\", pos = 2)\n",
    "text(x = 1.0-d, y = mean(x1) - 0.5*sd(x1), labels = \"Standard Deviation\\nData Set 1\", cex = 2, col = \"red3\", pos = 2)\n",
    "text(x = 2.0-d, y = mean(x2) - 0.5*sd(x2), labels = \"Standard Deviation\\nData Set 2\", cex = 2, col = \"red3\", pos = 2)\n",
    "text(x = 2.0-d, y = mean(x2) + 0.5*sd(x2), labels = \"Standard Deviation\\nData Set 2\", cex = 2, col = \"red3\", pos = 2)\n",
    "\n",
    "\n",
    "dev.off()"
   ]
  },
  {
   "cell_type": "markdown",
   "metadata": {},
   "source": [
    "```{figure} sd_example.png\n",
    "---\n",
    "width: 100%\n",
    "alt: Two data sets side-by-side. The first data set has data more squashed close to the mean and a small standard deviation. The second data set has data more spread out from the mean and a larger standard deviation.\n",
    "name: sd-example\n",
    "---\n",
    "The standard deviation is a measure of the average distance of data values from their mean. If we compare the two data sets in the figure, the values of data set 1 are squashed closer to the mean, so data set 1 has a smaller standard deviation. The values of data set 2 are more spread out from the mean, so data set 2 has a larger standard deviation."
   ]
  },
  {
   "cell_type": "markdown",
   "metadata": {},
   "source": [
    "## Calculating the Population Standard Deviation\n",
    "\n",
    "We will first look at calculating the standard deviation for a population. If $x$ is a data value, then the difference \"$x – \\text{mean}$\" is called its **deviation**; it's a measure of the distance from the value $x$ to the mean of the data. There is a deviation for each value in a data set. The deviations are used to calculate the standard deviation. For a population, the deviation for a data value $x$ is $x – \\mu$.\n",
    "\n",
    "For example, suppose a population has mean $\\mu = 5$, and consider two data values of the population: $x = 2$ and $x = 8$. The deviation of the value $x = 2$ from the mean is \n",
    "\n",
    "$$x - \\mu = 2 - 5 = -3.$$ \n",
    "\n",
    "The deviation of the value $x = 8$ from the mean is \n",
    "\n",
    "$$x - \\mu = 8 - 5 = 3.$$\n",
    "\n",
    "Both $x = 2$ and $x = 8$ are a distance of $3$ units away from $\\mu = 5$. But the signs (positives or negatives) of the deviations also tell us direction: since the deviation of $x = 2$ is $-3$, $x = 2$ is $3$ units *below* the mean; since the deviation of $x = 8$ is $+3$, $x = 8$ is $3$ units *above* the mean.\n",
    "\n",
    "When calculating the standard deviation, we want to only focus on the average distance from the mean, not the direction. To remove the information on direction (the sign) from each deviation, we square each deviation. For $x = 2$, the squared deviation is\n",
    "\n",
    "$$ (x - \\mu)^2 = (2 - 5)^2 = (-3)^2 = 9. $$\n",
    "\n",
    "For $x = 8$, the squared deviation is\n",
    "\n",
    "$$ (x - \\mu)^2 = (8 - 5)^2 = 3^2 = 9. $$\n",
    "\n",
    "Since squaring a deviation always results in a positive number, it removes the information on direction. Unfortunately, squared deviations tell us the *square* of the distance of each value from the mean, not simply the distance. We will correct this problem later.\n",
    "\n",
    "Next, we find the mean of all the squared deviations in the usual way: by adding up all the squared deviations in the population and dividing by the population size $N$:\n",
    "\n",
    "$$ \\frac{\\sum(x - \\mu)^2}{N}. $$\n",
    "\n",
    "This is the average *squared* distance of the population data from the mean. We need to \"unsquare\" the average by taking the square root. This gives us the formula for the population standard deviation:\n",
    "\n",
    "$$ \\sigma = \\sqrt{\\frac{\\sum(x - \\mu)^2}{N}}.$$\n",
    "\n",
    "We denote the population standard deviation by $\\sigma$ (the lower-case Greek letter sigma).\n",
    "\n",
    "Note that to calculate the population standard deviation $\\sigma$, we first must calculate the population mean $\\mu$ since we use $\\mu$ in the formula for $\\sigma$. \n",
    "\n",
    "Also, to use the formula for population standard deviation in R, we will need to know how to take a square root in R. We can take the square root of a value in R using the <code>sqrt</code> function:\n",
    "\n",
    "```R\n",
    "sqrt(x)\n",
    "```\n",
    "\n",
    "where <code>x</code> is a number or list of numbers. For example,"
   ]
  },
  {
   "cell_type": "code",
   "execution_count": 19,
   "metadata": {},
   "outputs": [
    {
     "data": {
      "text/html": [
       "2"
      ],
      "text/latex": [
       "2"
      ],
      "text/markdown": [
       "2"
      ],
      "text/plain": [
       "[1] 2"
      ]
     },
     "metadata": {},
     "output_type": "display_data"
    }
   ],
   "source": [
    "sqrt(4)"
   ]
  },
  {
   "cell_type": "markdown",
   "metadata": {},
   "source": [
    "***"
   ]
  },
  {
   "cell_type": "markdown",
   "metadata": {},
   "source": [
    "### Example 2.3.1\n",
    "\n",
    "The Cook Political Report scores the partisan lean of each state in the U.S. based on the results of recent elections. The Partisan Voting Index (PVI) for each of the 50 states (as of April 2021) is below, where more negative values means the state leans more toward the Democratic party, and more positive values means the state leans more toward the Republican party.[^attribution]\n",
    "\n",
    "<center>\n",
    "    15, 9, 3, 16, -14, -3, -7, -6, 3, 3, -15, 19, -7, 11, 6, 11, 16, 12, -1, -14, -14, 1, -1, 10, 11, 11, 13, 0, 0, -6, -3, -10, 3, 20, 6, 20, -6, 2, -8, 8, 16, 14, 5, 13, -15, -2, -8, 23, 2, 26\n",
    "</center>\n",
    "<br/>\n",
    "\n",
    "1. Calculate the mean state PVI.\n",
    "2. Calculate the standard deviation of the state PVIs.\n",
    "\n",
    "[^attribution]: Wasserman, David; Flinn, Ally (April 15, 2021). \"[Introducing the 2021 Cook Political Report Partisan Voter Index](https://cookpolitical.com/analysis/national/pvi/introducing-2021-cook-political-report-partisan-voter-index)\". The Cook Political Report. Retrieved April 15, 2021.\n",
    "\n",
    "\n",
    "#### Solution\n",
    "Note that this list includes the PVIs for the entire *population* of 50 states, so we will be calculating the *population* mean and the *population* standard deviation.\n",
    "\n",
    "##### Part 1"
   ]
  },
  {
   "cell_type": "code",
   "execution_count": 22,
   "metadata": {},
   "outputs": [
    {
     "data": {
      "text/html": [
       "3.76"
      ],
      "text/latex": [
       "3.76"
      ],
      "text/markdown": [
       "3.76"
      ],
      "text/plain": [
       "[1] 3.76"
      ]
     },
     "metadata": {},
     "output_type": "display_data"
    }
   ],
   "source": [
    "x = c(15, 9, 3, 16, -14, -3, -7, -6, 3, 3, -15, 19, -7, 11, 6, 11, 16, 12, -1, -14, -14, 1, -1, 10, 11, 11, 13, 0, 0, -6, -3, -10, 3, 20, 6, 20, -6, 2, -8, 8, 16, 14, 5, 13, -15, -2, -8, 23, 2, 26)\n",
    "\n",
    "# Calculate the Mean\n",
    "N = length(x)\n",
    "\n",
    "mu = sum(x)/N\n",
    "mu"
   ]
  },
  {
   "cell_type": "markdown",
   "metadata": {},
   "source": [
    "The mean PVI is $\\mu = 3.76$. This means that states on average lean Republican.\n",
    "\n",
    "##### Part 2"
   ]
  },
  {
   "cell_type": "code",
   "execution_count": 23,
   "metadata": {},
   "outputs": [
    {
     "data": {
      "text/html": [
       "10.6743805440878"
      ],
      "text/latex": [
       "10.6743805440878"
      ],
      "text/markdown": [
       "10.6743805440878"
      ],
      "text/plain": [
       "[1] 10.67438"
      ]
     },
     "metadata": {},
     "output_type": "display_data"
    }
   ],
   "source": [
    "# Calculate the Standard Deviation\n",
    "sigma = sqrt( sum( (x - mu)^2 )/N )\n",
    "sigma"
   ]
  },
  {
   "cell_type": "markdown",
   "metadata": {},
   "source": [
    "The standard deviation of the state PVIs is $\\sigma = 10.6744$. On average, state PVIs differ from the mean by $10.6744$ points.\n",
    "\n",
    "```{warning}\n",
    "Be careful that you don't interpret the mean state PVI that we calculated above to be the same as the PVI for the whole United States. Many Democratic leaning states have much larger populations than Republican leaning states, but we didn't account for population differences in our analysis. For example, California (with a PVI of -14) has a population that is 68.5 times as large as the population of Wyoming (with a PVI of 26), but both states were treated equally in our calculations above. The lesson: we must be very careful not to misinterpret or over-interpret statistical results.\n",
    "```"
   ]
  },
  {
   "cell_type": "markdown",
   "metadata": {},
   "source": [
    "***"
   ]
  },
  {
   "cell_type": "markdown",
   "metadata": {
    "tags": []
   },
   "source": [
    "## Calculating the Sample Standard Deviation\n",
    "\n",
    "In many real-life situations, it is impractical to collect the data needed to calculate the standard deviation for an entire population. Instead, statisticians estimate the standard deviation of a population by calculating the standard deviation of a sample. The formula for the sample standard deviation is almost the same as the formula for the population standard deviation.\n",
    "\n",
    "**Formula for the Sample Standard Deviation:**\n",
    "\n",
    "$$ s = \\sqrt{\\frac{\\sum(x - \\bar{x})^2}{n - 1}} $$\n",
    "\n",
    "Here, $x$ is a data value in our sample, $\\bar{x}$ is the sample mean, and $n$ is the sample size. We denote the sample standard deviation by $s$.\n",
    "\n",
    "For comparison, let's also review the formula for calculating the population standard deviation.\n",
    "\n",
    "**Formula for the Population Standard Deviation:**\n",
    "\n",
    "$$ \\sigma = \\sqrt{\\frac{\\sum(x - \\mu)^2}{N}} $$\n",
    "\n",
    "Here, $x$ is a data value in our population, $\\mu$ is the population mean, and $N$ is the population size. We denote the population standard deviation by $\\sigma$.\n",
    "\n",
    "Most of the differences between the sample standard deviation $s$ and the population standard deviation $\\sigma$ are trivial. Because we are dealing with a sample instead of a population, we use $\\bar{x}$ instead of $\\mu$ to notate the mean, and we use $n$ instead of $N$ to notate the number of data values. But the most significant difference is that the when calculating the sample standard deviation, we divide by *one less* than the number of data values: $n - 1$. In contrast, when calculating the population standard deviation, we simply divide by the number of data values: $N$.\n",
    "\n",
    "```{admonition} Why?\n",
    ":class: tip\n",
    "Why do we divide by $n - 1$ instead of $n$ in the sample standard deviation formula? The sample standard deviation uses the distances from each value to the *sample* mean in its calculation: $(x - \\bar{x})$. We want the sample standard deviation to approximate the population standard deviation, but the population standard deviation averages the distances from each value to the *population* mean: $(x - \\mu)$. The sample mean $\\bar{x}$ is usually close to $\\mu$, but they are rarely the same. Because of this small difference in what is being calculated, we need a small correction to the formula. Using techniques that are more advanced than what we will cover in this text, statisticians can show that dividing by $n - 1$ instead of $n$ corrects this bias.\n",
    "```"
   ]
  },
  {
   "cell_type": "markdown",
   "metadata": {},
   "source": [
    "***"
   ]
  },
  {
   "cell_type": "markdown",
   "metadata": {},
   "source": [
    "\n",
    "### Example 2.3.2 ###\n",
    "Use data below represents students' scores on the first exam from one of Susan Dean's precalculus classes.\n",
    "\n",
    "33, 42, 49, 49, 53, 55, 55, 61, 63, 67, 68, 68, 69, 69, 72, 73, 74, 78, 80, 83, 88, 88, 88, 90, 92, 94, 94, 94, 94, 96, 100\n",
    "\n",
    "1. Calculate the sample mean.\n",
    "2. Calculate the sample standard deviation.\n",
    "\n",
    "#### Solution ####\n",
    "##### Part 1 #####"
   ]
  },
  {
   "cell_type": "code",
   "execution_count": 3,
   "metadata": {},
   "outputs": [
    {
     "data": {
      "text/html": [
       "73.5161290322581"
      ],
      "text/latex": [
       "73.5161290322581"
      ],
      "text/markdown": [
       "73.5161290322581"
      ],
      "text/plain": [
       "[1] 73.51613"
      ]
     },
     "metadata": {},
     "output_type": "display_data"
    }
   ],
   "source": [
    "x = c(33, 42, 49, 49, 53, 55, 55, 61, 63, 67, 68, 68, 69, 69, 72, 73, 74, 78, 80, 83, 88, 88, 88, 90, 92, 94, 94, 94, 94, 96, 100)\n",
    "\n",
    "# Calculate the Sample Mean\n",
    "n = length(x)\n",
    "\n",
    "xbar = sum(x)/n\n",
    "xbar"
   ]
  },
  {
   "cell_type": "markdown",
   "metadata": {},
   "source": [
    "The mean score is $\\bar{x} = 73.5161$.\n",
    "\n",
    "##### Part 2 #####"
   ]
  },
  {
   "cell_type": "code",
   "execution_count": 4,
   "metadata": {},
   "outputs": [
    {
     "data": {
      "text/html": [
       "17.923673298633"
      ],
      "text/latex": [
       "17.923673298633"
      ],
      "text/markdown": [
       "17.923673298633"
      ],
      "text/plain": [
       "[1] 17.92367"
      ]
     },
     "metadata": {},
     "output_type": "display_data"
    }
   ],
   "source": [
    "# Calculate the Sample Standard Deviation\n",
    "s = sqrt( sum( (x - xbar)^2 ) / (n - 1) )\n",
    "s"
   ]
  },
  {
   "cell_type": "markdown",
   "metadata": {},
   "source": [
    "So the standard deviation of the scores is $s = 17.9237$."
   ]
  },
  {
   "cell_type": "markdown",
   "metadata": {},
   "source": [
    "***"
   ]
  },
  {
   "cell_type": "markdown",
   "metadata": {},
   "source": [
    "## Outliers\n",
    "\n",
    "**Outliers** are data values that deviate from the mean much greater than the standard amount for the data. Statisticians are interested in identifying outliers because they may indicate an error in the data. For example, suppose we collect the following data for the price of a cup of coffee at several local coffee shops:\n",
    "\n",
    "<center>\n",
    "    2.69, 2.79, 2.99, 3.00, 2.69, 3.15, 2.89, 2.69, 2.90, <b>259</b>, 2.79, 2.80, 3.10, 2.59, 2.75\n",
    "</center>\n",
    "<br/>\n",
    "\n",
    "The value in bold is a clear outlier. It seems extremely unlikely that this cup of coffee actually cost \\$259. Instead, the data value may have been recorded incorrectly, so that the true cost for this cup of coffee was \\$2.59, not \\$259.\n",
    "\n",
    "There are many different methods statisticians use to calculate outliers depending on the distribution of the data they are working with. We will learn one simple rule often used for detecting outliers. We will consider a data value an outlier if it is more than two standard deviations away from the mean. In mathematical notation, this means a data value is an outlier in a population if it is more than $\\mu + 2\\sigma$ or less than $\\mu - 2\\sigma$. In a sample, a data value is an outlier if it is more than $\\bar{x} + 2s$ or less than $\\bar{x} - 2s$. This is a reasonable definition because the average distance between data values and their mean is one standard deviation, so most data values lie within a distance of two standard deviations from their mean. Only relatively extreme data values are more than two standard deviations away from the mean.\n",
    "\n",
    "This definition is more a \"rule of thumb\" than a rigid law. Professional statisticians may use different rules to identify outliers depending on the circumstances.\n",
    "\n",
    "Also, just because a value is an outlier does not mean there is anything wrong with it. While some outliers may be the result of errors, other outliers may be perfectly valid data values that are just unusually large or small. You should determine whether outliers are valid on a case-by-case basis."
   ]
  },
  {
   "cell_type": "code",
   "execution_count": 41,
   "metadata": {
    "tags": [
     "remove-cell"
    ]
   },
   "outputs": [
    {
     "data": {
      "text/html": [
       "<strong>png:</strong> 2"
      ],
      "text/latex": [
       "\\textbf{png:} 2"
      ],
      "text/markdown": [
       "**png:** 2"
      ],
      "text/plain": [
       "png \n",
       "  2 "
      ]
     },
     "metadata": {},
     "output_type": "display_data"
    }
   ],
   "source": [
    "png(\"outlier_example.png\", width = 1000, height = 1000)\n",
    "\n",
    "library(\"beeswarm\")\n",
    "library(\"shape\")\n",
    "\n",
    "rangebrace = function(x, y0, y1, d, col){\n",
    "    X = seq(x, x+d, length = 500)\n",
    "    Ytop = (y1 - y0)/4 * ( -(2/d)^(1/3) * sign(X - (x + d/2))*abs(X - (x + d/2))^(1/3) + 1 ) + (y0 + y1)/2\n",
    "    Ybot = (y1 - y0)/4 * ( (2/d)^(1/3) * sign(X - (x + d/2))*abs(X - (x + d/2))^(1/3) - 1 ) + (y0 + y1)/2\n",
    "    lines(X, Ytop, lwd = 3, col = col)\n",
    "    lines(X, Ybot, lwd = 3, col = col)\n",
    "}\n",
    "\n",
    "rangebar = function(x, y0, y1, d, col){\n",
    "    segments(x-d, y0, x+d, y0, lwd = 3, col = col)\n",
    "    segments(x, y0, x, y1, lwd = 3, col = col)\n",
    "    segments(x-d, y1, x+d, y1, lwd = 3, col = col)\n",
    "}\n",
    "\n",
    "x = rnorm(100, sd = 1.5)\n",
    "\n",
    "par(mar = c(2, 3.5, 2, 0))\n",
    "beeswarm(x, pch = 21, col = \"black\", bg = \"gray70\", \n",
    "         cex = 2.5, cex.axis = 2, cex.main = 2, main = \"Outliers\", xaxt = \"n\", yaxt = \"n\", xlim = c(0.75, 1.5))\n",
    "axis(2, at = seq(floor(min(x)), ceiling(max(x)), 1), cex.axis = 2, las = 2)\n",
    "\n",
    "d = 0.1\n",
    "\n",
    "segments(1.0 - d, mean(x) + 2*sd(x), 1.0 + d, mean(x) + 2*sd(x), lwd = 4, lty = \"dotted\", col = \"blue3\")\n",
    "segments(1.0 - d, mean(x) + sd(x), 1.0 + d, mean(x) + sd(x), lwd = 4, lty = \"dotted\", col = \"blue3\")\n",
    "segments(1.0 - d, mean(x), 1.0 + d, mean(x), lwd = 4, lty = \"dotted\", col = \"blue3\")\n",
    "segments(1.0 - d, mean(x) - sd(x), 1.0 + d, mean(x) - sd(x), lwd = 4, lty = \"dotted\", col = \"blue3\")\n",
    "segments(1.0 - d, mean(x) - 2*sd(x), 1.0 + d, mean(x) - 2*sd(x), lwd = 4, lty = \"dotted\", col = \"blue3\")\n",
    "\n",
    "text(x = 1.0 - d, y = mean(x) + 2*sd(x), labels = \"μ + 2σ\", cex = 2, col = \"blue3\", pos = 2)\n",
    "text(x = 1.0 - d, y = mean(x) + sd(x), labels = \"μ + σ\", cex = 2, col = \"blue3\", pos = 2)\n",
    "text(x = 1.0 - d, y = mean(x), labels = \"μ\", cex = 2, col = \"blue3\", pos = 2)\n",
    "text(x = 1.0 - d, y = mean(x) - sd(x), labels = \"μ - σ\", cex = 2, col = \"blue3\", pos = 2)\n",
    "text(x = 1.0 - d, y = mean(x) - 2*sd(x), labels = \"μ - 2σ\", cex = 2, col = \"blue3\", pos = 2)\n",
    "\n",
    "eps = 0.02\n",
    "rangebar(1.0 + d, mean(x) + sd(x) + eps, mean(x) + 2*sd(x) - eps, d = 0.01, col = \"red3\")\n",
    "rangebar(1.0 + d, mean(x) + eps, mean(x) + sd(x) - eps, d = 0.01, col = \"red3\")\n",
    "rangebar(1.0 + d, mean(x) - eps, mean(x) - sd(x) + eps, d = 0.01, col = \"red3\")\n",
    "rangebar(1.0 + d, mean(x) - sd(x) - eps, mean(x) - 2*sd(x) + eps, d = 0.01, col = \"red3\")\n",
    "\n",
    "text(x = 1.0 + d, y = mean(x) + 3/2*sd(x), labels = \"σ\", cex = 2, col = \"red3\", pos = 4)\n",
    "text(x = 1.0 + d, y = mean(x) + 1/2*sd(x), labels = \"σ\", cex = 2, col = \"red3\", pos = 4)\n",
    "text(x = 1.0 + d, y = mean(x) - 1/2*sd(x), labels = \"σ\", cex = 2, col = \"red3\", pos = 4)\n",
    "text(x = 1.0 + d, y = mean(x) - 3/2*sd(x), labels = \"σ\", cex = 2, col = \"red3\", pos = 4)\n",
    "\n",
    "rangebrace(1.0 + 1.5*d, mean(x) + eps, mean(x) + 2*sd(x) - eps, d = 0.05, col = \"red3\")\n",
    "rangebrace(1.0 + 1.5*d, mean(x) - eps, mean(x) - 2*sd(x) + eps, d = 0.05, col = \"red3\")\n",
    "\n",
    "text(x = 1.0 + 1.5*d + 0.05, y = mean(x) + sd(x), labels = \"Data values within\\ntwo standard deviations\\nabove the mean\", cex = 2, col = \"red3\", pos = 4)\n",
    "text(x = 1.0 + 1.5*d + 0.05, y = mean(x) - sd(x), labels = \"Data values within\\ntwo standard deviations\\nbelow the mean\", cex = 2, col = \"red3\", pos = 4)\n",
    "\n",
    "delta = 0.02\n",
    "\n",
    "start = 1/3*(mean(x) + 2*sd(x)) + 2/3*max(x)\n",
    "outliers_above = x[x > mean(x) + 2*sd(x)]\n",
    "for (outlier in outliers_above) {\n",
    "    Arrows(1.2, start, 1 + delta, outlier, lwd = 3, arr.type = \"triangle\", arr.width = 0.3, col = \"forestgreen\")\n",
    "}\n",
    "if (length(outliers_above) > 0) {\n",
    "    text(x = 1.2, y = start, labels = ifelse(length(outliers_above) > 1, \"Outliers\", \"Outlier\"), cex = 2, col = \"forestgreen\", pos = 4)\n",
    "}\n",
    "\n",
    "start = 1/3*(mean(x) - 2*sd(x)) + 2/3*min(x)\n",
    "outliers_below = x[x < mean(x) - 2*sd(x)]\n",
    "for (outlier in outliers_below) {\n",
    "    Arrows(1.2, start, 1 + delta, outlier, lwd = 3, arr.type = \"triangle\", arr.width = 0.3, col = \"forestgreen\")\n",
    "}\n",
    "if (length(outliers_below) > 0) {\n",
    "    text(x = 1.2, y = start, labels = ifelse(length(outliers_below) > 1, \"Outliers\", \"Outlier\"), cex = 2, col = \"forestgreen\", pos = 4)\n",
    "}\n",
    "\n",
    "dev.off()"
   ]
  },
  {
   "cell_type": "markdown",
   "metadata": {},
   "source": [
    "```{figure} outlier_example.png\n",
    "---\n",
    "width: 100%\n",
    "alt: The values of a data set are shown, and the outliers of the data set are indicated.\n",
    "name: outlier-example\n",
    "---\n",
    "Given a set of data, most data values are within two standard deviations from their mean, either above or below the mean. In this text, we consider outliers to be data values that are more than two standard deviations away from the mean.\n",
    "```"
   ]
  },
  {
   "cell_type": "markdown",
   "metadata": {},
   "source": [
    "***"
   ]
  },
  {
   "cell_type": "markdown",
   "metadata": {},
   "source": [
    "### Example 2.3.3\n",
    "\n",
    "A dating website surveyed 50 of their recently-married customers to see how many long-term relationships they had before they were married. The results are below.\n",
    "\n",
    "<center>\n",
    "    1, 1, 1, 2, 2, 2, 2, 2, 2, 3, 3, 3, 3, 3, 3, 3, 3, 3, 3, 3, 4, 4, 4, 4, 4, 4, 5, 5, 5, 5, 5, 6, 6, 6, 7, 7, 7, 7, 8, 8, 8, 8, 9, 10, 11, 11, 13, 13, 14, 15\n",
    "</center>\n",
    "<br/>\n",
    "\n",
    "1. Find the mean number of relationships of the individuals surveyed.\n",
    "2. Find the standard deviation of the data.\n",
    "3. Does the data contain any outliers? If so, what are they?\n",
    "\n",
    "#### Solution\n",
    "Note that the 50 customers surveyed are only a small *sample* of all the dating website's customers, so we will calculate the *sample* mean and *sample* standard deviation.\n",
    "\n",
    "##### Part 1"
   ]
  },
  {
   "cell_type": "code",
   "execution_count": 31,
   "metadata": {},
   "outputs": [
    {
     "data": {
      "text/html": [
       "5.42"
      ],
      "text/latex": [
       "5.42"
      ],
      "text/markdown": [
       "5.42"
      ],
      "text/plain": [
       "[1] 5.42"
      ]
     },
     "metadata": {},
     "output_type": "display_data"
    }
   ],
   "source": [
    "x = c(1, 1, 1, 2, 2, 2, 2, 2, 2, 3, 3, 3, 3, 3, 3, 3, 3, 3, 3, 3, 4, 4, 4, 4, 4, 4, 5, 5, 5, 5, 5, 6, 6, 6, 7, 7, 7, 7, 8, 8, 8, 8, 9, 10, 11, 11, 13, 13, 14, 15)\n",
    "\n",
    "# Calculate the Mean\n",
    "n = length(x)\n",
    "\n",
    "xbar = sum(x)/n\n",
    "xbar"
   ]
  },
  {
   "cell_type": "markdown",
   "metadata": {},
   "source": [
    "On average, those surveyed had $\\bar{x} = 5.42$ relationships before they were married.\n",
    "\n",
    "##### Part 2"
   ]
  },
  {
   "cell_type": "code",
   "execution_count": 32,
   "metadata": {},
   "outputs": [
    {
     "data": {
      "text/html": [
       "3.55763048866483"
      ],
      "text/latex": [
       "3.55763048866483"
      ],
      "text/markdown": [
       "3.55763048866483"
      ],
      "text/plain": [
       "[1] 3.55763"
      ]
     },
     "metadata": {},
     "output_type": "display_data"
    }
   ],
   "source": [
    "s = sqrt( sum( (x - xbar)^2 )/(n - 1) )\n",
    "s"
   ]
  },
  {
   "cell_type": "markdown",
   "metadata": {},
   "source": [
    "The sample standard deviation is $s = 3.558$ relationships.\n",
    "\n",
    "##### Part 3\n",
    "To find any outliers, we will calculate two standard deviations above the mean ($\\bar{x} + 2s$) and two standard deviations below the mean ($\\bar{x} - 2s$). Any data values above $\\bar{x} + 2s$ or below $\\bar{x} - 2s$ are outliers."
   ]
  },
  {
   "cell_type": "code",
   "execution_count": 33,
   "metadata": {},
   "outputs": [
    {
     "data": {
      "text/html": [
       "12.5352609773297"
      ],
      "text/latex": [
       "12.5352609773297"
      ],
      "text/markdown": [
       "12.5352609773297"
      ],
      "text/plain": [
       "[1] 12.53526"
      ]
     },
     "metadata": {},
     "output_type": "display_data"
    },
    {
     "data": {
      "text/html": [
       "-1.69526097732966"
      ],
      "text/latex": [
       "-1.69526097732966"
      ],
      "text/markdown": [
       "-1.69526097732966"
      ],
      "text/plain": [
       "[1] -1.695261"
      ]
     },
     "metadata": {},
     "output_type": "display_data"
    }
   ],
   "source": [
    "xbar + 2*s\n",
    "xbar - 2*s"
   ]
  },
  {
   "cell_type": "markdown",
   "metadata": {},
   "source": [
    "Returning to the original list of data values, we can see that $13$, $13$, $14$, and $15$ are greater than $\\bar{x} + 2s = 12.5353$. Any values smaller than $\\bar{x} - 2s = -1.6953$ would also be outliers, but there aren't any values this small in the data.\n",
    "\n",
    "So our data contains a total of four outliers: $13$, $13$, $14$, and $15$. "
   ]
  }
 ],
 "metadata": {
  "kernelspec": {
   "display_name": "R",
   "language": "R",
   "name": "ir"
  },
  "language_info": {
   "codemirror_mode": "r",
   "file_extension": ".r",
   "mimetype": "text/x-r-source",
   "name": "R",
   "pygments_lexer": "r",
   "version": "4.2.3"
  }
 },
 "nbformat": 4,
 "nbformat_minor": 4
}