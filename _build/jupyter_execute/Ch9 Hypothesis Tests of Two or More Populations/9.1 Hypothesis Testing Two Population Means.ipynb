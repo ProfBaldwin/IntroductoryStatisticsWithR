{
 "cells": [
  {
   "cell_type": "markdown",
   "metadata": {},
   "source": [
    "# Hypothesis Testing: Two Population Means"
   ]
  },
  {
   "cell_type": "markdown",
   "metadata": {},
   "source": [
    "## Objectives\n",
    "\n",
    "- Conduct a hypothesis test comparing the means of two populations."
   ]
  },
  {
   "cell_type": "markdown",
   "metadata": {},
   "source": [
    "## Hypothesis Test with Two Population Means\n",
    "In previous sections, we learned how to test the mean of a population in relation to a particular value. But sometimes, we want to compare the means of two different populations. For example, if we have one population with mean $\\mu_1$ and another population with mean $\\mu_2$, we might want to test if $\\mu_1$ is smaller than $\\mu_2$. The null and alternative hypotheses for this hypothesis test would be\n",
    "\n",
    "\\begin{align*}\n",
    "H_0:\\ \\mu_1 \\geq \\mu_2, \\\\\n",
    "H_a:\\ \\mu_1 < \\mu_2.\n",
    "\\end{align*}\n",
    "\n",
    "There is another way to write these hypotheses that will be more convenient for our purposes. If we subtract $\\mu_2$ from both sides of the inequalities, our hypotheses become\n",
    "\n",
    "\\begin{align*}\n",
    "H_0:\\ \\mu_1 - \\mu_2 \\geq 0, \\\\\n",
    "H_a:\\ \\mu_1 - \\mu_2 < 0.\n",
    "\\end{align*}\n",
    "\n",
    "This second way to write these hypotheses is equivalent to the first way, but it allows us to focus on the difference in the population means rather than comparing them directly. This is useful because, to find the $p$-value for a hypothesis test like this, we are going to use the distribution of the random variable $D = \\bar{X}_1 - \\bar{X}_2$.\n",
    "\n",
    "Let $n_1$ be the size of the sample drawn from population $1$, and let $n_2$ be the size of the sample drawn from population $2$. Recall from the central limit theorem that $\\bar{X}_1$ and $\\bar{X}_2$ are normally distributed as long as $n_1, n_2 \\geq 30$ or the underlying populations are normally distributed. It turns out that the random variable $D = \\bar{X}_1 - \\bar{X}_2$ is also normally distributed with mean $\\mu_1 - \\mu_2$ and standard error $\\sqrt{\\frac{\\sigma_1^2}{n_1} + \\frac{\\sigma_2^2}{n_2}}$, where $\\sigma_1$ and $\\sigma_2$ are the standard deviations of the respective populations. As with the central limit theorem, we still require here that either $n_1, n_2 \\geq 30$ or the underlying populations are normally distributed.\n",
    "\n",
    "Of course, we almost never know $\\sigma_1$ and $\\sigma_2$ in practice. Instead, we approximate the population standard deviations with the sample standard deviations from the two samples, $s_1$ and $s_2$. In this case, the mean of the sampling distribution is\n",
    "\n",
    "$$ \\mu_1 - \\mu_2 $$\n",
    "\n",
    "and the standard error is approximated by\n",
    "\n",
    "$$ \\sqrt{\\frac{s_1^2}{n_1} + \\frac{s_2^2}{n_2}}. $$\n",
    "\n",
    "Because we are approximating the population standard deviations with sample standard deviations, we need to use a $t$-distribution to find the $p$-value instead of the standard normal distribution. The $t$-score is given by the formula\n",
    "\n",
    "$$ t = \\frac{(\\bar{x}_1 - \\bar{x}_2) - (\\mu_1 - \\mu_2)}{\\sqrt{\\frac{s_1^2}{n_1} + \\frac{s_2^2}{n_2}}}, $$\n",
    "\n",
    "and the degrees of freedom $df$ is the smaller of the values $n_1 - 1$ and $n_2 - 1$.\n",
    "\n",
    "\n",
    "The fundamental steps for conducting a hypothesis test remain the same:\n",
    "\n",
    "1. State the null and alternative hypotheses.\n",
    "2. Assuming the null hypothesis is true, identify the sampling distribution.\n",
    "3. Find the $p$-value.\n",
    "4. Draw a conclusion."
   ]
  },
  {
   "cell_type": "markdown",
   "metadata": {},
   "source": [
    "***"
   ]
  },
  {
   "cell_type": "markdown",
   "metadata": {},
   "source": [
    "\n",
    "### Example 9.1.1\n",
    "A study is done by a community group in two neighboring colleges to determine which one graduates students with more math classes. College A samples $11$ graduates, with an average of four math classes and a standard deviation of $1.5$ math classes. College B samples nine graduates. Their average is $3.5$ math classes with a standard deviation of one math class. The community group believes that a student who graduates from college A has taken more math classes, on the average. Both populations have a normal distribution. Test at a $1\\%$ significance level.\n",
    "\n",
    "#### Solution\n",
    "First, gather the given information:\n",
    "\n",
    "```{list-table} Statistics from the samples taken from college A and college B.\n",
    ":header-rows: 1\n",
    ":stub-columns: 1\n",
    "* -\n",
    "  - College A\n",
    "  - College B\n",
    "* - Sample Size\n",
    "  - $n_A = 11$\n",
    "  - $n_B = 9$\n",
    "* - Sample Mean\n",
    "  - $\\bar{x}_A = 4$\n",
    "  - $\\bar{x}_B = 3.5$\n",
    "* - Sample Standard Deviation\n",
    "  - $s_A = 1.5$\n",
    "  - $s_B = 1$\n",
    "```\n",
    "\n",
    "##### Step 1: State the null and alternative hypotheses.\n",
    "The community group believes that a student who graduates from college A has taken more math classes, on the average, than a student who graguates from college B. Mathematically, this means the community group believes $\\mu_A > \\mu_B$, where $\\mu_A$ is the average number of math classes a graduate from college A takes, and $\\mu_B$ is the average number of math classes a graduate from college B takes. But to perform a hypothesis test, we need to test the difference in the population means, so we rewrite $\\mu_A > \\mu_B$ as  $\\mu_A - \\mu_B > 0$. Thus,\n",
    "\n",
    "\\begin{align*}\n",
    "H_0:&\\ \\mu_A - \\mu_B \\leq 0 \\\\\n",
    "H_a:&\\ \\mu_A - \\mu_B > 0\n",
    "\\end{align*}\n",
    "\n",
    "##### Step 2: Assuming the null hypothesis is true, identify the sampling distribution.\n",
    "If the null hypothesis is true, then the mean of the sampling distribution is\n",
    "\n",
    "$$ \\mu_{\\overline{D}} = \\mu_A - \\mu_B = 0, $$\n",
    "\n",
    "and the standard error is\n",
    "\n",
    "$$ \\sqrt{\\frac{s_A^2}{n_A} + \\frac{s_B^2}{n_B}} = \\sqrt{\\frac{1.5^2}{11} + \\frac{1^2}{9}} = 0.5618. $$\n",
    "\n",
    "Since $n_A - 1 > n_B - 1$, we will use a $t$-distribution with $df = n_B - 1 = 9 - 1 = 8$ degrees of freedom to find the $p$-value.\n",
    "\n",
    "##### Step 3: Find the  $p$-value.\n",
    "The point estimate of $\\mu_A - \\mu_B$ is \n",
    "\n",
    "$$ \\bar{x}_A - \\bar{x}_B = 4 - 3.5 = 0.5. $$\n",
    "\n",
    "The test statistic is given by the $t$-score\n",
    "\n",
    "$$ t = \\frac{(\\bar{x}_A - \\bar{x}_B) - (\\mu_A - \\mu_B)}{\\sqrt{\\frac{s_A^2}{n_A} + \\frac{s_B^2}{n_B}}} = \\frac{0.5 - 0}{0.5618} = 0.8900. $$\n",
    "\n",
    "Since the alternative hypothesis $H_a$ uses a \"greather-than\" symbol, we will perform a right-tailed test. The $p$-value is $P(t \\geq 0.8900)$."
   ]
  },
  {
   "cell_type": "code",
   "execution_count": 2,
   "metadata": {},
   "outputs": [
    {
     "data": {
      "text/html": [
       "0.199719073651568"
      ],
      "text/latex": [
       "0.199719073651568"
      ],
      "text/markdown": [
       "0.199719073651568"
      ],
      "text/plain": [
       "[1] 0.1997191"
      ]
     },
     "metadata": {},
     "output_type": "display_data"
    }
   ],
   "source": [
    "1 - pt(q = 0.8900, df = 8)"
   ]
  },
  {
   "cell_type": "markdown",
   "metadata": {},
   "source": [
    "So the $p$-value is $P(t \\geq 0.8900) = 0.1997$. In other words, if the null hypothesis *is* true, there is a $19.97\\%$ chance that the mean number of math classes taken by the students randomly sampled from college A is at least $0.5$ classes more than the mean number of math classes taken by the students randomly sampled from college B.\n",
    "\n",
    "##### Step 4: Make a conclusion about the null hypothesis.\n",
    "We are testing the hypothesis at the $1\\%$ significance level, meaning that $\\alpha = 0.01$. Since\n",
    "\n",
    "$$p\\text{-value} = 0.1997 \\geq 0.01 = \\alpha,$$\n",
    "\n",
    "we do not reject the null hypothesis.\n",
    "\n",
    "The evidence is insufficient to conclude that the average number of math classes taken by graduates from college A is greater than the average number of math classes taken by graduates from college B."
   ]
  },
  {
   "cell_type": "markdown",
   "metadata": {},
   "source": [
    "***"
   ]
  },
  {
   "cell_type": "markdown",
   "metadata": {},
   "source": [
    "\n",
    "### Example 9.1.2\n",
    "A professor at a large community college wanted to determine whether there is a difference in the means of final exam scores between students who took his statistics course online and the students who took his face-to-face statistics class. The randomly selected final exam scores for the two courses are listed below. Test whether or not the exam scores are different at the $5\\%$ significance level.\n",
    "\n",
    "**Sample 1: Thirty final exam scores from the online class:**\n",
    "\n",
    "67.6, 70.66, 94.1, 41.2, 38.22, 88.2, 85.3, 61.8, 64.7, 55.9, 88.2, 55.9, 82.4, 70.6, 88.2, 91.2, 58.8, 97.1, 73.5, 91.2, 85.3, 94.1, 73.5, 61.8, 64.7, 82.4, 79.4, 64.7, 35.5, 79.4\n",
    "\n",
    "**Sample 2: Thirty final exam scores from the face-to-face class:**\n",
    "\n",
    "77.9, 95.3, 81.2, 74.1, 98.8, 88.2, 84.9, 92.9, 87.1, 88.2, 69.4, 57.6, 69.4, 67.1, 97.6, 85.9, 88.2, 91.8, 78.8, 71.8, 98.8, 61.2, 92.9, 90.6, 97.6, 100, 95.3, 83.5, 92.9, 89.4\n",
    "\n",
    "#### Solution\n",
    "##### Step 1: State the null and alternative hypotheses.\n",
    "We want to test whether or not the average final exam scores for the online class are different than the average final exam scores for the face-to-face class. This means we want to know if $\\mu_1 = \\mu_2$ or if $\\mu_1 \\neq \\mu_2$, where $\\mu_1$ is the average final exam score for the online class and $\\mu_2$ is the average final exam score for the face-to-face class. But to perform a hypothesis test, we need to express these as the difference between population means. Rewriting $\\mu_1 = \\mu_2$ as $\\mu_1 - \\mu_2 = 0$ and $\\mu_1 \\neq \\mu_2$ as $\\mu_1 - \\mu_2 \\neq 0$ gives our hypotheses:\n",
    "\n",
    "\\begin{align*}\n",
    "H_0:&\\ \\mu_1 - \\mu_2 = 0 \\\\\n",
    "H_a:&\\ \\mu_1 - \\mu_2 \\neq 0\n",
    "\\end{align*}\n",
    "\n",
    "##### Step 2: Assuming the null hypothesis is true, identify the sampling distribution.\n",
    "\n",
    "Assuming the null hypothesis is true, the mean of the distribution is\n",
    "\n",
    "$$ \\mu_1 - \\mu_2 = 0. $$\n",
    "\n",
    "The standard error is given by the formula\n",
    "\n",
    "$$ \\sqrt{\\frac{s_1^2}{n_1} + \\frac{s_2^2}{n_2}}, $$\n",
    "\n",
    "which means we need to first calculate $s_1$ and $s_2$.\n",
    "\n",
    "**Finding $s_1$:**\n",
    "\n",
    "To find $s_1$, the sample standard deviation for the online class, we first must find $\\bar{x}_1$."
   ]
  },
  {
   "cell_type": "code",
   "execution_count": 5,
   "metadata": {},
   "outputs": [
    {
     "data": {
      "text/html": [
       "72.8526666666667"
      ],
      "text/latex": [
       "72.8526666666667"
      ],
      "text/markdown": [
       "72.8526666666667"
      ],
      "text/plain": [
       "[1] 72.85267"
      ]
     },
     "metadata": {},
     "output_type": "display_data"
    }
   ],
   "source": [
    "x1 = c(67.6, 70.66, 94.1, 41.2, 38.22, 88.2, 85.3, 61.8, 64.7, 55.9, 88.2, 55.9, 82.4, 70.6, 88.2, 91.2, 58.8, 97.1, 73.5, 91.2, 85.3, 94.1, 73.5, 61.8, 64.7, 82.4, 79.4, 64.7, 35.5, 79.4)\n",
    "n1 = length(x1)\n",
    "\n",
    "xbar1 = sum(x1)/n1\n",
    "xbar1"
   ]
  },
  {
   "cell_type": "markdown",
   "metadata": {},
   "source": [
    "So the mean for the sample from the online class is $\\bar{x}_1 = 72.8527$. Next, we calculate the sample standard deviation."
   ]
  },
  {
   "cell_type": "code",
   "execution_count": 6,
   "metadata": {},
   "outputs": [
    {
     "data": {
      "text/html": [
       "16.9170825587289"
      ],
      "text/latex": [
       "16.9170825587289"
      ],
      "text/markdown": [
       "16.9170825587289"
      ],
      "text/plain": [
       "[1] 16.91708"
      ]
     },
     "metadata": {},
     "output_type": "display_data"
    }
   ],
   "source": [
    "s1 = sqrt(sum( (x1 - xbar1)^2 )/(n1 - 1))\n",
    "s1"
   ]
  },
  {
   "cell_type": "markdown",
   "metadata": {},
   "source": [
    "The sample standard deviation for the online class is $s_1 = 16.9171$.\n",
    "\n",
    "**Finding $s_2$:**\n",
    "\n",
    "To find $s_2$, the sample standard deviation for the face-to-face class, we first must find $\\bar{x}_2$."
   ]
  },
  {
   "cell_type": "code",
   "execution_count": 7,
   "metadata": {},
   "outputs": [
    {
     "data": {
      "text/html": [
       "84.9466666666667"
      ],
      "text/latex": [
       "84.9466666666667"
      ],
      "text/markdown": [
       "84.9466666666667"
      ],
      "text/plain": [
       "[1] 84.94667"
      ]
     },
     "metadata": {},
     "output_type": "display_data"
    }
   ],
   "source": [
    "x2 = c(77.9, 95.3, 81.2, 74.1, 98.8, 88.2, 84.9, 92.9, 87.1, 88.2, 69.4, 57.6, 69.4, 67.1, 97.6, 85.9, 88.2, 91.8, 78.8, 71.8, 98.8, 61.2, 92.9, 90.6, 97.6, 100, 95.3, 83.5, 92.9, 89.4)\n",
    "n2 = length(x2)\n",
    "\n",
    "xbar2 = sum(x2)/n2\n",
    "xbar2"
   ]
  },
  {
   "cell_type": "markdown",
   "metadata": {},
   "source": [
    "So the mean for the sample from the face-to-face class is $\\bar{x}_2 = 84.9467$. Next, calculate the sample standard deviation."
   ]
  },
  {
   "cell_type": "code",
   "execution_count": 8,
   "metadata": {},
   "outputs": [
    {
     "data": {
      "text/html": [
       "11.7128792459363"
      ],
      "text/latex": [
       "11.7128792459363"
      ],
      "text/markdown": [
       "11.7128792459363"
      ],
      "text/plain": [
       "[1] 11.71288"
      ]
     },
     "metadata": {},
     "output_type": "display_data"
    }
   ],
   "source": [
    "s2 = sqrt(sum( (x2 - xbar2)^2 )/(n2 - 1))\n",
    "s2"
   ]
  },
  {
   "cell_type": "markdown",
   "metadata": {},
   "source": [
    "The sample standard deviation for the face-to-face class is $s_2 = 11.7129$.\n",
    "\n",
    "Now we can find the standard error:\n",
    "\n",
    "$$ \\sqrt{\\frac{s_1^2}{n_1} + \\frac{s_2^2}{n_2}} = \\sqrt{\\frac{16.9171^2}{30} + \\frac{11.7129^2}{30}} = 3.7567. $$\n",
    "\n",
    "To find the $p$-value, we will use a $t$-distribution with $df = n_1 - 1 = 30 - 1 = 29$ degrees of freedom. (Since $n_1 - 1 = n_2 - 1$, it doesn't matter which we use to calculate the degrees of freedom.)\n",
    "\n",
    "##### Step 3: Find the  $p$-value.\n",
    "The point estimate of $\\mu_1 - \\mu_2$ is\n",
    "\n",
    "$$ \\bar{x}_1 - \\bar{x}_2 = 72.8527 - 84.9467 = -12.094. $$\n",
    "\n",
    "The test statistic is the $t$-score\n",
    "\n",
    "$$ t = \\frac{(\\bar{x}_1 - \\bar{x}_2) - (\\mu_1 - \\mu_2)}{\\sqrt{\\frac{s_1^2}{n_1} + \\frac{s_2^2}{n_2}}} = \\frac{-12.094 - 0}{3.7567} = -3.2193. $$\n",
    "\n",
    "Since the alternative hypothesis $H_a$ uses a \"not-equal-to\" symbol, we will perform a two-tailed test. That means that *half* the $p$-value is $P(t \\leq -3.1293)$. Let's calculate using R."
   ]
  },
  {
   "cell_type": "code",
   "execution_count": 9,
   "metadata": {},
   "outputs": [
    {
     "data": {
      "text/html": [
       "0.00157932307641113"
      ],
      "text/latex": [
       "0.00157932307641113"
      ],
      "text/markdown": [
       "0.00157932307641113"
      ],
      "text/plain": [
       "[1] 0.001579323"
      ]
     },
     "metadata": {},
     "output_type": "display_data"
    }
   ],
   "source": [
    "pt(q = -3.2193, df = 29)"
   ]
  },
  {
   "cell_type": "markdown",
   "metadata": {},
   "source": [
    "So $P(t \\leq -3.1293) = 0.0016$, meaing the $p$-value is\n",
    "\n",
    "$$ p\\text{-value} = 2(0.0016) = 0.0032. $$\n",
    "\n",
    "##### Step 4: Make a conclusion about the null hypothesis.\n",
    "The level of significance for this test is $5\\%$, so $\\alpha = 0.05$. Since\n",
    "\n",
    "$$ p\\text{-value} = 0.0032 < 0.05 = \\alpha, $$\n",
    "\n",
    "we reject the null hypothesis. The chance of getting the point estimate we did if the null hypothesis were true is so small, we think it is more likely that the null hypothesis is not true.\n",
    "\n",
    "We conclude that the average final exam score for the online statistics class does not match the average final exam score for the face-to-face statistics class.\n"
   ]
  }
 ],
 "metadata": {
  "kernelspec": {
   "display_name": "R",
   "language": "R",
   "name": "ir"
  },
  "language_info": {
   "codemirror_mode": "r",
   "file_extension": ".r",
   "mimetype": "text/x-r-source",
   "name": "R",
   "pygments_lexer": "r",
   "version": "4.2.3"
  }
 },
 "nbformat": 4,
 "nbformat_minor": 4
}