{
 "cells": [
  {
   "cell_type": "markdown",
   "metadata": {},
   "source": [
    "# Multiplication Rules and Independent Events #"
   ]
  },
  {
   "cell_type": "markdown",
   "metadata": {},
   "source": [
    "## Objectives ##\n",
    "- Use the multiplication rule to find the probability of $\\text{AND}$ events.\n",
    "- Identify when events are independent. When they are, use the simplified multiplication rule to find the probability of $\\text{AND}$ events.\n",
    "- Find the probability of samples chosen with replacement and chosen without replacement."
   ]
  },
  {
   "cell_type": "markdown",
   "metadata": {},
   "source": [
    "## The Multiplication Rule ##\n",
    "Recall the general formulas for conditional probability:\n",
    "\n",
    "$$P(A|B) = \\frac{P(A\\text{ AND }B)}{P(B)}, \\hspace{1cm} P(B|A) = \\frac{P(A\\text{ AND }B)}{P(A)}.$$\n",
    "\n",
    "By multiplying $P(B)$ to the other side of the first equation and $P(A)$ to the other side of the second equation, we obtain the **multiplication rules**\n",
    "\n",
    "$$\n",
    "P(A \\text{ AND } B) = P(B) \\cdot P(A|B), \\hspace{1cm} P(A \\text{ AND } B) = P(A) \\cdot P(B|A).\n",
    "$$\n",
    "\n",
    "We can use either rule to calculate $P(A\\text{ AND }B)$. We usually decide which rule to use based on what we already know. For example, if we only know $P(A)$, $P(B)$, and $P(B|A)$, it would be difficult to use the first rule to calculate $P(A \\text{ AND } B)$ since we do not know $P(A|B)$. But we can easily use the second rule to calculate because we know $P(B|A)$ and $P(A)$. "
   ]
  },
  {
   "cell_type": "markdown",
   "metadata": {},
   "source": [
    "***"
   ]
  },
  {
   "cell_type": "markdown",
   "metadata": {},
   "source": [
    "\n",
    "### Example 3.3.1 ###\n",
    "Carlos plays college soccer. He makes a goal $65\\%$ of the time he shoots. Carlos is going to attempt two goals in a row in the next game, and he tends to shoot in streaks. The probability that he makes the second goal *given* that he made the first goal is $0.90$. What is the probability that Carlos makes both goals?\n",
    "\n",
    "#### Solution ####\n",
    "Let's first translate this problem into math. Let $G_1 = $ the event Carlos is successful on his first goal attempt, and let $G_2 = $ the event Carlos is successful on his second goal attempt. Because Carlos makes a goal $65\\%$ of the time he shoots,\n",
    "\n",
    "$$ P(G_1) = 0.65, P(G_2) = 0.65.$$\n",
    "\n",
    "We are told that the probability that Carlos makes the second goal *given* that he made his first goal is $0.90$. Mathematically, that means\n",
    "\n",
    "$$ P(G_2|G_1) = 0.90. $$\n",
    "\n",
    "We want to find the probability that Carlos makes both goals; that is, we want to find\n",
    "\n",
    "$$ P(G_1 \\text{ AND } G_2). $$\n",
    "\n",
    "Since we know $P(G_2|G_1)$ (and we don't know $P(G_1|G_2)$), we use the multiplication rule\n",
    "\n",
    "$$P(G_1 \\text{ AND } G_2) = P(G_1) \\cdot P(G_2|G_1) = 0.65 \\cdot 0.90 = 0.585.$$\n",
    "\n",
    "We calculate that Carlos has a $58.5\\%$ chance of making both his first goal attempt and his second goal attempt."
   ]
  },
  {
   "cell_type": "markdown",
   "metadata": {},
   "source": [
    "***"
   ]
  },
  {
   "cell_type": "markdown",
   "metadata": {},
   "source": [
    "## Independent Events ##\n",
    "We say that events $A$ and $B$ are **independent** if:\n",
    "- $P(A|B) = P(A)$\n",
    "- $P(B|A) = P(B)$\n",
    "\n",
    "In words, this means that whether or not event $B$ occurs has no impact on the probability of $A$; the likelihood that event $A$ happens is independent of $B$. If two events are *not* independent, then we say that they are **dependent**.\n",
    "\n",
    "The day of the week and whether it rains are independent events: it's just as likely to rain on a Tuesday as it is to rain on a Friday. The outcome of the first event (which day of the week it is) does not change the probability of the second event (whether or not it rains).\n",
    "\n",
    "Drawing one card, then drawing another card without putting the first card back is an example of two events that are dependent. If you draw an Ace of Spades for your first card, you can't draw an Ace of Spades for your second draw. The outcome of the first event (what card you draw first) changes the probability of the second event (what card you draw second).\n",
    "\n",
    "Note, you need only show that **one** of the above equations is true to establish that two events are independent; if either one of the equations is true, then the other equation is guaranteed to be true as well.\n",
    "\n",
    "Since $P(B|A) = P(B)$ when $A$ and $B$ are independent, our multiplication rule $P(A\\text{ AND }B) = P(A) \\cdot P(B|A)$ above simplifies to\n",
    "\n",
    "$$ \n",
    "P(A \\text{ AND } B) = P(A) \\cdot P(B) \n",
    "$$\n",
    "\n",
    "in the case where $A$ and $B$ are independent. Note that this simplified multiplication rule works *only* when $A$ and $B$ are independent.\n",
    "\n",
    "If it is not known whether A and B are independent or dependent, assume they are dependent until you can show otherwise."
   ]
  },
  {
   "cell_type": "markdown",
   "metadata": {
    "tags": []
   },
   "source": [
    "***"
   ]
  },
  {
   "cell_type": "markdown",
   "metadata": {
    "tags": []
   },
   "source": [
    "### Example 3.3.2\n",
    "\n",
    "A school fundraiser is selling chocolate bars and kettle corn. The probability that an adult will buy a chocolate bar when asked is $0.4$. The probability that an adult will buy a bag of kettle corn when asked is $0.6$. The probability than an adult will buy a chocolate bar *given* that they bought a bag of kettle corn is $0.4$.\n",
    "\n",
    "For a randomly chosen adult, let $C = $ the adult buys a chocolate bar, and let $K = $ the adult buys a bag of kettle corn.\n",
    "\n",
    "1. Are $C$ and $K$ independent events?\n",
    "2. What is the probability that the adult buys both a chocolate bar and a bag of kettle corn?\n",
    "\n",
    "#### Solution\n",
    "Start by translating the problem into math. According to the problem statement:\n",
    "\n",
    "$$\n",
    "\\begin{align}\n",
    "    P(C) &= 0.4, \\\\\n",
    "    P(K) &= 0.6, \\\\\n",
    "    P(C|K) &= 0.4.\n",
    "\\end{align}\n",
    "$$\n",
    "\n",
    "##### Part 1\n",
    "Events $C$ and $K$ are independent if either $P(C|K) = P(C)$ or $P(K|C) = P(K)$. Since we know only $P(C|K)$, we will use the first equation to test if the events are independent. In this case,\n",
    "\n",
    "$$ P(C|K) = 0.4 = P(C). $$\n",
    "\n",
    "Since $P(C|K) = P(C)$, events $C$ and $K$ *are* independent. The adult is no more or less likely to buy a chocolate bar if they buy kettle corn.\n",
    "\n",
    "##### Part 2\n",
    "Since $C$ and $K$ are independent, we can use the simpler multiplication rule for independent events to find $P(C \\text{ AND } K)$. We calculate\n",
    "\n",
    "$$ P(C \\text{ AND } K) = P(C) \\cdot P(K) = 0.4 \\cdot 0.6 = 0.24. $$\n",
    "\n",
    "There is a $24\\%$ chance that the adult will buy a chocolate bar and a bag of kettle corn.\n",
    "\n",
    "```{note}\n",
    "Because $C$ and $K$ are independent events, we used the simpler multiplication rule which works only for independent events, \n",
    "\n",
    "$$P(C \\text{ AND } K) = P(C) \\cdot P(K).$$\n",
    "\n",
    "However, we *could* have used the more complex general multiplication rule we learned at the beginning of the section, \n",
    "\n",
    "$$ P(C \\text{ AND } K) = P(K) \\cdot P(C|K), $$\n",
    "\n",
    "which *always* works, including for independent events. If we use the general multiplication rule for this problem, we get\n",
    "\n",
    "$$ P(C \\text{ AND} K) = P(K) \\cdot P(C|K) = 0.6 \\cdot 0.4 = 0.24, $$\n",
    "\n",
    "which is the same answer we get using the simpler multiplication rule. Since both rules give the same result, we prefer to use the simpler rule when working with independent events.\n",
    "```"
   ]
  },
  {
   "cell_type": "markdown",
   "metadata": {},
   "source": [
    "***"
   ]
  },
  {
   "cell_type": "markdown",
   "metadata": {},
   "source": [
    "\n",
    "### Example 3.3.3 ###\n",
    "Felicity attends Modesto Junior College in Modesto, CA. The probability that Felicity enrolls in a math class is $0.2$ and the probability that she enrolls in a speech class is $0.65$. The probability that she enrolls in a math class *given* that she enrolls in speech class is $0.25$.\n",
    "\n",
    "Let $M =$ Felicity enrolls in math class, and let $S =$ Felicity enrolls in speech class.\n",
    "\n",
    "1. Are $M$ and $S$ independent events?\n",
    "1. What is the probability that Felicity enrolls in both math class and speech class?\n",
    "\n",
    "#### Solution ####\n",
    "Start by translating the problem into math. Based on the problem statement:\n",
    "\n",
    "$$\n",
    "\\begin{align}\n",
    "P(M) &= 0.2, \\\\\n",
    "P(S) &= 0.65, \\\\\n",
    "P(M|S) &= 0.25.\n",
    "\\end{align}\n",
    "$$\n",
    "\n",
    "##### Part 1 #####\n",
    "Events $M$ and $S$ are independent if either $P(M|S) = P(M)$ or $P(S|M) = P(S)$. Since we know only $P(M|S)$, we will use the first equation to test if the events are independent. In this case,\n",
    "\n",
    "$$ P(M|S) = 0.25 \\neq 0.2 = P(M). $$\n",
    "\n",
    "Since $P(M|S) \\neq P(M)$, events $M$ and $S$ are *not* independent. In this case, if Felicity enrolls in speech class, she is becomes more likely to enroll in math class.\n",
    "\n",
    "##### Part 2 #####\n",
    "Since $M$ and $S$ are not independent events, we must use the general multiplication rule to calculate $P(M \\text{ AND } S)$, not the simpler multiplication rule for independent events. Thus,\n",
    "\n",
    "$$P(M\\text{ AND }S) = P(S) \\cdot P(M|S) = 0.65 \\cdot 0.25 = 0.1625. $$\n",
    "\n",
    "There is a $16.25\\%$ chance that Felicity enrolls in both math class and speech class.\n"
   ]
  },
  {
   "cell_type": "markdown",
   "metadata": {},
   "source": [
    "***"
   ]
  },
  {
   "cell_type": "markdown",
   "metadata": {},
   "source": [
    "### Example 3.3.4 ###\n",
    "Esmeralda plays a game where she flips a coin then rolls a six-sided die. She wins if the coin comes up heads and the die comes up $4$. What is the probability that Esmeralda wins the game?\n",
    "\n",
    "#### Solution ####\n",
    "Let $H =$ the event that the coin comes up heads and $F =$ the event that the die comes up $4$. We want to find $P(H\\text{ AND }F)$. Note, though, that these two events are obviously independent: the outcome of the coin flip will not change the probability of the die roll. So we can use the simpler multiplication rule for independent events:\n",
    "\n",
    "$$ P(H\\text{ AND }F) = P(H) \\cdot P(F). $$\n",
    "\n",
    "We calculate that $P(H) = \\frac{1}{2}$ and $P(F) = \\frac{1}{6}$, so that\n",
    "\n",
    "$$ P(H\\text{ AND }F) = P(H) \\cdot P(F) = \\frac{1}{2} \\cdot \\frac{1}{6} = \\frac{1}{12} = 0.0833. $$\n",
    "\n",
    "So there is an $8.33\\%$ chance that Esmeralda wins the game."
   ]
  },
  {
   "cell_type": "markdown",
   "metadata": {},
   "source": [
    "***"
   ]
  },
  {
   "cell_type": "markdown",
   "metadata": {},
   "source": [
    "## Sampling With Replacement and Without Replacement ##\n",
    "Sampling may be done **with replacement** or **without replacement**.\n",
    "\n",
    "When sampling is done **with replacement**:\n",
    "1. A member of the population is randomly selected to be in the sample.\n",
    "2. The randomly selected member is replaced back in the population. The member may be sampled again, and the population is identical to how it was before the member was sampled.\n",
    "3. The process is repeated until the desired sample size is obtained.\n",
    "\n",
    "For example, suppose you want to draw two cards with replacement from a standard deck of $52$ cards. You draw your first card, take a look at it, then replace the card back in the deck (so the deck still has all $52$ cards in it). After reshuffling, you draw your second card. Note that because the card you drew first is still in the deck, it is possible that you will draw it again.\n",
    "\n",
    "Because the population stays the same after each pick when sampling with replacement, the different picks are independent of each other. When calculating the probability of a sample taken with replacement, we can calculate the probability of each pick without considering the outcomes of the other picks.\n",
    "\n",
    "When sampling is done **without replacement**:\n",
    "1. A member of the population is randomly selected to be in the sample.\n",
    "2. The randomly selected member is *not* replaced back in the population. The member may not be sampled again, and the population is different than it was before because it no longer includes the member that was sampled.\n",
    "3. The process is repeated until the desired sample size is obtained.\n",
    "\n",
    "For example, suppose you want to draw two cards without replacement from a standard deck of $52$ cards. You draw your first card but do *not* replace it back in the deck (so the deck now has only $51$ cards in it). When you draw your second card, the deck is a little different than it was when you drew your first card because now it has one less card in it. Note that because the card you drew first is no longer in the deck, it is not possible to draw the card again.\n",
    "\n",
    "Because the population changes after each pick when sampling without replacement, the different picks are generally *not* independent of each other. When calculating the probability of a sample taken without replacement, to calculate the probability of each pick, we must be careful to take into account the outcomes of the picks that came before."
   ]
  },
  {
   "cell_type": "markdown",
   "metadata": {},
   "source": [
    "***"
   ]
  },
  {
   "cell_type": "markdown",
   "metadata": {},
   "source": [
    "\n",
    "### Example 3.3.5\n",
    "You have a well-shuffled deck of 52 cards. (See {numref}`Figure {number} <playingcards>`.) You draw two cards from the deck. Find the probability that the two cards you draw are both Queens if you draw the cards\n",
    "1. with replacement.\n",
    "2. without replacement.\n",
    "\n",
    "#### Solution\n",
    "Let $Q_1 =$ the event where the first card you draw is a Queen and $Q_2 =$ the event where the second card you draw is a Queen.\n",
    "\n",
    "##### Part 1\n",
    "You are drawing two cards *with replacement*, meaning you draw the first card from the deck, then put the card back in the deck and re-shuffle before drawing the second card. These two events are independent. Since there are $4$ Queens in the $52$-card deck, we calculate\n",
    "\n",
    "$$ P(Q_1 \\text{ AND } Q_2) = P(Q_1) \\cdot P(Q_2) = \\frac{4}{52} \\cdot \\frac{4}{52} = \\frac{16}{2704} = 0.0059. $$\n",
    "\n",
    "There is a $0.59\\%$ chance that the two cards you draw are both Queens if you draw the cards with replacement.\n",
    "\n",
    "##### Part 2\n",
    "You are drawing two cards *without replacement*, so we must assume the two events are dependent. First, note that $P(Q_1) = \\frac{4}{52}$ since there are $4$ Queens and $52$ total cards in the deck. But since you don't replace the first drawn Queen back in the deck, there are only $3$ Queens and $51$ cards in the deck when you draw the second card, meaning $P(Q_2|Q_1) = \\frac{3}{51}$. Therefore,\n",
    "\n",
    "$$ P(Q_1 \\text{ AND } Q_2) = P(Q_1) \\cdot P(Q_2|Q_1) = \\frac{4}{52} \\cdot \\frac{3}{51} = \\frac{12}{2652} = 0.0045.$$\n",
    "\n",
    "So there is a $0.45\\%$ chance that the two cards you draw are both Queens if you draw the cards without replacement."
   ]
  }
 ],
 "metadata": {
  "kernelspec": {
   "display_name": "R",
   "language": "R",
   "name": "ir"
  },
  "language_info": {
   "codemirror_mode": "r",
   "file_extension": ".r",
   "mimetype": "text/x-r-source",
   "name": "R",
   "pygments_lexer": "r",
   "version": "4.2.3"
  }
 },
 "nbformat": 4,
 "nbformat_minor": 4
}