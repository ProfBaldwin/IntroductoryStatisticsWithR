{
 "cells": [
  {
   "cell_type": "markdown",
   "metadata": {},
   "source": [
    "# Discrete Probability Distributions"
   ]
  },
  {
   "cell_type": "markdown",
   "metadata": {},
   "source": [
    "## Objectives ##\n",
    "- Identify and Construct discrete probability distributions.\n",
    "- Find the expected value of discrete probability distributions.\n",
    "- Find the standard deviation of discrete probability distributions."
   ]
  },
  {
   "cell_type": "markdown",
   "metadata": {},
   "source": [
    "## Discrete Probability Distributions\n",
    "A **probability distribution** is a table, formula, or rule that gives the probability for each outcome of an experiment. When the possible outcomes of an experiment only take on discrete values (that is, the outcomes can take on only certain values and not the values in between), we say the experiment has a **discrete probability distribution**. Almost all of the experiments we have studied in this text so far have **discrete probability distributions**. \n",
    "\n",
    "For example, the probability distribution of rolling a six-sided die is described by {numref}`pd-die`. Note that the outcomes of rolling a die can only take on certain discrete value (specifically, the numbers $1$, $2$, $3$, $4$, $5$, and $6$), but not the values in between (like $2.457$).\n",
    "\n",
    "```{list-table} The discrete probability distribution for rolling a fair six-sided die.\n",
    ":header-rows: 1\n",
    ":name: pd-die\n",
    "* - $X$\n",
    "  - $P(X)$\n",
    "* - $1$\n",
    "  - $\\dfrac{1}{6} = 0.1667$\n",
    "* - $2$\n",
    "  - $\\dfrac{1}{6} = 0.1667$\n",
    "* - $3$\n",
    "  - $\\dfrac{1}{6} = 0.1667$\n",
    "* - $4$\n",
    "  - $\\dfrac{1}{6} = 0.1667$\n",
    "* - $5$\n",
    "  - $\\dfrac{1}{6} = 0.1667$\n",
    "* - $6$\n",
    "  - $\\dfrac{1}{6} = 0.1667$\n",
    "```\n",
    "\n",
    "In contrast, if the outcome of an experiment can take on take on the value of any fraction, decimal, or irrational number within the range of allowed values, we say the experiment has a **continuous probability distribution**. For example, if we conduct an experiment where we measure the height of a randomly chosen person, the outcome could be that the individual is $64.41$ inches tall, or maybe $72.683$ inches tall, or it could be any decimal value in between. We will learn more about continuous probability distributions later.\n",
    "\n",
    "A **discrete probability distribution** has two characteristics:\n",
    "\n",
    "1. Since each outcome can't have less than a $0\\%$ chance of happening or more than a $100\\%$ chance of happening, the probability of each outcome must be between $0$ and $1$.\n",
    "2. Since one of the outcomes is guaranteed to happen, the sum of the probabilities of all the outcomes must be $1$."
   ]
  },
  {
   "cell_type": "markdown",
   "metadata": {},
   "source": [
    "***"
   ]
  },
  {
   "cell_type": "markdown",
   "metadata": {},
   "source": [
    "\n",
    "### Example 3.5.1 ###\n",
    "A child psychologist is interested in the number of times a newborn baby's crying wakes its mother after midnight. For a random sample of $50$ mothers, the information in {numref}`pd-cry` was obtained. Does {numref}`pd-cry` represent a discrete probability distribution?\n",
    "\n",
    "```{list-table} Relative frequency table for the number of times a newborn baby's cry wakes a sample of $50$ mothers after midnight.\n",
    ":header-rows: 1\n",
    ":name: pd-cry\n",
    "* - Number of times cry wakes mother after midnight\n",
    "  - Relative Frequency\n",
    "* - $0$\n",
    "  - $\\dfrac{2}{50} = 0.04$\n",
    "* - $1$\n",
    "  - $\\dfrac{11}{50} = 0.22$\n",
    "* - $2$\n",
    "  - $\\dfrac{23}{50} = 0.46$\n",
    "* - $3$\n",
    "  - $\\dfrac{9}{50} = 0.18$\n",
    "* - $4$\n",
    "  - $\\dfrac{4}{50} = 0.08$\n",
    "* - $5$\n",
    "  - $\\dfrac{1}{50} = 0.02$\n",
    "```\n",
    "\n",
    "#### Solution\n",
    "\n",
    "{numref}`pd-cry` represents a discete probability distribution because:\n",
    "\n",
    "1. Each outcome has a probability between $0$ and $1$.\n",
    "2. The sum of the probabilities of all the outcomes is $1$:\n",
    "\n",
    "$$ \\frac{2}{50} + \\frac{11}{50} + \\frac{23}{50} + \\frac{9}{50} + \\frac{4}{50} + \\frac{1}{50} = 1 $$\n",
    "\n",
    "This means that if we select one of the $50$ mothers at random, the table tells us the probability of each possible outcome. For example, the table tells us that the probability that the selected mother was woken up twice after midnight by her crying baby is $0.46$."
   ]
  },
  {
   "cell_type": "markdown",
   "metadata": {},
   "source": [
    "***"
   ]
  },
  {
   "cell_type": "markdown",
   "metadata": {},
   "source": [
    "\n",
    "### Example 3.5.2 ###\n",
    "Suppose Nancy has classes **three days** a week. She attends classes **three days a week 80%** of the time, **two days 15%** of the time, **one day 4%** of the time, and **no days 1%** of the time. Suppose one week is randomly selected.\n",
    "\n",
    "1. What is $X$?\n",
    "2. $X$ can take on what values?\n",
    "3. Construct a probability distribution table like the one in example 4.1. The table should have two columns labeled $X$ and $P(X)$. What does the $P(X)$ column sum up to?\n",
    "\n",
    "#### Solution ####\n",
    "##### Part 1 #####\n",
    "$X =$ the number of days Nancy attends class.\n",
    "\n",
    "##### Part 2 #####\n",
    "$X$ can take on the values $0$, $1$, $2$, or $3$.\n",
    "\n",
    "##### Part 3 #####\n",
    "```{list-table} A discrete probability distribution for the number of days of the week that Nancy attends class.\n",
    ":header-rows: 1\n",
    ":name: pd-class\n",
    "* - $X$\n",
    "  - $P(X)$\n",
    "* - $0$\n",
    "  - $0.01$\n",
    "* - $1$\n",
    "  - $0.04$\n",
    "* - $2$\n",
    "  - $0.15$\n",
    "* - $3$\n",
    "  - $0.80$\n",
    "```\n",
    "\n",
    "The $P(X)$ column sums  up to:\n",
    "\n",
    "$$0.01 + 0.04 + 0.15 + 0.80 = 1.00.$$\n",
    "\n",
    "This is expected. If the probabilities did not add up to one, {numref}`pd-class` wouldn't be a discrete probability distribution."
   ]
  },
  {
   "cell_type": "markdown",
   "metadata": {},
   "source": [
    "***"
   ]
  },
  {
   "cell_type": "markdown",
   "metadata": {},
   "source": [
    "## Expected Value ##\n",
    "The **expected value** is often referred to as the **\"long-term\" average** or **mean**. This means if you repeat an experiment many times, over the long term you would **expect** this average.\n",
    "\n",
    "Recall that the **Law of Large Numbers** states that as the number of trials in a probability experiment increases, the theoretical probability of an event and the proportion of experiments where that event occurs gets closer and closer. \n",
    "\n",
    "For example, when you roll a six-sided die, probabiliy says you should expect each face of the die to come up in $\\frac{1}{6}$ of the rolls. But if you only roll the die $6$ times, we wouldn't be shocked if you rolled $2$ fives (meaning you rolled a five in $\\frac{2}{6}$ of the rolls). However, if you rolled the die $6{,}000{,}000$ times, we would expect you to roll a five in very nearly $\\frac{1}{6}$ of the rolls. As the number of die rolls increases, the proportion of fives that you roll tends to get closer and closer to the probability of rolling a five.\n",
    "\n",
    "When evaluating the long-term results of statistical experiments, we often want to know the “average” outcome. This “long-term average” is known as the **mean** or **expected value** of the experiment and is denoted by the Greek letter $\\mu$. In other words, after conducting many trials of an experiment, you would expect this average value.\n",
    "\n",
    "The expected value of a discrete probability distribution function can be found using the formula\n",
    "\n",
    "$$ \\mu = \\sum x \\cdot P(x). $$\n",
    "\n",
    "In words, we multiply each value $x$ by the probability $P(x)$ that the value will occur. Then we add up the products $x \\cdot P(x)$.\n",
    "\n",
    "To illustrate this idea, again return to the idea of rolling a six-sided die. The possible outcomes of rolling a die are $x = 1, 2, 3, 4, 5, 6$, and the probability of each outcome is $\\frac{1}{6}$. Then the expected value is\n",
    "\n",
    "$$\n",
    "\\begin{align}\n",
    "\\mu &= \\sum x \\cdot P(x) \\\\\n",
    "&= 1\\cdot P(1) + 2 \\cdot P(2) + 3 \\cdot P(3) + 4 \\cdot P(4) + 5 \\cdot P(5) + 6 \\cdot P(6) \\\\\n",
    "&= 1\\cdot \\frac{1}{6} + 2 \\cdot \\frac{1}{6} + 3 \\cdot \\frac{1}{6} + 4 \\cdot \\frac{1}{6} + 5 \\cdot \\frac{1}{6} + 6 \\cdot \\frac{1}{6} \\\\\n",
    "&= 3.5,\n",
    "\\end{align}\n",
    "$$\n",
    "\n",
    "meaning if we rolled the die many times, we would expect the average of all the rolls to be close to $3.5$.\n",
    "\n",
    "We can use R to do this same calculation more quickly."
   ]
  },
  {
   "cell_type": "code",
   "execution_count": 1,
   "metadata": {},
   "outputs": [
    {
     "data": {
      "text/html": [
       "3.5"
      ],
      "text/latex": [
       "3.5"
      ],
      "text/markdown": [
       "3.5"
      ],
      "text/plain": [
       "[1] 3.5"
      ]
     },
     "metadata": {},
     "output_type": "display_data"
    }
   ],
   "source": [
    "x = c(1, 2, 3, 4, 5, 6)\n",
    "Px = c(1/6, 1/6, 1/6, 1/6, 1/6, 1/6)\n",
    "\n",
    "mu = sum(x * Px)\n",
    "mu"
   ]
  },
  {
   "cell_type": "markdown",
   "metadata": {},
   "source": [
    "***"
   ]
  },
  {
   "cell_type": "markdown",
   "metadata": {},
   "source": [
    "\n",
    "### Example 3.5.3 ###\n",
    "A men's soccer team plays soccer zero, one, or two days a week. The probability that they play zero days is $0.2$, the probability that they play one day is $0.5$, and the probability that they play two days is $0.3$. On average, how many games per week would we expect the team to play next year?\n",
    "\n",
    "#### Solution ####\n",
    "We need to calculate the expected value, which estimates the average number of games the team plays per week this next year. The discrete probability distribution is given in {numref}`pd-soccer`, where $X$ is the number of games played per week.\n",
    "\n",
    "```{list-table} A discrete probability distribution for the number of days the soccer team plays in a week.\n",
    ":header-rows: 1\n",
    ":name: pd-soccer\n",
    "* - $X$\n",
    "  - $P(X)$\n",
    "* - $0$\n",
    "  - $0.2$\n",
    "* - $1$\n",
    "  - $0.5$\n",
    "* - $2$\n",
    "  - $0.3$\n",
    "```\n",
    "\n",
    "We can use R to find the expected value."
   ]
  },
  {
   "cell_type": "code",
   "execution_count": 1,
   "metadata": {},
   "outputs": [
    {
     "data": {
      "text/html": [
       "1.1"
      ],
      "text/latex": [
       "1.1"
      ],
      "text/markdown": [
       "1.1"
      ],
      "text/plain": [
       "[1] 1.1"
      ]
     },
     "metadata": {},
     "output_type": "display_data"
    }
   ],
   "source": [
    "x = c(0, 1, 2)\n",
    "Px = c(0.2, 0.5, 0.3)\n",
    "\n",
    "mu = sum(x*Px)\n",
    "mu"
   ]
  },
  {
   "cell_type": "markdown",
   "metadata": {},
   "source": [
    "The mean or expected value of the distribution is $\\mu = 1.1$ games per week. That is, we expect the soccer team to play an average of $1.1$ games per week next year."
   ]
  },
  {
   "cell_type": "markdown",
   "metadata": {},
   "source": [
    "***"
   ]
  },
  {
   "cell_type": "markdown",
   "metadata": {},
   "source": [
    "\n",
    "### Example 3.5.4 ###\n",
    "Suppose you play a game of chance in which five numbers are randomly chosen from $0$ to $9$ by a computer. If you match all five numbers in order, you win $\\$100,000$. If you lose, you pay $\\$2$. Over the long term, what is your expected profit per game?\n",
    "\n",
    "#### Solution ####\n",
    "We need to calculate the expected value because it will tell us how much we expect to profit per game on average.\n",
    "\n",
    "Let's first construct a table of the discrete probability distribution. Let $X$ be the amount of money you profit from playing the game. The values that $X$ can take on are $x = 100{,}000$ and $x = -2$. (Note, since we are ultimately interested in the profit, $X$ does not take on the values of the randomly chosen numbers.)\n",
    "\n",
    "Now let's look at the probability of winning the game. Let\n",
    "- $N_1 =$ the event you pick the right 1st number\n",
    "- $N_2 =$ the event you pick the right 2nd number\n",
    "- $N_3 =$ the event you pick the right 3rd number\n",
    "- $N_4 =$ the event you pick the right 4th number\n",
    "- $N_5 =$ the event you pick the right 5th number\n",
    "\n",
    "The probability that you win is\n",
    "\n",
    "$$ P(x = 100,000) = P(N_1\\text{ AND }N_2\\text{ AND }N_3\\text{ AND }N_4\\text{ AND }N_5) $$\n",
    "\n",
    "Note that since the numbers are chosen *with replacement*, $N_1$, $N_2$, $N_3$, $N_4$, and $N_5$ are all independent events. Thus\n",
    "\n",
    "$$\\begin{align}\n",
    "P(N_1\\text{ AND }N_2\\text{ AND }N_3\\text{ AND }N_4\\text{ AND }N_5) \n",
    "&= P(N_1) \\cdot P(N_2) \\cdot P(N_3) \\cdot P(N_4) \\cdot P(N_5) \\\\\n",
    "&= \\frac{1}{10} \\cdot \\frac{1}{10} \\cdot \\frac{1}{10} \\cdot \\frac{1}{10} \\cdot \\frac{1}{10} \\\\\n",
    "&= \\frac{1}{10^5} \\\\\n",
    "&= 0.00001\n",
    "\\end{align}$$\n",
    "\n",
    "So the probability that you win is $P(100{,}000) = 0.00001$. Since you can only win or lose at this game (the game can't end in a draw), the probability that you lose is\n",
    "\n",
    "$$ P(-2) = 1 - P(100{,}000) = 1 - 0.00001 = 0.99999. $$\n",
    "\n",
    "{numref}`pd-game` describes the probability distribution for this game.\n",
    "\n",
    "```{list-table} A discrete probability distribution for the amount of money you win or lose playing the game.\n",
    ":header-rows: 1\n",
    ":name: pd-game\n",
    "* - $X$\n",
    "  - $P(X)$\n",
    "* - $100{,}000$\n",
    "  - $0.00001$\n",
    "* - $-2$\n",
    "  - $0.99999$\n",
    "```\n",
    "\n",
    "Now use R to calculate the expected value."
   ]
  },
  {
   "cell_type": "code",
   "execution_count": 3,
   "metadata": {},
   "outputs": [
    {
     "data": {
      "text/html": [
       "-0.99998"
      ],
      "text/latex": [
       "-0.99998"
      ],
      "text/markdown": [
       "-0.99998"
      ],
      "text/plain": [
       "[1] -0.99998"
      ]
     },
     "metadata": {},
     "output_type": "display_data"
    }
   ],
   "source": [
    "x = c(100000, -2)\n",
    "Px = c(0.00001, 0.99999)\n",
    "\n",
    "mu = sum(x*Px)\n",
    "mu"
   ]
  },
  {
   "cell_type": "markdown",
   "metadata": {},
   "source": [
    "The expected value is $\\mu = -\\$0.99998$. Since the expected value is negative, this means that if you played this game many times, you would lose an average of almost \\$1 per game."
   ]
  },
  {
   "cell_type": "markdown",
   "metadata": {},
   "source": [
    "***"
   ]
  },
  {
   "cell_type": "markdown",
   "metadata": {},
   "source": [
    "## Standard Deviation ##\n",
    "The standard deviation $\\sigma$ of a discrete probability distribution is\n",
    "\n",
    "$$ \\sigma = \\sqrt{\\sum\\left[(x - \\mu)^2 P(x)\\right]}, $$\n",
    "\n",
    "where $\\mu$ is the expected value of the distribution. The standard deviation tells us the standard (or average) amount the outcome of an experiment deviates from the expected value."
   ]
  },
  {
   "cell_type": "markdown",
   "metadata": {},
   "source": [
    "***"
   ]
  },
  {
   "cell_type": "markdown",
   "metadata": {},
   "source": [
    "\n",
    "### Example 3.5.5 ###\n",
    "Patients who have had an appendectomy must stay in the hospital for $1$, $2$, or $3$ days. Patients stay in the hospital for $1$ day $40\\%$ of the time, for $2$ days $55\\%$ of the time, and for $3$ days $5\\%$ of the time. \n",
    "\n",
    "1. How long should a patient expect to stay in the hospital? \n",
    "2. What is the standard deviation of the distribution?\n",
    "\n",
    "#### Solution\n",
    "Let's first construct the probability distribution. Let $X$ be the number of days the patient stays in the hosplital. The possible values of $X$ are $x = 1, 2, 3$. {numref}`pd-appendectomy` is the probability distribution for the number of days appendectomy patients stay in the hospital after surgery.\n",
    "\n",
    "```{list-table} A discrete probability distribution for the number of days appendectomy patients stay in the hospital after surgery.\n",
    ":header-rows: 1\n",
    ":name: pd-appendectomy\n",
    "* - $X$\n",
    "  - $P(X)$\n",
    "* - $1$\n",
    "  - $0.40$\n",
    "* - $2$\n",
    "  - $0.55$\n",
    "* - $3$\n",
    "  - $0.05$\n",
    "```\n",
    "\n",
    "##### Part 1\n",
    "The expected value gives the best estimate for the number of days a patient should expect to stay in the hospital."
   ]
  },
  {
   "cell_type": "code",
   "execution_count": 4,
   "metadata": {},
   "outputs": [
    {
     "data": {
      "text/html": [
       "1.65"
      ],
      "text/latex": [
       "1.65"
      ],
      "text/markdown": [
       "1.65"
      ],
      "text/plain": [
       "[1] 1.65"
      ]
     },
     "metadata": {},
     "output_type": "display_data"
    }
   ],
   "source": [
    "x = c(1, 2, 3)\n",
    "Px = c(0.40, 0.55, 0.05)\n",
    "\n",
    "mu = sum(x*Px)\n",
    "mu"
   ]
  },
  {
   "cell_type": "markdown",
   "metadata": {},
   "source": [
    "The expected value is $\\mu = 1.65$. A patient should expect to spend, on average, $1.65$ days in the hospital after an appendectomy.\n",
    "\n",
    "##### Part 2 \n",
    "We can use R to calculate the standard deviation."
   ]
  },
  {
   "cell_type": "code",
   "execution_count": 6,
   "metadata": {},
   "outputs": [
    {
     "data": {
      "text/html": [
       "0.57227615711298"
      ],
      "text/latex": [
       "0.57227615711298"
      ],
      "text/markdown": [
       "0.57227615711298"
      ],
      "text/plain": [
       "[1] 0.5722762"
      ]
     },
     "metadata": {},
     "output_type": "display_data"
    }
   ],
   "source": [
    "sigma = sqrt( sum( (x - mu)^2 * Px ) )\n",
    "sigma"
   ]
  },
  {
   "cell_type": "markdown",
   "metadata": {},
   "source": [
    "So the standard deviation is $\\sigma = 0.572$. This means it is not uncommon for a patient to spend $0.572$ days less or $0.572$ days more than the expected $1.65$ days in the hospital after surgery"
   ]
  },
  {
   "cell_type": "markdown",
   "metadata": {},
   "source": [
    "***"
   ]
  },
  {
   "cell_type": "markdown",
   "metadata": {},
   "source": [
    "\n",
    "### Example 3.5.6 ###\n",
    "A hospital researcher is interested in the number of times the average post-op patient will ring the nurse during a $12$-hour shift. For a random sample of $50$ patients, {numref}`pd-nurse` was obtained.\n",
    "\n",
    "```{list-table} A relative frequency table for the number of times $50$ patients rings the nurse in a $12$-hour shift.\n",
    ":header-rows: 1\n",
    ":name: pd-nurse\n",
    "* - Number of Times Patient Rings Nurse\n",
    "  - Relative Frequency\n",
    "* - $0$\n",
    "  - $\\frac{4}{50}$\n",
    "* - $1$\n",
    "  - $\\frac{8}{50}$\n",
    "* - $2$\n",
    "  - $\\frac{16}{50}$\n",
    "* - $3$\n",
    "  - $\\frac{14}{50}$\n",
    "* - $4$\n",
    "  - $\\frac{6}{50}$\n",
    "* - $5$\n",
    "  - $\\frac{2}{50}$\n",
    "```\n",
    "\n",
    "1. Find the mean.\n",
    "2. Find the standard deviation.\n",
    "\n",
    "#### Solution\n",
    "First, note that {numref}`pd-nurse` is a discrete probability distribution, where $X$ is the number of times the patient rings the nurse, and $P(X)$ is the relative frequency.\n",
    "\n",
    "##### Part 1\n",
    "Remember, for a probability distribution, the mean and the expected value are the same thing."
   ]
  },
  {
   "cell_type": "code",
   "execution_count": 8,
   "metadata": {},
   "outputs": [
    {
     "data": {
      "text/html": [
       "2.32"
      ],
      "text/latex": [
       "2.32"
      ],
      "text/markdown": [
       "2.32"
      ],
      "text/plain": [
       "[1] 2.32"
      ]
     },
     "metadata": {},
     "output_type": "display_data"
    }
   ],
   "source": [
    "x = c(0, 1, 2, 3, 4, 5)\n",
    "Px = c(4/50, 8/50, 16/50, 14/50, 6/50, 2/50)\n",
    "\n",
    "mu = sum(x*Px)\n",
    "mu"
   ]
  },
  {
   "cell_type": "markdown",
   "metadata": {},
   "source": [
    "The mean or expected value is $\\mu = 2.32$. This means, on average, we expect a patient to ring the nurse $2.32$ times during a $12$-hour shift.\n",
    "\n",
    "##### Part 2"
   ]
  },
  {
   "cell_type": "code",
   "execution_count": 9,
   "metadata": {},
   "outputs": [
    {
     "data": {
      "text/html": [
       "1.22376468326227"
      ],
      "text/latex": [
       "1.22376468326227"
      ],
      "text/markdown": [
       "1.22376468326227"
      ],
      "text/plain": [
       "[1] 1.223765"
      ]
     },
     "metadata": {},
     "output_type": "display_data"
    }
   ],
   "source": [
    "sigma = sqrt( sum( (x - mu)^2 * Px ) )\n",
    "sigma"
   ]
  },
  {
   "cell_type": "markdown",
   "metadata": {},
   "source": [
    "The standard deviation is $\\sigma = 1.2238$. This means that it is common for a patient to ring the nurse $1.2238$ times less or $1.2238$ times more than the expected $2.32$ rings."
   ]
  }
 ],
 "metadata": {
  "kernelspec": {
   "display_name": "R",
   "language": "R",
   "name": "ir"
  },
  "language_info": {
   "codemirror_mode": "r",
   "file_extension": ".r",
   "mimetype": "text/x-r-source",
   "name": "R",
   "pygments_lexer": "r",
   "version": "4.2.3"
  }
 },
 "nbformat": 4,
 "nbformat_minor": 4
}