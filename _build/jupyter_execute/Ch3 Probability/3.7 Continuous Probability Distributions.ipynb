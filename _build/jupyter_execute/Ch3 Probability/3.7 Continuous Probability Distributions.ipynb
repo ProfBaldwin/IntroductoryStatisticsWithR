{
 "cells": [
  {
   "cell_type": "markdown",
   "metadata": {},
   "source": [
    "# Continuous Probability Distributions"
   ]
  },
  {
   "cell_type": "markdown",
   "metadata": {},
   "source": [
    "## Objectives\n",
    "- Identify continuous probability density functions.\n",
    "- Calculate probabilities by finding the areas under probability density functions."
   ]
  },
  {
   "cell_type": "markdown",
   "metadata": {},
   "source": [
    "## Continuous Probability Distributions\n",
    "If the outcome of an experiment can take on take on the value of any fraction, decimal, or irrational number within the range of allowed values, we say the experiment has a **continuous probability distribution**. For example, if we conduct an experiment where we measure the height of a randomly chosen person, the outcome could be that the individual is $64.41$ inches tall, or maybe $72.683$ inches tall, or it could be any decimal value in between.\n",
    "\n",
    "A continuous probability distribution can be described using a **probability density function**. The graph of a probability density function can be used to tell us how likely any range of outcomes is likely to be. Specifically, the area under the curve within a range of values is the probability that the outcome will be within that range of values. In short, when dealing with probability density functions, \n",
    "\n",
    "$$\\text{Probability} = \\text{Area}. $$\n",
    "\n",
    "Because you can't have less than $0\\%$ probability, the graph of a probability density function can only take on non-negative values above the $x$-axis. And since the total combined probability of all outcomes in an experiment is $100\\%$, the total area under a probability density function is always $1$."
   ]
  },
  {
   "cell_type": "code",
   "execution_count": 90,
   "metadata": {
    "tags": [
     "remove-cell"
    ]
   },
   "outputs": [
    {
     "data": {
      "text/html": [
       "<strong>png:</strong> 2"
      ],
      "text/latex": [
       "\\textbf{png:} 2"
      ],
      "text/markdown": [
       "**png:** 2"
      ],
      "text/plain": [
       "png \n",
       "  2 "
      ]
     },
     "metadata": {},
     "output_type": "display_data"
    }
   ],
   "source": [
    "png(\"pdf_example.png\", width = 1000, height = 500)\n",
    "\n",
    "library(\"shape\")\n",
    "\n",
    "par(mar = c(2, 3, 3, 2.5))\n",
    "\n",
    "x = seq(0, 60, 0.01)\n",
    "y = dchisq(x, df=8)\n",
    "\n",
    "\n",
    "plot(x, y, \n",
    "     type=\"l\", col=\"black\", \n",
    "     main=\"Example of a Continuous Probability Density Function\", \n",
    "     cex.main = 2.5, cex.lab = 2.5, bty = \"n\",\n",
    "     xaxs = \"i\", xaxt = \"n\", xlim = c(0, 30), xlab = \"\",\n",
    "     yaxs = \"i\",  yaxt = \"n\", ylim = c(0, 0.15), ylab = \"\")\n",
    "\n",
    "polygon(x, y, col = \"gray90\")\n",
    "\n",
    "x = c(4, seq(4, 8, 0.01), 8)\n",
    "y = c(0, dchisq(seq(4, 8, 0.01), df=8), 0)\n",
    "polygon(x, y, col = \"lightsteelblue\")\n",
    "\n",
    "Arrows(6, 0.125, 6, 0.105, lwd = 3, arr.type = \"triangle\", arr.width = 0.3, col = \"blue3\")\n",
    "text(6, 0.125, labels = \"P(4 < X < 8)\", cex = 2, col = \"blue3\", pos = 3)\n",
    "\n",
    "x = c(14, seq(14, 18, 0.01), 18)\n",
    "y = c(0, dchisq(seq(14, 18, 0.01), df=8), 0)\n",
    "polygon(x, y, col = \"lightsteelblue\")\n",
    "\n",
    "Arrows(16, 0.03, 16, 0.01, lwd = 3, arr.type = \"triangle\", arr.width = 0.3, col = \"blue3\")\n",
    "text(16, 0.03, labels = \"P(14 < X < 18)\", cex = 2, col = \"blue3\", pos = 3)\n",
    "\n",
    "axis(1, at = seq(0, 30, 2), cex.axis = 2)\n",
    "axis(2, at = seq(0.0, 0.15, 0.05), cex.axis = 2)\n",
    "\n",
    "text(30.3, 0, labels = \"x\", cex = 2.5, pos = 4, xpd = TRUE)\n",
    "text(0, 0.155, labels = \"y\", cex = 2.5, pos = 3, xpd = TRUE)\n",
    "\n",
    "dev.off()"
   ]
  },
  {
   "cell_type": "markdown",
   "metadata": {},
   "source": [
    "```{figure} pdf_example.png\n",
    "---\n",
    "width: 100%\n",
    "alt: A curve is plotted on the xy-plane. It starts at height zero at x=0, is highest at about x=6, then slowly drops off to nearly zero at x=30.\n",
    "name: pdf_example\n",
    "---\n",
    "An example of a continuous probability density function. The area under the curve between $x = 4$ and $x = 8$ (the shaded region on the left) is $P(4 < X < 8)$. The area under the curve between $x = 14$ and $x = 18$ (the shaded region on the right) is $P(14 < X < 18)$. Since the area of the left region is clearly larger than the area of the right region, an outcome between $x = 4$ and $x = 8$ is more likely than an outcome between $x = 14$ and $x = 18$.\n",
    "```"
   ]
  },
  {
   "cell_type": "markdown",
   "metadata": {},
   "source": [
    "In this section, we will deal only with calculating the area for regions with shapes we are familiar with from geometry, like rectangles, circles, and triangles. We will learn how to calculate the areas of some regions with more complex shapes later.\n",
    "\n",
    "```{note}\n",
    "Since, for continuous probability distributions, we find probability by calculating the area under a probability density function, we can only find probabilities for *ranges* of values, not for *individual* values. It makes sense to find $P(14 < X < 18)$ because the length of the base of the area over that range from $x = 14$ to $x = 18$ is $18 - 14 = 4$. It doesn't make sense to find $P(X = 16)$ because the region over $x = 16$ has no base of any length, so it doesn't make sense to talk about the area of the region in this context.\n",
    "\n",
    "For the same reason, a probability like $P(X < 8)$ would have the same value as $P(X \\leq 8)$ when dealing with. The length of the base up to $x = 7.99999...$ is effectively the same as the length of the base up to $x = 8$.\n",
    "```"
   ]
  },
  {
   "cell_type": "markdown",
   "metadata": {},
   "source": [
    "***"
   ]
  },
  {
   "cell_type": "markdown",
   "metadata": {},
   "source": [
    "### Example 3.7.1\n",
    "\n",
    "Does the function pictured in {numref}`Figure {number} <pdf_rect1>` represent a probability density function? Why or why not?"
   ]
  },
  {
   "cell_type": "code",
   "execution_count": 50,
   "metadata": {
    "tags": [
     "remove-cell"
    ]
   },
   "outputs": [
    {
     "data": {
      "text/html": [
       "<strong>png:</strong> 2"
      ],
      "text/latex": [
       "\\textbf{png:} 2"
      ],
      "text/markdown": [
       "**png:** 2"
      ],
      "text/plain": [
       "png \n",
       "  2 "
      ]
     },
     "metadata": {},
     "output_type": "display_data"
    }
   ],
   "source": [
    "png(\"pdf_rect1.png\", width = 1000, height = 500)\n",
    "\n",
    "par(mar = c(2, 1, 3, 2))\n",
    "\n",
    "x = c(-1, 4)\n",
    "y = c(0.2, 0.2)\n",
    "\n",
    "plot(x, y, \n",
    "     type=\"l\", col=\"black\", \n",
    "     main=\"\", \n",
    "     cex.main = 2.5, cex.lab = 2.5, bty = \"n\",\n",
    "     xaxs = \"i\", xaxt = \"n\", xlim = c(-2, 5), xlab = \"\",\n",
    "     yaxs = \"i\",  yaxt = \"n\", ylim = c(0, 1), ylab = \"\")\n",
    "\n",
    "polyx = c(-1, x, 4)\n",
    "polyy = c(0, y, 0)\n",
    "polygon(polyx, polyy, col = \"gray90\", border = NA)\n",
    "\n",
    "lines(x,  y)\n",
    "\n",
    "axis(1, pos=0, at = seq(-2, 5, 1), cex.axis = 2)\n",
    "axis(2, pos=0, at = seq(0, 1, 0.1), cex.axis = 2)\n",
    "\n",
    "text(5.03, 0, labels = \"x\", cex = 2.5, pos = 4, xpd = TRUE)\n",
    "text(0, 1.03, labels = \"y\", cex = 2.5, pos = 3, xpd = TRUE)\n",
    "\n",
    "dev.off()"
   ]
  },
  {
   "cell_type": "markdown",
   "metadata": {},
   "source": [
    "```{figure} pdf_rect1.png\n",
    "---\n",
    "width: 100%\n",
    "alt: A horizontal line segment of height y = 0.2 from x = -1 to x = 4.\n",
    "name: pdf_rect1\n",
    "---\n",
    "A horizontal line segment of height $y = 0.2$ from $x = -1$ to $x = 4$.\n",
    "```"
   ]
  },
  {
   "cell_type": "markdown",
   "metadata": {},
   "source": [
    "#### Solution\n",
    "For a graph or function to be a probability density function, it needs to satisfy two criteria.\n",
    "\n",
    "First, is the graph entirely above the $x$-axis so no probabilities are less than zero? Yes, we can see that the graph is entirely above the $x$-axis.\n",
    "\n",
    "Second, is the total area under the graph equal to one? The region under the graph is a rectangle. We can calculate the area of a rectangle by multiplying the length of the base with the height. We can see from the graph that the height of the rectangle is $y = 0.2$. Since the rectangle ranges from $x = -1$ to $x = 4$, the length of the base is $4 - (-1) = 5$. So the total area under the graph is\n",
    "\n",
    "$$ A = \\text{Base} \\cdot \\text{Height} = 5 \\cdot 0.2 = 1. $$\n",
    "\n",
    "Since the total area under the graph is $1$, the function is a probability density function."
   ]
  },
  {
   "cell_type": "markdown",
   "metadata": {},
   "source": [
    "***"
   ]
  },
  {
   "cell_type": "markdown",
   "metadata": {},
   "source": [
    "### Example 3.7.2\n",
    "\n",
    "Does the function pictured in {numref}`Figure {number} <pdf_tri1>` represent a probability density function? Why or why not?"
   ]
  },
  {
   "cell_type": "code",
   "execution_count": 88,
   "metadata": {
    "tags": [
     "remove-cell"
    ]
   },
   "outputs": [
    {
     "data": {
      "text/html": [
       "<strong>png:</strong> 2"
      ],
      "text/latex": [
       "\\textbf{png:} 2"
      ],
      "text/markdown": [
       "**png:** 2"
      ],
      "text/plain": [
       "png \n",
       "  2 "
      ]
     },
     "metadata": {},
     "output_type": "display_data"
    }
   ],
   "source": [
    "png(\"pdf_tri1.png\", width = 1000, height = 500)\n",
    "\n",
    "par(mar = c(2, 1, 3, 2))\n",
    "\n",
    "x = c(-4, 2)\n",
    "y = c(0.4, -0.2)\n",
    "intercept = -y[1] * (x[2] - x[1])/(y[2] - y[1]) + x[1]\n",
    "\n",
    "plot(x, y, \n",
    "     type=\"l\", col=\"black\", \n",
    "     main=\"\", \n",
    "     cex.main = 2.5, cex.lab = 2.5, bty = \"n\",\n",
    "     xaxs = \"i\", xaxt = \"n\", xlim = c(-5, 3), xlab = \"\",\n",
    "     yaxs = \"i\",  yaxt = \"n\", ylim = c(-0.4, 0.6), ylab = \"\")\n",
    "\n",
    "polyx = c(-4, -4, 0)\n",
    "polyy = c(0, 0.4, 0)\n",
    "polygon(polyx, polyy, col = \"gray90\", border = NA)\n",
    "\n",
    "polyx = c(0, 2, 2)\n",
    "polyy = c(0, -0.2, 0)\n",
    "polygon(polyx, polyy, col = \"gray90\", border = NA)\n",
    "\n",
    "lines(x,  y)\n",
    "\n",
    "axis(1, pos=0, at = seq(-5, 3, 1), cex.axis = 2)\n",
    "axis(2, pos=0, at = seq(-0.4, 0.6, 0.1), cex.axis = 2)\n",
    "\n",
    "text(3.03, 0, labels = \"x\", cex = 2.5, pos = 4, xpd = TRUE)\n",
    "text(0, 0.63, labels = \"y\", cex = 2.5, pos = 3, xpd = TRUE)\n",
    "\n",
    "dev.off()"
   ]
  },
  {
   "cell_type": "markdown",
   "metadata": {},
   "source": [
    "```{figure} pdf_tri1.png\n",
    "---\n",
    "width: 100%\n",
    "alt: A line segment from (-4, 0.4) to (2, -0.2).\n",
    "name: pdf_tri1\n",
    "---\n",
    "A line segment from $(x, y) = (-4, 0.4)$ to $(x, y) = (2, -0.2)$.\n",
    "```"
   ]
  },
  {
   "cell_type": "markdown",
   "metadata": {},
   "source": [
    "#### Solution\n",
    "For a graph or function to be a probability density function, it needs to satisfy two criteria.\n",
    "\n",
    "First, is the graph entirely above the $x$-axis so no probabilities are less than zero? No, we can see on that the graph is below the $x$-axis between $x = 0$ and $x = 2$. Since the function fails this first criterion, we know it is not a probability density function. We do not need to check the second criterion."
   ]
  },
  {
   "cell_type": "markdown",
   "metadata": {},
   "source": [
    "***"
   ]
  },
  {
   "cell_type": "markdown",
   "metadata": {},
   "source": [
    "### Example 3.7.3\n",
    "\n",
    "Does the function pictured in {numref}`Figure {number} <pdf_circle>` represent a probability density function? Why or why not?"
   ]
  },
  {
   "cell_type": "code",
   "execution_count": 56,
   "metadata": {
    "tags": [
     "remove-cell"
    ]
   },
   "outputs": [
    {
     "data": {
      "text/html": [
       "<strong>png:</strong> 2"
      ],
      "text/latex": [
       "\\textbf{png:} 2"
      ],
      "text/markdown": [
       "**png:** 2"
      ],
      "text/plain": [
       "png \n",
       "  2 "
      ]
     },
     "metadata": {},
     "output_type": "display_data"
    }
   ],
   "source": [
    "png(\"pdf_circle.png\", width = 1000, height = 500)\n",
    "\n",
    "par(mar = c(2, 1, 3, 1))\n",
    "\n",
    "x = seq(-2, 2, 0.01)\n",
    "y = sqrt(4 - x^2) \n",
    "\n",
    "plot(x, y, \n",
    "     type=\"l\", col=\"black\", \n",
    "     main=\"\", \n",
    "     cex.main = 2.5, cex.lab = 2.5, bty = \"n\", asp = 1,\n",
    "     xaxs = \"i\", xaxt = \"n\", xlim = c(-3, 3), xlab = \"\",\n",
    "     yaxs = \"i\",  yaxt = \"n\", ylim = c(0, 3), ylab = \"\")\n",
    "\n",
    "polyx = c(-2, x, 2)\n",
    "polyy = c(0, sqrt(4 - x^2), 0)\n",
    "polygon(polyx, polyy, col = \"gray90\")\n",
    "\n",
    "axis(1, pos=0, at = seq(-3, 3, 1), cex.axis = 2)\n",
    "axis(2, pos=0, at = seq(0, 3, 1), cex.axis = 2)\n",
    "\n",
    "text(3.03, 0, labels = \"x\", cex = 2.5, pos = 4, xpd = TRUE)\n",
    "text(0, 3.07, labels = \"y\", cex = 2.5, pos = 3, xpd = TRUE)\n",
    "\n",
    "dev.off()"
   ]
  },
  {
   "cell_type": "markdown",
   "metadata": {},
   "source": [
    "```{figure} pdf_circle.png\n",
    "---\n",
    "width: 100%\n",
    "alt: The upper half-circle of radius 2 centered at the origin.\n",
    "name: pdf_circle\n",
    "---\n",
    "The upper half of a circle of radius $2$.\n",
    "```"
   ]
  },
  {
   "cell_type": "markdown",
   "metadata": {},
   "source": [
    "#### Solution\n",
    "For a graph or function to be a probability density function, it needs to satisfy two criteria.\n",
    "\n",
    "First, is the graph entirely above the $x$-axis so no probabilities are less than zero? Yes, we can see that the graph is entirely above the $x$-axis.\n",
    "\n",
    "Second, is the total area under the graph equal to one? We can calculate the area of the entire region under the graph using the formula for the area of a full circle:\n",
    "\n",
    "$$ A = \\pi \\cdot r^2, $$\n",
    "\n",
    "where $\\pi \\approx 3.14$ and $r$ is the radius of the circle. But in our case, we only have half a circle, so we will multiply the formula by $\\frac{1}{2}$. Since this half-circle has a radius of $r = 2$, the area of the half-circle is\n",
    "\n",
    "$$ A = \\frac{1}{2} \\cdot \\pi \\cdot r^2 \\approx \\frac{1}{2} \\cdot 3.14 \\cdot 2^2 = 6.28. $$\n",
    "\n",
    "So the total area under the half-circle is about $6.28$. Because $6.28 \\neq 1$, this graph isn't a probability density function."
   ]
  },
  {
   "cell_type": "markdown",
   "metadata": {},
   "source": [
    "***"
   ]
  },
  {
   "cell_type": "markdown",
   "metadata": {},
   "source": [
    "### Example 3.7.4\n",
    "\n",
    "Consider the probability density function $y = 0.5$ from $x = 1$ to $x = 3$. \n",
    "\n",
    "1. Find $P(X > 1.5)$.\n",
    "2. Find $P(2 < X < 2.5)$.\n",
    "\n",
    "#### Solution\n",
    "First, let's graph the probability density function. In this case, it is a horizontal line of height $y = 0.5$ that stretches from $x = 1$ to $x = 3$, as shown in {numref}`Figure {number} <pdf_rect2>`. Note that it really is a probability density function since the area under the graph is\n",
    "\n",
    "$$ A = \\text{Base} \\cdot \\text{Height} = 2 \\cdot 0.5 = 1. $$\n"
   ]
  },
  {
   "cell_type": "code",
   "execution_count": 113,
   "metadata": {
    "tags": [
     "remove-cell"
    ]
   },
   "outputs": [
    {
     "data": {
      "text/html": [
       "<strong>png:</strong> 2"
      ],
      "text/latex": [
       "\\textbf{png:} 2"
      ],
      "text/markdown": [
       "**png:** 2"
      ],
      "text/plain": [
       "png \n",
       "  2 "
      ]
     },
     "metadata": {},
     "output_type": "display_data"
    }
   ],
   "source": [
    "png(\"pdf_rect2.png\", width = 1000, height = 500)\n",
    "\n",
    "par(mar = c(2, 3, 3, 2))\n",
    "\n",
    "x = c(1, 3)\n",
    "y = c(0.5, 0.5)\n",
    "\n",
    "plot(x, y, \n",
    "     type=\"l\", col=\"black\", \n",
    "     main=\"\", \n",
    "     cex.main = 2.5, cex.lab = 2.5, bty = \"n\",\n",
    "     xaxs = \"i\", xaxt = \"n\", xlim = c(0, 4), xlab = \"\",\n",
    "     yaxs = \"i\",  yaxt = \"n\", ylim = c(0, 1), ylab = \"\")\n",
    "\n",
    "polyx = c(1, x, 3)\n",
    "polyy = c(0, y, 0)\n",
    "polygon(polyx, polyy, col = \"gray90\", border = NA)\n",
    "\n",
    "lines(x,  y)\n",
    "\n",
    "axis(1, pos=0, at = seq(0, 4, 0.5), cex.axis = 2)\n",
    "axis(2, pos=0, at = seq(0, 1, 0.1), cex.axis = 2)\n",
    "\n",
    "text(4.03, 0, labels = \"x\", cex = 2.5, pos = 4, xpd = TRUE)\n",
    "text(0, 1.03, labels = \"y\", cex = 2.5, pos = 3, xpd = TRUE)\n",
    "\n",
    "dev.off()"
   ]
  },
  {
   "cell_type": "markdown",
   "metadata": {},
   "source": [
    "```{figure} pdf_rect2.png\n",
    "---\n",
    "width: 100%\n",
    "alt: A horizontal line segment of height y = 0.5 from x = 1 to x = 3.\n",
    "name: pdf_rect2\n",
    "---\n",
    "A horizontal line segment of height $y = 0.5$ from $x = 1$ to $x = 3$.\n",
    "```"
   ]
  },
  {
   "cell_type": "markdown",
   "metadata": {},
   "source": [
    "##### Part 1\n",
    "To find $P(X > 1.5)$, we need to calculate the area under the graph over the range where $x > 1.5$. (See {numref}`Figure {number} <pdf_rect2_area1>`.)"
   ]
  },
  {
   "cell_type": "code",
   "execution_count": 114,
   "metadata": {
    "tags": [
     "remove-cell"
    ]
   },
   "outputs": [
    {
     "data": {
      "text/html": [
       "<strong>png:</strong> 2"
      ],
      "text/latex": [
       "\\textbf{png:} 2"
      ],
      "text/markdown": [
       "**png:** 2"
      ],
      "text/plain": [
       "png \n",
       "  2 "
      ]
     },
     "metadata": {},
     "output_type": "display_data"
    }
   ],
   "source": [
    "png(\"pdf_rect2_area1.png\", width = 1000, height = 500)\n",
    "\n",
    "par(mar = c(2, 3, 3, 2))\n",
    "\n",
    "x = c(1, 3)\n",
    "y = c(0.5, 0.5)\n",
    "\n",
    "plot(x, y, \n",
    "     type=\"l\", col=\"black\", \n",
    "     main=\"\", \n",
    "     cex.main = 2.5, cex.lab = 2.5, bty = \"n\",\n",
    "     xaxs = \"i\", xaxt = \"n\", xlim = c(0, 4), xlab = \"\",\n",
    "     yaxs = \"i\",  yaxt = \"n\", ylim = c(0, 1), ylab = \"\")\n",
    "\n",
    "polyx = c(1, x, 3)\n",
    "polyy = c(0, y, 0)\n",
    "polygon(polyx, polyy, col = \"gray90\", border = NA)\n",
    "\n",
    "polyx = c(1.5, 1.5, 3, 3)\n",
    "polyy = c(0, 0.5, 0.5, 0)\n",
    "polygon(polyx, polyy, col = \"lightsteelblue\")\n",
    "\n",
    "lines(x,  y)\n",
    "\n",
    "axis(1, pos=0, at = seq(0, 4, 0.5), cex.axis = 2)\n",
    "axis(2, pos=0, at = seq(0, 1, 0.1), cex.axis = 2)\n",
    "\n",
    "text(4.03, 0, labels = \"x\", cex = 2.5, pos = 4, xpd = TRUE)\n",
    "text(0, 1.03, labels = \"y\", cex = 2.5, pos = 3, xpd = TRUE)\n",
    "\n",
    "dev.off()"
   ]
  },
  {
   "cell_type": "markdown",
   "metadata": {},
   "source": [
    "```{figure} pdf_rect2_area1.png\n",
    "---\n",
    "width: 100%\n",
    "alt: A horizontal line segment of height y = 0.5 from x = 1 to x = 3. The area under the line segment from x = 1.5 to x = 3 is shaded blue.\n",
    "name: pdf_rect2_area1\n",
    "---\n",
    "A horizontal line segment of height $y = 0.5$ from $x = 1$ to $x = 3$. The area of the region shaded blue is $P(X > 1.5)$.\n",
    "```"
   ]
  },
  {
   "cell_type": "markdown",
   "metadata": {},
   "source": [
    "This region has a rectangular shape, so we can find the area by multiplying the base of the region times its height. The height is $y = 0.5$. The length of the base from $x = 1.5$ to $x = 3.0$ is $3.0 - 1.5 = 1.5$. So the area of the region is\n",
    "\n",
    "$$ A = \\text{Base} \\cdot \\text{Height} = 1.5 \\cdot 0.5 = 0.75. $$\n",
    "\n",
    "So $P(X > 1.5) = 0.75$.\n",
    "\n",
    "##### Part 2\n",
    "To find $P(2 < X < 2.5)$, we need to calculate the area under the graph over the range between $x = 2$ and $x = 2.5$. (See {numref}`Figure {number} <pdf_rect2_area2>`.)"
   ]
  },
  {
   "cell_type": "code",
   "execution_count": 115,
   "metadata": {
    "tags": [
     "remove-cell"
    ]
   },
   "outputs": [
    {
     "data": {
      "text/html": [
       "<strong>png:</strong> 2"
      ],
      "text/latex": [
       "\\textbf{png:} 2"
      ],
      "text/markdown": [
       "**png:** 2"
      ],
      "text/plain": [
       "png \n",
       "  2 "
      ]
     },
     "metadata": {},
     "output_type": "display_data"
    }
   ],
   "source": [
    "png(\"pdf_rect2_area2.png\", width = 1000, height = 500)\n",
    "\n",
    "par(mar = c(2, 3, 3, 2))\n",
    "\n",
    "x = c(1, 3)\n",
    "y = c(0.5, 0.5)\n",
    "\n",
    "plot(x, y, \n",
    "     type=\"l\", col=\"black\", \n",
    "     main=\"\", \n",
    "     cex.main = 2.5, cex.lab = 2.5, bty = \"n\",\n",
    "     xaxs = \"i\", xaxt = \"n\", xlim = c(0, 4), xlab = \"\",\n",
    "     yaxs = \"i\",  yaxt = \"n\", ylim = c(0, 1), ylab = \"\")\n",
    "\n",
    "polyx = c(1, x, 3)\n",
    "polyy = c(0, y, 0)\n",
    "polygon(polyx, polyy, col = \"gray90\", border = NA)\n",
    "\n",
    "polyx = c(2, 2, 2.5, 2.5)\n",
    "polyy = c(0, 0.5, 0.5, 0)\n",
    "polygon(polyx, polyy, col = \"lightsteelblue\")\n",
    "\n",
    "lines(x,  y)\n",
    "\n",
    "axis(1, pos=0, at = seq(0, 4, 0.5), cex.axis = 2)\n",
    "axis(2, pos=0, at = seq(0, 1, 0.1), cex.axis = 2)\n",
    "\n",
    "text(4.03, 0, labels = \"x\", cex = 2.5, pos = 4, xpd = TRUE)\n",
    "text(0, 1.03, labels = \"y\", cex = 2.5, pos = 3, xpd = TRUE)\n",
    "\n",
    "dev.off()"
   ]
  },
  {
   "cell_type": "markdown",
   "metadata": {},
   "source": [
    "```{figure} pdf_rect2_area2.png\n",
    "---\n",
    "width: 100%\n",
    "alt: A horizontal line segment of height y = 0.5 from x = 1 to x = 3. The area under the line segment from x = 2 to x = 2.5 is shaded blue.\n",
    "name: pdf_rect2_area2\n",
    "---\n",
    "A horizontal line segment of height $y = 0.5$ from $x = 1$ to $x = 3$. The area of the region shaded blue is $P(2 < X < 2.5)$.\n",
    "```"
   ]
  },
  {
   "cell_type": "markdown",
   "metadata": {},
   "source": [
    "This region has a rectangular shape, so we can find the area by multiplying the base of the region times its height. The height is $y = 0.5$. The length of the base from $x = 2$ to $x = 2.5$ is $2.5 - 2 = 0.5$. So the area of the region is\n",
    "\n",
    "$$ A = \\text{Base} \\cdot \\text{Height} = 0.5 \\cdot 0.5 = 0.25. $$\n",
    "\n",
    "So $P(2 < X < 2.5) = 0.25$."
   ]
  },
  {
   "cell_type": "markdown",
   "metadata": {},
   "source": [
    "***"
   ]
  },
  {
   "cell_type": "markdown",
   "metadata": {},
   "source": [
    "### Example 3.7.5\n",
    "Consider the probability density function $y = \\frac{1}{8}x + \\frac{3}{8}$ from $x = -3$ to $x = 1$.\n",
    "\n",
    "1. Find $P(X < -1.5)$.\n",
    "2. Find $P(X > -1.5)$.\n",
    "\n",
    "#### Solution\n",
    "Begin by plotting the probability density function. If you remember algebra, you may recall that $y = \\frac{1}{8}x + \\frac{3}{8}$ is the equation of a line. We know this line only goes from $x = -3$ to $x = 1$. If we plug $x = -3$ into the equation, we get\n",
    "\n",
    "$$ y = \\frac{1}{8}(-3) + \\frac{3}{8} = 0, $$\n",
    "\n",
    "so the line starts at the point $(x, y) = (-3, 0)$. Similarly, if we plug $x = 1$ into the equation, we get\n",
    "\n",
    "$$ y = \\frac{1}{8}(1) + \\frac{3}{8} = 0.5, $$\n",
    "\n",
    "so the line ends at the point $(x, y) = (1, 0.5)$. (See {numref}`Figure {number} <pdf_tri2>`)"
   ]
  },
  {
   "cell_type": "code",
   "execution_count": 6,
   "metadata": {
    "tags": [
     "remove-cell"
    ]
   },
   "outputs": [
    {
     "data": {
      "text/html": [
       "<strong>png:</strong> 2"
      ],
      "text/latex": [
       "\\textbf{png:} 2"
      ],
      "text/markdown": [
       "**png:** 2"
      ],
      "text/plain": [
       "png \n",
       "  2 "
      ]
     },
     "metadata": {},
     "output_type": "display_data"
    }
   ],
   "source": [
    "png(\"pdf_tri2.png\", width = 1000, height = 500)\n",
    "\n",
    "par(mar = c(2, 3, 3, 2))\n",
    "\n",
    "x = c(-3, 1)\n",
    "y = c(0, 0.5)\n",
    "\n",
    "plot(x, y, \n",
    "     type=\"l\", col=\"black\", \n",
    "     main=\"\", \n",
    "     cex.main = 2.5, cex.lab = 2.5, bty = \"n\",\n",
    "     xaxs = \"i\", xaxt = \"n\", xlim = c(-4, 2), xlab = \"\",\n",
    "     yaxs = \"i\",  yaxt = \"n\", ylim = c(0, 1), ylab = \"\")\n",
    "\n",
    "polyx = c(-3, x, 1)\n",
    "polyy = c(0, y, 0)\n",
    "polygon(polyx, polyy, col = \"gray90\", border = NA)\n",
    "\n",
    "lines(x,  y)\n",
    "\n",
    "axis(1, pos=0, at = seq(-4, 2, 0.5), cex.axis = 2)\n",
    "axis(2, pos=0, at = seq(0, 1, 0.1), cex.axis = 2)\n",
    "\n",
    "text(2.03, 0, labels = \"x\", cex = 2.5, pos = 4, xpd = TRUE)\n",
    "text(0, 1.03, labels = \"y\", cex = 2.5, pos = 3, xpd = TRUE)\n",
    "\n",
    "dev.off()"
   ]
  },
  {
   "cell_type": "markdown",
   "metadata": {},
   "source": [
    "```{figure} pdf_tri2.png\n",
    "---\n",
    "width: 100%\n",
    "alt: A line segment of from (x, y) = (-3, 0) to (x, y) = (1, 0.5).\n",
    "name: pdf_tri2\n",
    "---\n",
    "A line segment of from $(x, y) = (-3, 0)$ to $(x, y) = (1, 0.5)$.\n",
    "```"
   ]
  },
  {
   "cell_type": "markdown",
   "metadata": {},
   "source": [
    "Note the total area under the function has a triangular shape. Since the length of the base of the triangle is $1 - (-3) = 4$, and the height is $0.5$, the area of the triangle is\n",
    "\n",
    "$$ A = \\frac{1}{2} \\cdot \\text{Base} \\cdot \\text{Height} = \\frac{1}{2} \\cdot 4 \\cdot 0.5 = 1, $$ \n",
    "\n",
    "which means the function really is a probability density function, as the problem statement claims.\n",
    "\n",
    "##### Part 1\n",
    "To find $P(X < -1.5)$, we need to calculate the area under the graph over the range where $x < 1.5$. (See {numref}`Figure {number} <pdf_tri2_area1>`.)"
   ]
  },
  {
   "cell_type": "code",
   "execution_count": 8,
   "metadata": {
    "tags": [
     "remove-cell"
    ]
   },
   "outputs": [
    {
     "data": {
      "text/html": [
       "<strong>png:</strong> 2"
      ],
      "text/latex": [
       "\\textbf{png:} 2"
      ],
      "text/markdown": [
       "**png:** 2"
      ],
      "text/plain": [
       "png \n",
       "  2 "
      ]
     },
     "metadata": {},
     "output_type": "display_data"
    }
   ],
   "source": [
    "png(\"pdf_tri2_area1.png\", width = 1000, height = 500)\n",
    "\n",
    "par(mar = c(2, 3, 3, 2))\n",
    "\n",
    "x = c(-3, 1)\n",
    "y = c(0, 0.5)\n",
    "\n",
    "plot(x, y, \n",
    "     type=\"l\", col=\"black\", \n",
    "     main=\"\", \n",
    "     cex.main = 2.5, cex.lab = 2.5, bty = \"n\",\n",
    "     xaxs = \"i\", xaxt = \"n\", xlim = c(-4, 2), xlab = \"\",\n",
    "     yaxs = \"i\",  yaxt = \"n\", ylim = c(0, 1), ylab = \"\")\n",
    "\n",
    "polyx = c(-3, x, 1)\n",
    "polyy = c(0, y, 0)\n",
    "polygon(polyx, polyy, col = \"gray90\", border = NA)\n",
    "\n",
    "polyx = c(-3, -3, -1.5, -1.5)\n",
    "polyy = c(0, 0, 0.1875, 0)\n",
    "polygon(polyx, polyy, col = \"lightsteelblue\")\n",
    "\n",
    "lines(x,  y)\n",
    "\n",
    "axis(1, pos=0, at = seq(-4, 2, 0.5), cex.axis = 2)\n",
    "axis(2, pos=0, at = seq(0, 1, 0.1), cex.axis = 2)\n",
    "\n",
    "text(2.03, 0, labels = \"x\", cex = 2.5, pos = 4, xpd = TRUE)\n",
    "text(0, 1.03, labels = \"y\", cex = 2.5, pos = 3, xpd = TRUE)\n",
    "\n",
    "dev.off()"
   ]
  },
  {
   "cell_type": "markdown",
   "metadata": {},
   "source": [
    "```{figure} pdf_tri2_area1.png\n",
    "---\n",
    "width: 100%\n",
    "alt: A line segment of from (x, y) = (-3, 0) to (x, y) = (1, 0.5). The area under the line segment from x = -3 to x = -1.5 is shaded blue.\n",
    "name: pdf_tri2_area1\n",
    "---\n",
    "A line segment of from $(x, y) = (-3, 0)$ to $(x, y) = (1, 0.5)$. The area of the shaded blue region is $P(X < -1.5)$.\n",
    "```"
   ]
  },
  {
   "cell_type": "markdown",
   "metadata": {},
   "source": [
    "This region has a triangular shape, so we can find the area using the formula for the area of a triangle. The length of the base of the triangle is $(-1.5) - (-3.0) = 1.5$. To find the height of the triangle, we can plug the $x$-value at which the triangle is highest, $x = -1.5$, into the probability density function:\n",
    "\n",
    "$$ y = \\frac{1}{8}(-1.5) + \\frac{3}{8} = 0.1875. $$\n",
    "\n",
    "So the height of the triangle is $0.1875$. Then the area of the triangle is\n",
    "\n",
    "$$ A = \\frac{1}{2} \\cdot \\text{Base} \\cdot \\text{Height} = \\frac{1}{2} \\cdot 1.5 \\cdot 0.1875 = 0.1406. $$\n",
    "\n",
    "That is, $P(X < -1.5) = 0.1406$.\n",
    "\n",
    "##### Part 2\n",
    "To find $P(X > -1.5)$, we need to calculate the area under the graph over the range where $x > 1.5$. (See {numref}`Figure {number} <pdf_tri2_area2>`.)"
   ]
  },
  {
   "cell_type": "code",
   "execution_count": 9,
   "metadata": {
    "tags": [
     "remove-cell"
    ]
   },
   "outputs": [
    {
     "data": {
      "text/html": [
       "<strong>png:</strong> 2"
      ],
      "text/latex": [
       "\\textbf{png:} 2"
      ],
      "text/markdown": [
       "**png:** 2"
      ],
      "text/plain": [
       "png \n",
       "  2 "
      ]
     },
     "metadata": {},
     "output_type": "display_data"
    }
   ],
   "source": [
    "png(\"pdf_tri2_area2.png\", width = 1000, height = 500)\n",
    "\n",
    "par(mar = c(2, 3, 3, 2))\n",
    "\n",
    "x = c(-3, 1)\n",
    "y = c(0, 0.5)\n",
    "\n",
    "plot(x, y, \n",
    "     type=\"l\", col=\"black\", \n",
    "     main=\"\", \n",
    "     cex.main = 2.5, cex.lab = 2.5, bty = \"n\",\n",
    "     xaxs = \"i\", xaxt = \"n\", xlim = c(-4, 2), xlab = \"\",\n",
    "     yaxs = \"i\",  yaxt = \"n\", ylim = c(0, 1), ylab = \"\")\n",
    "\n",
    "polyx = c(-3, x, 1)\n",
    "polyy = c(0, y, 0)\n",
    "polygon(polyx, polyy, col = \"gray90\", border = NA)\n",
    "\n",
    "polyx = c(-1.5, -1.5, 1, 1)\n",
    "polyy = c(0, 0.1875, 0.5, 0)\n",
    "polygon(polyx, polyy, col = \"lightsteelblue\")\n",
    "\n",
    "lines(x,  y)\n",
    "\n",
    "axis(1, pos=0, at = seq(-4, 2, 0.5), cex.axis = 2)\n",
    "axis(2, pos=0, at = seq(0, 1, 0.1), cex.axis = 2)\n",
    "\n",
    "text(2.03, 0, labels = \"x\", cex = 2.5, pos = 4, xpd = TRUE)\n",
    "text(0, 1.03, labels = \"y\", cex = 2.5, pos = 3, xpd = TRUE)\n",
    "\n",
    "dev.off()"
   ]
  },
  {
   "cell_type": "markdown",
   "metadata": {},
   "source": [
    "```{figure} pdf_tri2_area2.png\n",
    "---\n",
    "width: 100%\n",
    "alt: A line segment of from (x, y) = (-3, 0) to (x, y) = (1, 0.5). The area under the line segment from x = -1.5 to x = 1 is shaded blue.\n",
    "name: pdf_tri2_area2\n",
    "---\n",
    "A line segment of from $(x, y) = (-3, 0)$ to $(x, y) = (1, 0.5)$. The area of the shaded blue region is $P(X > -1.5)$.\n",
    "```"
   ]
  },
  {
   "cell_type": "markdown",
   "metadata": {},
   "source": [
    "This region has the shape of a trapezoid. The formula for calculating the area of a trapezoid isn't too hard, but you probably don't remember it. In this particular case, there is an easier way to calculate the area of the region. We just need to observe that the area over $x < -1.5$ and the area over $x > -1.5$ are complementary, since together they cover the total area under the probability density function. That means \n",
    "\n",
    "$$ P(X < -1.5) + P(X > -1.5) = 1. $$\n",
    "\n",
    "But we just found that $P(X < -1.5) = 0.1406$, meaning\n",
    "\n",
    "$$ P(X > -1.5) = 1 - P(X < -1.5) = 1 - 0.1406 = 0.8594. $$\n",
    "\n",
    "So $P(X > -1.5) = 0.8594$."
   ]
  }
 ],
 "metadata": {
  "kernelspec": {
   "display_name": "R",
   "language": "R",
   "name": "ir"
  },
  "language_info": {
   "codemirror_mode": "r",
   "file_extension": ".r",
   "mimetype": "text/x-r-source",
   "name": "R",
   "pygments_lexer": "r",
   "version": "4.2.3"
  }
 },
 "nbformat": 4,
 "nbformat_minor": 4
}