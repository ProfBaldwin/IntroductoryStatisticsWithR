{
 "cells": [
  {
   "cell_type": "markdown",
   "id": "d2bdba68-b895-43ad-af42-1bddca2b9ab9",
   "metadata": {},
   "source": [
    "# Properties of The Normal Distribution"
   ]
  },
  {
   "cell_type": "markdown",
   "id": "ab2a7676-4436-45dd-9766-1c70912714de",
   "metadata": {},
   "source": [
    "## Objectives\n",
    "- Recognize the structure of the normal distribution, including the roles of the mean and standard deviation.\n",
    "- Use the properties of the normal distribution, such as symmetry, to infer probability."
   ]
  },
  {
   "cell_type": "markdown",
   "id": "f4da9510-d406-4b67-866b-cbdc785be475",
   "metadata": {},
   "source": [
    "## The Normal Distribution"
   ]
  },
  {
   "cell_type": "code",
   "execution_count": 5,
   "id": "7890b197-d287-4761-9348-b54b601d54ab",
   "metadata": {
    "tags": [
     "remove-cell"
    ]
   },
   "outputs": [
    {
     "data": {
      "text/html": [
       "<strong>png:</strong> 2"
      ],
      "text/latex": [
       "\\textbf{png:} 2"
      ],
      "text/markdown": [
       "**png:** 2"
      ],
      "text/plain": [
       "png \n",
       "  2 "
      ]
     },
     "metadata": {},
     "output_type": "display_data"
    }
   ],
   "source": [
    "png(\"normal1.png\", width = 1000, height = 500)\n",
    "\n",
    "par(mar = c(0, 0, 0, 0))\n",
    "\n",
    "#library(repr)\n",
    "#options(repr.plot.width = 7, repr.plot.height=4)\n",
    "library(\"shape\")\n",
    "\n",
    "rangebrace = function(x0, x1, y, d, col){\n",
    "    Y = seq(y, y+d, length = 500)\n",
    "    Xl = (x1 - x0)/4 * ( (2/d)^(1/3) * sign(Y - (y + d/2))*abs(Y - (y + d/2))^(1/3) + 1 ) + (x0 + x1)/2\n",
    "    Xr = (x1 - x0)/4 * ( -(2/d)^(1/3) * sign(Y - (y + d/2))*abs(Y - (y + d/2))^(1/3) - 1 ) + (x0 + x1)/2\n",
    "    lines(Xl, Y, lwd = 3, col = col)\n",
    "    lines(Xr, Y, lwd = 3, col = col)\n",
    "    }\n",
    "\n",
    "z = seq(-3, 3, 0.01)\n",
    "y = dnorm(z)\n",
    "plot(z, y, type=\"l\", xlab = \"\", ylab = \"\", ylim = c(-0.11, max(y)), axes = FALSE, cex = 2)\n",
    "polyz = c(-3, seq(-3, 3, 0.01), 3)\n",
    "polyy = c(0, dnorm(seq(-3, 3, 0.01)), 0)\n",
    "polygon(polyz, polyy, col=\"gray90\", border=\"NA\")\n",
    "\n",
    "#xtail = c(-3, seq(-3, -1.5, 0.01), -1.5)\n",
    "#ytail = c(0, dnorm(seq(-3, -1.5, 0.01)), 0)\n",
    "#polygon(xtail, ytail, col = \"lightsteelblue\", border=\"NA\")\n",
    "#lines(c(-1.5, -1.5), c(0, dnorm(-1.5)), type = \"l\", cex = 2)\n",
    "\n",
    "#xtail = c(1.5, seq(1.5, 3, 0.01), 3)\n",
    "#ytail = c(0, dnorm(seq(1.5, 3, 0.01)), 0)\n",
    "#polygon(xtail, ytail, col = \"lightsteelblue\", border=\"NA\")\n",
    "#lines(c(1.5, 1.5), c(0, dnorm(1.5)), type = \"l\", cex = 2)\n",
    "\n",
    "lines(z, y, type=\"l\", cex = 2)\n",
    "axis(1, pos=0, at=c(-3, 0, 3), labels = c(\"\", \"μ\", \"\"), cex.axis = 2, lwd.ticks = 0)\n",
    "text(3, -0.01, labels = \"x\", cex = 2.5, pos = 4, xpd = TRUE)\n",
    "\n",
    "lines(c(0, 0), c(0, dnorm(0)), type = \"l\", cex = 2, lty=2)\n",
    "\n",
    "#Arrows(-2, 0.125, -2, 0.065, lwd = 3, arr.type = \"triangle\", arr.width = 0.3, col = \"blue3\")\n",
    "#text(-2, 0.125, labels = \"Lower Tail\\nor\\nLeft Tail\", cex = 2, col = \"blue3\", pos = 3)\n",
    "\n",
    "#Arrows(2, 0.125, 2, 0.065, lwd = 3, arr.type = \"triangle\", arr.width = 0.3, col = \"blue3\")\n",
    "#text(2, 0.125, labels = \"Upper Tail\\nor\\nRight Tail\", cex = 2, col = \"blue3\", pos = 3)\n",
    "\n",
    "rangebrace(-3, -1.5, -0.03, 0.02, col = \"blue3\")\n",
    "rangebrace(1.5, 3, -0.03, 0.02, col = \"blue3\")\n",
    "text(-2.25, -0.04, labels = \"Lower Tail\\nor\\nLeft Tail\", cex = 2, col = \"blue3\", pos = 1)\n",
    "text(2.25, -0.04, labels = \"Upper Tail\\nor\\nRight Tail\", cex = 2, col = \"blue3\", pos = 1)\n",
    "\n",
    "dev.off()"
   ]
  },
  {
   "cell_type": "markdown",
   "id": "2a2e5a57-9924-48a5-a436-5a8ca51fd80c",
   "metadata": {},
   "source": [
    "```{figure} normal1.png\n",
    "---\n",
    "width: 100%\n",
    "alt: The probability density function of a normal distribution. The mean, the left tail, and the right tail of the distribution are labeled.\n",
    "name: normal1\n",
    "---\n",
    "The probability density function of a normal distribution with mean $\\mu$. A normal distribution has two tails: the lower tail or left tail, and the upper tail or right tail. Also, note that a normal distribution is symmetric about the mean: the vertical line through $\\mu$ acts like a mirror.\n",
    "```"
   ]
  },
  {
   "cell_type": "markdown",
   "id": "698adf82-67a5-47ab-a9e3-52e560a51be0",
   "metadata": {},
   "source": [
    "The **normal distribution** is a continuous probability distribution, and it is the most important of all probability distributions. The graph of its probability density function is a classic bell-shaped curve with its mean at the center. Many real-world variables have bell-shaped distributions, such as birth weight, IQ score, annual income, and real estate prices. Because the bell-shaped curve is so prevalent, the normal distribution is used in almost all disciplines, including psychology, business, economics, the sciences, nursing, and mathematics.\n",
    "\n",
    "The shape of a normal distribution means values tend to cluster around the mean of the distribution. The closer a value is to the mean, the more likely it is to happen. The farther a value is from the mean, the less likely it is to happen.\n",
    "\n",
    "The two narrow ends of a normal distribution called the two **tails** of the distribution. Values much smaller than the mean are in the **lower tail** or **left tail** of the distribution. Values much larger than the mean are in the **upper tail** or **right tail** of the distribution.\n",
    "\n",
    "A normal distribution can be described using two parameters: the distribution's mean, $\\mu$, and its standard deviation, $\\sigma$. If a random variable $X$ is normally distributed with mean $\\mu$ and standard deviation $\\sigma$, we write\n",
    "\n",
    "$$ X \\sim N(\\mu, \\sigma). $$\n",
    "\n",
    "The position and shape of a normal distribution depends only on its mean and standard deviation. The position of a normal distribution depends on the value of its mean, $\\mu$. The peak of the distribution is always directly over its mean on the horizontal axis. (See {numref}`Figure {number} <normals_diff_means>`.) The shape of a normal distribution depends on the value of its standard deviation, $\\sigma$. A normal distribution with a larger standard deviation will be more spread out with a shorter peak. A normal distribution with a smaller standard deviation will be more squished together with a taller peak. (See {numref}`Figure {number} <normals_diff_sd>`.)\n",
    "\n",
    "A normal distribution is symmetric about its mean, $\\mu$, so the vertical line through the mean acts like a mirror. For example, if we know the probability in a section in the lower tail of a normal distribution, the mirror section in the upper tail of the distribution will have the same probability."
   ]
  },
  {
   "cell_type": "code",
   "execution_count": 2,
   "id": "b4c0bd33-e032-40c2-92db-21872c01648c",
   "metadata": {
    "tags": [
     "remove-cell"
    ]
   },
   "outputs": [
    {
     "data": {
      "text/html": [
       "<strong>png:</strong> 2"
      ],
      "text/latex": [
       "\\textbf{png:} 2"
      ],
      "text/markdown": [
       "**png:** 2"
      ],
      "text/plain": [
       "png \n",
       "  2 "
      ]
     },
     "metadata": {},
     "output_type": "display_data"
    }
   ],
   "source": [
    "png(\"normals_diff_means.png\", width = 1000, height = 750)\n",
    "\n",
    "#par(mar = c(2, 0, 0, 0))\n",
    "par(mfrow = c(3, 1), mar = c(2, 0, 0, 0), mgp = c(3, 2, 0))\n",
    "\n",
    "x = seq(-5, 5, 0.01)\n",
    "y1 = dnorm(x, mean = -2, sd = 1)\n",
    "y2 = dnorm(x, mean = 0, sd = 1)\n",
    "y3 = dnorm(x, mean = 1, sd = 1)\n",
    "\n",
    "#plot(x, y1, type=\"l\", xlab = \"\", ylab = \"\", axes = FALSE)#, ylim = c(0, dnorm(0, mean = 0, sd = 0.5)))\n",
    "\n",
    "#color1 = \"#173f5f\"\n",
    "#color2 = \"#98dbd5\"\n",
    "#color3 = \"#ee5c42\"\n",
    "#width = 15\n",
    "\n",
    "polyx = c(-5, x, 5)\n",
    "polyy1 = c(0, y1, 0)\n",
    "polyy2 = c(0, y2, 0)\n",
    "polyy3 = c(0, y3, 0)\n",
    "\n",
    "#lines(x, y1, type=\"l\", cex = 4, lwd = width, col = \"black\")\n",
    "#lines(x, y1, type=\"l\", cex = 4, lwd = width - 3, col = color1)\n",
    "#lines(x, y2, type=\"l\", cex = 4, lwd = width, col = \"black\")\n",
    "#lines(x, y2, type=\"l\", cex = 4, lwd = width - 3, col = color2)\n",
    "#lines(x, y3, type=\"l\", cex = 4, lwd = width, col = \"black\")\n",
    "#lines(x, y3, type=\"l\", cex = 4, lwd = width - 3, col = color3)\n",
    "\n",
    "\n",
    "\n",
    "#legend(x = 3, y = dnorm(0, mean = 0, sd = 1), legend = c(\"μ = -2\", \"μ = 0\", \"μ = 1\"), fill = c(color1, color2, color3), cex = 2)#, lty = c(1, 1, 1), lwd = 10)\n",
    "\n",
    "#axis(1, pos=-0.0112, at=-5:5, lwd.ticks = 0, cex.axis = 2)\n",
    "\n",
    "M = dnorm(0, sd = 0.5)\n",
    "\n",
    "plot(x, y1, type=\"l\", xlab = \"\", ylab = \"\", ylim = c(0, M), axes = FALSE, cex = 2, cex.lab = 2)\n",
    "polygon(polyx, polyy1, col = \"gray90\", border = \"NA\")\n",
    "text(-2, dnorm(0), labels = \"μ = -2\", cex = 3, pos = 3)\n",
    "axis(1, pos=0, at=-5:5, lwd.ticks = 0, cex.axis = 3)\n",
    "lines(c(-2, -2), c(0, dnorm(0)), type = \"l\", lty = 2)\n",
    "lines(x, y1, type=\"l\")\n",
    "\n",
    "plot(x, y2, type=\"l\", xlab = \"\", ylab = \"\", ylim = c(0, M), axes = FALSE, cex = 2, cex.lab = 2)\n",
    "polygon(polyx, polyy2, col = \"gray90\", border = \"NA\")\n",
    "text(0, dnorm(0), labels = \"μ = 0\", cex = 3, pos = 3)\n",
    "axis(1, pos=0, at=-5:5, lwd.ticks = 0, cex.axis = 3)\n",
    "lines(c(0, 0), c(0, dnorm(0)), type = \"l\", lty = 2)\n",
    "lines(x, y2, type=\"l\")\n",
    "\n",
    "plot(x, y3, type=\"l\", xlab = \"\", ylab = \"\", ylim = c(0, M), axes = FALSE, cex = 2, cex.lab = 2)\n",
    "polygon(polyx, polyy3, col = \"gray90\", border = \"NA\")\n",
    "text(1, dnorm(0), labels = \"μ = 1\", cex = 3, pos = 3)\n",
    "axis(1, pos=0, at=-5:5, lwd.ticks = 0, cex.axis = 3)\n",
    "lines(c(1, 1), c(0, dnorm(0)), type = \"l\", lty = 2)\n",
    "lines(x, y3, type=\"l\")\n",
    "\n",
    "dev.off()"
   ]
  },
  {
   "cell_type": "markdown",
   "id": "32fb5e3d-6d91-41f7-9acf-e8b99d5555ba",
   "metadata": {
    "tags": []
   },
   "source": [
    "```{figure} normals_diff_means.png\n",
    "---\n",
    "width: 100%\n",
    "alt: The graphs of three different normal distributions. Each of the distributions have different means, but they have the same standard deviation.\n",
    "name: normals_diff_means\n",
    "---\n",
    "The graphs of three different normal distributions. Each of the distributions have different means, but they have the same standard deviation. The peak of a normal distribution is always positioned above the distribution mean, so normal distributions with different means will have different positions.\n",
    "```"
   ]
  },
  {
   "cell_type": "code",
   "execution_count": 1,
   "id": "067d4847-2e64-4f0d-aad6-183a193e66d3",
   "metadata": {
    "tags": [
     "remove-cell"
    ]
   },
   "outputs": [
    {
     "data": {
      "text/html": [
       "<strong>png:</strong> 2"
      ],
      "text/latex": [
       "\\textbf{png:} 2"
      ],
      "text/markdown": [
       "**png:** 2"
      ],
      "text/plain": [
       "png \n",
       "  2 "
      ]
     },
     "metadata": {},
     "output_type": "display_data"
    }
   ],
   "source": [
    "png(\"normals_diff_sd.png\", width = 1000, height = 750)\n",
    "\n",
    "#par(mar = c(2, 0, 0, 0))\n",
    "par(mfrow = c(3, 1), mar = c(2, 0, 0, 0), mgp = c(3, 2, 0))\n",
    "\n",
    "x = seq(-5, 5, 0.01)\n",
    "y1 = dnorm(x, mean = 0, sd = 0.5)\n",
    "y2 = dnorm(x, mean = 0, sd = 1)\n",
    "y3 = dnorm(x, mean = 0, sd = 2)\n",
    "\n",
    "#plot(x, y1, type=\"l\", xlab = \"\", ylab = \"\", axes = FALSE, cex = 2, lwd = 5, col = \"#173f5f00\")\n",
    "\n",
    "#color1 = \"#173f5f\"\n",
    "#color2 = \"#98dbd5\"\n",
    "#color3 = \"#ee5c42\"\n",
    "#width = 15\n",
    "\n",
    "polyx = c(-5, x, 5)\n",
    "polyy1 = c(0, y1, 0)\n",
    "polyy2 = c(0, y2, 0)\n",
    "polyy3 = c(0, y3, 0)\n",
    "#polygon(polyx, polyy1, col=\"#0072b233\", border=\"NA\")\n",
    "#polygon(polyx, polyy2, col=\"#d55e0044\", border=\"NA\")\n",
    "#polygon(polyx, polyy3, col=\"#009e7333\", border=\"NA\")\n",
    "\n",
    "#lines(x, y1, type=\"l\", cex = 4, lwd = width, col = \"black\")\n",
    "#lines(x, y1, type=\"l\", cex = 4, lwd = width - 3, col = color1)\n",
    "#lines(x, y2, type=\"l\", cex = 4, lwd = width, col = \"black\")\n",
    "#lines(x, y2, type=\"l\", cex = 4, lwd = width - 3, col = color2)\n",
    "#lines(x, y3, type=\"l\", cex = 4, lwd = width, col = \"black\")\n",
    "#lines(x, y3, type=\"l\", cex = 4, lwd = width - 3, col = color3)\n",
    "\n",
    "#legend(x = 3, y = dnorm(0, mean = 0, sd = 0.5), legend = c(\"σ = 0.5\", \"σ = 1\", \"σ = 2\"), fill = c(color1, color2, color3), cex = 2)#, lty = c(1, 1, 1), lwd = 10)\n",
    "\n",
    "#axis(1, pos=-0.0112, at=-5:5, lwd.ticks = 0, cex.axis = 2)\n",
    "\n",
    "M = max(c(max(y1), max(y2), max(y3)))\n",
    "\n",
    "plot(x, y1, type=\"l\", xlab = \"\", ylab = \"\", ylim = c(0, M+0.06), axes = FALSE, cex = 2, cex.lab = 2)\n",
    "polygon(polyx, polyy1, col = \"gray90\", border = \"NA\")\n",
    "text(0, dnorm(0, sd = 0.5), labels = \"σ = 0.5\", cex = 3, pos = 3)\n",
    "axis(1, pos=0, at=-5:5, lwd.ticks = 0, cex.axis = 3)\n",
    "lines(c(0, 0), c(0, dnorm(0, sd = 0.5)), type = \"l\", lty = 2)\n",
    "lines(x, y1, type=\"l\")\n",
    "\n",
    "plot(x, y2, type=\"l\", xlab = \"\", ylab = \"\", ylim = c(0, M), axes = FALSE, cex = 2, cex.lab = 2)\n",
    "polygon(polyx, polyy2, col = \"gray90\", border = \"NA\")\n",
    "text(0, dnorm(0), labels = \"σ = 1\", cex = 3, pos = 3)\n",
    "axis(1, pos=0, at=-5:5, lwd.ticks = 0, cex.axis = 3)\n",
    "lines(c(0, 0), c(0, dnorm(0)), type = \"l\", lty = 2)\n",
    "lines(x, y2, type=\"l\")\n",
    "\n",
    "plot(x, y3, type=\"l\", xlab = \"\", ylab = \"\", ylim = c(0, M), axes = FALSE, cex = 2, cex.lab = 2)\n",
    "polygon(polyx, polyy3, col = \"gray90\", border = \"NA\")\n",
    "text(0, dnorm(0, sd = 2), labels = \"σ = 2\", cex = 3, pos = 3)\n",
    "axis(1, pos=0, at=-5:5, lwd.ticks = 0, cex.axis = 3)\n",
    "lines(c(0, 0), c(0, dnorm(0, sd = 2)), type = \"l\", lty = 2)\n",
    "lines(x, y3, type=\"l\")\n",
    "\n",
    "dev.off()"
   ]
  },
  {
   "cell_type": "markdown",
   "id": "47857368-2b5d-4204-ada2-514d736ecaff",
   "metadata": {},
   "source": [
    "```{figure} normals_diff_sd.png\n",
    "---\n",
    "width: 100%\n",
    "alt: The graphs of three different normal distributions. Each of the distributions has the same mean, but they have different standard deviations.\n",
    "name: normals_diff_sd\n",
    "---\n",
    "The graphs of three different normal distributions. Each of the distributions has the same mean, but they have different standard deviations. A normal distribution with a larger standard deviation is more spread out with a shorter peak. A normal distribution with a smaller standard deviation is more squished together with a taller peak.\n",
    "```"
   ]
  },
  {
   "cell_type": "markdown",
   "id": "8d95ea20-4288-415e-80e8-51f63c32aca4",
   "metadata": {},
   "source": [
    "***"
   ]
  },
  {
   "cell_type": "markdown",
   "id": "1e133852-7a42-43e1-afe2-c2a0dbd1f601",
   "metadata": {},
   "source": [
    "### Example 4.1.1\n",
    "Kelsey tells you that $P(X > 3.5) = 0.691$ for some normally distributed random variable $X$. Can you find $P(X < 3.5)$?\n",
    "\n",
    "#### Solution"
   ]
  },
  {
   "cell_type": "code",
   "execution_count": 187,
   "id": "e9a71d2f-3590-4229-9c40-40bba40c67e5",
   "metadata": {
    "tags": [
     "remove-cell"
    ]
   },
   "outputs": [
    {
     "data": {
      "text/html": [
       "<strong>png:</strong> 2"
      ],
      "text/latex": [
       "\\textbf{png:} 2"
      ],
      "text/markdown": [
       "**png:** 2"
      ],
      "text/plain": [
       "png \n",
       "  2 "
      ]
     },
     "metadata": {},
     "output_type": "display_data"
    }
   ],
   "source": [
    "png(\"normal_ex1.png\", width = 1000, height = 500)\n",
    "\n",
    "par(mar = c(2, 0, 0, 0))\n",
    "\n",
    "#library(repr)\n",
    "#options(repr.plot.width = 7, repr.plot.height=4)\n",
    "library(\"shape\")\n",
    "\n",
    "sd = 1\n",
    "lim = 3\n",
    "z = seq(-lim, lim, 0.01)\n",
    "y = dnorm(z, 0, sd)\n",
    "plot(z, y, type=\"l\", xlab = \"\", ylab = \"\", axes = FALSE, cex = 2)\n",
    "polyz = c(-lim, seq(-lim, lim, 0.01), lim)\n",
    "polyy = c(0, dnorm(seq(-lim, lim, 0.01), 0, sd), 0)\n",
    "polygon(polyz, polyy, col=\"lightpink3\", border=\"NA\")\n",
    "\n",
    "x = -0.5\n",
    "xtail = c(-lim, seq(-lim, x, 0.01), x)\n",
    "ytail = c(0, dnorm(seq(-lim, x, 0.01), 0, sd), 0)\n",
    "polygon(xtail, ytail, col = \"lightsteelblue\", border=\"NA\")\n",
    "lines(c(x, x), c(0, dnorm(x, 0, sd)), type = \"l\", cex = 2)\n",
    "\n",
    "lines(z, y, type=\"l\", cex = 2)\n",
    "axis(1, pos=0, at=c(-lim, x, 0, lim), labels = c(\"\", 3.5, \"μ\", \"\"), cex.axis = 2, lwd.ticks = 0)\n",
    "text(lim, -0.01, labels = \"x\", cex = 2.5, pos = 4, xpd = TRUE)\n",
    "\n",
    "#lines(c(0, 0), c(0, dnorm(0, 0, sd)), type = \"l\", cex = 2)\n",
    "\n",
    "#Arrows(-2, 0.125, -2, 0.065, lwd = 3, arr.type = \"triangle\", arr.width = 0.3, col = \"blue3\")\n",
    "#text(-2, 0.125, labels = \"P(X > 3.5)\", cex = 2, col = \"blue3\", pos = 3)\n",
    "\n",
    "#Arrows(2, 0.125, 2, 0.065, lwd = 3, arr.type = \"triangle\", arr.width = 0.3, col = \"blue3\")\n",
    "#text(2, 0.125, labels = \"P(X < 3.5)\", cex = 2, col = \"blue3\", pos = 3)\n",
    "\n",
    "text(-1.2, 0.04, labels = expression(P(X < 3.5)), cex = 2, col = \"blue3\", pos = 3)\n",
    "text(0.7, 0.04, labels = expression(P(X > 3.5)), cex = 2, col = \"blue3\", pos = 3)\n",
    "\n",
    "\n",
    "dev.off()"
   ]
  },
  {
   "cell_type": "markdown",
   "id": "b93c2796-b530-4946-a836-929c221d95ea",
   "metadata": {},
   "source": [
    "```{figure} normal_ex1.png\n",
    "---\n",
    "width: 100%\n",
    "alt: The graph of a normal distribution split into two regions. The region left of x = 3.5 is labeled P(X < 3.5). The region right of x = 3.5 is labeled P(X > 3.5).\n",
    "name: normal_ex1\n",
    "---\n",
    "This graph of a normal distribution illustrates how the graph of the distribution of $X$ might look. The area of the region under the curve to the right of $x = 3.5$ is equal to $P(X > 3.5)$. The area of the region to the left of $x = 3.5$ is equal to $P(X < 3.5)$. In particular, note that the regions corresponding to $P(X < 3.5)$ and $P(X > 3.5)$ together account for the entire area under the curve. Since the entire area under the curve is equal to $1$, this means $P(X < 3.5) + P(X > 3.5) = 1$.\n",
    "```"
   ]
  },
  {
   "cell_type": "markdown",
   "id": "7c86f009-4914-4707-ba85-d51798296bba",
   "metadata": {},
   "source": [
    "Kelsey has left out some pretty important information. Kelsey told us $X$ has a normal distribution, but she didn't say what the mean or the standard deviation of the distribution is, which means we don't know the position or exact shape of the distribution.\n",
    "\n",
    "In this case, though, we have all the information we need to find $P(X < 3.5)$. A normal distribution is a kind of continuous probability distribution, so the total area under the curve of the distribution is $1$. This means\n",
    "\n",
    "$$ P(X < 3.5) + P(X > 3.5) = 1. $$\n",
    "\n",
    "Since we know $P(X > 3.5) = 0.691$, we calculate\n",
    "\n",
    "$$ P(X < 3.5) = 1 - P(X > 3.5) = 1 - 0.691 = 0.309. $$"
   ]
  },
  {
   "cell_type": "markdown",
   "id": "5d7fd1f7-8cc6-47f0-bf46-797b289e54ff",
   "metadata": {},
   "source": [
    "***"
   ]
  },
  {
   "cell_type": "markdown",
   "id": "c7e9b1f5-2646-4df3-b179-ede0e567f1ae",
   "metadata": {},
   "source": [
    "### Example 4.1.2\n",
    "Suppose $X$ is a normally distributed random variable with mean $\\mu = -2$. If $P(X < -5) = 0.274$, what is $P(X > 1)$?\n",
    "\n",
    "#### Solution"
   ]
  },
  {
   "cell_type": "code",
   "execution_count": 6,
   "id": "cc573b65-8b59-47b8-8c48-951362e7cd44",
   "metadata": {
    "tags": [
     "remove-cell"
    ]
   },
   "outputs": [
    {
     "data": {
      "text/html": [
       "<strong>png:</strong> 2"
      ],
      "text/latex": [
       "\\textbf{png:} 2"
      ],
      "text/markdown": [
       "**png:** 2"
      ],
      "text/plain": [
       "png \n",
       "  2 "
      ]
     },
     "metadata": {},
     "output_type": "display_data"
    }
   ],
   "source": [
    "png(\"normal_ex2.png\", width = 1000, height = 500)\n",
    "\n",
    "par(mar = c(0, 0, 0, 0))\n",
    "\n",
    "#library(repr)\n",
    "#options(repr.plot.width = 7, repr.plot.height=4)\n",
    "library(\"shape\")\n",
    "\n",
    "rangebar = function(x0, x1, y, d, col){   \n",
    "    segments(x0, y-d, x0, y+d, lwd = 3, col = col)\n",
    "    segments(x0, y, x1, y, lwd = 3, col = col)\n",
    "    segments(x1, y-d, x1, y+d, lwd = 3, col = col)\n",
    "}\n",
    "\n",
    "z = seq(-3, 3, 0.01)\n",
    "y = dnorm(z)\n",
    "plot(z, y, type=\"l\", xlab = \"\", ylab = \"\", ylim = c(-0.07, max(y)), axes = FALSE, cex = 2)\n",
    "polyz = c(-3, seq(-3, 3, 0.01), 3)\n",
    "polyy = c(0, dnorm(seq(-3, 3, 0.01)), 0)\n",
    "polygon(polyz, polyy, col=\"gray90\", border=\"NA\")\n",
    "\n",
    "xtail = c(-3, seq(-3, -1, 0.01), -1)\n",
    "ytail = c(0, dnorm(seq(-3, -1, 0.01)), 0)\n",
    "polygon(xtail, ytail, col = \"lightpink3\", border=\"NA\")\n",
    "lines(c(-1, -1), c(0, dnorm(-1)), type = \"l\", cex = 2)\n",
    "\n",
    "xtail = c(1, seq(1, 3, 0.01), 3)\n",
    "ytail = c(0, dnorm(seq(1, 3, 0.01)), 0)\n",
    "polygon(xtail, ytail, col = \"lightsteelblue\", border=\"NA\")\n",
    "lines(c(1, 1), c(0, dnorm(1)), type = \"l\", cex = 2)\n",
    "\n",
    "lines(z, y, type=\"l\", cex = 2)\n",
    "axis(1, pos=0, at=c(-3, -1, 0, 1, 3), labels = c(\"\", -5, -2, 1, \"\"), lwd.ticks = 0, cex.axis = 2)\n",
    "text(3, -0.01, labels = \"x\", cex = 2.5, pos = 4, xpd = TRUE)\n",
    "\n",
    "lines(c(0, 0), c(0, dnorm(0)), type = \"l\", cex = 2, lty=2)\n",
    "\n",
    "#Arrows(-2.5, 0.1, -2.5, 0.015, lwd = 3, arr.type = \"triangle\", arr.width = 0.3, col = \"blue3\")\n",
    "text(-1.4, 0.05, labels = expression(P(X < -5)), cex = 2, col = \"blue3\", pos = 3)\n",
    "#Arrows(2.5, 0.1, 2.5, 0.015, lwd = 3, arr.type = \"triangle\", arr.width = 0.3, col = \"blue3\")\n",
    "text(1.4, 0.05, labels = expression(P(X > 1)), cex = 2, col = \"blue3\", pos = 3)\n",
    "\n",
    "eps = 0.015\n",
    "rangebar(x0 = -1, x1 = 0 - eps, y = -0.055, d = 0.015, col = \"red3\")\n",
    "rangebar(x0 = -0 + eps, x1 = 1, y = -0.055, d = 0.015, col = \"red3\")\n",
    "text(-0.5, -0.06, labels = \"3 units\", cex = 2, col = \"red3\", pos = 1)\n",
    "text(0.5, -0.06, labels = \"3 units\", cex = 2, col = \"red3\", pos = 1)\n",
    "\n",
    "dev.off()"
   ]
  },
  {
   "cell_type": "markdown",
   "id": "0dca08ff-ce95-48b6-8218-adb144bb5473",
   "metadata": {},
   "source": [
    "```{figure} normal_ex2.png\n",
    "---\n",
    "width: 100%\n",
    "alt: The graph of a normal distribution with x = -5, x = -2, and x = 1 labeled on the horizontal axis. The region left of x = -5 is shaded and labeled P(X < -5). The region right of x = 1 is shaded and labeled P(X > 1). The boundaries of both shaded regions are 3 units away from the center of the distribution at x = -2.\n",
    "name: normal_ex2\n",
    "---\n",
    "This graph of a normal distribution illustrates how the graph of the distribution of $X$ might look. The area of the shaded region to the left of $x = -5$ is equal to $P(X < -5)$. The area of the shaded region to the right of $x = 1$ is equal to $P(X > 1)$. Note that the boundaries of both shaded regions are the same distance away from the mean at $\\mu = -2$. Because a normal distribution is symmetric about the mean, these two regions are mirror images of each other, so they have equal areas.\n",
    "```"
   ]
  },
  {
   "cell_type": "markdown",
   "id": "b12a6d88-a80e-44e3-9705-d00a85e549ce",
   "metadata": {},
   "source": [
    "We don't have all the information we need to fully characterize this normal distribution. We know that the mean is $\\mu = -2$, but we don't know the standard deviation.\n",
    "\n",
    "But, if we're a little clever, we can still find $P(X > 1)$. First, recall how we can represent $P(X < -5)$ and $P(X > 1)$ graphically: if we consider the curve of this normal distribution, $P(X < -5)$ is equal to the area of the region under the curve and to the left of $x = -5$, and $P(X > 1)$ is equal to the area of the region under the curve and to the right of $x = 1$. (See {numref}`Figure {number} <normal_ex2>`.)  Now note that $x = -5$ and $x = 1$ are both a distance of $3$ units away from the mean $\\mu = -2$, so both regions are the same distance from the mean. Since the normal distribution is symmetric about the mean, the region corresponding to $P(X > 1)$ is the mirror image to the region corresponding to $P(X < -5)$, so the two regions have equal areas. Since probability equals area, it must be that\n",
    "\n",
    "$$ P(X < -5) = P(X > 1). $$\n",
    "\n",
    "Since $P(X < -5) = 0.274$, it follows that $P(X > -1) = 0.274$, also."
   ]
  },
  {
   "cell_type": "markdown",
   "id": "993357d1-90e4-4251-a49a-aed90aeab22c",
   "metadata": {},
   "source": [
    "***"
   ]
  },
  {
   "cell_type": "markdown",
   "id": "fafaeb82-0a5d-4f47-ad7e-2c57d36471be",
   "metadata": {},
   "source": [
    "### Example 4.1.3\n",
    "{numref}`Figure {number} <normal_ex3>` shows the graphs of two different normal distributions, labeled $A$ and $B$. Which distribution has the greater mean? Which distribution has the greater standard deviation?"
   ]
  },
  {
   "cell_type": "code",
   "execution_count": 3,
   "id": "b710eee0-024b-49dd-9699-2ff2788abb46",
   "metadata": {
    "tags": [
     "remove-cell"
    ]
   },
   "outputs": [
    {
     "data": {
      "text/html": [
       "<strong>png:</strong> 2"
      ],
      "text/latex": [
       "\\textbf{png:} 2"
      ],
      "text/markdown": [
       "**png:** 2"
      ],
      "text/plain": [
       "png \n",
       "  2 "
      ]
     },
     "metadata": {},
     "output_type": "display_data"
    }
   ],
   "source": [
    "png(\"normal_ex3.png\", width = 1000, height = 500)\n",
    "\n",
    "par(mfrow = c(2, 1), mar = c(2, 2, 0, 0), font = 2)\n",
    "\n",
    "m = c(1.7, 0.3)\n",
    "s = c(0.6, 1.2)\n",
    "d = 4\n",
    "a = mean(m) + c(-d, d)\n",
    "\n",
    "x = seq(a[1], a[2], 0.01)\n",
    "y1 = dnorm(x, mean = m[1], sd = s[1])\n",
    "y2 = dnorm(x, mean = m[2], sd = s[2])\n",
    "y3 = dnorm(x, mean = m[1], sd = s[2])\n",
    "\n",
    "polyx = c(a[1], x, a[2])\n",
    "polyy1 = c(0, y1, 0)\n",
    "polyy2 = c(0, y2, 0)\n",
    "polyy3 = c(0, y3, 0)\n",
    "\n",
    "M = max(c(max(y1), max(y2), max(y3)))\n",
    "\n",
    "plot(x, y1, type=\"l\", xlab = \"\", ylab = \"\", ylim = c(0, M), axes = FALSE, cex = 2, cex.lab = 2)\n",
    "polygon(polyx, polyy1, col = \"gray90\", border = \"NA\")\n",
    "mtext(\"A\", side = 2, las = 1, cex = 2)\n",
    "axis(1, pos=0, at=a[1]:a[2], cex.axis = 2, lwd.ticks = 0)\n",
    "lines(c(m[1], m[1]), c(0, dnorm(m[1], mean = m[1], sd = s[1])), type = \"l\", lty = 2)\n",
    "lines(x, y1, type=\"l\")\n",
    "\n",
    "plot(x, y2, type=\"l\", xlab = \"\", ylab = \"\", ylim = c(0, M), axes = FALSE, cex = 2, cex.lab = 2)\n",
    "polygon(polyx, polyy2, col = \"gray90\", border = \"NA\")\n",
    "mtext(\"B\", side = 2, las = 1, cex = 2)\n",
    "axis(1, pos=0, at=a[1]:a[2], cex.axis = 2, lwd.ticks = 0)\n",
    "lines(c(m[2], m[2]), c(0, dnorm(m[2], mean = m[2], sd = s[2])), type = \"l\", lty = 2)\n",
    "lines(x, y2, type=\"l\")\n",
    "\n",
    "#plot(x, y3, type=\"l\", xlab = \"\", ylab = \"\", ylim = c(0, M), axes = FALSE, cex = 2, cex.lab = 2)\n",
    "#polygon(polyx, polyy3, col = \"gray90\", border = \"NA\")\n",
    "#mtext(\"C\", side = 2, las = 1, cex = 2)\n",
    "#axis(1, pos=0, at=a[1]:a[2], cex.axis = 2)\n",
    "#lines(c(m[1], m[1]), c(0, dnorm(m[1], mean = m[1], sd = s[2])), type = \"l\")\n",
    "#lines(x, y3, type=\"l\")\n",
    "\n",
    "dev.off()"
   ]
  },
  {
   "cell_type": "markdown",
   "id": "d4c05468-26cc-4168-99af-a421ecbdbdf2",
   "metadata": {},
   "source": [
    "```{figure} normal_ex3.png\n",
    "---\n",
    "width: 100%\n",
    "alt: The graphs of two normal distributions, labeled A and B. Normal distribution A is thinner with a higher peak. The horizontal position of the tip of the peak is between x = 1 and x = 2. Normal distribution B is more spread out with a shorter peak. The horizontal position of the tip of peak B is between x = 0 and x = 1.\n",
    "name: normal_ex3\n",
    "---\n",
    "Two normal distributions, labeled A and B, with different means and standard deviations.\n",
    "```"
   ]
  },
  {
   "cell_type": "markdown",
   "id": "ca82607d-5f3b-4ba4-811b-6f8399b119a9",
   "metadata": {},
   "source": [
    "#### Solution\n",
    "The mean of a normal distribution tells us the position of the distribution. The tip of the peak of a normal distribution is always directly over the mean. With this in mind, we can see that the mean of distribution $A$ is between $1$ and $2$, while the mean of distribution $B$ is between $0$ and $1$. So distribution $A$ has a greater mean than distribution $B$.\n",
    "\n",
    "The standard deviation of a normal distribution determines the shape of the distribution. It tells us how spread out a distribution is. In this case, distribution $B$ is more spread out than distribution $A$. This means distribution $B$ has a greater standard deviation than distribution $A$."
   ]
  }
 ],
 "metadata": {
  "kernelspec": {
   "display_name": "R",
   "language": "R",
   "name": "ir"
  },
  "language_info": {
   "codemirror_mode": "r",
   "file_extension": ".r",
   "mimetype": "text/x-r-source",
   "name": "R",
   "pygments_lexer": "r",
   "version": "4.2.3"
  }
 },
 "nbformat": 4,
 "nbformat_minor": 5
}
