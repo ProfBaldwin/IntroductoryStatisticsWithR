{
 "cells": [
  {
   "cell_type": "markdown",
   "metadata": {},
   "source": [
    "# Hypothesis Testing Two Population Variances"
   ]
  },
  {
   "cell_type": "markdown",
   "metadata": {},
   "source": [
    "## Objectives\n",
    "- Calculate probabilities using the $F$-distribution.\n",
    "- Conduct hypothesis tests comparing the variances of two populations."
   ]
  },
  {
   "cell_type": "markdown",
   "metadata": {},
   "source": [
    "## The $F$-Distribution"
   ]
  },
  {
   "cell_type": "markdown",
   "metadata": {},
   "source": [
    "We can compare two independent $\\chi^2$-distributed random variables by considering a fraction involving the two random variables. This fraction is a new random variable, and we say that it has an $F$-distribution. The shape of an $F$-distribution is determined by the degrees of freedom of the $\\chi^2$-distribution of the numerator $df_1$ and the degrees of freedom of the $\\chi^2$-distribution of the denominator $df_2$."
   ]
  },
  {
   "cell_type": "code",
   "execution_count": 44,
   "metadata": {
    "tags": [
     "remove-cell"
    ]
   },
   "outputs": [
    {
     "data": {
      "text/html": [
       "<strong>png:</strong> 2"
      ],
      "text/latex": [
       "\\textbf{png:} 2"
      ],
      "text/markdown": [
       "**png:** 2"
      ],
      "text/plain": [
       "png \n",
       "  2 "
      ]
     },
     "metadata": {},
     "output_type": "display_data"
    }
   ],
   "source": [
    "png(\"f_dist.png\", width = 1000, height = 750)\n",
    "\n",
    "row = 4\n",
    "col = 2\n",
    "par(mfrow = c(row, col), mar = c(3, 0, 0, 0), mgp = c(3, 2, 0))\n",
    "\n",
    "\n",
    "x = seq(0, 3, 0.01)\n",
    "df1 = c(1, 5, 1, 5, 2, 10, 10, 100)\n",
    "df2 = c(1, 5, 5, 1, 10, 2, 10, 100)\n",
    "M = 3\n",
    "\n",
    "for (i in 1:row) {\n",
    "    for (j in 1:col) {\n",
    "    \n",
    "        idx = (i - 1)*col + j\n",
    "        y = df(x, df1[idx], df2[idx])\n",
    "        plot(x, y, type = \"l\", xlab = \"\", ylab = \"\", ylim = c(0, M), axes = FALSE, cex = 2, cex.lab = 2)\n",
    "\n",
    "        polyx = c(0, x, 3, 0)\n",
    "        polyy = c(0, y, 0, 0)\n",
    "        polygon(polyx, polyy, col = \"gray90\", border = \"NA\")\n",
    "        axis(1, pos = 0, at = 0:3, lwd.ticks = 0, cex.axis = 3)\n",
    "        \n",
    "        lines(x, y, type=\"l\")\n",
    "        \n",
    "        lines(c(0, 0), c(0, min(c(y[1], M+1))))\n",
    "        \n",
    "        dftxt = as.expression(bquote(\"df\"[1]*\"=\"*.(df1[idx])*\", df\"[2]*\"=\"*.(df2[idx])))\n",
    "        text(2, 1, labels = dftxt, cex = 3)\n",
    "    }\n",
    "}\n",
    "    \n",
    "\n",
    "dev.off()"
   ]
  },
  {
   "cell_type": "markdown",
   "metadata": {},
   "source": [
    "```{figure} f_dist.png\n",
    "---\n",
    "width: 100%\n",
    "alt: The plots of F-distributions with different values for df1 and df2.\n",
    "name: f_dist\n",
    "---\n",
    "The plots of $F$-distributions with various values for $df_1$ and $df_2$.\n",
    "```"
   ]
  },
  {
   "cell_type": "markdown",
   "metadata": {},
   "source": [
    "To find the probability to the left of a value when using the $F$-distribution, we will use the R function\n",
    "\n",
    "```R\n",
    "pf(q, df1, df2)\n",
    "```\n",
    "\n",
    "where we want the probability to the left of <code>q</code>, the numerator degrees of freedom is <code>df1</code>, and the denominator degrees of freedom is <code>df2</code>."
   ]
  },
  {
   "cell_type": "markdown",
   "metadata": {},
   "source": [
    "## Testing Two Population Variances"
   ]
  },
  {
   "cell_type": "markdown",
   "metadata": {},
   "source": [
    "You may recall that we use a $\\chi^2$-distribution when performing a hypothesis test on the variance of a population. When comparing two population variances, we have one $\\chi^2$-distribution for each of the two populations, so we compare the population variances using an $F$-distribution. When the populations are independent from each other and normally distributed, the test statistic for the hypothesis test is given by\n",
    "\n",
    "$$ F = \\frac{s_1^2}{s_2^2}, $$\n",
    "\n",
    "where $s_1$ is the sample standard deviation of the sample taken from population $1$, and $s_2$ is the sample standard deviation of the sample taken from population $2$. If the size of sample $1$ is $n_1$ and the size of sample $2$ is $n_2$, then the numerator degrees of freedom is $df_1 = n_1 - 1$ and the denominator degrees of freedom is $df_2 = n_2 - 1$.\n",
    "\n",
    "The general steps for completing a hypothesis test have not changed:\n",
    "1. State the null and alternative hypotheses.\n",
    "2. Assuming the null hypothesis is true, identify the sampling distribution.\n",
    "3. Find the $p$-value.\n",
    "4. Draw a conclusion."
   ]
  },
  {
   "cell_type": "markdown",
   "metadata": {},
   "source": [
    "***"
   ]
  },
  {
   "cell_type": "markdown",
   "metadata": {},
   "source": [
    "### Example 9.2.1"
   ]
  },
  {
   "cell_type": "markdown",
   "metadata": {},
   "source": [
    "A researcher believes that there is less variance in the heights of $10$-year-old males compared to adult males. She measures the heights of $22$ $10$-year-old males and $27$ adult males with the following results (in centimeters):\n",
    "\n",
    "$10$ Year-Old Males (Sample A):\n",
    "\n",
    "148.8, 141.4, 144.9, 140.2, 140.7, 139.6, 148.5, 136.9, 147.5, 148.5, 131.8, 127.9, 132.2, 138.6, 148.5, 141.1, 130.9, 139.2, 137.5, 151.9, 135, 142.6\n",
    "\n",
    "Adult Males (Sample B):\n",
    "\n",
    "168.8, 186.4, 172.1, 180.1, 163.7, 185.2, 173.2, 174, 165.9, 169.2, 175.7, 181.3, 172.7, 172.1, 168.3, 171.8, 195, 186.4, 179, 168.3, 171.3, 182.9, 164.4, 169, 186.8, 178.3, 191.1\n",
    "\n",
    "Conduct a hypothesis test with a $7\\%$ level of significance to test her claim.\n",
    "\n",
    "#### Solution\n",
    "##### Step 1: State the null and alternative hypotheses.\n",
    "We want to test if the heights of 10 year-old males has a smaller variance than the heights of adult males. Written mathematically, this means that one of our hypotheses is that $\\sigma_A^2 < \\sigma_B^2$. We can rewrite this in a form that is consistent with the sampling distribution by dividing both sides by $\\sigma_B^2$ to get\n",
    "\n",
    "$$\\frac{\\sigma_A^2}{\\sigma_B^2} < 1.$$ \n",
    "\n",
    "Since this inequality uses the less-than symbol, this is the alternative hypothesis. Using the opposite symbol for the null hypothesis, we obtain our hypotheses:\n",
    "\n",
    "\\begin{align*}\n",
    "H_0:& \\frac{\\sigma_A^2}{\\sigma_B^2} \\geq 1, \\\\\n",
    "H_a:& \\frac{\\sigma_A^2}{\\sigma_B^2} < 1.\n",
    "\\end{align*}\n",
    "\n",
    "##### Step 2: Assuming the null hypothesis is true, identify the sampling distribution.\n",
    "Since we are testing two population variances, we will find the $p$-value using an $F$-distribution. The numerator degrees of freedom is $df_A = n_A - 1 = 22 - 1 = 21$ and the denominator degrees of freedom is $df_B = n_B - 1 = 27 - 1 = 26$.\n",
    "\n",
    "##### Step 3: Find the $p$-value.\n",
    "Our test statistic is $F = \\frac{s_A^2}{s_B^2}$, so we need to find the standard deviation $s_A$ of sample A and the standard deviation $s_B$ of sample B. Let's start by finding $s_A$."
   ]
  },
  {
   "cell_type": "code",
   "execution_count": 46,
   "metadata": {},
   "outputs": [
    {
     "data": {
      "text/html": [
       "6.61266658068886"
      ],
      "text/latex": [
       "6.61266658068886"
      ],
      "text/markdown": [
       "6.61266658068886"
      ],
      "text/plain": [
       "[1] 6.612667"
      ]
     },
     "metadata": {},
     "output_type": "display_data"
    }
   ],
   "source": [
    "xA = c(148.8, 141.4, 144.9, 140.2, 140.7, 139.6, 148.5, 136.9, 147.5, 148.5, 131.8, 127.9, 132.2, 138.6, 148.5, 141.1, 130.9, 139.2, 137.5, 151.9, 135, 142.6)\n",
    "nA = length(xA)\n",
    "\n",
    "xbarA = sum(xA)/nA\n",
    "\n",
    "sA = sqrt( sum( (xA - xbarA)^2 )/(nA - 1) )\n",
    "sA"
   ]
  },
  {
   "cell_type": "markdown",
   "metadata": {},
   "source": [
    "So the standard deviation of sample A is $s_A = 6.613$. The process is the same to find $s_B$."
   ]
  },
  {
   "cell_type": "code",
   "execution_count": 47,
   "metadata": {},
   "outputs": [
    {
     "data": {
      "text/html": [
       "8.45772965299736"
      ],
      "text/latex": [
       "8.45772965299736"
      ],
      "text/markdown": [
       "8.45772965299736"
      ],
      "text/plain": [
       "[1] 8.45773"
      ]
     },
     "metadata": {},
     "output_type": "display_data"
    }
   ],
   "source": [
    "xB = c(168.8, 186.4, 172.1, 180.1, 163.7, 185.2, 173.2, 174, 165.9, 169.2, 175.7, 181.3, 172.7, 172.1, 168.3, 171.8, 195, 186.4, 179, 168.3, 171.3, 182.9, 164.4, 169, 186.8, 178.3, 191.1)\n",
    "nB = length(xB)\n",
    "\n",
    "xbarB = sum(xB)/nB\n",
    "\n",
    "sB = sqrt( sum( (xB - xbarB)^2 )/(nB - 1) )\n",
    "sB"
   ]
  },
  {
   "cell_type": "markdown",
   "metadata": {},
   "source": [
    "The standard deviation of sample B is $s_B = 8.458$.\n",
    "\n",
    "We can now calculate our test statistic."
   ]
  },
  {
   "cell_type": "code",
   "execution_count": 48,
   "metadata": {},
   "outputs": [
    {
     "data": {
      "text/html": [
       "0.611287694110602"
      ],
      "text/latex": [
       "0.611287694110602"
      ],
      "text/markdown": [
       "0.611287694110602"
      ],
      "text/plain": [
       "[1] 0.6112877"
      ]
     },
     "metadata": {},
     "output_type": "display_data"
    }
   ],
   "source": [
    "Fscore = sA^2/sB^2\n",
    "Fscore"
   ]
  },
  {
   "cell_type": "markdown",
   "metadata": {},
   "source": [
    "Our test statistic is\n",
    "$$ F = \\frac{s_A^2}{s_B^2} = \\frac{6.613^2}{8.458^2} = 0.611. $$\n",
    "\n",
    "We are now prepared to calculate the $p$-value using the numerator degrees of freedom and denominator degrees of freedom we calculated in step 2. Since the alternative hypothesis uses a \"less-than\" symbol, we perform a left-tailed test."
   ]
  },
  {
   "cell_type": "code",
   "execution_count": 49,
   "metadata": {},
   "outputs": [
    {
     "data": {
      "text/html": [
       "0.12648514626268"
      ],
      "text/latex": [
       "0.12648514626268"
      ],
      "text/markdown": [
       "0.12648514626268"
      ],
      "text/plain": [
       "[1] 0.1264851"
      ]
     },
     "metadata": {},
     "output_type": "display_data"
    }
   ],
   "source": [
    "pf(q = Fscore, df1 = 21, df2 = 26)"
   ]
  },
  {
   "cell_type": "markdown",
   "metadata": {},
   "source": [
    "So the $p$-value is $P(F < 0.611) = 0.126$. In other words, assuming the null hypothesis is true, there is a $12.6\\%$ chance of the variance from a sample from population A being at least as small as the variance we actually obtained relative to the variance from a sample from population B.\n",
    "\n",
    "##### Step 4: Draw a conclusion.\n",
    "Since $p$-value $= 0.126 \\geq 0.07 = \\alpha$, we do *not* reject the null hypothesis. There is not enough evidence to conclude that the variance of heights of $10$ year-old males is lower than the variance of heights of adult males."
   ]
  }
 ],
 "metadata": {
  "kernelspec": {
   "display_name": "R",
   "language": "R",
   "name": "ir"
  },
  "language_info": {
   "codemirror_mode": "r",
   "file_extension": ".r",
   "mimetype": "text/x-r-source",
   "name": "R",
   "pygments_lexer": "r",
   "version": "4.2.3"
  }
 },
 "nbformat": 4,
 "nbformat_minor": 4
}
