{
 "cells": [
  {
   "cell_type": "markdown",
   "metadata": {},
   "source": [
    "# Hypotheses and Errors"
   ]
  },
  {
   "cell_type": "markdown",
   "metadata": {},
   "source": [
    "## Objectives\n",
    "\n",
    "- Identify the null and alternative hypotheses for a hypothesis test.\n",
    "- Identify the possible type I and type II errors in a hypothesis test."
   ]
  },
  {
   "cell_type": "markdown",
   "metadata": {},
   "source": [
    "## The Null and Alternative Hypothesis\n",
    "\n",
    "In the previous section we considered the general strategy of how we can statistically test a hypothesis. In this section, we begin to formalize the ideas needed for hypothesis testing.\n",
    "\n",
    "A hypothesis test begins by considering two **hypotheses**. They are called the **null hypothesis** and the **alternative hypothesis**. These hypotheses represent opposing viewpoints.\n",
    "\n",
    "$H_a$: **The alternative hypothesis**. This is a statement about a population parameter such as the mean $\\mu$ or proportion $p$. When conducting a hypothesis test, we generally seek to gather evidence in favor of this alternative hypothesis.\n",
    "\n",
    "$H_0$: **The null hypothesis**. This hypothesis is the mathematical opposite of the alternative hypothesis. When conducting a hypothesis test, we assume the null hypothesis is true.\n",
    "\n",
    "The null and alternative hypotheses are complementary mathematical statements. This means that either the null hypothesis or the alternative hypothesis is true, but not both. One of the hypotheses must be true. When conducting a hypothesis test, we assume the null hypothesis is true, then examine the evidence from sample data to decide if we have enough evidence to reject the null hypothesis and accept the alternative hypothesis or not.\n",
    "\n",
    "After we have determined which hypothesis the sample data supports, we make a decision. There are two options for a decision:\n",
    "- The evidence is sufficient to reject $H_0$ and accept $H_a$.\n",
    "- The evidence is not sufficient reject $H_0$ and accept $H_a$.\n",
    "Note that we never definitively conclude to accept the null hypothesis and reject the alternative hypothesis. The purpose of the hypothesis test is only to determine if we have sufficient evidence to accept the alternative hypothesis.\n",
    "\n",
    "```{list-table} The mathematical symbols used to state null and alternative hypotheses. The symbols in each row are mathematical opposites.\n",
    ":widths: 48 52\n",
    ":header-rows: 1\n",
    ":name: hypotheses-symbols-table\n",
    "* - Null Hypothesis $(H_0)$\n",
    "  - Alternative Hypothesis $(H_a)$\n",
    "* - equal $(=)$\n",
    "  - not equal $(\\neq)$\n",
    "* - greater than or equal to $(\\geq)$\n",
    "  - less than ($<$)\n",
    "* - less than or equal to $(\\leq)$\n",
    "  - greater than $(>)$\n",
    "```\n",
    "\n",
    "The symbols we use to state the null hypothesis are different than the symbols we use to state the alternative hypothesis. {numref}`hypotheses-symbols-table` shows the symbols we can use when stating each hypothesis. Also, note that the two hypotheses are complementary and will use symbols that are mathematical opposites so that exactly one of the hypotheses must be true. For example, if null hypothesis of a hypothesis test is $\\mu \\geq 7$, then the alternative hypothesis is $\\mu < 7$ because the less-than symbol is the mathematical opposite of the greater-than-or-equal-to symbol.\n",
    "\n",
    "```{note}\n",
    "The null hypothesis $H_0$ always has a symbol with an equal in it. The alternative hypothesis $H_a$ never has a symbol with an equal in it. The choice of symbol depends on the wording of the hypothesis test.\n",
    "\n",
    "Also, while we will only state null and alternative hypotheses using mathematically opposite symbols in this textbook, be aware that some researchers sometimes use $=$ when stating a null hypothesis and $>$ or $<$ when stating the corresponding alternative hypothesis even though the symbols are not mathematical opposites. This practice does not ultimately make any real difference to the hypothesis test.\n",
    "```\n"
   ]
  },
  {
   "cell_type": "markdown",
   "metadata": {},
   "source": [
    "***"
   ]
  },
  {
   "cell_type": "markdown",
   "metadata": {},
   "source": [
    "### Example 6.2.1\n",
    "We want to test whether the mean GPA of students in American colleges is different from $2.0$ (out of $4.0$). State the null and alternative hypotheses.\n",
    "\n",
    "#### Solution\n",
    "The statement, \"the mean GPA of students in American colleges is different from $2.0$\" can be written mathematically as $\\mu \\neq 2.0$. Because we are using a not-equal-to symbol, we can see from {numref}`hypotheses-symbols-table` that this statement must be our alternative hypothesis $H_a$. Since the null hypothesis $H_0$ and the alternative hypothesis $H_a$ are mathematical opposites, the null  hypothesis is $\\mu = 2.0$. In summary\n",
    "\n",
    "\\begin{align*}\n",
    "H_0:&\\  \\mu = 2.0 \\\\\n",
    "H_a:&\\  \\mu \\neq 2.0\n",
    "\\end{align*}"
   ]
  },
  {
   "cell_type": "markdown",
   "metadata": {},
   "source": [
    "***"
   ]
  },
  {
   "cell_type": "markdown",
   "metadata": {},
   "source": [
    "\n",
    "### Example 6.2.2\n",
    "We want to test if, on average, college students take less than five years to graduate from college. Find the null and alternative hypotheses.\n",
    "\n",
    "#### Solution\n",
    "The statement, \"college students, on average, take less than five years to graduate from college\", can be written mathematically as $\\mu < 5$. Since the less-than symbol does not have an equal in it, this statement is the alternative hypothesis $H_a$. Then the null hypothesis $H_0$ is $\\mu \\geq 5$, which is the opposite of the alternative hypothesis $H_a$. So\n",
    "\n",
    "\\begin{align*}\n",
    "H_0:&\\  \\mu \\geq 5 \\\\\n",
    "H_a:&\\  \\mu < 5\n",
    "\\end{align*}"
   ]
  },
  {
   "cell_type": "markdown",
   "metadata": {},
   "source": [
    "***"
   ]
  },
  {
   "cell_type": "markdown",
   "metadata": {},
   "source": [
    "\n",
    "### Example 6.2.3\n",
    "In an issue of *U.S. News and World Report*, an article on school standards stated that about half of all students in France, Germany, and Israel take advanced placement exams, and a third pass. The same article stated that $6.6\\%$ of U.S. students take advanced placement exams, and $4.4\\%$ pass. We want to test if the percentage of U.S. students who take advanced placement exams is more than $6.6\\%$. State the null and alternative hypotheses of this test.\n",
    "\n",
    "#### Solution\n",
    "The statement, \"the percentage of U.S. students who take advanced placement exams is more than $6.6\\%$\" can be written mathematically as $p > 0.066$. Since the greater-than symbol does not have an equal in it, this is the alternative hypothesis. The null hypothesis $H_0$ is $p \\leq 0.066$, which is the mathematical opposite of the alternative hypothesis $H_a$. That is,\n",
    "\n",
    "\\begin{align*}\n",
    "H_0:&\\ p \\leq 0.066 \\\\\n",
    "H_a:&\\ p > 0.066\n",
    "\\end{align*}\n"
   ]
  },
  {
   "cell_type": "markdown",
   "metadata": {},
   "source": [
    "***"
   ]
  },
  {
   "cell_type": "markdown",
   "metadata": {},
   "source": [
    "## Type I and Type II Errors\n",
    "When you perform a hypothesis test, there are four possible outcomes depending on the actual truth of the hypotheses and what conclusion we draw from the sample data. The possible outcomes are summarized in {numref}`hypotheses-errors-table`.\n",
    "\n",
    "```{list-table} The different possible outcomes of a hypothesis test. The outcome depends on which hypothesis is actually true and what we conclude based on the sample data.\n",
    ":header-rows: 1\n",
    ":stub-columns: 1\n",
    ":name: hypotheses-errors-table\n",
    "* -\n",
    "  - $H_0$ is Actually True and<br/>$H_a$ is Actually False\n",
    "  - $H_0$ is Actually False and<br/>$H_a$ is Actually True\n",
    "* - Do Not Reject $H_0$<br/>and<br/>Do Not Accept $H_a$\n",
    "  - Correct Outcome\n",
    "  - Type II Error\n",
    "* - Reject $H_0$<br/>and<br/>Accept $H_a$\n",
    "  - Type I Error\n",
    "  - Correct Outcome\n",
    "```\n",
    "\n",
    "The four possible outcomes in {numref}`hypotheses-errors-table` are:\n",
    "\n",
    "1. *$H_0$ is true and $H_a$ is false*, and we decide *not to reject $H_0$ and not to accept $H_a$*. (Correct outcome.)\n",
    "2. *$H_0$ is true and $H_a$ is false*, but we decide to *reject $H_0$ and accept $H_a$*. (Incorrect Outcome known as a **type I error** or a **false positive**.)\n",
    "3. *$H_0$ is false and $H_a$ is true*, but we decide *not to reject $H_0$ and not to accept $H_a$*. (Incorrect outcome known as a **type II error** or a **false negative**.)\n",
    "4. *$H_0$ is false and $H_a$ is true*, and we decide to *reject $H_0$ and accept $H_a$*. (Correct outcome.)\n",
    "\n",
    "Statisticians are trained to minimize the probability that a type I or type II error would occur in a hypothesis test. We will focus on simply identifying the type I and type II errors in different situations.\n",
    "\n",
    "```{important}\n",
    "Note that type I or type II errors are not the result of a mathematical mistake. Rather, these errors happen because of the probabilistic uncertainty inherent  in random sampling.\n",
    "\n",
    "For example, suppose a new education law was passed in California, and we want to conduct a hypothesis test to see if the new law has improved student outcomes. We randomly sample a number of students, but because the sampling is random, there is a small chance that our sample contains an unusually high proportion of high performing students. Based on this skewed sample data, we would conclude that student outcomes had improved after implementation of the new law even if, in reality, student outcomes did not actually improve. (This would be a type I error or false positive.) In this hypothetical example, we did all the math right. This error is not the result of a mathematical mistake, but because, just by chance, we collected a sample with an unusually high sample mean.\n",
    "\n",
    "So there is a small chance that we can come to the wrong conclusion when performing a hypothesis test, resulting in a type I or type II error, even if we do all the math right.\n",
    "```"
   ]
  },
  {
   "cell_type": "markdown",
   "metadata": {},
   "source": [
    "***"
   ]
  },
  {
   "cell_type": "markdown",
   "metadata": {},
   "source": [
    "\n",
    "### Example 6.2.4\n",
    "Truc tests blood cultures to see if there are traces of pathogen X. The null hypothesis is that the blood cultures contain no traces of pathogen X. The alternative hypothesis is that the blood cultures do contain traces of pathogen X. State the type I and type II errors for this hypothesis test.\n",
    "\n",
    "#### Solution\n",
    "\n",
    "- Type I error: Truc concludes that the blood cultures *do* contain traces of pathogen X, but the blood cultures actually *do not* contain traces of pathogen X.\n",
    "- Type II error: Truc concludes that the blood cultures *do not* contain traces of pathogen X, but the blood cultures actually *do* contain traces of pathogen X.\n",
    "\n",
    "In this situation, which do you think would be the more serious error: a Type I error or a Type II error?"
   ]
  },
  {
   "cell_type": "markdown",
   "metadata": {},
   "source": [
    "***"
   ]
  },
  {
   "cell_type": "markdown",
   "metadata": {},
   "source": [
    "\n",
    "### Example 6.2.5\n",
    "A certain experimental drug claims a cure rate of at least $75\\%$ for males with prostate cancer. State the type I and type II errors in context. Which error is the more serious?\n",
    "\n",
    "#### Solution\n",
    "Let's first identify our hypotheses. The statement \"the drug claims a cure rate of at least $75\\%$\" can be written mathematically as $p \\geq 0.75$. Since the greater-than-or-equal-to symbol has an \"equal\" in it, this inequality represents the null hypothesis. This means that the alternative hypothesis is the mathematical opposite: $p < 0.75$.\n",
    "\n",
    "\\begin{align*}\n",
    "H_0:&\\ p \\geq 0.75 \\\\\n",
    "H_a:&\\ p < 0.75\n",
    "\\end{align*}\n",
    "\n",
    "Then:\n",
    "\n",
    "- Type I error: We conclude that the cure rate for the drug is less than $75\\%$, but the cure rate for the drug is actually at least $75\\%$.\n",
    "- Type II error: We conclude that the cure rate for the drug is at least $75\\%$, but the cure rate for the drug is actually less than $75\\%$.\n",
    "\n",
    "In this case, the Type II error would be the more serious error. If a patient believes the drug works at least 75% of the time, this most likely will influence the patient’s (and doctor’s) choice about whether to use the drug as a treatment option.\n"
   ]
  }
 ],
 "metadata": {
  "kernelspec": {
   "display_name": "R",
   "language": "R",
   "name": "ir"
  },
  "language_info": {
   "codemirror_mode": "r",
   "file_extension": ".r",
   "mimetype": "text/x-r-source",
   "name": "R",
   "pygments_lexer": "r",
   "version": "4.2.3"
  }
 },
 "nbformat": 4,
 "nbformat_minor": 4
}
