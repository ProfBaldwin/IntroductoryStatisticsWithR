{
 "cells": [
  {
   "cell_type": "markdown",
   "metadata": {},
   "source": [
    "# Conditional Probability"
   ]
  },
  {
   "cell_type": "markdown",
   "metadata": {},
   "source": [
    "## Objectives\n",
    "- Construct composite events using $\\text{AND}$ and $\\text{OR}$ and calculate their probability.\n",
    "- Calculate conditional probability."
   ]
  },
  {
   "cell_type": "markdown",
   "metadata": {},
   "source": [
    "## $\\text{AND}$ and $\\text{OR}$ Events\n",
    "\n",
    "Let $A$ and $B$ be any two events. Then $A \\text{ AND } B$ is an event with all the outcomes that are both in $A$ and in $B$. For example, suppose $A = \\{1, 2, 3, 4\\}$ and $B = \\{3, 4, 5, 6\\}$. Then event $A \\text{ AND } B = \\{3, 4\\}$ since those two outcomes are the only outcomes in both event $A$ and event $B$.\n",
    "\n",
    "```{figure} vennAND.svg\n",
    "---\n",
    "width: 40%\n",
    "alt: A venn diagram of two events A and B. The intersection of the two events is shaded representing the composite event (A AND B).\n",
    "name: vennAND\n",
    "---\n",
    "A venn diagram of two events A and B. The shaded portion of the diagram represents event $A \\text{ AND } B$. It is the portion of the diagram that is both in $A$ and in $B$.\n",
    "```\n",
    "\n",
    "Similarly, $A \\text{ OR } B$ is an event with all outcomes that are either in $A$ or in $B$ (or both). If $A = \\{1, 2, 3, 4\\}$ and $B = \\{3, 4, 5, 6\\}$, then event $A \\text{ OR } B = \\{1, 2, 3, 4, 5, 6\\}$ since each of these outcomes are in $A$ or in $B$. Note that when an outcome is in both $A$ and $B$, it is still only listed once in $A \\text{ OR } B$.\n",
    "\n",
    "```{figure} vennOR.svg\n",
    "---\n",
    "width: 40%\n",
    "alt: A venn diagram of two events A and B. The entirety of circle A together with the entirety of circle B is shaded representing the composite event (A OR B).\n",
    "name: vennOR\n",
    "---\n",
    "A venn diagram of two events A and B. The shaded portion of the diagram represents event $A \\text{ OR } B$. It is the portion of the diagram that is in any part of $A$ or in any part of $B$.\n",
    "```"
   ]
  },
  {
   "cell_type": "markdown",
   "metadata": {},
   "source": [
    "***"
   ]
  },
  {
   "cell_type": "markdown",
   "metadata": {},
   "source": [
    "### Example 3.2.1\n",
    "````{div} full-width\n",
    "```{figure} playingcards.svg\n",
    "---\n",
    "width: 100%\n",
    "alt: A standard deck of 52 playing cards.\n",
    "name: playingcards2\n",
    "---\n",
    "A standard deck of $52$ playing cards.[^cards-attribution] <br/> \n",
    "A deck is divided into 4 suits: Spades ($♠$), Hearts ($\\color{red} ♥$), Diamonds ($\\color{red} ♦$), and Clubs ($♣$). <br/>\n",
    "Spades ($♠$) and Clubs ($♣$) are black. Hearts ($\\color{red} ♥$) and Diamonds ($\\color{red} ♦$) are red.<br/>\n",
    "There are 13 ranks in each suit:\n",
    "**A**ce, **2**, **3**, **4**, **5**, **6**, **7**, **8**, **9**, **10**, **J**ack, **Q**ueen, and **K**ing.<br/>\n",
    "The Jacks, Queens, and Kings in a deck are called face cards.\n",
    "```\n",
    "````\n",
    "[^cards-attribution]: {numref}`Figure {number} <playingcards2>` was adapted from an image [created by Dmitry Fomin](https://commons.wikimedia.org/wiki/File:English_pattern_playing_cards_deck.svg), which is made available under the [Creative Commons CC0 1.0 Universal Public Domain Dedication](https://creativecommons.org/publicdomain/zero/1.0/deed.en).\n",
    "\n",
    "Gloriana drew one card from a standard deck of $52$ cards.\n",
    "1. What is the probability that Gloriana's card is both a Queen and a Heart?\n",
    "2. What is the probability that Gloriana's card is a Queen or a Heart?\n",
    "\n",
    "#### Solution\n",
    "Let $Q = $ the event where Gloriana draws a Queen and ${\\color{red}♥} = $ the event where Gloriana draws a Heart. Note that since each card has an equal probability of being chosen, all outcomes are equally likely. And since there are $52$ cards in the deck, $n(S) = 52$.\n",
    "\n",
    "##### Part 1\n",
    "We can express the probability that Gloriana's card is both a Queen and a Heart mathematically as $P(Q \\text{ AND } {\\color{red}♥})$. Since all the outcomes are equally likely, we can calculate the probability using the formula\n",
    "\n",
    "$$ P(Q \\text{ AND } {\\color{red}♥}) = \\frac{n(Q \\text{ AND } {\\color{red}♥})}{n(S)}. $$\n",
    "\n",
    "Looking at {numref}`Figure {number} <playingcards2>`, we can see that the Queen of Hearts is the only card that is both a Queen and a Heart, meaning $n(Q \\text{ AND } {\\color{red}♥}) = 1$. So the probability that Gloriana's card is both a Queen and a Heart is\n",
    "\n",
    "$$ P(Q \\text{ AND } {\\color{red}♥}) = \\frac{n(Q \\text{ AND } {\\color{red}♥})}{n(S)} = 1/52 = 0.0192. $$\n",
    "\n",
    "##### Part 2\n",
    "The probability that Gloriana's card is a Queen or a Heart can be found using the formula\n",
    "\n",
    "$$ P(Q \\text{ OR } {\\color{red}♥}) = \\frac{n(Q \\text{ OR } {\\color{red}♥})}{n(S)}. $$\n",
    "\n",
    "Looking at {numref}`Figure {number} <playingcards2>`, we can see the cards that are either a Queen or a Heart are\n",
    "\n",
    "$$ Q \\text{ OR } {\\color{red}♥} = \\{Q♠, Q{\\color{red}♥}, Q{\\color{red}♦}, Q♣, A{\\color{red}♥}, 2{\\color{red}♥}, 3{\\color{red}♥}, 4{\\color{red}♥}, 5{\\color{red}♥}, 6{\\color{red}♥}, 7{\\color{red}♥}, 8{\\color{red}♥}, 9{\\color{red}♥}, 10{\\color{red}♥}, J{\\color{red}♥}, K{\\color{red}♥}\\}. $$\n",
    "\n",
    "(Note that we counted the Queen of Hearts only once.) This means $n(Q \\text{ OR } {\\color{red}♥}) = 16$, so\n",
    "\n",
    "$$ P(Q \\text{ OR } {\\color{red}♥}) = \\frac{n(Q \\text{ OR } {\\color{red}♥})}{n(S)} = \\frac{16}{52} = 0.3077.$$"
   ]
  },
  {
   "cell_type": "markdown",
   "metadata": {},
   "source": [
    "***"
   ]
  },
  {
   "cell_type": "markdown",
   "metadata": {},
   "source": [
    "## Conditional Probability When Outcomes are Equally Likely\n",
    "\n",
    "The **conditional probability** of $A$ given $B$ is written $P(A|B)$. $P(A|B)$ is the probability that event $A$ is true given that we already know event $B$ is true.\n",
    "\n",
    "For example, imagine you roll a six-sided die, and it rolls where you can't see it. You want to calculate the probability that the die came up a $4$, $5$, or $6$. Let $D = \\{4, 5, 6\\}$. Since you can't see the die, the probability of that you rolled a $4$, $5$, or $6$ is\n",
    "\n",
    "$$ P(D) = \\frac{n(D)}{n(S)} = \\frac{3}{6} = 0.5. $$\n",
    "\n",
    "Now suppose your friend checks the die and tells you that you have rolled an even number. This extra information changes how you calculate the probability because now you know some outcomes are not possible. For example, it is no longer possible that you have rolled a $5$. Since you know the result is even, there are only **two** outcomes in $D = \\{4, 5, 6\\}$ that are still possible: $4$ and $6$. Similarly, of the outcomes in sample space $S = \\{1, 2, 3, 4, 5, 6\\}$, there are only **three** outcomes that are still possible: $2$, $4$, and $6$. If event $E$ is rolling an even number, then the probability that you rolled a $4$, $5$, or $6$ *given* that the number you rolled is even is\n",
    "\n",
    "$$ P(D|E) = \\frac{2}{3} = 0.6666. $$\n",
    "\n",
    "As this example demonstrates, when outcomes are equally likely, the conditional probability $P(A|B)$ is calculated almost like the usual probability $P(A)$: in both cases, we divide the possible number of outcomes in $A$ by the total number of possible outcomes. The difference is that the extra condition in $P(A|B)$ changes what outcomes are possible. If we know event $B$ is true, the only outcomes in $A$ that are possible are those outcomes that are also in $B$; that is, the outcomes in $A \\text{ AND } B$ are the only outcomes in $A$ that are possible. And if we know event $B$ is true, the set of all possible outcomes is reduced from the entire sample space $S$ to just the outcomes in $B$. Putting these ideas together gives us the formula for $P(A|B)$ when outcomes are equally likely:\n",
    "\n",
    "$$ P(A|B) = \\frac{n(A \\text{ AND } B)}{n(B)}. $$"
   ]
  },
  {
   "cell_type": "markdown",
   "metadata": {},
   "source": [
    "```{warning}\n",
    "The order we write events in matters when working with conditional probability: generally, $P(A|B) \\neq P(B|A)$. Be careful that you use the right expression and formula for your application.\n",
    "```"
   ]
  },
  {
   "cell_type": "markdown",
   "metadata": {},
   "source": [
    "***"
   ]
  },
  {
   "cell_type": "markdown",
   "metadata": {},
   "source": [
    "### Example 3.2.2\n",
    "{numref}`abortion-table2` describes the distribution of a random sample of $466$ individuals from the U.S., organized by political party and views on the circumstances under which abortion should be legal. One individual from the sample is selected at random.\n",
    "\n",
    "```{list-table} The political party identification and views on the circumstances under which abortion should be legal of a sample of $466$ individuals.\n",
    ":header-rows: 1\n",
    ":stub-columns: 1\n",
    ":name: abortion-table2\n",
    "* - \n",
    "  - Legal under any circumstances\n",
    "  - Legal under certain circumstances\n",
    "  - Illegal in all circumstances\n",
    "* - Republican\n",
    "  - 18\n",
    "  - 66\n",
    "  - 38\n",
    "* - Independent\n",
    "  - 64\n",
    "  - 96\n",
    "  - 34\n",
    "* - Democrat\n",
    "  - 76\n",
    "  - 62\n",
    "  - 12\n",
    "```\n",
    "\n",
    "1. Find the probability that the individual believes abortion should be illegal in all circumstances given that they are Republican.\n",
    "2. Find the probability that the individual is a Republican given that they believe abortion should be illegal in all circumstances.\n",
    "\n",
    "#### Solution\n",
    "\n",
    "Note that since the individual is selected randomly, each individual has an equal probability of being chosen. So the outcomes are equally likely. Let $I$ be the event where the individual believes abortion should be illegal in all circumstances, and let $R$ be the event where the individual is a Republican.\n",
    "\n",
    "##### Part 1\n",
    "We want to find $P(I|R)$. The formula for this conditional probability is\n",
    "\n",
    "$$ P(I|R) = \\frac{n(I\\text{ AND } R)}{n(R)}. $$\n",
    "\n",
    "Looking at the table, there are $38$ individuals who believe abortion should be illegal in all circumstances and are Republican, so $n(I \\text{ AND } R) = 38$. We also calculate that the total number of Republicans is $n(R) = 18 + 66 + 38 = 122$. So\n",
    "\n",
    "$$ P(I|R) = \\frac{n(I\\text{ AND } R)}{n(R)} = \\frac{38}{122} = 0.3115. $$\n",
    "\n",
    "##### Part 2\n",
    "We want to find $P(R|I)$. The formula for this conditional probability is\n",
    "\n",
    "$$P(R|I) = \\frac{n(R \\text{ AND } I)}{n(I)}. $$\n",
    "\n",
    "Since $R \\text{ AND } I$ is the same as $I \\text{ AND } R$ (because the order of an $\\text{ AND }$ event doesn't matter), our work in Part 1 means $n(R \\text{ AND } I) = n(I \\text{ AND } R) = 38$. And the total number of individuals who believe abortion should be illegal in all circumstances is $n(I) = 38 + 34 + 12 = 84$. So\n",
    "\n",
    "$$ P(R|I) = \\frac{n(R \\text{ AND } I)}{n(I)} = \\frac{38}{84} = 0.4524. $$"
   ]
  },
  {
   "cell_type": "markdown",
   "metadata": {},
   "source": [
    "***"
   ]
  },
  {
   "cell_type": "markdown",
   "metadata": {},
   "source": [
    "## Conditional Probability When Outcomes are Not Equally Likely\n",
    "\n",
    "When calculating conditional probability when outcomes are not all equally likely, we need to adapt the formula we learned above. The generalized formula for calculating conditional probability is\n",
    "\n",
    "$$ P(A|B) = \\frac{P(A \\text{ AND } B)}{P(B)}. $$\n",
    "\n",
    "The formula we learned in the previous section for equally likely events is actually a special case of this more general formula. While the formula in the previous section only works when the outcomes are all equally likely, this formula works *always* in *all* circumstances."
   ]
  },
  {
   "cell_type": "markdown",
   "metadata": {},
   "source": [
    "***"
   ]
  },
  {
   "cell_type": "markdown",
   "metadata": {},
   "source": [
    "### Example 3.2.3\n",
    "Kristina plays basketball. Sometimes she must take two free throw shots. She makes the first shot $59\\%$ of the time, and she makes both free throw shots $32\\%$ of the time. What is the probability that she makes the second shot given that she made the first shot?\n",
    "\n",
    "#### Solution\n",
    "Let $F_1$ be the event where Kristina makes the first free throw shot, and let $F_2$ be the event where Kristina makes the second free throw shot. According to the problem statement, the probability that Kristina makes the first free throw shot is $P(F_1) = 0.59$, and the probability that she makes both free throw shots is $P(F_1 \\text{ AND } F_2) = 0.32$. Then the probability that Kristina makes the second shot given that she made the first shot is\n",
    "\n",
    "$$ P(F_2|F_1) = \\frac{P(F_2 \\text{ AND } F_1)}{P(F_1)} = \\frac{0.32}{0.59} = 0.5424. $$"
   ]
  }
 ],
 "metadata": {
  "kernelspec": {
   "display_name": "R",
   "language": "R",
   "name": "ir"
  },
  "language_info": {
   "codemirror_mode": "r",
   "file_extension": ".r",
   "mimetype": "text/x-r-source",
   "name": "R",
   "pygments_lexer": "r",
   "version": "4.2.3"
  }
 },
 "nbformat": 4,
 "nbformat_minor": 4
}
