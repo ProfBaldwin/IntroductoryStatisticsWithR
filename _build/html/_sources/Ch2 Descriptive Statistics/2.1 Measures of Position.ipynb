{
 "cells": [
  {
   "cell_type": "markdown",
   "metadata": {},
   "source": [
    "# Measures of Position"
   ]
  },
  {
   "cell_type": "markdown",
   "metadata": {},
   "source": [
    "## Objectives ##\n",
    "- Calculate percentiles and quartiles and interpret the results.\n",
    "- Construct and interpret box plots."
   ]
  },
  {
   "cell_type": "markdown",
   "metadata": {},
   "source": [
    "## Percentiles ##\n",
    "A common measure of position is **percentiles**. Percentiles are values that divide ordered data into 100 equally sized groups. To score in the 90th percentile of an exam does not mean, necessarily, that you received 90% on a test. It means that 90% of test scores are the same or less than your score and 10% of the test scores are the same or greater than your test score.\n",
    "\n",
    "Percentiles are useful for comparing values. For this reason, universities and colleges use percentiles extensively. One instance in which colleges and universities use percentiles is when SAT results are used to determine a minimum testing score that will be used as an acceptance factor. For example, suppose Duke accepts SAT scores at or above the 75th percentile. This means Duke will only accept students with an SAT scores higher than at least 75% of all SAT scores.\n",
    "\n",
    "Percentiles are mostly used with very large populations. Therefore, if you were to say that 90% of the test scores are less (and not the same or less) than your score, it would be acceptable because removing one particular data value is not significant in a very large population.\n",
    "\n",
    "To calculate percentiles by hand, the data must be ordered from smallest to largest. But we can use R to quickly find percentiles without ordering the data using the <code>quantile</code> function. **Quantiles** are values that divide ordered data into any number of equally-sized groups, so a percentile is a type of **quantile**. \n",
    "\n",
    "The syntax for the <code>quantile</code> function is:\n",
    "\n",
    "```R\n",
    "quantile(x, probs)\n",
    "```\n",
    "In this case, <code>x</code> is the list of data that we want the percentiles of and <code>probs</code> is the percentage or list of percentages, converted to decimal form, corresponding to our percentiles. The name <code>probs</code> is an abbreviation for 'probabilities.' We will learn more about why that abbreviation is appropriate later.\n",
    "\n",
    "The following example illustrates how to use the <code>quantile</code> function to find a percentile."
   ]
  },
  {
   "cell_type": "markdown",
   "metadata": {},
   "source": [
    "***"
   ]
  },
  {
   "cell_type": "markdown",
   "metadata": {},
   "source": [
    "\n",
    "### Example 2.1.1 ###\n",
    "\n",
    "Listed are 29 ages for Academy Award winning best actors. Find the 73rd percentile. Explain, in words, what this value represents.\n",
    "\n",
    "<center>\n",
    "18, 21, 22, 25, 26, 27, 29, 30, 31, 33, 36, 37, 41, 42, 47, 52, 55, 57, 58, 59, 62, 65, 67, 71, 72, 73, 74, 76, 77\n",
    "</center>\n",
    "\n",
    "#### Solution ####\n",
    "We will use the <code>quantile</code> function in R with <code>probs = 0.73</code>, since 73% = 0.73. Note that it is important to use the decimal form of the percentage; if we use <code>probs = 73</code>, we will get an error."
   ]
  },
  {
   "cell_type": "code",
   "execution_count": 22,
   "metadata": {
    "scrolled": true
   },
   "outputs": [
    {
     "data": {
      "text/html": [
       "<strong>73%:</strong> 63.32"
      ],
      "text/latex": [
       "\\textbf{73\\textbackslash{}\\%:} 63.32"
      ],
      "text/markdown": [
       "**73%:** 63.32"
      ],
      "text/plain": [
       "  73% \n",
       "63.32 "
      ]
     },
     "metadata": {},
     "output_type": "display_data"
    }
   ],
   "source": [
    "ages = c(18, 21, 22, 25, 26, 27, 29, 30, 31, 33, 36, 37, 41, 42, 47, 52, 55, 57, 58, 59, 62, 65, 67, 71, 72, 73, 74, 76, 77)\n",
    "\n",
    "quantile(ages, probs = 0.73)"
   ]
  },
  {
   "cell_type": "markdown",
   "metadata": {},
   "source": [
    "So the 73rd percentile is 63.32. That means that of the 29 Academy Award winning best actors in our sample, 73% of them were younger than 63.32 years old.\n"
   ]
  },
  {
   "cell_type": "markdown",
   "metadata": {},
   "source": [
    "***"
   ]
  },
  {
   "cell_type": "markdown",
   "metadata": {},
   "source": [
    "## Quartiles\n",
    "\n",
    "**Quartiles** are values that divide ordered data into 4 equally sized groups, called **quarters**. A quartile is another kind of quantile.\n",
    "\n",
    "- The first quartile, $Q_1$, is the same as the 25th percentile. \n",
    "- The second quartile, $Q_2$, is the same as the 50th percentile. \n",
    "- The third quartile, $Q_3$, is the same as the 75th percentile.\n",
    "\n",
    "The four quarters that we get from the quartiles each contain about the same amount of data values.\n",
    "\n",
    "- The first quarter consists of the data values less than or equal to $Q_1$ (the 25th percentile). This quarter contains 25% of the data values.\n",
    "- The second quarter consists of the data values between $Q_1$ (the 25th percentile) and $Q_2$ (the 50th percentile). This quarter contains 25% of the data values.\n",
    "- The third quarter consists of the data values between $Q_2$ (the 50th percentile) and $Q_3$ (the 75th percentile). This quarter contains 25% of the data values.\n",
    "- The fourth quarter consists of the data values greater than or equal to$Q_3$ (the 75th percentile). This quarter contains 25% of the data values."
   ]
  },
  {
   "cell_type": "code",
   "execution_count": 6,
   "metadata": {
    "tags": [
     "remove-cell"
    ]
   },
   "outputs": [
    {
     "data": {
      "text/html": [
       "<strong>png:</strong> 2"
      ],
      "text/latex": [
       "\\textbf{png:} 2"
      ],
      "text/markdown": [
       "**png:** 2"
      ],
      "text/plain": [
       "png \n",
       "  2 "
      ]
     },
     "metadata": {},
     "output_type": "display_data"
    }
   ],
   "source": [
    "library(beeswarm)\n",
    "\n",
    "png(\"quartiles_and_quarters.png\", width = 1000, height = 700)\n",
    "\n",
    "rangebrace = function(x, y0, y1, d, col){\n",
    "    X = seq(x, x+d, length = 500)\n",
    "    Ytop = (y1 - y0)/4 * ( -(2/d)^(1/3) * sign(X - (x + d/2))*abs(X - (x + d/2))^(1/3) + 1 ) + (y0 + y1)/2\n",
    "    Ybot = (y1 - y0)/4 * ( (2/d)^(1/3) * sign(X - (x + d/2))*abs(X - (x + d/2))^(1/3) - 1 ) + (y0 + y1)/2\n",
    "    lines(X, Ytop, lwd = 3, col = col)\n",
    "    lines(X, Ybot, lwd = 3, col = col)\n",
    "}\n",
    "    \n",
    "\n",
    "#x = runif(100, max = 10)\n",
    "#x = rnorm(100)\n",
    "#x = rpois(100, 20)\n",
    "x = rchisq(100, 10)\n",
    "\n",
    "m = min(x)\n",
    "q1 = quantile(x, probs = 0.25)\n",
    "q2 = quantile(x, probs = 0.50)\n",
    "q3 = quantile(x, probs = 0.75)\n",
    "M = max(x)\n",
    "\n",
    "color = \"blue3\"\n",
    "delta = 0.2\n",
    "left = 1 - delta\n",
    "right = 1 + delta\n",
    "\n",
    "par(mar = c(1, 3, 2, 1))\n",
    "\n",
    "beeswarm(x, pch = 21, col = \"black\", bg = \"gray70\", cex = 2.5, xlim = c(left - 0.05, 1.45), cex.axis = 2, cex.main = 2, main = \"Quartiles and Quarters for 100 Data Values\", yaxt = \"n\")\n",
    "#stripchart(x, method = \"jitter\", vertical = TRUE, pch = 21, col = \"black\", bg = \"gray70\", lwd = 3, cex = 2.5, xlim = c(left - 0.05, 1.45), cex.axis = 2, cex.main = 2, main = \"Quartiles and Quarters for 100 Data Values\", yaxt = \"n\")\n",
    "axis(2, at = seq(0, 30, 2), cex.axis = 2, las = 2)\n",
    "\n",
    "segments(left, m, right, m, lwd = 3, lty = \"dotted\", col = color)\n",
    "segments(left, q1, right, q1, lwd = 3, lty = \"dotted\", col = color)\n",
    "segments(left, q2, right, q2, lwd = 3, lty = \"dotted\", col = color)\n",
    "segments(left, q3, right, q3, lwd = 3, lty = \"dotted\", col = color)\n",
    "segments(left, M, right, M, lwd = 3, lty = \"dotted\", col = color)\n",
    "\n",
    "text(x = left, y = m, labels = \"Min\", cex = 2, pos = 2, col = color)\n",
    "text(x = left, y = q1, labels = \"Q₁\", cex = 2, pos = 2, col = color)\n",
    "text(x = left, y = q2, labels = \"Q₂\", cex = 2, pos = 2, col = color)\n",
    "text(x = left, y = q3, labels = \"Q₃\", cex = 2, pos = 2, col = color)\n",
    "text(x = left, y = M, labels = \"Max\", cex = 2, pos = 2, col = color)\n",
    "\n",
    "d = 0.015\n",
    "rangebrace(right, m, q1, d, color)\n",
    "rangebrace(right, q1, q2, d, color)\n",
    "rangebrace(right, q2, q3, d, color)\n",
    "rangebrace(right, q3, M, d, color)\n",
    "\n",
    "text(x = right+d, y = (m + q1)/2, labels = \"1st Quarter\\nContains 25% of Data Values\", cex = 2, pos = 4, col = color)\n",
    "text(x = right+d, y = (q1 + q2)/2, labels = \"2nd Quarter\\nContains 25% of Data Values\", cex = 2, pos = 4, col = color)\n",
    "text(x = right+d, y = (q2 + q3)/2, labels = \"3rd Quarter\\nContains 25% of Data Values\", cex = 2, pos = 4, col = color)\n",
    "text(x = right+d, y = (q3 + M)/2, labels = \"4th Quarter\\nContains 25% of Data Values\", cex = 2, pos = 4, col = color)\n",
    "\n",
    "dev.off()\n"
   ]
  },
  {
   "cell_type": "markdown",
   "metadata": {},
   "source": [
    "```{figure} quartiles_and_quarters.png\n",
    "---\n",
    "width: 100%\n",
    "alt: An illustration of quartiles and quarters for 100 random values.\n",
    "name: quartiles-and-quarters\n",
    "---\n",
    "Quartiles and quarters for 100 random data values. The quartiles ($Q_1$, $Q_2$, and $Q_3$) divide the data into quarters. Note that each quarter of the data contains 25% of data values. The data is more spread out in larger quarters and more squished together in smaller quarters, but both large quarters and small quarters contain the same number of data values.\n",
    "```"
   ]
  },
  {
   "cell_type": "markdown",
   "metadata": {},
   "source": [
    "The second quartile, $Q_2$, is more often called the **median** and represented by the variable $M$. It is a number that measures the \"center\" of the data. You can think of the median as the \"middle value,\" but it does not actually have to be one of the observed values. It is a number that separates ordered data into halves. Half the values are the same value or smaller than the median, and half the values are the same value or larger than the median. For example, consider the following data.\n",
    "\n",
    "<center>\n",
    "1, 11.5, 6, 7.2, 4, 8, 9, 10, 6.8, 8.3, 2, 2, 10, 1 \n",
    "</center>\n",
    "\n",
    "Ordered from smallest to largest: \n",
    "\n",
    "<center>\n",
    "1, 1, 2, 2, 4, 6, 6.8, 7.2, 8, 8.3, 9, 10, 10, 11.5\n",
    "</center>\n",
    "\n",
    "Since there are 14 observations, the median is between the seventh value, 6.8, and the eighth value, 7.2. To find the median, average the two values together by adding them and dividing by 2.\n",
    "\n",
    "$$\\frac{6.8 + 7.2}{2} = 7$$\n",
    "\n",
    "The median is 7. Half of the values are smaller than 7 and half of the values are larger than 7.\n",
    "\n",
    "Let's confirm the median is 7 using R. Since the median is the 50th percentile, we will use <code>probs = 0.50</code>, since 50% = 0.50."
   ]
  },
  {
   "cell_type": "code",
   "execution_count": 1,
   "metadata": {},
   "outputs": [
    {
     "data": {
      "text/html": [
       "<strong>50%:</strong> 7"
      ],
      "text/latex": [
       "\\textbf{50\\textbackslash{}\\%:} 7"
      ],
      "text/markdown": [
       "**50%:** 7"
      ],
      "text/plain": [
       "50% \n",
       "  7 "
      ]
     },
     "metadata": {},
     "output_type": "display_data"
    }
   ],
   "source": [
    "data = c(1, 11.5, 6, 7.2, 4, 8, 9, 10, 6.8, 8.3, 2, 2, 10, 1)\n",
    "\n",
    "quantile(data, probs = 0.50)"
   ]
  },
  {
   "cell_type": "markdown",
   "metadata": {},
   "source": [
    "From our R calculation, we see that the median, or the 50th percentile, is 7. This matches the result we obtained from our calculation by hand above. But recall that when we calculated the median by hand, we had to first order the data from smallest to largest. By contrast, we were able to leave the data we plugged into R unordered and let the computer do the hard work.\n",
    "\n",
    "We can use the <code>quantile</code> function allows us to quickly and easily find any quartile, not just the median."
   ]
  },
  {
   "cell_type": "markdown",
   "metadata": {},
   "source": [
    "```{note}\n",
    "Be careful not to confuse the term *qua**r**tile* with the term *qua**n**tile*. **Quart**iles split the data into four **quart**ers, while **quant**iles split the data using more general **quant**ities.\n",
    "```"
   ]
  },
  {
   "cell_type": "markdown",
   "metadata": {},
   "source": [
    "***"
   ]
  },
  {
   "cell_type": "markdown",
   "metadata": {},
   "source": [
    "\n",
    "### Example 2.1.2 ###\n",
    "For the following 13 real estate prices, calculate the quartiles.\n",
    "\n",
    "<center>\n",
    "$389,950; $230,500; $158,000; $479,000; $639,000; $114,950; $5,500,000; $387,000; $659,000; $529,000; $575,000; $488,800; $1,095,000\n",
    "</center>\n",
    "\n",
    "#### Solution ####\n",
    "We will use the <code>quantile</code> function to calculate our quartiles. \n",
    "- To calculate our first quartile $Q_1$, we will use <code>probs = 0.25</code>. \n",
    "- To calculate our median $M$ or second quartile $Q_2$, we will use <code>probs = 0.50</code>.\n",
    "- To calculate our third quartile $Q_3$, we will use <code>probs = 0.75</code>.\n",
    "\n",
    "But notice that our list of real estate prices above isn't ready to be input into R: it won't understand the dollar sign, and we must use a comma to separate values.\n",
    "\n",
    "<center>\n",
    "389950, 230500, 158000, 479000, 639000, 114950, 5500000, 387000, 659000, 529000, 575000, 488800, 1095000\n",
    "</center>\n",
    "\n",
    "```{warning}\n",
    "R will not allow the use of a comma to mark the thousands place of a number; commas are only used in R to separate values or items in a list. For example, if you type <code>389,950</code> into R, it will interpret it as a list of two numbers: 389 and 950. Instead, we omit the comma and type simply <code>389950</code>.\n",
    "```"
   ]
  },
  {
   "cell_type": "code",
   "execution_count": 1,
   "metadata": {},
   "outputs": [
    {
     "data": {
      "text/html": [
       "<strong>25%:</strong> 387000"
      ],
      "text/latex": [
       "\\textbf{25\\textbackslash{}\\%:} 387000"
      ],
      "text/markdown": [
       "**25%:** 387000"
      ],
      "text/plain": [
       "   25% \n",
       "387000 "
      ]
     },
     "metadata": {},
     "output_type": "display_data"
    },
    {
     "data": {
      "text/html": [
       "<strong>50%:</strong> 488800"
      ],
      "text/latex": [
       "\\textbf{50\\textbackslash{}\\%:} 488800"
      ],
      "text/markdown": [
       "**50%:** 488800"
      ],
      "text/plain": [
       "   50% \n",
       "488800 "
      ]
     },
     "metadata": {},
     "output_type": "display_data"
    },
    {
     "data": {
      "text/html": [
       "<strong>75%:</strong> 639000"
      ],
      "text/latex": [
       "\\textbf{75\\textbackslash{}\\%:} 639000"
      ],
      "text/markdown": [
       "**75%:** 639000"
      ],
      "text/plain": [
       "   75% \n",
       "639000 "
      ]
     },
     "metadata": {},
     "output_type": "display_data"
    }
   ],
   "source": [
    "prices = c(389950, 230500, 158000, 479000, 639000, 114950, 5500000, 387000, 659000, 529000, 575000, 488800, 1095000)\n",
    "\n",
    "#First Quartile\n",
    "quantile(prices, probs = 0.25)\n",
    "\n",
    "#Median/Second Quartile\n",
    "quantile(prices, probs = 0.50)\n",
    "\n",
    "#Third Quartile\n",
    "quantile(prices, probs = 0.75)"
   ]
  },
  {
   "cell_type": "markdown",
   "metadata": {},
   "source": [
    "So $Q_1 = \\$387,000$, $Q_2 = \\$488,800$, and $Q_3 = \\$639,000$.\n",
    "\n",
    "So we deduce that:\n",
    "- About 25% of the real estate prices in our sample are less than $Q_1 = \\$387,000$ (in the first quarter of the data).\n",
    "- About 25% of the real estate prices in our sample are between $Q_1 = \\$387,000$ and $Q_2 = \\$488,800$ (in the second quarter of the data).\n",
    "- About 25% of the real estate prices in our sample are between $Q_2 = \\$488,800$ and $Q_3 = \\$639,000$ (in the third quarter of the data).\n",
    "- About 25% of the real estate prices in our sample are greater than $Q_3 = \\$639,000$ (in the fourth quarter of the data).\n",
    "\n",
    "The quartiles quartered the data into groups each containing 25% of the data points."
   ]
  },
  {
   "cell_type": "markdown",
   "metadata": {},
   "source": [
    "***"
   ]
  },
  {
   "cell_type": "markdown",
   "metadata": {},
   "source": [
    "## Box Plots ##\n",
    "**Box plots** (also called **box-and-whisker plots** or **box-whisker plots**) give a good graphical image of the concentration of the data. They also show how far the extreme values are from most of the data. A box plot is constructed from five values: the minimum value, the first quartile, the second quartile or median, the third quartile, and the maximum value. The box plot illustrates the four quarters of the data and how squished together or spread out the data in each quarter is.\n",
    "\n",
    "To construct a box plot, use a horizontal or vertical number line and a rectangular box. The smallest and largest data values label the endpoints of the axis. The first quartile marks one end of the box and the third quartile marks the other end of the box. **Approximately the middle 50 percent of the data fall inside the box.** The \"whiskers\" extend from the ends of the box to the smallest and largest data values. The box plot gives a good, quick picture of how the data is spread out.\n",
    "\n",
    "To illustrate a box plot, consider this small dataset.\n",
    "\n",
    "<center>\n",
    "    1, 2, 2, 3, 5, 7, 9, 9, 11, 12, 15\n",
    "</center>\n",
    "\n",
    "We can easily find the quartiles for this data using R:"
   ]
  },
  {
   "cell_type": "code",
   "execution_count": 3,
   "metadata": {},
   "outputs": [
    {
     "data": {
      "text/html": [
       "<strong>25%:</strong> 2.5"
      ],
      "text/latex": [
       "\\textbf{25\\textbackslash{}\\%:} 2.5"
      ],
      "text/markdown": [
       "**25%:** 2.5"
      ],
      "text/plain": [
       "25% \n",
       "2.5 "
      ]
     },
     "metadata": {},
     "output_type": "display_data"
    },
    {
     "data": {
      "text/html": [
       "<strong>50%:</strong> 7"
      ],
      "text/latex": [
       "\\textbf{50\\textbackslash{}\\%:} 7"
      ],
      "text/markdown": [
       "**50%:** 7"
      ],
      "text/plain": [
       "50% \n",
       "  7 "
      ]
     },
     "metadata": {},
     "output_type": "display_data"
    },
    {
     "data": {
      "text/html": [
       "<strong>75%:</strong> 10"
      ],
      "text/latex": [
       "\\textbf{75\\textbackslash{}\\%:} 10"
      ],
      "text/markdown": [
       "**75%:** 10"
      ],
      "text/plain": [
       "75% \n",
       " 10 "
      ]
     },
     "metadata": {},
     "output_type": "display_data"
    }
   ],
   "source": [
    "data = c(1, 2, 2, 3, 5, 7, 9, 9, 11, 12, 15)\n",
    "\n",
    "quantile(data, probs = 0.25)\n",
    "quantile(data, probs = 0.50)\n",
    "quantile(data, probs = 0.75)"
   ]
  },
  {
   "cell_type": "markdown",
   "metadata": {},
   "source": [
    "So $Q_1 = 2.5$, $Q_2 = 7$, and $Q_3 = 10$. We also note that 1 is the minimum value and 15 is the maximum value of the data. Observe that these quartiles and maximum/minimum values are plotted using horizontal lines in the box plot for the data in {numref}`Figure {number} <labeled-boxplot>`."
   ]
  },
  {
   "cell_type": "code",
   "execution_count": 9,
   "metadata": {
    "tags": [
     "remove-cell"
    ]
   },
   "outputs": [
    {
     "data": {
      "text/html": [
       "<strong>png:</strong> 2"
      ],
      "text/latex": [
       "\\textbf{png:} 2"
      ],
      "text/markdown": [
       "**png:** 2"
      ],
      "text/plain": [
       "png \n",
       "  2 "
      ]
     },
     "metadata": {},
     "output_type": "display_data"
    }
   ],
   "source": [
    "data = c(1, 2, 2, 3, 5, 7, 9, 9, 11, 12, 15)\n",
    "\n",
    "png(\"labeled_boxplot.png\", width = 1000, height = 700)\n",
    "\n",
    "rangebrace = function(x, y0, y1, d, col){\n",
    "    X = seq(x, x+d, length = 500)\n",
    "    Ytop = (y1 - y0)/4 * ( -(2/d)^(1/3) * sign(X - (x + d/2))*abs(X - (x + d/2))^(1/3) + 1 ) + (y0 + y1)/2\n",
    "    Ybot = (y1 - y0)/4 * ( (2/d)^(1/3) * sign(X - (x + d/2))*abs(X - (x + d/2))^(1/3) - 1 ) + (y0 + y1)/2\n",
    "    lines(X, Ytop, lwd = 3, col = col)\n",
    "    lines(X, Ybot, lwd = 3, col = col)\n",
    "}\n",
    "\n",
    "color = \"blue3\"\n",
    "\n",
    "m = min(data)\n",
    "q1 = quantile(data, probs = 0.25)\n",
    "q2 = quantile(data, probs = 0.50)\n",
    "q3 = quantile(data, probs = 0.75)\n",
    "M = max(data)\n",
    "\n",
    "par(mar = c(1, 3, 2, 1))\n",
    "boxplot(data, col = \"gray70\", yaxt = \"n\", main = \"Labeled Box Plot\", cex.main = 2.5, xlim = c(0.5, 2), lwd = 3)\n",
    "\n",
    "axis(2, at = 1:15, cex.axis = 2, las = 2)\n",
    "\n",
    "text(x = 0.9, y = m, labels = \"Min\", cex = 2, pos = 2, col = color)\n",
    "text(x = 0.8, y = q1, labels = \"Q₁\", cex = 2, pos = 2, col = color)\n",
    "text(x = 0.8, y = q2, labels = \"Q₂\", cex = 2, pos = 2, col = color)\n",
    "text(x = 0.8, y = q3, labels = \"Q₃\", cex = 2, pos = 2, col = color)\n",
    "text(x = 0.9, y = M, labels = \"Max\", cex = 2, pos = 2, col = color)\n",
    "\n",
    "d = 0.03\n",
    "right = 1.21\n",
    "rangebrace(right, m, q1, d, color)\n",
    "rangebrace(right, q1, q2, d, color)\n",
    "rangebrace(right, q2, q3, d, color)\n",
    "rangebrace(right, q3, M, d, color)\n",
    "\n",
    "text(x = right+d, y = (m + q1)/2, labels = \"1st Quarter\\nContains 25% of Data Values\", cex = 2, pos = 4, col = color)\n",
    "text(x = right+d, y = (q1 + q2)/2, labels = \"2nd Quarter\\nContains 25% of Data Values\", cex = 2, pos = 4, col = color)\n",
    "text(x = right+d, y = (q2 + q3)/2, labels = \"3rd Quarter\\nContains 25% of Data Values\", cex = 2, pos = 4, col = color)\n",
    "text(x = right+d, y = (q3 + M)/2, labels = \"4th Quarter\\nContains 25% of Data Values\", cex = 2, pos = 4, col = color)\n",
    "\n",
    "\n",
    "dev.off()"
   ]
  },
  {
   "cell_type": "markdown",
   "metadata": {},
   "source": [
    "```{figure} labeled_boxplot.png\n",
    "---\n",
    "width: 100%\n",
    "alt: A boxplot labeled with the minimum and maximum values, the quartile values, and the quarters.\n",
    "name: labeled-boxplot\n",
    "---\n",
    "The locations of the quartiles ($Q_1$, $Q_2$, and $Q_3$) and the minimum and maximum values of the data are indicated with horizontal lines. While the data itself is not plotted, we can see how spread out the data is in each quarter. Note that each quarter of the data contains 25% of data values. The data is more spread out in larger quarters and more squished together in smaller quarters, but both large quarters and small quarters contain the same number of data values.\n",
    "```"
   ]
  },
  {
   "cell_type": "markdown",
   "metadata": {},
   "source": [
    "Note that box plots are different than other graphs like bar graphs. In a bar graph, the height of a bar tells us how many data values are in a particular category. The higher the bar is, the more data values are in that category. But each quarter of a box plot contains the same number of data values. The size of a quarter tells us how spread out the data values in that quarter are. The larger the quarter is, the more spread out the data values are in that quarter."
   ]
  },
  {
   "cell_type": "markdown",
   "metadata": {},
   "source": [
    "````{note}\n",
    "You may encounter box plots that have dots marking especially extreme values. In these cases, the extreme values are left out of the box plot so that the data doesn't look more spread out than it really is.\n",
    "\n",
    "```{figure} outlier_boxplot.png\n",
    "---\n",
    "width: 50%\n",
    "alt: A box plot with one extreme value excluded from the main box plot and instead plotted as a separate point.\n",
    "name: outlier-boxplot\n",
    "---\n",
    "A box plot with one extreme value excluded from the main box plot and instead plotted as a separate point.\n",
    "```\n",
    "\n",
    "````"
   ]
  },
  {
   "cell_type": "code",
   "execution_count": 148,
   "metadata": {
    "tags": [
     "remove-cell"
    ]
   },
   "outputs": [
    {
     "data": {
      "text/html": [
       "<strong>png:</strong> 2"
      ],
      "text/latex": [
       "\\textbf{png:} 2"
      ],
      "text/markdown": [
       "**png:** 2"
      ],
      "text/plain": [
       "png \n",
       "  2 "
      ]
     },
     "metadata": {},
     "output_type": "display_data"
    }
   ],
   "source": [
    "png(\"outlier_boxplot.png\", width = 500, height = 700)\n",
    "\n",
    "data = rnorm(100)\n",
    "par(mar = c(1, 1, 2, 1))\n",
    "boxplot(data, col = \"gray70\", lwd = 3, cex = 3, yaxt = \"n\", main = \"Box Plot with Extreme Value\", cex.main = 2.5, xlim = c(0.75, 1.25))\n",
    "\n",
    "dev.off()"
   ]
  },
  {
   "cell_type": "markdown",
   "metadata": {},
   "source": [
    "We can construct a boxplot in R using the boxplot function:\n",
    "\n",
    "```R\n",
    "boxplot(x)\n",
    "```\n",
    "Here, <code>x</code> is the list of data we want to create a boxplot for."
   ]
  },
  {
   "cell_type": "markdown",
   "metadata": {},
   "source": [
    "```{note}\n",
    "Sometimes there will be a slight difference between the quartile values we obtain using the <code>quantile</code> function and the partition boundaries on the box plot we obtain using the <code>boxplot</code> function. This is due to small differences in the way the <code>quantile</code> function and the <code>boxplot</code> function calculate $Q_1$ and $Q_3$. In practice, this small difference usually doesn't matter as both still partition the data into regions containing *about* 25% of the data.\n",
    "```"
   ]
  },
  {
   "cell_type": "markdown",
   "metadata": {},
   "source": [
    "***"
   ]
  },
  {
   "cell_type": "markdown",
   "metadata": {},
   "source": [
    "\n",
    "### Example 2.1.3 ###\n",
    "The following data are the heights of $40$ students in a statistics class. Construct a box plot using R. In which quarter is the data spread out the least? In which quarter is the data spread out the most?\n",
    "<center>\n",
    "60, 60, 61, 62, 62, 63, 63, 64, 64, 64, 65, 65, 65, 65, 65, 65, 65, 65, 65, 66, 66, 67, 67, 68, 68, 69, 70, 70, 70, 70, 70, 71, 71, 72, 72, 73, 74, 74, 75, 77\n",
    "    </center>\n",
    "    \n",
    "#### Solution ####\n",
    "Simply construct a box plot of the data."
   ]
  },
  {
   "cell_type": "code",
   "execution_count": 17,
   "metadata": {
    "tags": [
     "remove-output"
    ]
   },
   "outputs": [
    {
     "data": {
      "image/png": "[encoded data removed]",
      "text/plain": [
       "plot without title"
      ]
     },
     "metadata": {
      "image/png": {
       "height": 420,
       "width": 420
      },
      "text/plain": {
       "height": 420,
       "width": 420
      }
     },
     "output_type": "display_data"
    }
   ],
   "source": [
    "heights = c(60, 60, 61, 62, 62, 63, 63, 64, 64, 64, 65, 65, 65, 65, 65, 65, 65, 65, 65, 66, 66, 67, 67, 68, 68, 69, 70, 70, 70, 70, 70, 71, 71, 72, 72, 73, 74, 74, 75, 77)\n",
    "\n",
    "boxplot(heights)"
   ]
  },
  {
   "cell_type": "code",
   "execution_count": 18,
   "metadata": {
    "tags": [
     "remove-cell"
    ]
   },
   "outputs": [
    {
     "data": {
      "text/html": [
       "<strong>png:</strong> 2"
      ],
      "text/latex": [
       "\\textbf{png:} 2"
      ],
      "text/markdown": [
       "**png:** 2"
      ],
      "text/plain": [
       "png \n",
       "  2 "
      ]
     },
     "metadata": {},
     "output_type": "display_data"
    }
   ],
   "source": [
    "png(\"boxplot_example.png\", width = 700, height = 700)\n",
    "\n",
    "heights = c(60, 60, 61, 62, 62, 63, 63, 64, 64, 64, 65, 65, 65, 65, 65, 65, 65, 65, 65, 66, 66, 67, 67, 68, 68, 69, 70, 70, 70, 70, 70, 71, 71, 72, 72, 73, 74, 74, 75, 77)\n",
    "\n",
    "par(mar = c(1, 3, 1, 1))\n",
    "boxplot(heights, col = \"gray70\", lwd = 3, cex.axis = 2)\n",
    "\n",
    "dev.off()"
   ]
  },
  {
   "cell_type": "markdown",
   "metadata": {},
   "source": [
    "```{figure} boxplot_example.png\n",
    "---\n",
    "width: 70%\n",
    "alt: A box plot of the example data.\n",
    "name: boxplot-example\n",
    "---\n",
    "A box plot of the example data.\n",
    "```"
   ]
  },
  {
   "cell_type": "markdown",
   "metadata": {},
   "source": [
    "From the box plot, we can see that the region between the first quartile $Q_1$ and the median $M = Q_2$ has the smallest spread of data, and the region between the third quartile $Q_3$ and the maximum value has the largest spread of data.\n"
   ]
  },
  {
   "cell_type": "markdown",
   "metadata": {},
   "source": [
    "***"
   ]
  },
  {
   "cell_type": "markdown",
   "metadata": {},
   "source": [
    "By providing the <code>boxplot</code> function with multiple sets of data, we can generate multiple box plots side-by-side. This is useful for comparing how different data sets are distributed."
   ]
  },
  {
   "cell_type": "markdown",
   "metadata": {},
   "source": [
    "***"
   ]
  },
  {
   "cell_type": "markdown",
   "metadata": {},
   "source": [
    "### Example 2.1.4\n",
    "Use R to construct side-by-side boxplots for the two sets of data below. Which data set has the larger spread of data?\n",
    "\n",
    "Data set 1:\n",
    "64, 73, 101.3, 71.1, 94, 85.5, 99.9, 42, 92.4, 103, 54.7, 72.5, 101.9, 86.4, 47.2, 71.5, 71\n",
    "\n",
    "Data set 2:\n",
    "56.8, 71, 49, 69.4, 67.6, 71, 68.5, 61.1, 50.9, 71, 71, 71, 72, 72, 71, 64, 67.2, 52.5, 71, 69, 72, 71.3, 58.3, 71, 71\n",
    "\n",
    "\n",
    "#### Solution\n",
    "We will create two box plots side-by-side, one for each set of data."
   ]
  },
  {
   "cell_type": "code",
   "execution_count": 21,
   "metadata": {
    "tags": [
     "remove-output"
    ]
   },
   "outputs": [
    {
     "data": {
      "image/png": "[encoded data removed]",
      "text/plain": [
       "plot without title"
      ]
     },
     "metadata": {
      "image/png": {
       "height": 420,
       "width": 420
      },
      "text/plain": {
       "height": 420,
       "width": 420
      }
     },
     "output_type": "display_data"
    }
   ],
   "source": [
    "data1 = c(64, 73, 101.3, 71.1, 94, 85.5, 99.9, 42, 92.4, 103, 54.7, 72.5, 101.9, 86.4, 47.2, 71.5, 71)\n",
    "data2 = c(56.8, 71, 49, 69.4, 67.6, 71, 68.5, 61.1, 50.9, 71, 71, 71, 72, 72, 71, 64, 67.2, 52.5, 71, 69, 72, 71.3, 58.3, 71, 71)\n",
    "\n",
    "boxplot(data1, data2)"
   ]
  },
  {
   "cell_type": "code",
   "execution_count": 27,
   "metadata": {
    "tags": [
     "remove-cell"
    ]
   },
   "outputs": [
    {
     "data": {
      "text/html": [
       "<strong>png:</strong> 2"
      ],
      "text/latex": [
       "\\textbf{png:} 2"
      ],
      "text/markdown": [
       "**png:** 2"
      ],
      "text/plain": [
       "png \n",
       "  2 "
      ]
     },
     "metadata": {},
     "output_type": "display_data"
    }
   ],
   "source": [
    "png(\"side_by_side_boxplots.png\", width = 1000, height = 1000)\n",
    "\n",
    "data1 = c(64, 73, 101.3, 71.1, 94, 85.5, 99.9, 42, 92.4, 103, 54.7, 72.5, 101.9, 86.4, 47.2, 71.5, 71)\n",
    "data2 = c(56.8, 71, 49, 69.4, 67.6, 71, 68.5, 61.1, 50.9, 71, 71, 71, 72, 72, 71, 64, 67.2, 52.5, 71, 69, 72, 71.3, 58.3, 71, 71)\n",
    "\n",
    "par(mar = c(1, 3, 1, 1))\n",
    "boxplot(data1, data2, col = \"gray70\", cex = 3, lwd = 3, cex.axis = 2)\n",
    "\n",
    "dev.off()"
   ]
  },
  {
   "cell_type": "markdown",
   "metadata": {},
   "source": [
    "```{figure} side_by_side_boxplots.png\n",
    "---\n",
    "width: 100%\n",
    "alt: Two box plots side-by-side.\n",
    "name: side-by-side-boxplots\n",
    "---\n",
    "Two box plots side-by-side makes it easy to compare how different data sets are distributed.\n",
    "```"
   ]
  },
  {
   "cell_type": "markdown",
   "metadata": {},
   "source": [
    "By examining the box plots, we quickly see that the data in data set 1 is much more spread out than the data in data set 2."
   ]
  }
 ],
 "metadata": {
  "kernelspec": {
   "display_name": "R",
   "language": "R",
   "name": "ir"
  },
  "language_info": {
   "codemirror_mode": "r",
   "file_extension": ".r",
   "mimetype": "text/x-r-source",
   "name": "R",
   "pygments_lexer": "r",
   "version": "4.2.3"
  }
 },
 "nbformat": 4,
 "nbformat_minor": 4
}
