{
 "cells": [
  {
   "cell_type": "markdown",
   "metadata": {},
   "source": [
    "# Measures of Central Tendency"
   ]
  },
  {
   "cell_type": "markdown",
   "metadata": {},
   "source": [
    "## Objectives ##\n",
    "- Calculate the mean and median for a given data set."
   ]
  },
  {
   "cell_type": "markdown",
   "metadata": {},
   "source": [
    "## Mean and Median ##\n",
    "The \"center\" of a data set is also a way of describing location. The two most widely used measures of the \"center\" of the data are the **mean** (average) and the **median**. To calculate the mean weight of 50 people, add the 50 weights together and divide by 50. In the last section, we learned that the median is the second quartile $Q_2$ or the 50th percentile. To find the median weight of the 50 people, order the data and find the number that splits the data into two equal parts. The median is generally a better measure of the center when there are extreme values or outliers because it is not affected by the precise numerical values of the outliers. The mean is the most common measure of the center.\n",
    "\n",
    "```{note}\n",
    "The words *mean* and *average* are often used interchangeably. The substitution of one word for the other is common practice. The technical term for the type of mean we a discussing in this section is *arithmetic mean*, and *average* is technically a general term for any center location. For example, the *median* of a data set is also technically an average of the data set because it is one measure of the center location. However, in practice among non-statisticians, the *average* of a data set is commonly understood as the *arithmetic mean*.\n",
    "```\n",
    "\n",
    "We use different symbols to differentiate between the mean of a sample and the mean of a population. The letter used to represent the sample mean is an x with a bar over it (pronounced “x bar”): $\\bar{x}$. The Greek letter $\\mu$ (pronounced \"mew\" and spelled in English \"mu\") represents the population mean. Both the sample mean and population mean are calculated the same way: add together all the data values in the sample or population, then divide by the number of data values in the sample of population. In practice, we usually calculate the sample mean $\\bar{x}$. If we know enough about the population to calculate the population mean $\\mu$, then we don't need to collect a smaller sample to estimate features of the population.\n",
    "\n",
    "When each value in the data set is not unique, the mean can be calculated by multiplying each distinct value by its frequency and then dividing the sum by the total number of data values.  To see that both ways of calculating the mean are the same, consider this sample of 11 data values:\n",
    "<center>\n",
    "    1, 1, 1, 2, 2, 3, 4, 4, 4, 4, 4\n",
    "</center>\n",
    "<br/>\n",
    "\n",
    "$$ \\bar{x} = \\frac{1 + 1 + 1 + 2 + 2 + 3 + 4 + 4 + 4 + 4 + 4}{11} = 2.727$$\n",
    "<br/>\n",
    "\n",
    "$$ \\bar{x} = \\frac{3(1) + 2(2) + 1(3) + 5(4)}{11} = 2.727$$\n",
    "<br/>\n",
    "\n",
    "In the second calculation, the frequencies are 3, 2, 1, and 5 since the data contains 3 ones, 2 twos, 1 three, and 5 fours.\n",
    "\n",
    "In R, these calculations look like:"
   ]
  },
  {
   "cell_type": "code",
   "execution_count": 1,
   "metadata": {},
   "outputs": [
    {
     "data": {
      "text/html": [
       "2.72727272727273"
      ],
      "text/latex": [
       "2.72727272727273"
      ],
      "text/markdown": [
       "2.72727272727273"
      ],
      "text/plain": [
       "[1] 2.727273"
      ]
     },
     "metadata": {},
     "output_type": "display_data"
    }
   ],
   "source": [
    "xbar = (1 + 1 + 1 + 2 + 2 + 3 + 4 + 4 + 4 + 4 + 4)/11\n",
    "xbar"
   ]
  },
  {
   "cell_type": "code",
   "execution_count": 1,
   "metadata": {},
   "outputs": [
    {
     "data": {
      "text/html": [
       "2.72727272727273"
      ],
      "text/latex": [
       "2.72727272727273"
      ],
      "text/markdown": [
       "2.72727272727273"
      ],
      "text/plain": [
       "[1] 2.727273"
      ]
     },
     "metadata": {},
     "output_type": "display_data"
    }
   ],
   "source": [
    "xbar = (3*1 + 2*2 + 1*3 + 5*4)/11\n",
    "xbar"
   ]
  },
  {
   "cell_type": "markdown",
   "metadata": {},
   "source": [
    "```{note}\n",
    "In each case, we first calculate the mean and store the value in the variable <code>xbar</code>. To have the computer display the value that we stored in <code>xbar</code>, we simply type <code>xbar</code> by itself on the next line. If we don't type that extra <code>xbar</code>, the computer will store the value of the mean in the variable, but it won't tell use what the mean is.\n",
    "```\n",
    "\n",
    "Observe that all we do to calculate the mean is add all the data values together, then divide by the number of data values. This concept can be more succinctly expressed using the formula\n",
    "\n",
    "$$ \\bar{x} = \\frac{\\sum x}{n}. $$\n",
    "\n",
    "We use $\\sum$ (the capital Greek letter sigma) when we want to add up or find the sum of values. In this case, the formula is telling us to add up all the $x$'s, where we use $x$ as a placeholder for the data values in the sample. Then we divide the sum of $x$'s by $n$, where $n$ is the number of data values in the sample. Note, though we've used the sample mean $\\bar{x}$ in the formula, the formula is essentially the same for the population mean $\\mu$:\n",
    "\n",
    "$$ \\mu = \\frac{\\sum x}{N}, $$\n",
    "\n",
    "where the $x$'s are the the data values in the population, and $N$ is the number of data values in the population.\n",
    "\n",
    "Calculating a mean is easy using R. We can use the <code>sum</code> function to add up the values in a list, which gives us $\\sum x$. And we can use the <code>length</code> function to find out how many values are in a list, which gives us the sample size $n$ (or population size $N$ if working with an entire population). Both the <code>sum</code> function and the <code>length</code> function have just one argument:\n",
    "\n",
    "```R\n",
    "sum(x)\n",
    "```\n",
    "\n",
    "```R\n",
    "length(x)\n",
    "```\n",
    "\n",
    "In both cases, <code>x</code> is a list of data values.\n",
    "\n",
    "So for the above sample data, we can calculate the sample mean using R as follows:"
   ]
  },
  {
   "cell_type": "code",
   "execution_count": 1,
   "metadata": {},
   "outputs": [
    {
     "data": {
      "text/html": [
       "2.72727272727273"
      ],
      "text/latex": [
       "2.72727272727273"
      ],
      "text/markdown": [
       "2.72727272727273"
      ],
      "text/plain": [
       "[1] 2.727273"
      ]
     },
     "metadata": {},
     "output_type": "display_data"
    }
   ],
   "source": [
    "x = c(1, 1, 1, 2, 2, 3, 4, 4, 4, 4, 4)\n",
    "n = length(x)\n",
    "\n",
    "xbar = sum(x)/n\n",
    "xbar"
   ]
  },
  {
   "cell_type": "markdown",
   "metadata": {},
   "source": [
    "````{note}\n",
    "We will usually store a list of data in variable <code>x</code> to make the computer code as similar as possible to the formula. For example, <code>xbar = sum(x)/n</code> has an obviously similar structure to $\\bar{x} = \\sum x/n$. However, any variable name would work. For example, the following code calculates the mean just as well as the code above:\n",
    "\n",
    "```R\n",
    "values = c(1, 1, 1, 2, 2, 3, 4, 4, 4, 4, 4)\n",
    "n = length(values)\n",
    "\n",
    "xbar = sum(values)/n\n",
    "xbar\n",
    "```\n",
    "````"
   ]
  },
  {
   "cell_type": "markdown",
   "metadata": {},
   "source": [
    "We've already discussed the median: the median $M$ is the same as $Q_2$, the second quartile, or the 50th percentile. The median is the 'middle value' of the data: exactly half the data are greater than the median, and exactly half the data are less than the median. We've seen that we can find the median in R using <code>quantile(x, probs=0.50)</code>, where <code>x</code> is the list of data values we want the median of. For example, to find the median of the data above, we would type:"
   ]
  },
  {
   "cell_type": "code",
   "execution_count": 2,
   "metadata": {},
   "outputs": [
    {
     "data": {
      "text/html": [
       "<strong>50%:</strong> 3"
      ],
      "text/latex": [
       "\\textbf{50\\textbackslash{}\\%:} 3"
      ],
      "text/markdown": [
       "**50%:** 3"
      ],
      "text/plain": [
       "50% \n",
       "  3 "
      ]
     },
     "metadata": {},
     "output_type": "display_data"
    }
   ],
   "source": [
    "x = c(1, 1, 1, 2, 2, 3, 4, 4, 4, 4, 4)\n",
    "\n",
    "quantile(x, probs = 0.50)"
   ]
  },
  {
   "cell_type": "markdown",
   "metadata": {},
   "source": [
    "The median is $M = 3$. Exactly half the values in the data are less than the median, and exactly half the values is the data are greater than the median."
   ]
  },
  {
   "cell_type": "markdown",
   "metadata": {},
   "source": [
    "***"
   ]
  },
  {
   "cell_type": "markdown",
   "metadata": {},
   "source": [
    "\n",
    "### Example 2.2.1 ###\n",
    "The following data show the number of months patients wait on a transplant list before getting surgery. The data are ordered from smallest to largest. Calculate the mean and median.\n",
    "<center>\n",
    "    3, 4, 5, 7, 7, 7, 7, 8, 8, 9, 9, 10, 10, 10, 10, 10, 11, 12, 12, 13, 14, 14, 15, 15, 17, 17, 18, 19, 19, 19, 21, 21, 22, 22, 23, 24, 24, 24, 24\n",
    "</center>\n",
    "\n",
    "#### Solution ####"
   ]
  },
  {
   "cell_type": "code",
   "execution_count": 6,
   "metadata": {},
   "outputs": [
    {
     "data": {
      "text/html": [
       "13.9487179487179"
      ],
      "text/latex": [
       "13.9487179487179"
      ],
      "text/markdown": [
       "13.9487179487179"
      ],
      "text/plain": [
       "[1] 13.94872"
      ]
     },
     "metadata": {},
     "output_type": "display_data"
    },
    {
     "data": {
      "text/html": [
       "<strong>50%:</strong> 13"
      ],
      "text/latex": [
       "\\textbf{50\\textbackslash{}\\%:} 13"
      ],
      "text/markdown": [
       "**50%:** 13"
      ],
      "text/plain": [
       "50% \n",
       " 13 "
      ]
     },
     "metadata": {},
     "output_type": "display_data"
    }
   ],
   "source": [
    "x = c(3, 4, 5, 7, 7, 7, 7, 8, 8, 9, 9, 10, 10, 10, 10, 10, 11, 12, 12, 13, 14, 14, 15, 15, 17, 17, 18, 19, 19, 19, 21, 21, 22, 22, 23, 24, 24, 24, 24)\n",
    "\n",
    "# Find the Mean\n",
    "n = length(x)\n",
    "\n",
    "xbar = sum(x)/n\n",
    "xbar\n",
    "\n",
    "# Find the Median\n",
    "M = quantile(x, probs = 0.50)\n",
    "M"
   ]
  },
  {
   "cell_type": "markdown",
   "metadata": {},
   "source": [
    "So the mean is about $\\bar{x} = 13.9487$ months and the median is $M = 13$ months.\n",
    "\n",
    "(We use $\\bar{x}$ instead of $\\mu$ because we are dealing with only a *sample* of patients on the transplant list, not the entire *population* of transplant patients.)"
   ]
  },
  {
   "cell_type": "markdown",
   "metadata": {},
   "source": [
    "***"
   ]
  },
  {
   "cell_type": "markdown",
   "metadata": {},
   "source": [
    "### Example 2.2.2\n",
    "All exam scores from a Calculus class are shown below. Find the mean score and the median score.\n",
    "\n",
    "<center>\n",
    "    42, 24, 35, 31.5, 32.5, 32, 48.5, 35.5, 38, 40, 20.5, 37, 34, 41.5, 43, 49, 48, 28, 35, 48.5, 22, 35.5, 44.5, 39, 21.5, 34.5, 40\n",
    "</center>"
   ]
  },
  {
   "cell_type": "code",
   "execution_count": 17,
   "metadata": {},
   "outputs": [
    {
     "data": {
      "text/html": [
       "36.3148148148148"
      ],
      "text/latex": [
       "36.3148148148148"
      ],
      "text/markdown": [
       "36.3148148148148"
      ],
      "text/plain": [
       "[1] 36.31481"
      ]
     },
     "metadata": {},
     "output_type": "display_data"
    },
    {
     "data": {
      "text/html": [
       "<strong>50%:</strong> 35.5"
      ],
      "text/latex": [
       "\\textbf{50\\textbackslash{}\\%:} 35.5"
      ],
      "text/markdown": [
       "**50%:** 35.5"
      ],
      "text/plain": [
       " 50% \n",
       "35.5 "
      ]
     },
     "metadata": {},
     "output_type": "display_data"
    }
   ],
   "source": [
    "x = c(42, 24, 35, 31.5, 32.5, 32, 48.5, 35.5, 38, 40, 20.5, 37, 34, 41.5, 43, 49, 48, 28, 35, 48.5, 22, 35.5, 44.5, 39, 21.5, 34.5, 40)\n",
    "\n",
    "# Find the Mean\n",
    "N = length(x)\n",
    "\n",
    "mu = sum(x)/N\n",
    "mu\n",
    "\n",
    "# Find the Median\n",
    "M = quantile(x, probs = 0.50)\n",
    "M"
   ]
  },
  {
   "cell_type": "markdown",
   "metadata": {},
   "source": [
    "So the mean score is about $\\mu = 36.3148$ points and the median is $M = 35.5$ points.\n",
    "\n",
    "(We use $\\mu$ instead of $\\bar{x}$ because we are dealing with the whole *population* of exam scores, not a *sample* of the class exam scores."
   ]
  },
  {
   "cell_type": "markdown",
   "metadata": {},
   "source": [
    "***"
   ]
  },
  {
   "cell_type": "markdown",
   "metadata": {},
   "source": [
    "\n",
    "### Example 2.2.3 ###\n",
    "Suppose that we sample 50 people in one city. One person earns \\$5,000,000 per year and the other 49 each earn \\$30,000. Find the mean and the median of the data. Which is the better measure of the \"center,\" the mean or the median?\n",
    "\n",
    "#### Solution ####\n",
    "The data in this example includes lots of large numbers. We could calculate the mean and median of the data the same way we have in the previous examples, but it would take a long time to list out all 50 numbers. Instead, we can take advantage of the fact that many of the values are repeated to perform the calcualtions more quickly.\n",
    "\n",
    "Since there is one person who earns \\$5,000,000 per year and 49 people who earn \\$30,000 per year, we calculate the mean as follows:"
   ]
  },
  {
   "cell_type": "code",
   "execution_count": 1,
   "metadata": {},
   "outputs": [
    {
     "data": {
      "text/html": [
       "129400"
      ],
      "text/latex": [
       "129400"
      ],
      "text/markdown": [
       "129400"
      ],
      "text/plain": [
       "[1] 129400"
      ]
     },
     "metadata": {},
     "output_type": "display_data"
    }
   ],
   "source": [
    "xbar = (1*5000000 + 49*30000)/50\n",
    "xbar"
   ]
  },
  {
   "cell_type": "markdown",
   "metadata": {},
   "source": [
    "So the mean annual income is $\\bar{x} = \\$129,400$ per year.\n",
    "\n",
    "To calculate the median, remember that the median is the middle value. Imagine lining up the data from smallest to largest. The \\$5,000,000 value lies on the edge of our list of values. All the other values are \\$30,000, so the median, the middle value, must be $M = \\$30,000$. (See {numref}`Figure {number} <visual-median>`.)\n",
    "\n",
    "```{figure} visual_median.png\n",
    "---\n",
    "width: 100%\n",
    "alt: An illustration of where the median lies in the example data.\n",
    "name: visual-median\n",
    "---\n",
    "If we imagine lining up the data values, we see that the median must be $M = \\$30,000$.\n",
    "```\n",
    "\n",
    "The median is a better measure of the \"center\" than the mean in this case because 49 of the values are \\$30,000 and one is \\$5,000,000. The \\$5,000,000 value is an outlier and significantly skews the mean. The median of $M = \\$30,000$ gives us a better sense of the income of an ordinary person in the city than the mean of $\\bar{x} = \\$129,400$."
   ]
  },
  {
   "cell_type": "code",
   "execution_count": 125,
   "metadata": {
    "tags": [
     "remove-cell"
    ]
   },
   "outputs": [
    {
     "data": {
      "text/html": [
       "<strong>png:</strong> 2"
      ],
      "text/latex": [
       "\\textbf{png:} 2"
      ],
      "text/markdown": [
       "**png:** 2"
      ],
      "text/plain": [
       "png \n",
       "  2 "
      ]
     },
     "metadata": {},
     "output_type": "display_data"
    }
   ],
   "source": [
    "library(shape)\n",
    "\n",
    "png(\"visual_median.png\", width = 1000, height = 300)\n",
    "\n",
    "rangebar = function(x0, x1, y, d, col){\n",
    "    segments(x0, y-d, x0, y+d, lwd = 4, col = col)\n",
    "    segments(x0, y, x1, y, lwd = 4, col = col)\n",
    "    segments(x1, y-d, x1, y+d, lwd = 4, col = col)\n",
    "}\n",
    "\n",
    "rangebrace = function(x0, x1, y, d, col){\n",
    "    Y = seq(y, y+d, length = 500)\n",
    "    Xl = (x1 - x0)/4 * ( (2/d)^(1/3) * sign(Y - (y + d/2))*abs(Y - (y + d/2))^(1/3) + 1 ) + (x0 + x1)/2\n",
    "    Xr = (x1 - x0)/4 * ( -(2/d)^(1/3) * sign(Y - (y + d/2))*abs(Y - (y + d/2))^(1/3) - 1 ) + (x0 + x1)/2\n",
    "    lines(Xl, Y, lwd = 3, col = col)\n",
    "    lines(Xr, Y, lwd = 3, col = col)\n",
    "}\n",
    "\n",
    "c1 = \"blue3\"\n",
    "c2 = \"forestgreen\"\n",
    "c3 = \"red3\"\n",
    "\n",
    "a = 0\n",
    "b = 9.5\n",
    "c = 10\n",
    "eps = 0.025\n",
    "\n",
    "par(mar = c(0, 0, 0, 0))\n",
    "plot(NULL, xlim = c(-0.1, 10.1), ylim = c(-2, 1), axes = FALSE, ann = FALSE)\n",
    "rangebar(a, b-eps, 0, 0.15, col = c1)\n",
    "rangebar(b+eps, c, 0, 0.15, col = c2)\n",
    "\n",
    "text(x = (a + b-eps)/3, y = 0.3, labels = \"$30,000\", cex = 2, col = c1)\n",
    "text(x = (a + b-eps)/3, y = -0.3, labels = \"49 Values\", cex = 2, col = c1)\n",
    "text(x = (b+eps + c)/2, y = 0.3, labels = \"$5,000,000\", cex = 2, col = c2)\n",
    "text(x = (b+eps + c)/2, y = -0.3, labels = \"1 Value\", cex = 2, col = c2)\n",
    "\n",
    "rangebrace(a, (a + c)/2 - 4*eps, -1, 0.4, col = c3)\n",
    "rangebrace((a + c)/2 + 4*eps, c, -1, 0.4, col = c3)\n",
    "text(x = (3*a + c)/4, y = -1.2, labels = \"Half of Data Values\", cex = 2, col = c3)\n",
    "text(x = (a + 3*c)/4, y = -1.2, labels = \"Half of Data Values\", cex = 2, col = c3)\n",
    "\n",
    "Arrows((a + c)/2, -1.5, (a + c)/2, -0.17, lwd = 3, col = c3, arr.type = \"triangle\", arr.width = 0.3)\n",
    "text(x = (a + c)/2, y = -1.5, labels = \"Median\", cex = 2, pos = 1, col = c3)\n",
    "\n",
    "dev.off()"
   ]
  }
 ],
 "metadata": {
  "kernelspec": {
   "display_name": "R",
   "language": "R",
   "name": "ir"
  },
  "language_info": {
   "codemirror_mode": "r",
   "file_extension": ".r",
   "mimetype": "text/x-r-source",
   "name": "R",
   "pygments_lexer": "r",
   "version": "4.2.3"
  }
 },
 "nbformat": 4,
 "nbformat_minor": 4
}
