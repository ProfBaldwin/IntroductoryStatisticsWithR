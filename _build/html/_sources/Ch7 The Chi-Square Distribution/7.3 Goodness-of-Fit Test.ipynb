{
 "cells": [
  {
   "cell_type": "markdown",
   "metadata": {},
   "source": [
    "# Goodness-of-Fit Test"
   ]
  },
  {
   "cell_type": "markdown",
   "metadata": {},
   "source": [
    "## Objectives\n",
    "- Use a goodness-of-fit hypothesis test to test if observed values fit an expected discrete distribution."
   ]
  },
  {
   "cell_type": "markdown",
   "metadata": {},
   "source": [
    "## Goodness-of-Fit Test\n",
    "In this type of hypothesis test, we determine whether the data *\"fit\"* a particular discrete distribution or not. For example, we may suspect the unknown data fit a binomial distribution. We use a goodness-of-fit test to determine if there is a fit or not.\n",
    "\n",
    "The test statistic for a goodness-of-fit test is:\n",
    "\n",
    "$$ \\chi^2 = \\sum \\frac{(O - E)^2}{E}, $$\n",
    "\n",
    "where\n",
    "\n",
    "- $O$ = observed values (sample data)\n",
    "- $E$ = expected values (from theory)\n",
    "\n",
    "The observed values are the data values from the sample. The expected values are the values we would expect to get if the null hypothesis were true. The sampling distribution of the test statistic is a $\\chi^2$-distribution. The number of degrees of freedom of the distribution is $df = k - 1$, where $k$ is the number of different categories in the hypothesized discrete distribution.\n",
    "\n",
    "Generally, the hypotheses of a goodness-of-fit test are\n",
    "\n",
    "\\begin{align*}\n",
    "H_0:&\\ \\text{The actual population fits the expected distribution.} \\\\\n",
    "H_a:&\\ \\text{The actual population does not fit the expected distribution.}\n",
    "\\end{align*}\n",
    "\n",
    "These hypotheses may be written as sentences and should be expressed in the context of the particular problem.\n",
    "\n",
    "A goodness-of-fit test is almost always right-tailed. The further apart observed values and expected values are from each other, the further out in the right tail the test statistic will be. (A left-tailed goodness of fit test would test if the observed values fit the expected values too well, which is not generally something we are concerned with.)\n",
    "\n",
    "For a goodness-of-fit test to be valid, the expected value for each category needs to be at least five.\n",
    "\n",
    "As with any hypothesis test, the fundamental steps for performing a goodness-of-fit hypothesis test are:\n",
    "\n",
    "1. State the null and alternative hypotheses.\n",
    "2. Assuming the null hypothesis is true, identify the sampling distribution.\n",
    "3. Find the $p$-value.\n",
    "4. Draw a conclusion."
   ]
  },
  {
   "cell_type": "markdown",
   "metadata": {},
   "source": [
    "***"
   ]
  },
  {
   "cell_type": "markdown",
   "metadata": {},
   "source": [
    "\n",
    "### Example 7.3.1\n",
    "Absenteeism of college students from math classes is a major concern to math instructors because missing class appears to increase the drop rate. Suppose that a study was done to determine if the actual student absenteeism rate follows faculty perception. The faculty expected that any randomly chosen group of $100$ students would miss class according to {numref}`goodness-of-fit-1-expected`.\n",
    "\n",
    "```{list-table} Expected student absenteeism frequency in math classes.\n",
    ":header-rows: 1\n",
    ":name: goodness-of-fit-1-expected\n",
    "* - Number of Absences per Term\n",
    "  - Expected Number of Students\n",
    "* - $0$-$2$\n",
    "  - $50$\n",
    "* - $3$-$5$\n",
    "  - $30$\n",
    "* - $6$-$8$\n",
    "  - $12$\n",
    "* - $9$+\n",
    "  - $8$\n",
    "```\n",
    "\n",
    "A random survey across of $100$ students all mathematics courses was then done to determine the actual number of absences in a course. {numref}`goodness-of-fit-1-observed` displays the results of the survey.\n",
    "\n",
    "```{list-table} Observed student absenteeism frequency in math classes.\n",
    ":header-rows: 1\n",
    ":name: goodness-of-fit-1-observed\n",
    "* - Number of Absences per Term\n",
    "  - Expected Number of Students\n",
    "* - $0$-$2$\n",
    "  - $35$\n",
    "* - $3$-$5$\n",
    "  - $40$\n",
    "* - $6$-$8$\n",
    "  - $20$\n",
    "* - $9$+\n",
    "  - $5$\n",
    "```\n",
    "\n",
    "Perform a goodness-of-fit test at a $1\\%$ level of significance to determine whether or not student absenteeism fits faculty perception.\n",
    "\n",
    "#### Solution\n",
    "##### Step 1: State the null and alternative hypotheses.\n",
    "The null and alternative hypotheses are\n",
    "\n",
    "\\begin{align*}\n",
    "H_0:&\\ \\text{Student absenteeism fits faculty perception} \\\\\n",
    "H_a:&\\ \\text{Student absenteeism does not fit faculty perception}\n",
    "\\end{align*}\n",
    "\n",
    "##### Step 2: Assuming the null hypothesis is true, identify the sampling distribution.\n",
    "This is a goodness-of-fit test. We are testing to see if student absenteeism is distributed in the same way that faculty expect it to be distributed; that is, we are testing whether or not faculty perception of student absenteeism is a *good fit* for actual student absenteeism. Since this is a goodness-of-fit test, the sampling distribution is a $\\chi^2$ distribution. The categories of the expected distribution are $0$-$2$, $3$-$5$, $6$-$8$, and $9$+, for a total of $k = 4$ categories. Therefore, the sampling distribution has $df = k - 1 = 4 - 1 = 3$ degrees of freedom.\n",
    "\n",
    "##### Step 3: Find the  $p$-value.\n",
    "To find the $p$-value, we first must calculate the test statistic\n",
    "\n",
    "$$ \\chi^2 = \\sum \\frac{(O - E)^2}{E}. $$\n",
    "\n",
    "The observed values $O$ are the actual number of students observed in each category. The expected values $E$ are the numbers of students the faculty expect to be in each category. These value are found in the two tables above. We will use R to calculate the test statistic."
   ]
  },
  {
   "cell_type": "code",
   "execution_count": 1,
   "metadata": {},
   "outputs": [
    {
     "data": {
      "text/html": [
       "14.2916666666667"
      ],
      "text/latex": [
       "14.2916666666667"
      ],
      "text/markdown": [
       "14.2916666666667"
      ],
      "text/plain": [
       "[1] 14.29167"
      ]
     },
     "metadata": {},
     "output_type": "display_data"
    }
   ],
   "source": [
    "O = c(35, 40, 20, 5)\n",
    "E = c(50, 30, 12, 8)\n",
    "\n",
    "chisq = sum( (O - E)^2 / E )\n",
    "chisq"
   ]
  },
  {
   "cell_type": "markdown",
   "metadata": {},
   "source": [
    "The test statistic is $\\chi^2 = 14.2917$. Since goodness-of-fit tests are almost always right-tailed tests, we will perform a right-tailed test to find the $p$-value. That means the $p$-value is $P(\\chi^2 \\geq 14.2917)$."
   ]
  },
  {
   "cell_type": "code",
   "execution_count": 1,
   "metadata": {},
   "outputs": [
    {
     "data": {
      "text/html": [
       "0.00253382515522105"
      ],
      "text/latex": [
       "0.00253382515522105"
      ],
      "text/markdown": [
       "0.00253382515522105"
      ],
      "text/plain": [
       "[1] 0.002533825"
      ]
     },
     "metadata": {},
     "output_type": "display_data"
    }
   ],
   "source": [
    "1 - pchisq(q = 14.2917, df = 3)"
   ]
  },
  {
   "cell_type": "markdown",
   "metadata": {},
   "source": [
    "So $P(\\chi^2 \\geq 14.2917) = 0.0025$. That is, if student absenteeism actually does fit faculty perception, then there is only a $0.25\\%$ chance that a random sample of $100$ students would deviate from the expected distribution as far as our sample did.\n",
    "\n",
    "##### Step 4: Make a conclusion about the null hypothesis.\n",
    "We are conducting this hypothesis test at the $1\\%$ level of significance, so $\\alpha = 0.01$. Since\n",
    "\n",
    "$$ p\\text{-value} = 0.0025 < 0.01 = \\alpha, $$\n",
    "\n",
    "we reject the null hypothesis.\n",
    "\n",
    "We conclude that the actual distribution of student absenteeism does not fit faculty perception."
   ]
  },
  {
   "cell_type": "markdown",
   "metadata": {},
   "source": [
    "***"
   ]
  },
  {
   "cell_type": "markdown",
   "metadata": {},
   "source": [
    "\n",
    "### Example 7.3.2\n",
    "Suppose you roll a six-sided die $80$ times, with the following results:\n",
    "\n",
    "```{list-table} Observed outcomes from rolling a six-sided die $80$ times.\n",
    ":header-rows: 1\n",
    ":name: goodness-of-fit-2-observed\n",
    "* - Face Value\n",
    "  - Number of Rolls\n",
    "* - 1\n",
    "  - 16\n",
    "* - 2\n",
    "  - 21\n",
    "* - 3\n",
    "  - 14\n",
    "* - 4\n",
    "  - 9\n",
    "* - 5\n",
    "  - 7\n",
    "* - 6\n",
    "  - 13\n",
    "```\n",
    "\n",
    "Use a goodness-of-fit test with a $5\\%$ level of significance to determine whether or not the die is fair.\n",
    "\n",
    "#### Solution\n",
    "##### Part 1: State the null and alternative hypotheses.\n",
    "The null hypothesis is that the true distribution of rolls of your die matches the distribution of rolls of a fair die. This could be said more succinctly as:\n",
    "\n",
    "\\begin{align*}\n",
    "H_0:&\\ \\text{The die is fair.} \\\\\n",
    "H_a:&\\ \\text{The die is not fair.}\n",
    "\\end{align*}\n",
    "\n",
    "##### Part 2: Assuming the null hypothesis is true, identify the sampling distribution.\n",
    "Since we want to see if the distribution of rolls of a fair die is a *good fit* for the distribution of rolls of your die, we will use a $\\chi^2$-distribution to test the hypothesis. Since there are $k = 6$ categories or outcomes, the sampling distribution has $df = k - 1 = 6 - 1 = 5$ degrees of freedom.\n",
    "\n",
    "#### Part 3: Find the $p$-value.\n",
    "To find the $p$-value, we first must calculate the test statistic\n",
    "\n",
    "$$ \\chi^2 = \\sum \\frac{(O - E)^2}{E}. $$\n",
    "\n",
    "Note that the table above are the observed values. But if we roll a fair die $80$ times, we *expect* to roll each number $\\frac{1}{6}80 = 13.3333$ times:\n",
    "\n",
    "```{list-table} Expected outcomes from rolling a six-sided die $80$ times.\n",
    ":header-rows: 1\n",
    ":name: goodness-of-fit-2-expected\n",
    "* - Face Value\n",
    "  - Number of Rolls\n",
    "* - 1\n",
    "  - 13.3333\n",
    "* - 2\n",
    "  - 13.3333\n",
    "* - 3\n",
    "  - 13.3333\n",
    "* - 4\n",
    "  - 13.3333\n",
    "* - 5\n",
    "  - 13.3333\n",
    "* - 6\n",
    "  - 13.3333\n",
    "```\n",
    "\n",
    "Let's use R to calculate the test statistic $\\chi^2$:"
   ]
  },
  {
   "cell_type": "code",
   "execution_count": 1,
   "metadata": {},
   "outputs": [
    {
     "data": {
      "text/html": [
       "9.40002350055875"
      ],
      "text/latex": [
       "9.40002350055875"
      ],
      "text/markdown": [
       "9.40002350055875"
      ],
      "text/plain": [
       "[1] 9.400024"
      ]
     },
     "metadata": {},
     "output_type": "display_data"
    }
   ],
   "source": [
    "O = c(16, 21, 14, 9, 7, 13)\n",
    "E = c(13.3333, 13.3333, 13.3333, 13.3333, 13.3333, 13.3333)\n",
    "\n",
    "chisq = sum( (O - E)^2/E )\n",
    "chisq"
   ]
  },
  {
   "cell_type": "markdown",
   "metadata": {},
   "source": [
    "The test statistic is $\\chi^2 = 9.400$.\n",
    "\n",
    "Since a goodness-of-fit test is almost always right-tailed, the $p$-value we want to find is equal to $P(\\chi^2 \\geq 9.400)$."
   ]
  },
  {
   "cell_type": "code",
   "execution_count": 2,
   "metadata": {},
   "outputs": [
    {
     "data": {
      "text/html": [
       "0.0941343840306237"
      ],
      "text/latex": [
       "0.0941343840306237"
      ],
      "text/markdown": [
       "0.0941343840306237"
      ],
      "text/plain": [
       "[1] 0.09413438"
      ]
     },
     "metadata": {},
     "output_type": "display_data"
    }
   ],
   "source": [
    "1 - pchisq(q = 9.400, df = 5)"
   ]
  },
  {
   "cell_type": "markdown",
   "metadata": {},
   "source": [
    "So the $p$-value is $P(\\chi^2 \\geq 9.400) = 0.0941$. That is, assuming the die is fair, there is a $9.41\\%$ chance of obtaining the distribution we observed.\n",
    "\n",
    "##### Step 4: Draw a conclusion.\n",
    "Since the level of significance for this hypothesis test is $5\\%$, the value of $\\alpha = 0.05$. Because\n",
    "\n",
    "$$ p\\text{-value} = 0.0941 \\geq 0.05 = \\alpha, $$\n",
    "\n",
    "we do not reject the null hypothesis.\n",
    "\n",
    "There is not enough evidence to conclude that your die is not fair."
   ]
  }
 ],
 "metadata": {
  "kernelspec": {
   "display_name": "R",
   "language": "R",
   "name": "ir"
  },
  "language_info": {
   "codemirror_mode": "r",
   "file_extension": ".r",
   "mimetype": "text/x-r-source",
   "name": "R",
   "pygments_lexer": "r",
   "version": "4.2.3"
  }
 },
 "nbformat": 4,
 "nbformat_minor": 4
}
