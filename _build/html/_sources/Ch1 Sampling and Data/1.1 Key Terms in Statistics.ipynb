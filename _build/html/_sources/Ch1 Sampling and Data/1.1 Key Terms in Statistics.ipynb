{
 "cells": [
  {
   "cell_type": "markdown",
   "metadata": {},
   "source": [
    "# Key Terms in Statistics"
   ]
  },
  {
   "cell_type": "markdown",
   "metadata": {},
   "source": [
    "## Objectives\n",
    "- Determine the difference between a population and a sample.\n",
    "- Distinguish between a parameter and a statistic.\n",
    "- Identify variables and data."
   ]
  },
  {
   "cell_type": "markdown",
   "metadata": {},
   "source": [
    "## The Definition of Statistics\n",
    "The science of **statistics** deals with the collection, analysis, interpretation, and presentation of **data**. We see and use data in our everyday lives.\n",
    "\n",
    "In this text, you will learn how to organize and summarize data. Organizing and summarizing data is called **descriptive statistics**. There are many ways to summarize data. For example, graphing is one way to summarize data. We can also use numbers to summarize data; for example, we could calculate the average value of the data.\n",
    "\n",
    "Later, after you have studied probability and probability distributions, you will use formal methods for drawing conclusions from \"good\" data. These formal methods are called **inferential statistics**. Statistical inference uses probability to determine how confident we can be that our conclusions are correct.\n",
    "\n",
    "Effective interpretation of data (inference) is based on good procedures for obtaining data and thoughtful examination of the data. You will encounter what will seem to be too many mathematical formulas for interpreting data. The goal of statistics is not to perform numerous calculations using the formulas, but to gain an understanding of your data. The calculations can be done using a calculator or a computer. The understanding must come from you. If you can thoroughly grasp the basics of statistics, you can be more confident in the decisions you make in life."
   ]
  },
  {
   "cell_type": "markdown",
   "metadata": {},
   "source": [
    "***"
   ]
  },
  {
   "cell_type": "markdown",
   "metadata": {},
   "source": [
    "\n",
    "### Example 1.1.1\n",
    "We asked $14$ people chosen randomly from a statistics class how many hours they sleep per night. We obtained the following data:\n",
    "\n",
    "\n",
    "<div style=\"text-align:center\">5, 5.5, 6, 6, 6, 6.5, 6.5, 6.5, 6.5, 7, 7, 8, 8, 9</div>\n",
    "<br/>\n",
    "\n",
    "We can summarize this data in a **histogram**, as shown in {numref}`Figure {number} <intro_histogram>`."
   ]
  },
  {
   "cell_type": "code",
   "execution_count": 2,
   "metadata": {
    "tags": [
     "remove-cell"
    ]
   },
   "outputs": [
    {
     "data": {
      "text/html": [
       "<strong>png:</strong> 2"
      ],
      "text/latex": [
       "\\textbf{png:} 2"
      ],
      "text/markdown": [
       "**png:** 2"
      ],
      "text/plain": [
       "png \n",
       "  2 "
      ]
     },
     "metadata": {},
     "output_type": "display_data"
    }
   ],
   "source": [
    "#**ALT=Histogram conists of 4 bars. The x-axis is titled Hours Slept per Night and ranges from 5 to 9 in intervals of 1. Vertical axis is titled Frequency and ranges from 0 to 6 in intervals of 1.**#\n",
    "# Generate the histogram included in the text below.\n",
    "library(repr)\n",
    "options(repr.plot.width = 7, repr.plot.height=4)\n",
    "\n",
    "png(\"intro_histogram.png\", width = 1000, height = 500)\n",
    "\n",
    "hours_sleep = c(5, 5.5, 6, 6, 6, 6.5, 6.5, 6.5, 6.5, 7, 7, 8, 8, 9)\n",
    "par(mar = c(7, 7, 0, 0))\n",
    "hist(hours_sleep, main=\"\", xlab=\"Hours Slept per Night\", cex.lab = 2, cex.axis = 1.5, col = \"gray70\")\n",
    "\n",
    "dev.off()"
   ]
  },
  {
   "cell_type": "markdown",
   "metadata": {},
   "source": [
    "```{figure} intro_histogram.png\n",
    "---\n",
    "width: 100%\n",
    "alt: A histogram of the data in this example. The histogram shows most people surveyed sleep less than 7 hours per night.\n",
    "name: intro_histogram\n",
    "---\n",
    "A histogram of the data above. The height of each bar in the histogram tells us how many data values we have in the range covered by the histogram. For example, we can see that 5 of the individuals surveyed sleep between 5 and 6 hours per night.\n",
    "```"
   ]
  },
  {
   "cell_type": "markdown",
   "metadata": {},
   "source": [
    "By looking at the histogram, we can see that most people we surveyed got no more than $7$ hours of sleep per night.\n",
    "\n",
    "We can summarize our data by calculating the average number of hours slept: the $14$ statistics students surveyed slept an average of $6.679$ hours per night. Since this was the average for our sample of $14$ students, we might \n",
    "infer that the average amount of sleep of *all* statistics students is close to $6.679$ hours per night.\n",
    "\n",
    "Note that this example deals in a very simple manner with the fundamental components of statistics mentioned above. We are provided *data* and told how the data was *collected*. We *present* this data graphically using a histogram, then provide a simple *analysis* of the data, concluding that most people surveyed get no more than $7$ hours of sleep per night. We calculated the average number of hours those surveyed slept each night; this *descriptive statistic* summarized our data. Using the average we calculated, we *inferred* that it was likely that if we averaged the amount of sleep of all statistics students, it would be close to the average amount of sleep of the $14$ students we surveyed.\n",
    "\n",
    "In this course, we will be studying each of these concepts in much greater detail.\n"
   ]
  },
  {
   "cell_type": "markdown",
   "metadata": {},
   "source": [
    "***"
   ]
  },
  {
   "cell_type": "markdown",
   "metadata": {
    "tags": []
   },
   "source": [
    "## Key Terms\n",
    "In statistics, we generally want to study a **population**. You can think of a population as a collection of persons, things, or objects under study. To study the population, we select a **sample**. The idea of **sampling** is to select a portion (or subset) of the larger population and study that smaller portion (the sample) to infer information about the population.\n",
    "\n",
    "```{figure} Simple_random_sampling.png\n",
    "---\n",
    "width: 60%\n",
    "alt: A sample of four individuals is chosen from a population of twelve individuals.\n",
    "name: sampling_image\n",
    "---\n",
    "A sample of four individuals is chosen from a population of twelve individuals.[^attribution]\n",
    "```\n",
    "Because it usually takes a lot of time and money to examine an entire population, sampling is a very practical technique. For example:\n",
    "- During a national election, it is impossible for a pollster to survey all the millions of voters in the country. Instead, the pollster will sample only a few hundred voters from the population. The opinions expressed by those sampled in the survey (hopefully) represent the views of voters in the entire country.\n",
    "- An ice cream manufacturer wouldn't want to taste-test every carton of ice cream produced to ensure its quality because the testing process would ruin the ice cream. Instead, the manufacturer could taste-test a sample of ice cream cartons. If any quality control issues are present in the ice cream cartons sampled, it may indicate there are problems in the larger population.\n",
    "\n",
    "[^attribution]: {numref}`Figure {number} <sampling_image>` was [created by Dan Kernler](https://commons.wikimedia.org/wiki/File:Simple_random_sampling.PNG) and is licensed under the [Creative Commons Attribution-Share Alike 4.0 International](https://creativecommons.org/licenses/by-sa/4.0/deed.en) license."
   ]
  },
  {
   "cell_type": "markdown",
   "metadata": {},
   "source": [
    "***"
   ]
  },
  {
   "cell_type": "markdown",
   "metadata": {
    "tags": []
   },
   "source": [
    "### Example 1.1.2\n",
    "An advertising company has created two ads for an American restaurant chain, one featuring a burger and one featuring a salad. They want to know which of the two ads Americans would find more appealing. To find out, the advertising company surveys $50$ people and asks them which of the two ads they prefer. What is the population and what is the sample in this example?\n",
    "\n",
    "#### Solution\n",
    "- Population: All Americans\n",
    "- Sample: The $50$ people that were surveyed"
   ]
  },
  {
   "cell_type": "markdown",
   "metadata": {},
   "source": [
    "***"
   ]
  },
  {
   "cell_type": "markdown",
   "metadata": {},
   "source": [
    "We sample a population so we can estimate a population **parameter**. A parameter is a number that summarizes the characteristics of a population. Because it can be difficult to study an entire population, we often cannot find the exact value of a parameter. Instead, we estimate the population parameter by calculating a sample **statistic**. A statistic is a number that summarizes the characteristics of a sample. A statistic is easier to calculate than a parameter because we only need to study a sample—not the entire population—to calculate a statistic. We can use a sample statistic to estimate a population parameter.\n",
    "\n",
    "The **mean** of a population (commonly referred to as the **average** of a population) is one example of a parameter. For example, suppose we want to find the mean age of people living in California. Since it is difficult to find the age of every person in California, we could sample just a few Californians and calculate the mean age of the sample. We can use this statistic—the mean age of the Californians sampled—to estimate the parameter—the mean age of all Californians. For instance, if the average age of Californians in our sample is 35.2 years old, we would estimate that the average age of all Californians is about 35.2 years old.\n",
    "\n",
    "The **proportion** of a population is another example of a parameter. The proportion of the population is the fraction of the population that possesses some characteristic. We can express proportions as fractions, percents, or decimals. For example, suppose on your way to school you counted $50$ cars, $8$ of which were red. So in your sample of $50$ cars, the proportion of red cars is $\\frac{8}{50}$. (As a percent, this proportion is $16\\%$. As a decimal, it is $0.16$.) We can use this statistic from our sample of $50$ cars to estimate the proportion of the population of all cars that are red; that is, we estimate that around $16\\%$ of all cars are red.\n",
    "\n",
    "One of the main concerns in the field of statistics is how accurately a statistic estimates a parameter. The accuracy really depends on how well the sample represents the population. The sample must contain the characteristics of the population in order to be a representative sample. We are interested in both the sample statistic and the population parameter in inferential statistics. In a later chapter, we will use the sample statistic to test the validity of a hypothesized population parameter.\n",
    "\n",
    "```{tip}\n",
    "The first letter of *parameter* and the first letter of *statistic* will help you remember in which setting each word is used. A **p**arameter summarizes characteristics of a **p**opulation. A **s**tatistic summarizes characteristics of a **s**ample.\n",
    "```"
   ]
  },
  {
   "cell_type": "markdown",
   "metadata": {},
   "source": [
    "***"
   ]
  },
  {
   "cell_type": "markdown",
   "metadata": {},
   "source": [
    "\n",
    "### Example 1.1.4\n",
    "The Bureau of Labor Statistics (BLS) wants to know the average annual income of statisticians. To find out, they ask $150$ statisticians across the country what their annual income is, then average their results. What is the parameter and the statistic of interest in this example?\n",
    "\n",
    "#### Solution\n",
    "- Population Parameter: The average annual income of all statisticians.\n",
    "- Sample Statistic: The average annual income of the $150$ statisticians that were surveyed."
   ]
  },
  {
   "cell_type": "markdown",
   "metadata": {},
   "source": [
    "***"
   ]
  },
  {
   "cell_type": "markdown",
   "metadata": {},
   "source": [
    "To calculate a sample statistic, we must gather information from each member sampled. A **variable** is a characteristic or measurement that can be determined for each member of a population. Variables are usually denoted by campital letters such as $X$ or $Y$. To calculate a sample statistic, we must gather **data** corresponding to the variable we are studying from each member sampled. The data are the actual values of the variable. They may be numbers or they may be words. A **data point** or **datum** is a single data value. For example:\n",
    "- Let $X$ equal the number of points earned by a math student on an exam. Examples of data for $X$ might be $91$, $76$, or $83$. \n",
    "- Let $Y$ be a person's political party affiliation. Some examples of data for $Y$ include \"Republican\", \"Democrat\", and \"Independent\".\n",
    "\n",
    "```{note}\n",
    "In practice, the word *data* is sometimes treated as a plural noun, in which case plural verbs and pronouns are used, and at other times *data* is treated as a collective noun, in which case singular verbs and pronouns are used. In most cases, either form is acceptable: \"The data *are* accurate\" or \"The data *is* accurate\" have practically the same meaning.[^DataWikiRef] This is similar to how *people* is a plural noun (\"The people *are* happy\"), but *population* is a collective noun (\"The population *is* happy\"), even though both words indicate a group of several individuals.\n",
    "\n",
    "[^DataWikiRef]:See the [Wikipedia entry for *Data (word)*](https://en.wikipedia.org/wiki/Data_(word)) for more information.\n",
    "\n",
    "In formal writing, the plural form of *data* is sometimes preferred, and several writing style guides, such as MLA and APA, only allow the plural form.\n",
    "```"
   ]
  },
  {
   "cell_type": "markdown",
   "metadata": {},
   "source": [
    "***"
   ]
  },
  {
   "cell_type": "markdown",
   "metadata": {},
   "source": [
    "### Example 1.1.5\n",
    "A medical doctor wishes to know the average time a laproscopic gallbladder removal surgery takes at her hospital. To find out, she samples $14$ gallbladder removal surgeries to find out and notes how long each surgery takes. Three of the surgeries sampled respectively took $1.5$ hours, $2.25$ hours, and $1.25$ hours. What is the variable and what is the data in this example?\n",
    "\n",
    "#### Solution\n",
    "- Variable: $X$ = The time it takes to perform one gallbladder surgery.\n",
    "- Data: $1.5$ hours, $2.25$ hours, $1.25$ hours"
   ]
  },
  {
   "cell_type": "markdown",
   "metadata": {},
   "source": [
    "***"
   ]
  },
  {
   "cell_type": "markdown",
   "metadata": {},
   "source": [
    "### Example 1.1.6\n",
    "We want to know the average (mean) amount of money first year college students spend at ABC College on school supplies that do not include books. We randomly surveyed 100 first year students at the college. Three of those students spent $\\$150$, $\\$200$, and $\\$225$, respectively. \n",
    "\n",
    "Identify the population, sample, parameter, statistic, variable, and data in this example.\n",
    "\n",
    "#### Solution\n",
    "- Population: First year college students at ABC College\n",
    "- Sample: The 100 first year students surveyed\n",
    "- Population Parameter: The average (mean) amount of money spent (excluding books) by first year college students at ABC College\n",
    "- Sample Statistic: The average (mean) amount of money spent (excluding books) by first year college students in the sample\n",
    "- Variable: $X$ = The amount of money spent (excluding books) by one first year student attending ABC College\n",
    "- Data: $\\$150$, $\\$200$, and $\\$225$"
   ]
  },
  {
   "cell_type": "markdown",
   "metadata": {},
   "source": [
    "***"
   ]
  },
  {
   "cell_type": "markdown",
   "metadata": {},
   "source": [
    "### Example 1.1.7\n",
    "An insurance company would like to determine the proportion of all medical doctors who have been involved in one or more malpractice lawsuits. The company selects 500 doctors at random from a professional directory and determines the number in the sample who have been involved in a malpractice lawsuit.\n",
    "\n",
    "Identify the population, sample, parameter, statistic, variable, and data in this example.\n",
    "\n",
    "#### Solution\n",
    "- Population: All medical doctors\n",
    "- Sample: The 500 doctors selected at random from the professional directory\n",
    "- Population Parameter: The proportion of medical doctors who have been involved in one or more malpractice suits\n",
    "- Sample Statistic: The proportion of medical doctors who have been involved in one or more malpractice suits in the sample\n",
    "- Variable: $X$ = Whether or not one doctor has been involved in one or more malpractice suits\n",
    "- Data: Either \"Yes, was involved in one or more malpractice suits,\" or \"No, was not involved in one or more malpractice suits\""
   ]
  }
 ],
 "metadata": {
  "kernelspec": {
   "display_name": "R",
   "language": "R",
   "name": "ir"
  },
  "language_info": {
   "codemirror_mode": "r",
   "file_extension": ".r",
   "mimetype": "text/x-r-source",
   "name": "R",
   "pygments_lexer": "r",
   "version": "4.3.3"
  }
 },
 "nbformat": 4,
 "nbformat_minor": 4
}
