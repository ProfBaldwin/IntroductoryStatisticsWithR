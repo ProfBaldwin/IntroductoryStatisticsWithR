{
 "cells": [
  {
   "cell_type": "markdown",
   "metadata": {},
   "source": [
    "# The Correlation Coefficient"
   ]
  },
  {
   "cell_type": "markdown",
   "metadata": {},
   "source": [
    "## Objectives\n",
    "- Identify and interpret the correlation coefficient for bivariate data.\n",
    "- Conduct a hypothesis test to determine if the correlation coefficient for a population is significant."
   ]
  },
  {
   "cell_type": "markdown",
   "metadata": {},
   "source": [
    "## The Correlation Coefficient\n",
    "Besides looking at the scatter plot and seeing how closely the data points fit a line of best fit, how can you tell how well the line fits the data?\n",
    "\n",
    "The **correlation coefficient**, $r$, developed by Karl Pearson in the early $1900$s, is a numerical value that measures the strength and direction of the linear association between an independent variable $x$ and a dependent variable $y$.\n",
    "\n",
    "We can find the correlation coefficient in R using the <code>cor</code> function:\n",
    "\n",
    "```R\n",
    "cor(x, y)\n",
    "```\n",
    "\n",
    "Here, <code>x</code> is the list of the independent $x$ values, and <code>y</code> is the corresponding list of the dependent $y$ values.\n",
    "\n",
    "The correlation coefficient has many useful properties:\n",
    "- The value of $r$ is always between -1 and +1: $-1 \\leq r \\leq 1$.\n",
    "- The size of the correlation coefficient $r$ indicates the strength of the linear relationship between $x$ and $y$. Values of $r$ close to -1 or to +1 indicate a stronger linear relationship between $x$ and $y$.\n",
    "- If $r = 0$ there is likely no linear correlation. (However, it is important to view the scatterplot, as the data may exhibit a non-linear correlation.)\n",
    "- If $r = 1$, there is perfect positive correlation. If $r = –1$, there is perfect negative correlation. In both these cases, all of the original data points lie exactly on a straight line. Of course, in the real world, this will not generally happen.\n",
    "- A positive value of $r$ means that the slope of the line of best fit is positive. In this case, we say the variables appear to be **positively correlated**.\n",
    "- A negative value of $r$ means that the slope of the line of best fit is negative. In this case, we say the variables appear to be **negatively correlated**."
   ]
  },
  {
   "cell_type": "markdown",
   "metadata": {},
   "source": [
    "***"
   ]
  },
  {
   "cell_type": "markdown",
   "metadata": {},
   "source": [
    "\n",
    "### Example 8.4.1\n",
    "SCUBA divers have maximum dive times they cannot exceed when going to different depths. The data in the table show different depths with the maximum dive times in minutes. Find and interpret the correlation coefficient $r$ for the data.\n",
    "\n",
    "```{list-table} The dive depth and corresponding maximum dive time at that depth for SCUBA divers.\n",
    ":header-rows: 1\n",
    ":name: reg-data-3\n",
    "* - $x$ (Depth in Feet)\n",
    "  - $y$ (Maximum Dive Time)\n",
    "* - 50\n",
    "  - 80\n",
    "* - 60\n",
    "  - 55\n",
    "* - 70\n",
    "  - 45\n",
    "* - 80\n",
    "  - 35\n",
    "* - 90\n",
    "  - 25\n",
    "* - 100\n",
    "  - 22\n",
    "```\n",
    "\n",
    "#### Solution"
   ]
  },
  {
   "cell_type": "code",
   "execution_count": 1,
   "metadata": {},
   "outputs": [
    {
     "data": {
      "text/html": [
       "-0.962938502101513"
      ],
      "text/latex": [
       "-0.962938502101513"
      ],
      "text/markdown": [
       "-0.962938502101513"
      ],
      "text/plain": [
       "[1] -0.9629385"
      ]
     },
     "metadata": {},
     "output_type": "display_data"
    }
   ],
   "source": [
    "x = c(50, 60, 70, 80, 90, 100)\n",
    "y = c(80, 55, 45, 35, 25, 22)\n",
    "\n",
    "cor(x, y)"
   ]
  },
  {
   "cell_type": "markdown",
   "metadata": {},
   "source": [
    "So the correlation coefficient for the data is $r = -0.9629$. Since $r$ is very close to $-1$, the dive depth has a very strong linear relationship to the maximum dive time. Since $r$ is negative, the slope of the line of best fit would also be negative, meaning the dive depth and associated dive time are negatively correlated."
   ]
  },
  {
   "cell_type": "markdown",
   "metadata": {},
   "source": [
    "***"
   ]
  },
  {
   "cell_type": "markdown",
   "metadata": {},
   "source": [
    "## Testing the Significance of the Correlation Coefficient\n",
    "We want to perform a hypothesis test on the significance of a correlation coefficient to decide whether the linear relationship in the sample data is strong enough to use to model the relationship in the population. The correlation coefficient, $r$, tells us about the strength and direction of the linear relationship between $x$ and $y$. However, the reliability of the linear model also depends on how many observed data points are in the sample. To determine if a linear model accurately reflects the relationship in a population, we need to look at both the value of the correlation coefficient $r$ and the sample size $n$, together.\n",
    "\n",
    "In other words, we would like to test the significance of the population correlation coefficient, denoted by $\\rho$ (the Greek letter \"rho\"), using the sample correlation coefficient, $r$. If the evidence from the sample data is strong enough to suggest that $\\rho \\neq 0$, then we can conclude that the population is linearly correlated; otherwise, the evidence is not sufficient to reject the null hypothesis that $\\rho = 0$, and we cannot conclude that the population is linearly correlated.\n",
    "\n",
    "Thus, when testing the significance of the correlation coefficient, the hypotheses are always:\n",
    "\n",
    "\\begin{align*}\n",
    "H_0:\\ \\rho = 0, \\\\\n",
    "H_a:\\ \\rho \\neq 0.\n",
    "\\end{align*}\n",
    "\n",
    "Because the alternative hypothesis uses a \"not-equal-to\" symbol, this kind of test is a two-tailed test.\n",
    "\n",
    "To calculate the $p$-value for this kind of hypothesis test, we use a $t$-distribution with $df = n - 2$ degrees of freedom (where $n$ is the number of data points in our sample), and we use the test statistic\n",
    "\n",
    "$$ t = \\frac{r \\sqrt{n - 2}}{\\sqrt{1 - r^2}}. $$\n",
    "\n",
    "Once we have the $p$-value, we compare it to the level of significance $\\alpha$ and draw our conclusion as normal:\n",
    "- If $p$-value $< \\alpha$, then we reject the null hypothesis. We conclude that $\\rho \\neq 0$; that is, we conclude that there is significant linear correlation in the population.\n",
    "- If $p$-value $\\geq \\alpha$, then we cannot reject the null hypothesis, that $\\rho = 0$. We do not have enough evidence to conclude that there is significant linear correlation in the population.\n",
    "\n",
    "The general steps for completing a hypothesis test have not changed:\n",
    "1. State the null and alternative hypotheses.\n",
    "2. Assuming the null hypothesis is true, identify the sampling distribution.\n",
    "3. Find the $p$-value.\n",
    "4. Make a conclusion about the null hypothesis. "
   ]
  },
  {
   "cell_type": "markdown",
   "metadata": {},
   "source": [
    "***"
   ]
  },
  {
   "cell_type": "markdown",
   "metadata": {},
   "source": [
    "\n",
    "### Example 8.4.2\n",
    "A random sample of $11$ statistics students produced the following data, where $x$ is the score of the third exam (with $80$ points possible), and $y$ is the score of the final exam (with $200$ points possible).\n",
    "\n",
    "```{list-table} The scores of $11$ students on the third exam and the final exam.\n",
    ":header-rows: 1\n",
    ":name: reg-data-4\n",
    "* - $x$ (Third Exam Score)\n",
    "  - $y$ (Final Exam Score)\n",
    "* - 65\n",
    "  - 175\n",
    "* - 67\n",
    "  - 133\n",
    "* - 71\n",
    "  - 185\n",
    "* - 71\n",
    "  - 163\n",
    "* - 66\n",
    "  - 126\n",
    "* - 75\n",
    "  - 198\n",
    "* - 67\n",
    "  - 153\n",
    "* - 70\n",
    "  - 163\n",
    "* - 71\n",
    "  - 159\n",
    "* - 69\n",
    "  - 151\n",
    "* - 69\n",
    "  - 159\n",
    "```\n",
    "\n",
    "Perform a hypothesis test with a $1\\%$ level of significance to determine whether or not there is a linear correlation between a student's third exam score and their final exam score.\n",
    "\n",
    "#### Solution\n",
    "##### Part 1: State the null and alternative hypotheses.\n",
    "When testing the significance of the population correlation coefficient, the null and alternative hypotheses are always the same:\n",
    "\n",
    "\\begin{align*}\n",
    "H_0:\\ \\rho = 0, \\\\\n",
    "H_a:\\ \\rho \\neq 0.\n",
    "\\end{align*}\n",
    "\n",
    "Our null hypothesis $H_0$ is that there is no linear correlation in the population between a student's third exam score and their final exam score. The alternative hypothesis $H_a$ is that there is some degree of linear correlation in the population between a student's third exam score and their final exam score.\n",
    "\n",
    "##### Part 2: Assuming the null hypothesis is true, determine the features of the distribution of sample statistics.\n",
    "When testing the population correlation coefficient $\\rho$, we use a $t$-distribution with $n - 2$ degrees of freedom, where $n$ is the number of $(x, y)$ points in our data. Since our data has $11$ $(x, y)$ points in this case, we have $ df = n - 2 = 11 - 2 = 9$ degrees of freedom.\n",
    "\n",
    "##### Part 3: Find the $p$-value\n",
    "We will use the test statistic\n",
    "\n",
    "$$ t = \\frac{r\\sqrt{n-2}}{\\sqrt{1 - r^2}} $$\n",
    "\n",
    "to find the $p$-value. To calculate this $t$-score, we first must find the sample correlation coefficient $r$:"
   ]
  },
  {
   "cell_type": "code",
   "execution_count": 1,
   "metadata": {},
   "outputs": [
    {
     "data": {
      "text/html": [
       "0.663093590999518"
      ],
      "text/latex": [
       "0.663093590999518"
      ],
      "text/markdown": [
       "0.663093590999518"
      ],
      "text/plain": [
       "[1] 0.6630936"
      ]
     },
     "metadata": {},
     "output_type": "display_data"
    }
   ],
   "source": [
    "x = c(65, 67, 71, 71, 66, 75, 67, 70, 71, 69, 69)\n",
    "y = c(175, 133, 185, 163, 126, 198, 153, 163, 159, 151, 159)\n",
    "\n",
    "cor(x, y)"
   ]
  },
  {
   "cell_type": "markdown",
   "metadata": {},
   "source": [
    "The sample correlation coefficient is $r = 0.6631$. Then we calculate that the test statistic is\n",
    "\n",
    "$$ t = \\frac{r\\sqrt{n - 2}}{\\sqrt{1 - r^2}} = \\frac{0.6631\\sqrt{11 - 2}}{\\sqrt{1 - (0.6631)^2}} = 2.6576. $$\n",
    "\n",
    "Since the alternative hypothesis $H_a$ uses a not-equal-to symbol, we will perform a two-tailed test. That means *half* of the $p$-value is represented by $P(t \\geq 2.6576)$, which we will calculate using R."
   ]
  },
  {
   "cell_type": "code",
   "execution_count": 1,
   "metadata": {},
   "outputs": [
    {
     "data": {
      "text/html": [
       "0.0130742219589208"
      ],
      "text/latex": [
       "0.0130742219589208"
      ],
      "text/markdown": [
       "0.0130742219589208"
      ],
      "text/plain": [
       "[1] 0.01307422"
      ]
     },
     "metadata": {},
     "output_type": "display_data"
    }
   ],
   "source": [
    "1 - pt(q = 2.6576, df = 9)"
   ]
  },
  {
   "cell_type": "markdown",
   "metadata": {},
   "source": [
    "So half the $p$-value is $P(t \\geq 2.6576) = 0.0131$. This means that the whole $p$-value is\n",
    "\n",
    "$$p\\text{-value} = 2(0.0131) = 0.0262. $$\n",
    "\n",
    "So assuming that the null hypothesis is true—that there is no correlation in the population—there would still be a $2.62\\%$ chance that a random sample of $11$ students' test scores would have a correlation coefficient at least as extreme as $r = 0.6631$.\n",
    "\n",
    "##### Part 4: Make a conclusion about the null hypothesis.\n",
    "We're performing the test at the $1\\%$ significance level, so $\\alpha = 0.01$. Thus, since\n",
    "\n",
    "$$p\\text{-value} = 0.0262 \\geq 0.01 = \\alpha, $$\n",
    "\n",
    "the evidence is not sufficient to reject the null hypothesis.\n",
    "\n",
    "We conclude that it is possible that there is no linear correlation in the population between a student's third exam score and their final exam score.\n"
   ]
  }
 ],
 "metadata": {
  "kernelspec": {
   "display_name": "R",
   "language": "R",
   "name": "ir"
  },
  "language_info": {
   "codemirror_mode": "r",
   "file_extension": ".r",
   "mimetype": "text/x-r-source",
   "name": "R",
   "pygments_lexer": "r",
   "version": "4.2.3"
  }
 },
 "nbformat": 4,
 "nbformat_minor": 4
}
