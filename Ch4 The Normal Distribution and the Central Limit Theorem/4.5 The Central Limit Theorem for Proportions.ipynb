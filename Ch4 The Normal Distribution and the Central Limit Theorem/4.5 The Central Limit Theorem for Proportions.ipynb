{
 "cells": [
  {
   "cell_type": "markdown",
   "metadata": {},
   "source": [
    "# The Central Limit Theorem for Proportions"
   ]
  },
  {
   "cell_type": "markdown",
   "metadata": {},
   "source": [
    "## Objectives\n",
    "\n",
    "- Apply the central limit theorem for proportions to identify sampling distributions of sample proportions.\n",
    "- Computer probabilities involving sampling distributions of proportions."
   ]
  },
  {
   "cell_type": "markdown",
   "metadata": {},
   "source": [
    "## Population Proportions\n",
    "\n",
    "A **population proportion** is the fraction, ratio, or percentage of the population that possesses a certain characteristic. For example, in 2006, the **proportion** of adult Americans that were married was $55.7\\%$. Note a few important properties about proportions:\n",
    " \n",
    "- For each member of the population, there are only two options: either the member possesses the characteristic or the member doesn't possess the characteristic. In the above example, since $55.7\\%$ of U.S. adults were married in 2006, we can conclude that $100\\% - 55.7\\% = 44.3\\%$ of U.S. adults were not married in 2006.\n",
    "- The value of a proportion is always between $0$ and $1$. In the above example, the proportion $55.7\\% = 0.557$ lies between $0$ and $1$.\n",
    "- A proportion is the probability that, if we randomly select a member of the population, that the selected member will possess the characteristic. In the example above, if we were to randomly select an adult in the year 2006, there is a $55.7\\%$ chance that the selected adult would be married.\n",
    "\n",
    "A population proportion $p$ is calculated using the formula\n",
    "\n",
    "$$ p = \\frac{X}{N}, $$\n",
    "\n",
    "where $X$ is the number of individuals in the population with the desired characteristic and $N$ is the size of the population.\n",
    "\n",
    "For example, if we know that Menifee High School has a population of $4{,}582$ students, of whom $1{,}231$ are freshman, the proportion of Menifee High School students that are freshmen is\n",
    "\n",
    "$$p = \\frac{X}{N} = \\frac{1{,}231}{4{,}582} = 0.2687.$$\n",
    "\n",
    "So $26.87\\%$ of all Menifee High School students are freshmen."
   ]
  },
  {
   "cell_type": "markdown",
   "metadata": {},
   "source": [
    "## The Central Limit Theorem for Proportions\n",
    "\n",
    "We can also find the proportion of a sample, denoted by $\\hat{p}$ (which is read \"*p*-hat\"). The formula for a sample proportion is\n",
    "\n",
    "$$ \\hat{p} = \\frac{x}{n}, $$\n",
    "\n",
    "where $x$ is the number of individuals in the *sample* with the desired characteristic, and $n$ is the size of the *sample*.\n",
    "\n",
    "Recall from the central limit theorem for sample means says that, if the size of a sample is large enough, we can generally expect the mean of a sample to approximate the mean of the population. We might naturally ask the same question of proportions: if we take a large enough sample from a population, can we expect the sample proportion to be close to the population proportion?\n",
    "\n",
    "The answer is \"Yes\". This is the idea of the **central limit theorem** for sample proportions."
   ]
  },
  {
   "cell_type": "markdown",
   "metadata": {},
   "source": [
    "```{prf:theorem} The Central Limit Theorem for Sample Proportions\n",
    "\n",
    "Consider a population, and let $p$ be the proportion of the population that possesses some characteristic. Let $\\hat{P}$ be the random variable of the sampling distribution of the sample proportions for this population, where the samples are of size $n$. If the sample size $n$ is big enough (so that $np \\geq 5$ and $n(1-p) \\geq 5$), then the sampling distribution is roughly a normal distribution with mean $p$ and standard deviation $\\sqrt{\\frac{p(1-p)}{n}}$. That is,\n",
    "\n",
    "$$ \\hat{P} \\sim N\\left(p, \\sqrt{\\frac{p(1-p)}{n}} \\right). $$\n",
    "```"
   ]
  },
  {
   "cell_type": "markdown",
   "metadata": {},
   "source": [
    "We reiterate the observations about the central limit theorem that we made in the previous section:\n",
    "- The central limit theorem does not make any requirements on how the population is distributed. This is why the central limit theorem is so powerful. The population can have any distribution. We do not even need to know *how* the population is distributed. No matter how the population is distributed, the sampling distribution of sample proportions (with $np \\geq 5$ and $n(1-p) \\geq 5$) will approximate a normal distribution.\n",
    "- The theorem states that the distribution of sample proportions $\\hat{P}$ only *approximates* a normal distribution. But in practice, as long as the sample size $n$ is large enough so that $np \\geq 5$ and $n(1-p) \\geq 5$, the distribution of sample proportions approximates the normal distribution so closely that we can treat the distribution as if it is normally distributed.\n",
    "- We call the standard deviation of the sampling distribution, $\\sqrt{\\frac{p(1-p)}{n}}$, the **standard error** to distinguish it from the standard deviation of a population.\n",
    "- Note that the larger the sample size $n$ is, the smaller the standard error $\\sqrt{\\frac{p(1-p)}{n}}$ becomes. That is, sample proportions from larger samples will tend to better approximate the population proportion than sample proportions from smaller samples.\n",
    "- The central limit theorem only applies for samples that are randomly selected. If a sample is not selected randomly, the central limit theorem may not apply.\n",
    "\n",
    "As in the previous section, we need to adjust our formulas\n",
    "\n",
    "$$ z = \\frac{x - \\mu}{\\sigma}, \\hspace{0.5in} x = \\mu + z\\sigma,$$\n",
    "\n",
    "which allow us to calculate a $z$-score from an $x$-value or and $x$-value from a $z$-score, to use the appropriate symbols for the sampling distribution of sample proportions. We use $\\hat{p}$ instead of $x$ (since we are dealing with the distribution of sample proportions, not particular values of the population); we use the mean of the sampling distribution, which is the population proportion $p$, instead of $\\mu$; and we use the standard error $\\sqrt{\\frac{p(1-p)}{n}}$ instead of the population standard deviation $\\sigma$ (since the standard error is the standard deviation of the sampling distribution). Making these substitutions, the formulas above become\n",
    "\n",
    "$$ z = \\frac{\\hat{p} - p}{\\sqrt{\\frac{p(1-p)}{n}}}, \\hspace{0.5in} \\hat{p} = p + z\\sqrt{\\frac{p(1-p)}{n}}. $$"
   ]
  },
  {
   "cell_type": "markdown",
   "metadata": {},
   "source": [
    "***"
   ]
  },
  {
   "cell_type": "markdown",
   "metadata": {},
   "source": [
    "\n",
    "### Example 4.4.1\n",
    "A poll is conducted of $1{,}000$ Americans to determine whether or not they approve of the President of the United States. Suppose that, in reality, $54\\%$ of all Americans approve of the President.\n",
    "\n",
    "1. What is the probability that fewer than $50\\%$ of those polled approve of the President?\n",
    "2. What is the probability that more than $56\\%$ of those polled approve of the President?\n",
    "3. What is the probability that between $50\\%$ and $56\\%$ of those polled approve of the President?\n",
    "\n",
    "#### Solution\n",
    "First, note that the sample size is $n = 1{,}000$ and the population proportion is $p = 0.54$. Then by the central limit theorem, we know that the sample proportions are normally distributed with mean\n",
    "\n",
    "$$ p = 0.54 $$\n",
    "\n",
    "and standard error\n",
    "\n",
    "$$ \\sqrt{\\frac{p(1 - p)}{n}} = \\sqrt{\\frac{0.54(1 - 0.54)}{1000}} = 0.0158. $$\n",
    "\n",
    "So $\\hat{P} \\sim N(0.54, 0.0158)$.\n",
    "\n",
    "##### Part 1\n",
    "We want to find $P(\\hat{p} < 0.50)$. First find the $z$-score of $\\hat{p} = 0.50$:\n",
    "\n",
    "$$ z = \\frac{\\hat{p} - p}{\\sqrt{\\frac{p(1-p)}{n}}} = \\frac{0.50 - 0.54}{0.0158} = -2.5316. $$\n",
    "\n",
    "So $P(\\hat{p} < 0.50) = P(z < -2.5316)$. Let's use R to calculate the probability."
   ]
  },
  {
   "cell_type": "code",
   "execution_count": 1,
   "metadata": {},
   "outputs": [
    {
     "data": {
      "text/html": [
       "0.0056771717907339"
      ],
      "text/latex": [
       "0.0056771717907339"
      ],
      "text/markdown": [
       "0.0056771717907339"
      ],
      "text/plain": [
       "[1] 0.005677172"
      ]
     },
     "metadata": {},
     "output_type": "display_data"
    }
   ],
   "source": [
    "pnorm(q = -2.5316)"
   ]
  },
  {
   "cell_type": "markdown",
   "metadata": {},
   "source": [
    "Then $P(\\hat{p} < 0.50) = P(z < -2.5316) = 0.0057$. There is a $0.57\\%$ chance that a sample of $1{,}000$ Americans will yield a sample proportion less than $50\\%$.\n",
    "\n",
    "##### Part 2\n",
    "We want to find $P(\\hat{p} > 0.56)$. First find the $z$-score of $\\hat{p} = 0.56$:\n",
    "\n",
    "$$ z = \\frac{\\hat{p} - p}{\\sqrt{\\frac{p(1-p)}{n}}} = \\frac{0.56 - 0.54}{0.0158} = 1.2658. $$\n",
    "\n",
    "So $P(\\hat{p} > 0.56) = P(z > 1.2658)$. Let's use R to calculate the probability."
   ]
  },
  {
   "cell_type": "code",
   "execution_count": 2,
   "metadata": {},
   "outputs": [
    {
     "data": {
      "text/html": [
       "0.102792347555097"
      ],
      "text/latex": [
       "0.102792347555097"
      ],
      "text/markdown": [
       "0.102792347555097"
      ],
      "text/plain": [
       "[1] 0.1027923"
      ]
     },
     "metadata": {},
     "output_type": "display_data"
    }
   ],
   "source": [
    "1 - pnorm(q = 1.2658)"
   ]
  },
  {
   "cell_type": "markdown",
   "metadata": {},
   "source": [
    "Then $P(\\hat{p} > 0.56) = P(z > 1.2658) = 0.1028$. There is a $10.28\\%$ chance that a sample of $1{,}000$ Americans will yield a sample proportion more than $56\\%$.\n",
    "\n",
    "##### Part 3\n",
    "We want $P(0.50 < \\hat{p} < 0.56)$. We know from parts 1 and 2 that the $z$-score of $\\hat{p} = 0.50$ is $z = -2.5316$ and the $z$-score of $\\hat{p} = 0.56$ is $z = 1.2658$. So $P(0.50 < p' < 0.56) = P(-2.5316 < z < 1.2658)$.\n",
    "\n",
    "The probability is the entire area under the normal density function between $z = -2.5316$ and $z = 1.2658$. To find this, we will use R to first find all the area to the left of the larger $z$-score, $z = 1.2658$, then subtract off the excess area to the left of the smaller $z$-score, $z = -2.5316$."
   ]
  },
  {
   "cell_type": "code",
   "execution_count": 3,
   "metadata": {},
   "outputs": [
    {
     "data": {
      "text/html": [
       "0.891530480654169"
      ],
      "text/latex": [
       "0.891530480654169"
      ],
      "text/markdown": [
       "0.891530480654169"
      ],
      "text/plain": [
       "[1] 0.8915305"
      ]
     },
     "metadata": {},
     "output_type": "display_data"
    }
   ],
   "source": [
    "pnorm(q = 1.2658) - pnorm(q = -2.5316)"
   ]
  },
  {
   "cell_type": "markdown",
   "metadata": {},
   "source": [
    "So $P(0.50 < \\hat{p} < 0.56) = P(-2.5316 < z < 1.2658) = 0.8915$. There is an $89.15\\%$ chance that a sample of $1{,}000$ Americans will have a sample proportion of between $50\\%$ and $56\\%$."
   ]
  },
  {
   "cell_type": "markdown",
   "metadata": {},
   "source": [
    "***"
   ]
  },
  {
   "cell_type": "markdown",
   "metadata": {},
   "source": [
    "### Example 4.4.2\n",
    "\n",
    "Apparently having nothing better to do, Yan flips $20$ coins, calculates the proportion of heads that come up, then repeats the process. We would expect $25\\%$ of the time the proportion of heads Yan gets will be smaller than what value?\n",
    "\n",
    "#### Solution\n",
    "\n",
    "Let's start by calculating the properties of the sampling distribution according to the central limit theorem. We know the mean of the sampling distribution is the population proportion. We are not directly told what the population proportion is, but we know coins come up heads $50\\%$ of the time, so the proportion of heads in the population is\n",
    "\n",
    "$$ p = 0.50. $$\n",
    "\n",
    "We can use $p$ to calculate the standard error:\n",
    "\n",
    "$$ \\sqrt{\\frac{p(1-p)}{n}} = \\sqrt{\\frac{0.5(1 - 0.5)}{20}} = 0.11180. $$\n",
    "\n",
    "So $\\hat{P} \\sim N(0.50, 0.11180)$.\n",
    "\n",
    "Now we need to find the $\\hat{p}$-value so that $25\\%$ of possible sample proportions will be smaller than that $\\hat{p}$-value.\n",
    "\n",
    "We start by using R to find the $z$-score associated with the probability we are given."
   ]
  },
  {
   "cell_type": "code",
   "execution_count": 4,
   "metadata": {},
   "outputs": [
    {
     "data": {
      "text/html": [
       "-0.674489750196082"
      ],
      "text/latex": [
       "-0.674489750196082"
      ],
      "text/markdown": [
       "-0.674489750196082"
      ],
      "text/plain": [
       "[1] -0.6744898"
      ]
     },
     "metadata": {},
     "output_type": "display_data"
    }
   ],
   "source": [
    "qnorm(p = 0.25)"
   ]
  },
  {
   "cell_type": "markdown",
   "metadata": {},
   "source": [
    "This means $P(z < -0.67449) = 0.25$.\n",
    "\n",
    "Now we use this $z$-score to calculate\n",
    "\n",
    "$$ \\hat{p} = p + z\\sqrt{\\frac{p(1-p)}{n}} = 0.50 + 0.67449(0.11180) = 0.42459. $$\n",
    "\n",
    "So $P(\\hat{p} < 0.42459) = 0.25$. That is, when Yan tosses his $20$ coins, we expect the proportion of heads among the $20$ coins to be smaller than $\\hat{p} = 0.42459 = 42.459\\%$ only $25\\%$ of the time."
   ]
  }
 ],
 "metadata": {
  "kernelspec": {
   "display_name": "R",
   "language": "R",
   "name": "ir"
  },
  "language_info": {
   "codemirror_mode": "r",
   "file_extension": ".r",
   "mimetype": "text/x-r-source",
   "name": "R",
   "pygments_lexer": "r",
   "version": "4.2.3"
  }
 },
 "nbformat": 4,
 "nbformat_minor": 4
}
