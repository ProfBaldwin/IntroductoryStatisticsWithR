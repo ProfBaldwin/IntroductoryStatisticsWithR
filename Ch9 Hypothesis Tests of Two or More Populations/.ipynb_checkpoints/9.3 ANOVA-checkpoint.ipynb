{
 "cells": [
  {
   "cell_type": "markdown",
   "metadata": {},
   "source": [
    "# ANOVA"
   ]
  },
  {
   "cell_type": "markdown",
   "metadata": {},
   "source": [
    "## Objectives\n",
    "- Conduct an ANOVA test to compare the means of many populations."
   ]
  },
  {
   "cell_type": "markdown",
   "metadata": {},
   "source": [
    "## Introduction to ANOVA\n",
    "\n",
    "ANOVA stands for ANalysis Of VAriance. An ANOVA test is a hypothesis test used to compare the means among several populations. The test uses variances to help determine if the population means are equal or not. To perform a one-way ANOVA test, the following basic assumptions must be fulfilled:\n",
    "\n",
    "- Each population is normally distributed.\n",
    "- All samples are randomly selected and independent.\n",
    "- The populations have equal variances (or standard deviations).\n",
    "\n",
    "The null hypothesis is that all the population means are the same. The alternative hypothesis is that at least one pair of means is different. For example, if there are $k$ populations:\n",
    "\n",
    "\\begin{align*}\n",
    "&H_0:\\mu_1 = \\mu_2 = \\mu_3 = \\cdots = \\mu_k \\\\\n",
    "&H_a: \\text{At least one mean isn't equal to all the other means}\n",
    "\\end{align*}\n",
    "\n",
    "ANOVA works by comparing the approximate variance *between* the samples (that is, how much the samples vary with each other) with the approximate variance *within* the samples (that is, how much on average each sample varies on its own). If the null hypothesis is true so that the population means are all equal, then the variance between the samples and the variance within the samples should be about equal."
   ]
  },
  {
   "cell_type": "code",
   "execution_count": 5,
   "metadata": {
    "tags": [
     "remove-cell"
    ]
   },
   "outputs": [
    {
     "data": {
      "text/html": [
       "<strong>png:</strong> 2"
      ],
      "text/latex": [
       "\\textbf{png:} 2"
      ],
      "text/markdown": [
       "**png:** 2"
      ],
      "text/plain": [
       "png \n",
       "  2 "
      ]
     },
     "metadata": {},
     "output_type": "display_data"
    }
   ],
   "source": [
    "#**ALT=Two groups of box plots. Group A has little variation between box plots; group B has significant variation between box plots.**#\n",
    "png(\"anova_illustration.png\", width = 1000, height = 500)\n",
    "\n",
    "library(repr)\n",
    "options(repr.plot.width = 7, repr.plot.height=4)\n",
    "par(mfrow = c(1, 2))\n",
    "\n",
    "n <- 500\n",
    "\n",
    "A <- rnorm(n, 0, 5)\n",
    "B <- rnorm(n, 0, 5)\n",
    "C <- rnorm(n, 0, 5)\n",
    "D <- rnorm(n, 0, 5)\n",
    "boxplot(A, B, C, D, col=\"#20639b\", axes=FALSE, outline=FALSE, main= \"A\", lwd = 3, cex.main = 3)\n",
    "\n",
    "A <- rnorm(n, 4, 5)\n",
    "B <- rnorm(n, 0, 5)\n",
    "C <- rnorm(n, 11, 5)\n",
    "D <- rnorm(n, -2, 5)\n",
    "boxplot(A, B, C, D, col = \"#ee5c42\", axes = FALSE, outline=FALSE, main = \"B\", lwd = 3, cex.main = 3)\n",
    "\n",
    "dev.off()"
   ]
  },
  {
   "cell_type": "markdown",
   "metadata": {},
   "source": [
    "```{figure} anova_illustration.png\n",
    "---\n",
    "width: 100%\n",
    "alt: Two groups of box plots are pictures, with four box plots in group A and four box plots in group B. There is little variation between the box plots in group A. There is significant variation between the box plots in group B.\n",
    "name: anova-illustration\n",
    "---\n",
    "The four box plots in group A represent four populations. There is little variation between the box plots in group A. It might be reasonable to expect the populations in group A to all have the same mean. Compare this to the four populations represented by the four box plots in group B. There is significant variation between the box plots in group B. We might expect the populations in group B to have different means.\n",
    "```"
   ]
  },
  {
   "cell_type": "markdown",
   "metadata": {},
   "source": [
    "To better understand the principles behind ANOVA, consider the two groups of populations represented by the box plots in {numref}`Figure {number} <anova-illustration>`. In group A, notice that there is little variation between the box plots of the different samples. It is reasonable to think that the underlying population means may be equal. \n",
    "\n",
    "In comparison, there is considerable variation in group B. In fact, there is so much variation between these samples that it is very unlikely that the underlying population means between these samples are all equal."
   ]
  },
  {
   "cell_type": "markdown",
   "metadata": {},
   "source": [
    "## Notation\n",
    "An ANOVA test can involve several populations and samples. To make our meaning clear, we will use the following notation in this section.\n",
    "\n",
    "- $x_j$ are the data values in the $j$th sample.\n",
    "- $n_j$ is the sample size of the $j$th sample.\n",
    "- $\\bar{x}_j$ is the mean of the $j$th sample. As usual, the sample mean $\\bar{x}_j$ is the sum of all data values in the sample divided by sample size:\n",
    "\n",
    "$$\\bar{x}_j = \\dfrac{\\sum x_j}{n_j}.$$\n",
    "\n",
    "- $\\bar{\\bar{x}}$ is the **grand mean**. It is the mean of the combined data values of all the samples. It is calculated by adding all data values from all samples together, then dividing by the total number of all the data values from all samples:\n",
    "\n",
    "$$\\bar{\\bar{x}} = \\frac{\\sum x_1 + \\sum x_2 + \\cdots + \\sum x_k}{n_1 + n_2 + \\cdots + n_k},$$\n",
    "\n",
    "where $k$ is the total number of samples, where one sample is taken from each population.\n",
    "\n",
    "A simple example may help to clarify the notation."
   ]
  },
  {
   "cell_type": "markdown",
   "metadata": {},
   "source": [
    "***"
   ]
  },
  {
   "cell_type": "markdown",
   "metadata": {},
   "source": [
    "### Example 9.3.1\n",
    "Three small samples were drawn from three populations. The sample data obtained is:\n",
    "\n",
    "Sample $1$:  18, 21, 20, 20, 17 <br/>\n",
    "Sample $2$:  22, 19, 18, 21, 19, 16, 18 <br/>\n",
    "Sample $3$:  20, 19, 17, 21\n",
    "    \n",
    "The data values $x_1$ in sample $1$ are 18, 21, 20, 20, 17. There are $5$ data values in sample $1$, so $n_1 = 5$. We can use R to calculate the mean $\\bar{x}_1$ of sample $1$."
   ]
  },
  {
   "cell_type": "code",
   "execution_count": 1,
   "metadata": {},
   "outputs": [
    {
     "data": {
      "text/html": [
       "19.2"
      ],
      "text/latex": [
       "19.2"
      ],
      "text/markdown": [
       "19.2"
      ],
      "text/plain": [
       "[1] 19.2"
      ]
     },
     "metadata": {},
     "output_type": "display_data"
    }
   ],
   "source": [
    "x1 = c(18, 21, 20, 20, 17)\n",
    "n1 = length(x1)\n",
    "\n",
    "xbar1 = sum(x1)/n1\n",
    "xbar1"
   ]
  },
  {
   "cell_type": "markdown",
   "metadata": {},
   "source": [
    "The mean of sample $1$ is $\\bar{x}_1 = 19.2$.\n",
    "\n",
    "The data values $x_2$ in sample $2$ are 22, 19, 18, 21, 19, 16, 18. There are $7$ data values in sample $2$, so $n_2 = 7$. We can use R to calculate the mean $\\bar{x}_2$ of sample $2$."
   ]
  },
  {
   "cell_type": "code",
   "execution_count": 2,
   "metadata": {},
   "outputs": [
    {
     "data": {
      "text/html": [
       "19"
      ],
      "text/latex": [
       "19"
      ],
      "text/markdown": [
       "19"
      ],
      "text/plain": [
       "[1] 19"
      ]
     },
     "metadata": {},
     "output_type": "display_data"
    }
   ],
   "source": [
    "x2 = c(22, 19, 18, 21, 19, 16, 18)\n",
    "n2 = length(x2)\n",
    "\n",
    "xbar2 = sum(x2)/n2\n",
    "xbar2"
   ]
  },
  {
   "cell_type": "markdown",
   "metadata": {},
   "source": [
    "The mean of sample $2$ is $\\bar{x}_2 = 19$.\n",
    "\n",
    "The data values $x_3$ in sample $3$ are 20, 19, 17, 21. There are $4$ data values in sample $3$, so $n_3 = 4$. We can use R to calculate the mean $\\bar{x}_3$ of sample $3$."
   ]
  },
  {
   "cell_type": "code",
   "execution_count": 3,
   "metadata": {},
   "outputs": [
    {
     "data": {
      "text/html": [
       "19.25"
      ],
      "text/latex": [
       "19.25"
      ],
      "text/markdown": [
       "19.25"
      ],
      "text/plain": [
       "[1] 19.25"
      ]
     },
     "metadata": {},
     "output_type": "display_data"
    }
   ],
   "source": [
    "x3 = c(20, 19, 17, 21)\n",
    "n3 = length(x3)\n",
    "\n",
    "xbar3 = sum(x3)/n3\n",
    "xbar3"
   ]
  },
  {
   "cell_type": "markdown",
   "metadata": {},
   "source": [
    "The mean of sample $3$ is $\\bar{x}_3 = 19.25$.\n",
    "\n",
    "Now we can use R to calculate the grand mean $\\bar{\\bar{x}}$ of these three samples."
   ]
  },
  {
   "cell_type": "code",
   "execution_count": 4,
   "metadata": {},
   "outputs": [
    {
     "data": {
      "text/html": [
       "19.125"
      ],
      "text/latex": [
       "19.125"
      ],
      "text/markdown": [
       "19.125"
      ],
      "text/plain": [
       "[1] 19.125"
      ]
     },
     "metadata": {},
     "output_type": "display_data"
    }
   ],
   "source": [
    "grandx = (sum(x1) + sum(x2) + sum(x3))/(n1 + n2 + n3)\n",
    "grandx"
   ]
  },
  {
   "cell_type": "markdown",
   "metadata": {},
   "source": [
    "The grand mean&mdash;the mean of all the data in all three samples&mdash;is $\\bar{\\bar{x}} = 19.125$."
   ]
  },
  {
   "cell_type": "markdown",
   "metadata": {},
   "source": [
    "***"
   ]
  },
  {
   "cell_type": "markdown",
   "metadata": {
    "tags": []
   },
   "source": [
    "## The Test Statistic For an ANOVA Test\n",
    "To calculate the test statistic for an ANOVA test with $k$ samples (one sample from each population), we calculate two estimates of the variance.\n",
    "\n",
    "The first estimate of the variance is $MST$, which is the **m**ean **s**quare estimate of the variance among **t**reatments. $MST$ is the variance *between* the sample means of the different samples. We calculate $MST$ using the formula\n",
    "\n",
    "$$ MST = \\frac{SST}{DFT}, $$\n",
    "\n",
    "where $SST$, called the **s**um of **s**quares among **t**reatments, is the sum of squared differences between the sample means and the grand mean, and $DFT$ is the **d**egrees of **f**reedom for **t**reatments. $SST$ and $DFT$ are given by the formulas\n",
    "\n",
    "\\begin{align*}\n",
    "SST &= n_1(\\bar{x}_1 - \\bar{\\bar{x}})^2 + n_2(\\bar{x}_2 - \\bar{\\bar{x}})^2 + \\cdots + n_k(\\bar{x}_k - \\bar{\\bar{x}})^2, \\\\\n",
    "DFT &= k - 1.\n",
    "\\end{align*}\n",
    "\n",
    "The second estimate of the variance is $MSE$, which is the **m**ean **s**quare estimate for **e**rrors. $MSE$ measures the variance *within* the samples. We calculate $MSE$ using the formula\n",
    "\n",
    "$$ MSE = \\frac{SSE}{DFE}, $$\n",
    "\n",
    "where $SSE$, the **sum** of **s**quares for **e**rrors, is the total sum of squared differences between the data values of each sample and the sample's mean, and $DFE$ is the degrees of freedom for errors. We calculate $SSE$ and $DFE$ using the formulas\n",
    "\n",
    "\\begin{align*}\n",
    "SSE &= \\sum (x_1 - \\bar{x}_1)^2 + \\sum (x_2 - \\bar{x}_2)^2 + \\cdots + \\sum (x_k - \\bar{x}_k)^2, \\\\\n",
    "DFE &= (n_1 - 1) + (n_2 - 1) + \\cdots + (n_k - 1).\n",
    "\\end{align*}\n",
    "\n",
    "$MST$ and $MSE$ both estimate variances, so we use an $F$-distribution to perform an ANOVA test just like we did when comparing two population variances. The $F$-statistic we use for an ANOVA test is given by\n",
    "\n",
    "$$ F = \\frac{MST}{MSE}. $$\n",
    "\n",
    "We use an $F$-distribution with numerator degrees of freedom $DFT$ and denominator degrees of freedom $DFE$ to calculate the $p$-value.\n",
    "\n",
    "If the null hypothesis is true (that is, if the means of all the populations are equal), then we would expect the variance between samples, $MST$, to be no larger than the average variance within a sample, $MSE$. In this case, \n",
    "\n",
    "$$F = \\frac{MST}{MSE} \\leq 1.$$\n",
    "\n",
    "But if the null hypothesis is not true, then we would expect the variance between samples, $MST$, to be greater than the average variance within a sample, $MSE$, in which case \n",
    "\n",
    "$$F = \\frac{MST}{MSE} > 1.$$\n",
    "\n",
    "Because of this, an ANOVA test is always a right-tailed test.\n",
    "\n",
    "The general steps for completing a hypothesis test have not changed:\n",
    "1. State the null and alternative hypotheses.\n",
    "2. Assuming the null hypothesis is true, identify the sampling distribution.\n",
    "3. Find the $p$-value.\n",
    "4. Draw a conclusion."
   ]
  },
  {
   "cell_type": "markdown",
   "metadata": {},
   "source": [
    "***"
   ]
  },
  {
   "cell_type": "markdown",
   "metadata": {},
   "source": [
    "### Example 9.3.2\n",
    "\n",
    "A meteorologist wishes to test if the average daily high temperature is the same for each of the past four years. She randomly selects a number of days from each year and records the daily high temperature on each selected day (in °F):\n",
    "\n",
    "Year 1: <br/>\n",
    "82, 104, 119, 56, 85, 94, 81, 106, 82, 92, 109, 71, 95, 86, 34, 89, 80, 53, 78, 99, 57, 87, 69, 98, 75, 88, 59, 104, 65, 66, 74, 73, 73, 106, 91, 89, 85, 84, 53, 81\n",
    "    \n",
    "Year 2: <br/>\n",
    "80, 52, 72, 72, 43, 61, 66, 58, 118, 73, 76, 64, 81, 65, 63, 78, 72, 83, 104, 54, 69, 100, 63, 71, 38, 73, 92, 70, 86, 51, 66, 89, 74, 85\n",
    "\n",
    "Year 3: <br/>\n",
    "75, 87, 79, 96, 72, 75, 93, 84, 80, 95, 72, 56, 83, 98, 96, 54, 106, 66, 120, 77, 88, 90, 75, 98, 113, 55, 44\n",
    "\n",
    "Year 4: <br/>\n",
    "92, 68, 74, 82, 94, 44, 63, 61, 99, 71, 85, 42, 90, 94, 48, 97, 89, 65, 81, 45, 93, 81, 73, 69, 93, 75, 76, 61, 75, 102\n",
    "    \n",
    "Use an ANOVA test with a level of significance of $6\\%$ to test if the average daily high temperature is the same for all four years.\n",
    "\n",
    "#### Solution\n",
    "##### Step 1: State the null and alternative hypotheses.\n",
    "For an ANOVA test, the null hypothesis is always that the means of all the populations are equal. The alternative hypothesis for an ANOVA test is always that at least one of the population means is not equal to the others. That is,\n",
    "\n",
    "\\begin{align*}\n",
    "H_0:&\\ \\mu_1 = \\mu_2 = \\mu_3 = \\mu_4 \\\\\n",
    "H_a:&\\ \\text{At least one mean isn't equal to the other means}\n",
    "\\end{align*}\n",
    "\n",
    "##### Step 2: Assuming the null hypothesis is true, identify the sampling distribution.\n",
    "To perform an ANOVA test, we use an $F$-distribution. The numerator degrees of freedom is the degrees of freedom for treatments, $DFT$. It is one less than the number of samples. In this example, we have $k = 4$ samples, so the numerator degrees of freedom is\n",
    "\n",
    "$$ DFT = k - 1 = 4 - 1 = 3. $$\n",
    "\n",
    "The denominator degrees of freedom is the degrees of freedom for errors, $DFE$. To calculate $DFE$, we first must know the size of each of the four samples. We will use R to count the size of each sample."
   ]
  },
  {
   "cell_type": "code",
   "execution_count": 2,
   "metadata": {},
   "outputs": [
    {
     "data": {
      "text/html": [
       "40"
      ],
      "text/latex": [
       "40"
      ],
      "text/markdown": [
       "40"
      ],
      "text/plain": [
       "[1] 40"
      ]
     },
     "metadata": {},
     "output_type": "display_data"
    },
    {
     "data": {
      "text/html": [
       "34"
      ],
      "text/latex": [
       "34"
      ],
      "text/markdown": [
       "34"
      ],
      "text/plain": [
       "[1] 34"
      ]
     },
     "metadata": {},
     "output_type": "display_data"
    },
    {
     "data": {
      "text/html": [
       "27"
      ],
      "text/latex": [
       "27"
      ],
      "text/markdown": [
       "27"
      ],
      "text/plain": [
       "[1] 27"
      ]
     },
     "metadata": {},
     "output_type": "display_data"
    },
    {
     "data": {
      "text/html": [
       "30"
      ],
      "text/latex": [
       "30"
      ],
      "text/markdown": [
       "30"
      ],
      "text/plain": [
       "[1] 30"
      ]
     },
     "metadata": {},
     "output_type": "display_data"
    }
   ],
   "source": [
    "x1 = c(82, 104, 119, 56, 85, 94, 81, 106, 82, 92, 109, 71, 95, 86, 34, 89, 80, 53, 78, 99, 57, 87, 69, 98, 75, 88, 59, 104, 65, 66, 74, 73, 73, 106, 91, 89, 85, 84, 53, 81)\n",
    "x2 = c(80, 52, 72, 72, 43, 61, 66, 58, 118, 73, 76, 64, 81, 65, 63, 78, 72, 83, 104, 54, 69, 100, 63, 71, 38, 73, 92, 70, 86, 51, 66, 89, 74, 85)\n",
    "x3 = c(75, 87, 79, 96, 72, 75, 93, 84, 80, 95, 72, 56, 83, 98, 96, 54, 106, 66, 120, 77, 88, 90, 75, 98, 113, 55, 44)\n",
    "x4 = c(92, 68, 74, 82, 94, 44, 63, 61, 99, 71, 85, 42, 90, 94, 48, 97, 89, 65, 81, 45, 93, 81, 73, 69, 93, 75, 76, 61, 75, 102)\n",
    "\n",
    "n1 = length(x1)\n",
    "n2 = length(x2)\n",
    "n3 = length(x3)\n",
    "n4 = length(x4)\n",
    "\n",
    "n1\n",
    "n2\n",
    "n3\n",
    "n4"
   ]
  },
  {
   "cell_type": "markdown",
   "metadata": {},
   "source": [
    "So $n_1 = 40$, $n_2 = 34$, $n_3 = 27$, and $n_4 = 30$. Then the denominator degrees of freedom is\n",
    "\n",
    "$$ DFE = (n_1 - 1) + (n_2 - 1) + (n_3 - 1) + (n_4 - 1) = (40 - 1) + (34 - 1) + (27 - 1) + (30 - 1) = 127.$$\n",
    "\n",
    "##### Step 3: Find the $p$-value."
   ]
  },
  {
   "cell_type": "markdown",
   "metadata": {},
   "source": [
    "To find the test statistic, we first need to calculate the sample mean of each of the four samples as well as the grand mean $\\bar{\\bar{x}}$."
   ]
  },
  {
   "cell_type": "code",
   "execution_count": 3,
   "metadata": {},
   "outputs": [
    {
     "data": {
      "text/html": [
       "81.8"
      ],
      "text/latex": [
       "81.8"
      ],
      "text/markdown": [
       "81.8"
      ],
      "text/plain": [
       "[1] 81.8"
      ]
     },
     "metadata": {},
     "output_type": "display_data"
    },
    {
     "data": {
      "text/html": [
       "72.4117647058823"
      ],
      "text/latex": [
       "72.4117647058823"
      ],
      "text/markdown": [
       "72.4117647058823"
      ],
      "text/plain": [
       "[1] 72.41176"
      ]
     },
     "metadata": {},
     "output_type": "display_data"
    },
    {
     "data": {
      "text/html": [
       "82.4814814814815"
      ],
      "text/latex": [
       "82.4814814814815"
      ],
      "text/markdown": [
       "82.4814814814815"
      ],
      "text/plain": [
       "[1] 82.48148"
      ]
     },
     "metadata": {},
     "output_type": "display_data"
    },
    {
     "data": {
      "text/html": [
       "76.0666666666667"
      ],
      "text/latex": [
       "76.0666666666667"
      ],
      "text/markdown": [
       "76.0666666666667"
      ],
      "text/plain": [
       "[1] 76.06667"
      ]
     },
     "metadata": {},
     "output_type": "display_data"
    },
    {
     "data": {
      "text/html": [
       "78.1908396946565"
      ],
      "text/latex": [
       "78.1908396946565"
      ],
      "text/markdown": [
       "78.1908396946565"
      ],
      "text/plain": [
       "[1] 78.19084"
      ]
     },
     "metadata": {},
     "output_type": "display_data"
    }
   ],
   "source": [
    "xbar1 = sum(x1)/n1\n",
    "xbar1\n",
    "\n",
    "xbar2 = sum(x2)/n2\n",
    "xbar2\n",
    "\n",
    "xbar3 = sum(x3)/n3\n",
    "xbar3\n",
    "\n",
    "xbar4 = sum(x4)/n4\n",
    "xbar4\n",
    "\n",
    "grandx = (sum(x1) + sum(x2) + sum(x3) + sum(x4))/(n1 + n2 + n3 + n4)\n",
    "grandx"
   ]
  },
  {
   "cell_type": "markdown",
   "metadata": {},
   "source": [
    "We find that $\\bar{x}_1 = 81.800$, $\\bar{x}_2 = 72.412$, $\\bar{x}_3 = 82.481$, $\\bar{x}_4 = 76.067$, and the grand mean is $ \\bar{\\bar{x}} = 78.191$.\n",
    "\n",
    "We can now use these values to find \n",
    "\n",
    "$$SST = n_1(\\bar{x}_1 - \\bar{\\bar{x}})^2 + n_2(\\bar{x}_2 - \\bar{\\bar{x}})^2 + n_3(\\bar{x}_3 - \\bar{\\bar{x}})^2 + n_4(\\bar{x}_4 - \\bar{\\bar{x}})^2.$$ "
   ]
  },
  {
   "cell_type": "code",
   "execution_count": 5,
   "metadata": {},
   "outputs": [
    {
     "data": {
      "text/html": [
       "2288.98630610853"
      ],
      "text/latex": [
       "2288.98630610853"
      ],
      "text/markdown": [
       "2288.98630610853"
      ],
      "text/plain": [
       "[1] 2288.986"
      ]
     },
     "metadata": {},
     "output_type": "display_data"
    }
   ],
   "source": [
    "SST = n1*(xbar1 - grandx)^2 + n2*(xbar2 - grandx)^2 + n3*(xbar3 - grandx)^2 + n4*(xbar4 - grandx)^2\n",
    "SST"
   ]
  },
  {
   "cell_type": "markdown",
   "metadata": {},
   "source": [
    "So $SST = 2288.986$. With $SST$ calculated and the value of $DFT$ found earlier, we are ready to find \n",
    "\n",
    "$$ MST = \\frac{SST}{DFT}. $$"
   ]
  },
  {
   "cell_type": "code",
   "execution_count": 6,
   "metadata": {},
   "outputs": [
    {
     "data": {
      "text/html": [
       "762.995435369511"
      ],
      "text/latex": [
       "762.995435369511"
      ],
      "text/markdown": [
       "762.995435369511"
      ],
      "text/plain": [
       "[1] 762.9954"
      ]
     },
     "metadata": {},
     "output_type": "display_data"
    }
   ],
   "source": [
    "DFT = 3\n",
    "\n",
    "MST = SST/DFT\n",
    "MST"
   ]
  },
  {
   "cell_type": "markdown",
   "metadata": {},
   "source": [
    "Thus, $MST = 762.995$. This is the numerator of the test statistic.\n",
    "\n",
    "We still need to find the denominator, $MSE$. To find $MSE$, we first calculate \n",
    "\n",
    "$$SSE = \\sum (x_1 - \\bar{x}_1)^2 + \\sum (x_2 - \\bar{x}_2)^2 + \\sum (x_3 - \\bar{x}_3)^2 + \\sum(x_4 - \\bar{x}_4)^2.$$"
   ]
  },
  {
   "cell_type": "code",
   "execution_count": 7,
   "metadata": {},
   "outputs": [
    {
     "data": {
      "text/html": [
       "38587.2427015251"
      ],
      "text/latex": [
       "38587.2427015251"
      ],
      "text/markdown": [
       "38587.2427015251"
      ],
      "text/plain": [
       "[1] 38587.24"
      ]
     },
     "metadata": {},
     "output_type": "display_data"
    }
   ],
   "source": [
    "SSE = sum( (x1 - xbar1)^2 ) + sum( (x2 - xbar2)^2 ) + sum( (x3 - xbar3)^2 ) + sum( (x4 - xbar4)^2 )\n",
    "SSE"
   ]
  },
  {
   "cell_type": "markdown",
   "metadata": {},
   "source": [
    "We find that $SSE = 38587.243$. Using this value for $SSE$ together with the value for $DFE$ we found earlier, we can calculate\n",
    "\n",
    "$$ MSE = \\frac{SSE}{DSE}. $$"
   ]
  },
  {
   "cell_type": "code",
   "execution_count": 8,
   "metadata": {},
   "outputs": [
    {
     "data": {
      "text/html": [
       "303.836556704922"
      ],
      "text/latex": [
       "303.836556704922"
      ],
      "text/markdown": [
       "303.836556704922"
      ],
      "text/plain": [
       "[1] 303.8366"
      ]
     },
     "metadata": {},
     "output_type": "display_data"
    }
   ],
   "source": [
    "DFE = 127\n",
    "\n",
    "MSE = SSE/DFE\n",
    "MSE"
   ]
  },
  {
   "cell_type": "markdown",
   "metadata": {},
   "source": [
    "So $MSE = 303.837$. This is the denominator value of the test statistic.\n",
    "\n",
    "We now have all the pieces to calculate the test statistic,\n",
    "\n",
    "$$ F = \\frac{MST}{MSE}. $$"
   ]
  },
  {
   "cell_type": "code",
   "execution_count": 9,
   "metadata": {},
   "outputs": [
    {
     "data": {
      "text/html": [
       "2.51120353536166"
      ],
      "text/latex": [
       "2.51120353536166"
      ],
      "text/markdown": [
       "2.51120353536166"
      ],
      "text/plain": [
       "[1] 2.511204"
      ]
     },
     "metadata": {},
     "output_type": "display_data"
    }
   ],
   "source": [
    "F = MST/MSE\n",
    "F"
   ]
  },
  {
   "cell_type": "markdown",
   "metadata": {},
   "source": [
    "Because an ANOVA test involves so many calculations, statisticians often organize the data into a table like in {numref}`anova-table`.\n",
    "\n",
    "```{list-table} A table summarizing the important calculations for the ANOVA test in this example.\n",
    ":header-rows: 1\n",
    ":stub-columns: 1\n",
    ":name: anova-table\n",
    "* -\n",
    "  - SS\n",
    "  - DF\n",
    "  - MS\n",
    "  - F\n",
    "* - Treatments\n",
    "  - 2288.986\n",
    "  - 3\n",
    "  - 762.995\n",
    "  - 2.511\n",
    "* - Errors\n",
    "  - 38587.243\n",
    "  - 127\n",
    "  - 303.837\n",
    "  -\n",
    "```\n",
    "\n",
    "Now that we have our test statistic, we are ready to find the $p$-value. Remember that an ANOVA test is always a right-tailed test."
   ]
  },
  {
   "cell_type": "code",
   "execution_count": 10,
   "metadata": {},
   "outputs": [
    {
     "data": {
      "text/html": [
       "0.0616171055195667"
      ],
      "text/latex": [
       "0.0616171055195667"
      ],
      "text/markdown": [
       "0.0616171055195667"
      ],
      "text/plain": [
       "[1] 0.06161711"
      ]
     },
     "metadata": {},
     "output_type": "display_data"
    }
   ],
   "source": [
    "1 - pf(q = F, df1 = DFT, df2 = DFE)"
   ]
  },
  {
   "cell_type": "markdown",
   "metadata": {},
   "source": [
    "So the $p$-value is $P(F > 2.511) = 0.062$. That is, there is about a $6.2\\%$ chance that we would randomly sample data with this much variation between samples relative to the variation within samples if the population means were all actually equal.\n",
    "\n",
    "##### Step 4: Draw a conclusion.\n",
    "Since the $p$-value $= 0.062 \\geq 0.06 = \\alpha$, we do *not* reject the null hypothesis. There is not enough evidence to conclude that the average daily high temperature for at least one year is different than average in the other years sampled."
   ]
  }
 ],
 "metadata": {
  "kernelspec": {
   "display_name": "R",
   "language": "R",
   "name": "ir"
  },
  "language_info": {
   "codemirror_mode": "r",
   "file_extension": ".r",
   "mimetype": "text/x-r-source",
   "name": "R",
   "pygments_lexer": "r",
   "version": "4.2.3"
  }
 },
 "nbformat": 4,
 "nbformat_minor": 4
}
