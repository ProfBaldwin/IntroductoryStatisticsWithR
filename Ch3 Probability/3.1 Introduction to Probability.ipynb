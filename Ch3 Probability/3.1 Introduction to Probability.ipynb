{
 "cells": [
  {
   "cell_type": "markdown",
   "metadata": {},
   "source": [
    "# Introduction to Probability"
   ]
  },
  {
   "cell_type": "markdown",
   "metadata": {},
   "source": [
    "## Objectives ##\n",
    "- Understand fundamental terminology used in probability and be able to apply it appropriately.\n",
    "- Express an event of a probability experiment as a list of outcomes in set notation.\n",
    "- Understand the law of large numbers.\n",
    "- Calculate basic probability involving sample spaces with equally likely outcomes."
   ]
  },
  {
   "cell_type": "markdown",
   "metadata": {},
   "source": [
    "## Experiments, Outcomes, and Events\n",
    "Before we consider probability, we first must define a few key terms. To begin, it will be useful to focus on activities that can be repeated and where all the possible outcomes are known. These kinds of activities are called **experiments**. For example, flipping a fair coin is an experiment because it can be repeated (we can flip the coin again), and all the possible outcomes are known (the coin will land on either heads or tails). Another example of an experiment is drawing two cards from a standard 52 card deck because it can be repeated (we can return the two cards to the deck, shuffle, then take two new cards from the deck) and we know all the possible outcomes (since we know which cards are in the deck, we know all the cards that might be drawn).\n",
    "\n",
    "To be precise, we define an **outcome** of an experiment as a possible result of the experiment. Before an experiment takes place, there may be several possible outcomes that have a chance of happening. But after the experiment has concluded, exactly one outcome has happened. For example, if you toss a coin, the coin may come up heads or tails—two possible outcomes. But once the coin has landed, the coin has either come up heads or come up tails—exactly one outcome has actually occurred.\n",
    "\n",
    "The **sample space** of an experiment is the **set** or collection of all possible outcomes. The uppercase letter $S$ is used to denote sample space. We can express the set of all possible outcomes using **set notation**: we list all the outcomes and enclose the list in curly brackets. For example, if you flip one fair coin, the sample space is $S = \\{H, T\\}$ where $H$ = Heads and $T$ = Tails are the outcomes. As another example, if you roll a six-sided die, the sample space is $S = \\{1, 2, 3, 4, 5, 6\\}$, where each number represents the side of the die that is face up.\n",
    "\n",
    "An **event** is any combination of outcomes. We usually use upper case letters like $A$ and $B$ to represent events, and we use set notation to represent the outcomes in the event. For example, if the experiment is to roll a six-sided die, then let event $A$ be rolling an even number, and let event $B$ be rolling a number greater than $2$. In set notation, $A = \\{2, 4, 6\\}$ and $B = \\{3, 4, 5, 6\\}$. If the experiment results in *any* outcome in the event, then the event has happened. And note that while an experiment can have only one outcome, it can result in multiple events happening. For example, if we roll a $4$ with a six-sided die, then event $A$ has happened (since $4$ is an even number), *and* event $B$ has happened (since $4$ is a number greater than $2$).\n",
    "\n",
    "It is often useful to know how many outcomes are in an event. For any event $E$, we let $n(E)$ represent the number of outcomes in the event. Again, consider rolling a six-sided die, and let $D = \\{2, 3, 5, 6\\}$. There are four outcomes in event $D$, so $n(D) = 4$. Similarly, $n(S) = 6$ because $S$ is the entire sample space, and there are six possible outcomes total when rolling a six-sided die."
   ]
  },
  {
   "cell_type": "markdown",
   "metadata": {},
   "source": [
    "***"
   ]
  },
  {
   "cell_type": "markdown",
   "metadata": {},
   "source": [
    "### Example 3.1.1\n",
    "````{margin}\n",
    "```{figure} D12_die.jpeg\n",
    "---\n",
    "width: 100%\n",
    "alt: A 12-sided die.\n",
    "name: D12-die\n",
    "---\n",
    "A 12-sided die.[^die-attribution]\n",
    "```\n",
    "````\n",
    "\n",
    "[^die-attribution]: {numref}`Figure {number} <D12-die>` was [created by Saharasav](https://commons.wikimedia.org/wiki/File:D12_regular_dodecahedron.JPG) and is licensed under the [Creative Commons Attribution-Share Alike 4.0 International](https://creativecommons.org/licenses/by-sa/4.0/deed.en) license.\n",
    "\n",
    "Imagine you roll a twelve-sided die.\n",
    "1. Write the sample space $S$ in set notation. What is $n(S)$?\n",
    "2. Let event $A = $ rolling an odd number. What outcomes are in $A$? Express your answer in set notation. What is $n(A)$?\n",
    "\n",
    "#### Solution\n",
    "##### Part 1\n",
    "The sample space is the set of all possible outcomes. Since we are rolling a twelve-sided die, the die land on any number from $1$ to $12$. In set notation, the sample space is\n",
    "\n",
    "$$ S = \\{1, 2, 3, 4, 5, 6, 7, 8, 9, 10, 11, 12\\}. $$\n",
    "\n",
    "Clearly, there are twelve possible outcomes, so $n(S) = 12$.\n",
    "\n",
    "##### Part 2\n",
    "Since event $A$ is rolling an odd number, in set notation,\n",
    "\n",
    "$$ A = \\{1, 3, 5, 7, 9, 11\\}. $$\n",
    "\n",
    "There are six outcomes in $A$, so $n(A) = 6$.\n",
    "\n"
   ]
  },
  {
   "cell_type": "markdown",
   "metadata": {},
   "source": [
    "***"
   ]
  },
  {
   "cell_type": "markdown",
   "metadata": {},
   "source": [
    "### Example 3.1.2\n",
    "\n",
    "````{div} full-width\n",
    "```{figure} playingcards.svg\n",
    "---\n",
    "width: 100%\n",
    "alt: A standard deck of 52 playing cards.\n",
    "name: playingcards\n",
    "---\n",
    "A standard deck of $52$ playing cards.[^cards-attribution] <br/> \n",
    "A deck is divided into 4 suits: Spades ($♠$), Hearts ($\\color{red} ♥$), Diamonds ($\\color{red} ♦$), and Clubs ($♣$). <br/>\n",
    "Spades ($♠$) and Clubs ($♣$) are black. Hearts ($\\color{red} ♥$) and Diamonds ($\\color{red} ♦$) are red.<br/>\n",
    "There are 13 ranks in each suit:\n",
    "**A**ce, **2**, **3**, **4**, **5**, **6**, **7**, **8**, **9**, **10**, **J**ack, **Q**ueen, and **K**ing.<br/>\n",
    "The Jacks, Queens, and Kings in a deck are called face cards.\n",
    "```\n",
    "````\n",
    "[^cards-attribution]: {numref}`Figure {number} <playingcards>` was adapted from an image [created by Dmitry Fomin](https://commons.wikimedia.org/wiki/File:English_pattern_playing_cards_deck.svg) made available under the [Creative Commons CC0 1.0 Universal Public Domain Dedication](https://creativecommons.org/publicdomain/zero/1.0/deed.en).\n",
    "\n",
    "Prudence draws one card from a standard deck of $52$ cards.\n",
    "1. Find $n(S)$, where $S$ is the sample space.\n",
    "2. Let event $F = $ drawing a black face card. What outcomes are in $F$? Express your answer in set notation. What is $n(F)$?\n",
    "3. Let event $♠ = $ drawing a spade. What is $n(♠)$?\n",
    "\n",
    "#### Solution\n",
    "##### Part 1\n",
    "The sample space $S$ is the set of all possible outcomes. Each card that Prudence can draw represents one possible outcome. Since Prudence draws from a deck containing 52 different cards, $n(S) = 52$.\n",
    "\n",
    "##### Part 2\n",
    "In set notation, $F = \\{J♠, Q♠, K♠, J♣, Q♣, K♣\\}$. Since there are six black face cards, $n(F) = 6$.\n",
    "\n",
    "```{note}\n",
    "In this example, we chose to represent each card with a letter (J, Q, or K) and an image of the suit ($♠$ or $♣$). But there are other ways we could have represented each outcome. For example, we could have written down the full name of each card:\n",
    "\n",
    "$$\\begin{aligned}\n",
    "F = \\{&\\textrm{Jack of Spades, Queen of Spades, King of Spades,} \\\\\n",
    "&\\quad\\textrm{Jack of Clubs, Queen of Clubs, King of Clubs}\\}.\n",
    "\\end{aligned}$$\n",
    "\n",
    "It's not important how we represent these outcomes as long as the meaning is clear.\n",
    "```\n",
    "\n",
    "##### Part 3\n",
    "Looking at the deck pictured above, we can see that thirteen of the cards are spades. So $n(♠) = 13$."
   ]
  },
  {
   "cell_type": "markdown",
   "metadata": {},
   "source": [
    "***"
   ]
  },
  {
   "cell_type": "markdown",
   "metadata": {},
   "source": [
    "## Basic Probability\n",
    "\n",
    "**Probability** is a measure of how likely it is that some event occurs when an experiment is performed. For example, if we flip a fair coin, there is a $50\\%$ probability that the coin comes up heads and a $50\\%$ probability that the coin comes up tails. This means that the coin is equally as likely to come up heads as it is to come up tails. Probabilities are always between $0\\%$ and $100\\%$ because an event cannot have less than a $0\\%$ chance of happening or more than a $100\\%$ chance of happening.\n",
    "\n",
    "While it is common to use percentages when speaking of probabilities, it is more convenient mathematically to express probabilities in decimal form. In decimal form, the probability that a flipped coin comes up heads is $0.5$ (since $0.5 = 50\\%$). Similarly, in decimal form, probabilities are always between $0$ and $1$. If a probability is in percentage form, it must first be converted to decimal form before it can be used in calculations.\n",
    "\n",
    "We denote the probability of an event $E$ as $P(E)$. For example, if we toss a fair coin and $H = $ the coin comes up heads, then $P(H) = 0.5$.\n",
    "\n",
    "The probability of an event tells us how often we would expect the event to occur if we repeated an experiment many times. If $P(A) = 0.25$, then we expect event $A$ to happen in $25\\%$ of the experiments if we repeated the experiment many times. If $P(A) = 0.672$, then we expect event $A$ to happen in $67.2\\%$ of the experiments if we repeated the experiment many times. If $P(A) = 0$, then event $A$ will happen in $0\\%$ of the experiments; that is, event $A$ will never be the result of an experiment. If $P(A) = 1$, then event $A$ will happen in $100\\%$ of the experiments; that is, event $A$ will happen in every experiment. \n",
    "\n",
    "The more times you conduct an experiment, the more likely it is that the proportion of times an event occurs will be close to the probability of the event. For example, if we tossed a coin just two times, we wouldn't be too surprised if $100\\%$ of the tosses came up heads. If we tossed the coin five times, we'd be a little more surprised if $100\\%$ of the tosses came up heads. But if we toss a coin $1,000$ times, we would be *very* surprised if $100\\%$ of the tosses come up heads. With $1,000$ tosses, we expect the proportion of tosses that come up heads to be much closer to the probability of $0.5 = 50\\%$. (See {numref}`Figure {number} <observed-coin-flips>`.)\n",
    "\n",
    "This important characteristic of probability experiments is known as the **law of large numbers** which states that as the number of repetitions of an experiment is increased, the proportion obtained in the experiments tends to become closer and closer to the theoretical probability. Even though the outcomes of the experiments do not happen according to any set pattern or order, overall, the long-term observed proportion will approach the theoretical probability."
   ]
  },
  {
   "cell_type": "code",
   "execution_count": 116,
   "metadata": {
    "tags": [
     "remove-cell"
    ]
   },
   "outputs": [
    {
     "data": {
      "text/html": [
       "<strong>png:</strong> 2"
      ],
      "text/latex": [
       "\\textbf{png:} 2"
      ],
      "text/markdown": [
       "**png:** 2"
      ],
      "text/plain": [
       "png \n",
       "  2 "
      ]
     },
     "metadata": {},
     "output_type": "display_data"
    }
   ],
   "source": [
    "png(\"observed_coin_flips.png\", width = 1000, height = 500)\n",
    "\n",
    "n = 1000\n",
    "N = 1\n",
    "color = c(\"blue3\", \"red3\", \"forestgreen\")\n",
    "\n",
    "par(mar = c(5, 6, 2, 0))\n",
    "plot(0, type = \"n\", ylim = c(0, 1), xlim = c(1, n), yaxt = \"n\", xaxt = \"n\", xlab = \"\", ylab = \"\")\n",
    "title(xlab = \"Number of Coin Tosses\", line = 4, cex.lab = 2.5)\n",
    "title(ylab = \"Proportion of Heads\", line = 4, cex.lab = 2.5)\n",
    "title(main = \"Proportion of Heads Observed in 1,000 Coin Tosses\", cex.main = 2.5)\n",
    "axis(1, at = seq(0, n, n/10), cex.axis = 2)\n",
    "axis(2, at = c(0, 0.5, 1), cex.axis = 2, las = 2)\n",
    "      \n",
    "abline(h = 0.5)\n",
    "\n",
    "for (j in 1:N){\n",
    "    x = sample(0:1, size = n, replace = TRUE)\n",
    "    p = numeric(n)\n",
    "    for (k in 1:n) {\n",
    "        p[k] = sum(x[1:k])/k\n",
    "    }\n",
    "    lines(p, col = color[j], lwd = 3)\n",
    "}\n",
    "\n",
    "dev.off()"
   ]
  },
  {
   "cell_type": "markdown",
   "metadata": {},
   "source": [
    "```{figure} observed_coin_flips.png\n",
    "---\n",
    "width: 100%\n",
    "alt: A graph relating the propotion of heads to the number of coin tosses.\n",
    "name: observed-coin-flips\n",
    "---\n",
    "A computer was used to simulate 1,000 coin tosses. The graph relates the proportion of heads that have come up to the number of times the coin has been tossed. Notice that when the coin has been tossed only a few times, the graph looks wild, and the proportion of heads can be quite different than the probability of tossing a head, $0.5$. As the number of coin tosses increases, the graph grows less erratic, and the proportion of heads tends to get closer to $0.5$.\n",
    "```"
   ]
  },
  {
   "cell_type": "markdown",
   "metadata": {},
   "source": [
    "When all the outcomes of an experiment are **equally likely**—that is, when each outcome in the sample space has the same probability of occuring—the probability of an event $E$ can be calculated using the formula\n",
    "\n",
    "$$ P(E) = \\frac{n(E)}{n(S)}. $$\n",
    "\n",
    "That is, to find $P(E)$, we divide the number of possible outcomes in event $E$ by the total number of possible outcomes in the sample space $S$. \n",
    "\n",
    "For example, imagine we toss a fair coin. Since it is just as likely for a coin to come up heads as it is to come up tails, all the outcomes are equally likely. Let $H$ be the event where the coin comes up heads. Since there are only two possible outcomes in the sample space (heads or tails), $n(S) = 2$. Since there is only one outcome in $H$ (heads), $n(H) = 1$. So the probability of tossing a coin and having it come up heads is\n",
    "\n",
    "$$ P(H) = \\frac{n(H)}{n(S)} = \\frac{1}{2} = 0.5. $$\n",
    "\n",
    "As another example, suppose we roll a six-sided die. Each value of the die has an equal probability of being rolled, so all the outcomes are equally likely. Let $A$ be the event of rolling a value that's not a $2$. Then $A = \\{1, 3, 4, 5, 6\\}$, and $n(A) = 5$. Since there are $6$ possible outcomes in total,\n",
    "\n",
    "$$ P(A) = \\frac{n(A)}{n(S)} = \\frac{5}{6} = 0.8333. $$\n",
    "\n",
    "The probability of rolling a number that isn't a $2$ is $0.8333$. In other words, if we roll a six-sided die, there is an $83.33\\%$ chance that we do not roll a $2$.\n",
    "\n",
    "It is important to realize that in many situations the outcomes are not equally likely. For example, imagine a weather forecast predicts that there is a $70\\%$ chance of rain tomorrow. If we view tomorrow's weather as an experiment, then there are two possible outcomes: rain, or no rain. But the probability that it rains tomorrow is $70\\% = 0.7$, meaning the probability that it doesn't rain is only $30\\% = 0.3$. Since the two possible outcomes have different probabilities, the outcomes are not equally likely. \n",
    "\n",
    "When the outcomes of an experiment are not equally likely, we cannot use the above formula to calculate an event's probability. We will learn techniques for working with outcomes that are not equally likely later."
   ]
  },
  {
   "cell_type": "markdown",
   "metadata": {},
   "source": [
    "***"
   ]
  },
  {
   "cell_type": "markdown",
   "metadata": {},
   "source": [
    "### Example 3.1.3\n",
    "\n",
    "Imagine you draw a card from a well-shuffled standard $52$-card deck. (See {numref}`Figure {number} <playingcards>`.)\n",
    "1. Let event $N = $ drawing a $7$. Find $P(N)$.\n",
    "2. Let event $♣ = $ drawing a club. Find $P(♣)$.\n",
    "3. Let event $F = $ drawing a face card. Find $P(F)$.\n",
    "4. Let $S$ be the sample space. Find $P(S)$.\n",
    "\n",
    "#### Solution\n",
    "\n",
    "First, note that all outcomes are equally likely because each card has the same chance of being drawn. Also, since there are $52$ cards in the deck that could possibly be drawn, $n(S) = 52$.\n",
    "\n",
    "##### Part 1\n",
    "A deck of cards contains four $7$s, so $n(N) = 4$. Thus, the probability of drawing a $7$ is\n",
    "\n",
    "$$ P(N) = \\frac{n(N)}{n(S)} = \\frac{4}{52} = 0.0769. $$\n",
    "\n",
    "There is a $7.69\\%$ chance that the card you draw is a $7$.\n",
    "\n",
    "##### Part 2\n",
    "There are thirteen clubs in a deck, so $n(♣) = 13$. The probability of drawing a club is\n",
    "\n",
    "$$ P(♣) = \\frac{n(♣)}{n(S)} = \\frac{13}{52} = 0.25. $$\n",
    "\n",
    "There is a $25\\%$ chance that the card you draw is a club.\n",
    "\n",
    "##### Part 3\n",
    "Each of the four suits has three face cards (Jack, Queen, and King), so there are twelve face cards altogether. That means $n(F) = 12$. So the probability of drawing a face card is\n",
    "\n",
    "$$ P(F) = \\frac{n(F)}{n(S)} = \\frac{12}{52} = 0.2308. $$\n",
    "\n",
    "There is a $23.07\\%$ chance that the card you draw is a face card.\n",
    "\n",
    "##### Part 4\n",
    "We already know $n(S) = 52$, so the probability of drawing a card in the sample space is\n",
    "\n",
    "$$ P(S) = \\frac{n(S)}{n(S)} = \\frac{52}{52} = 1. $$\n",
    "\n",
    "There is a $100\\%$ chance that the card you draw is in the sample space. In retrospect, this is should be obvious since the sample space contains all the possible outcomes of an experiment, and when an experiment is performed, one of those possible outcomes is guaranteed to occur."
   ]
  },
  {
   "cell_type": "markdown",
   "metadata": {},
   "source": [
    "***"
   ]
  },
  {
   "cell_type": "markdown",
   "metadata": {},
   "source": [
    "### Example 3.1.4\n",
    "{numref}`abortion-table` describes the distribution of a random sample of $466$ individuals from the U.S., organized by political party and views on the circumstances under which abortion should be legal. One individual from the sample is selected at random.\n",
    "\n",
    "```{list-table} The political party identification and views on the circumstances under which abortion should be legal of a sample of $466$ individuals.\n",
    ":header-rows: 1\n",
    ":stub-columns: 1\n",
    ":name: abortion-table\n",
    "* - \n",
    "  - Legal under any circumstances\n",
    "  - Legal under certain circumstances\n",
    "  - Illegal in all circumstances\n",
    "* - Republican\n",
    "  - 18\n",
    "  - 66\n",
    "  - 38\n",
    "* - Independent\n",
    "  - 64\n",
    "  - 96\n",
    "  - 34\n",
    "* - Democrat\n",
    "  - 76\n",
    "  - 62\n",
    "  - 12\n",
    "```\n",
    "\n",
    "1. Let event $D = $ the probability the individual is a Democrat. Find $P(D)$.\n",
    "2. Let event $C = $ the probability that the individual believes abortion should be legal only under certain circumstances. Find $P(C)$.\n",
    "\n",
    "#### Solution\n",
    "Note that since the individual is selected randomly, each individual has an equal probability of being chosen. So the outcomes are equally likely. And since there are $466$ individuals in the sample that could be selected, $n(S) = 466$.\n",
    "\n",
    "##### Part 1\n",
    "To find the probability that the randomly chosen individual is a Democrat, we must first determine how many Democrats are in the sample. Looking at {numref}`abortion-table`, we see that $76$ Democrats believe abortion should be legal under any circumstances, $62$ Democrats believe abortion should be legal only under certain circumstances, and $12$ Democrats believe abortion should be illegal under all circumstances. Adding these together, we see that the total number of Democrats in the sample is\n",
    "\n",
    "$$ n(D) = 76 + 62 + 12 = 150. $$\n",
    "\n",
    "So the probability that the randomly chosen individual is a Democrat is\n",
    "\n",
    "$$ P(D) = \\frac{n(D)}{n(S)} = \\frac{150}{466} = 0.3219. $$\n",
    "\n",
    "There is a $32.19\\%$ chance that the individual we randomly choose from the sample is a Democrat.\n",
    "\n",
    "##### Part 2\n",
    "To find the probability that the randomly chosen individual believes abortion should be legal only under certain circumstances, we must first determine how many individuals with this belief are in the sample. Looking at {numref}`abortion-table`, we see $66$ Republicans have this belief, $96$ Independents have this belief, and $62$ Democrats have this belief. Then the total number of individuals in the sample who believe abortion should be legal only under certain circumstances is\n",
    "\n",
    "$$ n(C) = 66 + 96 + 62 = 224. $$\n",
    "\n",
    "Then the probability that the randomly chosen individual believes abortion should be legal only under certain circumstances is\n",
    "\n",
    "$$ P(C) = \\frac{n(C)}{n(S)} = \\frac{224}{466} = 0.4807. $$\n",
    "\n",
    "There is a $48.07\\%$ chance that the individual we randomly choose will believe that abortion should be legal in certain circumstances.\n"
   ]
  }
 ],
 "metadata": {
  "kernelspec": {
   "display_name": "R",
   "language": "R",
   "name": "ir"
  },
  "language_info": {
   "codemirror_mode": "r",
   "file_extension": ".r",
   "mimetype": "text/x-r-source",
   "name": "R",
   "pygments_lexer": "r",
   "version": "4.3.3"
  }
 },
 "nbformat": 4,
 "nbformat_minor": 4
}
