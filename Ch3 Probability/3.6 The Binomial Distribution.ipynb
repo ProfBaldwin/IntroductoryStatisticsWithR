{
 "cells": [
  {
   "cell_type": "markdown",
   "metadata": {},
   "source": [
    "# The Binomial Distribution"
   ]
  },
  {
   "cell_type": "markdown",
   "metadata": {},
   "source": [
    "## Objectives ##\n",
    "- Identify experiments that fit a binomial probability distribution.\n",
    "- Calculate the expected value and standard deviation for a binomial distribution.\n",
    "- Calculate probabilities using a binomial distribution."
   ]
  },
  {
   "cell_type": "markdown",
   "metadata": {},
   "source": [
    "## The Binomial Distribution ##\n",
    "There are three characteristics of a **binomial experiment**.\n",
    "\n",
    "\n",
    "- There are a fixed number of trials. Think of trials as repetitions of an experiment. The letter $n$ denotes the number of trials. <br/><br/> For example, if we conduct a binomial experiment by rolling a six-sided die ten times, then the binomial experiment has $n = 10$ trials.<br/><br/>\n",
    "- There are only two possible outcomes, called \"success\" and \"failure,\" for each trial. The letter $p$ denotes the probability of a success for one trial, and $q$ denotes the probability of a failure for one trial. Since \"success\" and \"failure\" are complementary outcomes, $p + q = 1$. <br/><br/> Imagine we roll a six-sided die ten times, and we want to know many twos we roll. Then each of the $n = 10$ trials is counted a \"success\" when we roll a two and is a \"failure\" when we roll anything that isn't a two. In this case, the probability a trial is a success is $p = \\frac{1}{6}$, and the probability a trial is a failure is $q = \\frac{5}{6}$. (Note, $p + q = \\frac{1}{6} + \\frac{5}{6} = 1$.)<br/><br/>\n",
    "- The $n$ trials of a binomial experiment are independent and are repeated using identical conditions. Because the $n$ trials are independent and identical, the probability of success $p$ and probability of failure $q$ are the same for each trial. <br/><br/> In our binomial experiment of $n = 10$ die rolls, we have a probabiliy of $p = \\frac{1}{6}$ of rolling a two on the second trial no matter what happened during the first trial. The probability of success and the probability of failure is the same for every roll of the die.\n",
    "\n",
    "The outcomes of a binomial experiment fit a **binomial probability distribution**, which is a special kind of discrete probability distribution. A binomial distribution is a formula that gives the probability that there were exactly $x$ successes in the $n$ trials, where we can choose any whole number $x$  between $0$ and $n$.\n",
    "\n",
    "The expected value of a binomial distribution is\n",
    "\n",
    "$$ \\mu = n \\cdot p. $$\n",
    "\n",
    "The standard deviation of a binomial distribution is\n",
    "\n",
    "$$ \\sigma = \\sqrt{n \\cdot p \\cdot q}. $$\n",
    "\n",
    "```{note}\n",
    "Be aware that the success of a trial in a binomial experiment isn't necessarily good, and the failure of a trial isn't necessarily bad. Rather, we call the outcome we are trying to measure a success regardless of whether it is good or bad.\n",
    "\n",
    "For example, we may consider a test for cancer a success if cancer is detected since that is what we are trying to measure, even though a cancer diagnosis is definitely bad.\n",
    "```"
   ]
  },
  {
   "cell_type": "markdown",
   "metadata": {},
   "source": [
    "***"
   ]
  },
  {
   "cell_type": "markdown",
   "metadata": {},
   "source": [
    "\n",
    "### Example 3.6.1\n",
    "At ABC College, the withdrawal rate from an elementary physics course is $30\\%$ for any given term. This implies that, for any given term, $70\\%$ of the students stay in the class for the entire term. We track $20$ students in an elementary physics course to see if they withdraw from the course. Assume the probability that each student withdraws is independent from the other students. \n",
    "1. Is this a binomial experiment? Why or why not?\n",
    "2. How many students are expected to withdraw from the course?\n",
    "3. What is the standard deviation?\n",
    "\n",
    "#### Solution\n",
    "##### Part 1\n",
    "There are three conditions an experiment must satisfy to be a binomial experiment.\n",
    "\n",
    "1. Are there are a fixed number of trials? Yes. In this case, we are looking to see if each of the $20$ students withdraws from the course, so the experiment consists of $n = 20$ trials.\n",
    "2. Does each trial only have two possible outcomes? Yes. Each student will either withdraw or not withdraw from the course.\n",
    "3. Are the trials independent and identical? Yes. We are told in the prompt to assume that the probability that each student withdraws is independent from the other students, so the probability that a student will withdraw is identical for each student.\n",
    "\n",
    "Since these three conditions are met, this is a binomial experiment.\n",
    "\n",
    "##### Part 2\n",
    "To find how many students are expected to withdraw from the course, we need to find the expected value. Since there are $20$ students, the experiment consists of $n = 20$ trials. Since we are interested in how many students will withdraw from the course, we will call a trial a success if the student withdraws from the course. So the probability of success is $p = 0.30$. So the expected value is\n",
    "\n",
    "$$ \\mu = n \\cdot p = 20 \\cdot 0.30 = 6. $$\n",
    "\n",
    "We expect $6$ of the $20$ students to drop the course.\n",
    "\n",
    "##### Part 3\n",
    "Since the probability of success of any one trial is $p = 0.30$, the probability of failure is $q = 0.70$. Then the standard deviation of the binomial distribution is\n",
    "\n",
    "$$ \\sigma = \\sqrt{n \\cdot p \\cdot q} = \\sqrt{20 \\cdot 0.30 \\cdot 0.70} = 2.0494. $$"
   ]
  },
  {
   "cell_type": "markdown",
   "metadata": {},
   "source": [
    "***"
   ]
  },
  {
   "cell_type": "markdown",
   "metadata": {},
   "source": [
    "### Example 3.6.2\n",
    "Suppose you play a game where you draw a single card from a well-shuffled $52$-card deck. You win the game if you draw a Spade. If you do not draw a spade, you lose. You play the game $50$ times. \n",
    "\n",
    "1. Is this a binomial experiment? Why or why not?\n",
    "2. How many times do you expect to win the game?\n",
    "3. What is the standard deviation?\n",
    "\n",
    "#### Solution\n",
    "\n",
    "##### Step 1\n",
    "There are three conditions an experiment must satisfy to be a binomial experiment.\n",
    "\n",
    "1. Are there are a fixed number of trials? Yes. In this case, you play the game $50$ times, so the experiment has $n = 50$ trials.\n",
    "2. Does each trial only have two possible outcomes? Yes. Each time you play the game, you can either win or lose.\n",
    "3. Are the trials independent and identical? Yes. Each time you play the game, you are drawing from a full deck of $52$ cards. Since you play with the full deck each game, the games are independent and identical.\n",
    "\n",
    "Since these three conditions are met, this is a binomial experiment.\n",
    "\n",
    "##### Step 2\n",
    "We want to find the expected value. There are $n = 50$ trials since you play the game $50$ times. Since we are interested in how many times you win the game, a trail is a success if you win. Since there are $13$ spades in a deck of $52$ cards, the probability of success is $p = \\frac{13}{52} = 0.25$. Then the expected value is\n",
    "\n",
    "$$ \\mu = n \\cdot p = 50 \\cdot 0.25 = 12.5. $$\n",
    "\n",
    "We expect you to win $12.5$ of the $50$ games.\n",
    "\n",
    "##### Step 3\n",
    "Since the probability of success is $p = 0.25$ and $p + q = 1$, the probability of failure must be $q = 0.75$. Then the standard deviation is\n",
    "\n",
    "$$ \\sigma = \\sqrt{n \\cdot p \\cdot q} = \\sqrt{50 \\cdot 0.25 \\cdot 0.75} = 3.0619. $$"
   ]
  },
  {
   "cell_type": "markdown",
   "metadata": {},
   "source": [
    "***"
   ]
  },
  {
   "cell_type": "markdown",
   "metadata": {},
   "source": [
    "## Notation and Calculation ##\n",
    "When we want to say that $X$ is a random variable with a binomial distribution, we write\n",
    "\n",
    "$$ X \\sim B(n, p) $$\n",
    "\n",
    "where $n$ is the number of trials and $p$ is the probability of success of any one trial.\n",
    "\n",
    "We can calculate the the probability of a binomial distribution using the R function\n",
    "```R\n",
    "dbinom(x, size, prob)\n",
    "```\n",
    "where <code>x</code> is the number of successes we want to calculate the probability of obtaining, <code>size</code> is the number of trials $n$, and <code>prob</code> is the probability of success $p$ of one trial. Alternatively, <code>x</code> could be a list of values, in which case the function will return a list of probabilities, one for each value in <code>x</code>."
   ]
  },
  {
   "cell_type": "markdown",
   "metadata": {},
   "source": [
    "***"
   ]
  },
  {
   "cell_type": "markdown",
   "metadata": {},
   "source": [
    "\n",
    "### Example 3.6.3\n",
    "It has been stated that about $41\\%$ of adult workers have a high school diploma but do not pursue any further education. Suppose $20$ adult workers are randomly selected.\n",
    "\n",
    "1. Find the probability that exactly 7 of the 20 workers have a high school diploma but do not pursue further education.\n",
    "2. Find the probability that at most 4 workers have a high school diploma but do not pursue further education.\n",
    "3. Find the probability that more than 15 workers have a high school diploma but do not pursue further education.\n",
    "4. Find the probability that more than 8 but less than 18 workers have a high school diploma but do not pursue further education.\n",
    "\n",
    "#### Solution\n",
    "For this problem, $X =$ the number of workers, of the $20$ selected, that have a high school diploma but do not pursue further education. The number of trials is $n = 20$, and the probability of \"success\" is $p = 0.41$. So\n",
    "\n",
    "$$ X \\sim B(20, 0.41) $$\n",
    "\n",
    "##### Part 1\n",
    "We want to find $P(X = 7)$. We will use the <code>dbinom</code> function."
   ]
  },
  {
   "cell_type": "code",
   "execution_count": 1,
   "metadata": {},
   "outputs": [
    {
     "data": {
      "text/html": [
       "0.158480894003918"
      ],
      "text/latex": [
       "0.158480894003918"
      ],
      "text/markdown": [
       "0.158480894003918"
      ],
      "text/plain": [
       "[1] 0.1584809"
      ]
     },
     "metadata": {},
     "output_type": "display_data"
    }
   ],
   "source": [
    "dbinom(x = 7, size = 20, prob = 0.41)"
   ]
  },
  {
   "cell_type": "markdown",
   "metadata": {},
   "source": [
    "The probability that exactly $7$ of the $20$ adults have a high school diploma but do not pursue further education is $P(X = 7) = 0.1585$, or $15.85\\%$.\n",
    "\n",
    "##### Part 2\n",
    "We want to find $P(X \\leq 4)$. In other words, we want to know the probability that $x$ is $0$ or $1$ or $2$ or $3$ or $4$. We will again use the <code>dbinom</code> function, but instead of passing a single value, we will pass a list of values. Let's first see how this works."
   ]
  },
  {
   "cell_type": "code",
   "execution_count": 1,
   "metadata": {},
   "outputs": [
    {
     "data": {
      "text/html": [
       "<ol class=list-inline>\n",
       "\t<li>2.6124033550459e-05</li>\n",
       "\t<li>0.000363079788328412</li>\n",
       "\t<li>0.00239694199243926</li>\n",
       "\t<li>0.00999402932440777</li>\n",
       "\t<li>0.0295162645725093</li>\n",
       "</ol>\n"
      ],
      "text/latex": [
       "\\begin{enumerate*}\n",
       "\\item 2.6124033550459e-05\n",
       "\\item 0.000363079788328412\n",
       "\\item 0.00239694199243926\n",
       "\\item 0.00999402932440777\n",
       "\\item 0.0295162645725093\n",
       "\\end{enumerate*}\n"
      ],
      "text/markdown": [
       "1. 2.6124033550459e-05\n",
       "2. 0.000363079788328412\n",
       "3. 0.00239694199243926\n",
       "4. 0.00999402932440777\n",
       "5. 0.0295162645725093\n",
       "\n",
       "\n"
      ],
      "text/plain": [
       "[1] 2.612403e-05 3.630798e-04 2.396942e-03 9.994029e-03 2.951626e-02"
      ]
     },
     "metadata": {},
     "output_type": "display_data"
    }
   ],
   "source": [
    "values = c(0, 1, 2, 3, 4)\n",
    "dbinom(x = values, size = 20, prob = 0.41)"
   ]
  },
  {
   "cell_type": "markdown",
   "metadata": {},
   "source": [
    "This gives us a list of $5$ probabilities, one for each value we passed. For example, we can see from the list that $P(X = 4) = 0.0295$. \n",
    "\n",
    "But these values are all mutually exclusive (because, for example, we can't have at the same time $2$ and $3$ adults with a high school diploma but who do not pursue higher education; it can be either $2$, or $3$, not both). So \n",
    "\n",
    "$$ P(X \\leq 4) = P(X = 0) + P(X = 1) + P(X = 2) + P(X = 3) + P(X = 4); $$\n",
    "\n",
    "that is, we just need to add up these probabilities. We can do this quickly using the <code>sum</code> function."
   ]
  },
  {
   "cell_type": "code",
   "execution_count": 1,
   "metadata": {},
   "outputs": [
    {
     "data": {
      "text/html": [
       "0.0422964397112352"
      ],
      "text/latex": [
       "0.0422964397112352"
      ],
      "text/markdown": [
       "0.0422964397112352"
      ],
      "text/plain": [
       "[1] 0.04229644"
      ]
     },
     "metadata": {},
     "output_type": "display_data"
    }
   ],
   "source": [
    "values = c(0, 1, 2, 3, 4)\n",
    "probs = dbinom(x = values, size = 20, prob = 0.41)\n",
    "sum(probs)"
   ]
  },
  {
   "cell_type": "markdown",
   "metadata": {},
   "source": [
    "So $P(X \\leq 4) = 0.0423$. That is, there is a $4.23\\%$ chance that no more than $4$ adults of the $20$ selected have a high school diploma but do not pursue higher education.\n",
    "\n",
    "##### Part 3\n",
    "We want $P(X > 15)$. \"More than $15$\" means that $16$ or $17$ or $18$ or $19$ or $20$ of the adults have a high school diploma but do not pursue further education. (Note, we stop at $20$ because that's the total number of adults. We can't have more successes than we have trials.)"
   ]
  },
  {
   "cell_type": "code",
   "execution_count": 1,
   "metadata": {},
   "outputs": [
    {
     "data": {
      "text/html": [
       "0.000443150625878507"
      ],
      "text/latex": [
       "0.000443150625878507"
      ],
      "text/markdown": [
       "0.000443150625878507"
      ],
      "text/plain": [
       "[1] 0.0004431506"
      ]
     },
     "metadata": {},
     "output_type": "display_data"
    }
   ],
   "source": [
    "values = c(16, 17, 18, 19, 20)\n",
    "probs = dbinom(x = values, size = 20, prob = 0.41)\n",
    "sum(probs)"
   ]
  },
  {
   "cell_type": "markdown",
   "metadata": {},
   "source": [
    "So $P(x > 15) = 0.0004$. There is only a $0.04\\%$ chance that more than $15$ of the $20$ adults selected have a high school diploma but do not pursue further education.\n",
    "\n",
    "##### Part 4\n",
    "We want $P(8 < x < 18)$."
   ]
  },
  {
   "cell_type": "code",
   "execution_count": 1,
   "metadata": {},
   "outputs": [
    {
     "data": {
      "text/html": [
       "0.440587402134619"
      ],
      "text/latex": [
       "0.440587402134619"
      ],
      "text/markdown": [
       "0.440587402134619"
      ],
      "text/plain": [
       "[1] 0.4405874"
      ]
     },
     "metadata": {},
     "output_type": "display_data"
    }
   ],
   "source": [
    "values = c(9, 10, 11, 12, 13, 14, 15, 16, 17)\n",
    "probs = dbinom(x = values, size = 20, prob = 0.41)\n",
    "sum(probs)"
   ]
  },
  {
   "cell_type": "markdown",
   "metadata": {},
   "source": [
    "So $P(8 < x < 18) = 0.4406$. There is a $44.06\\%$ chance that between $8$ and $18$ adults of the $20$ selected have a high school diploma but do not pursue futher education."
   ]
  },
  {
   "cell_type": "markdown",
   "metadata": {},
   "source": [
    "***"
   ]
  },
  {
   "cell_type": "markdown",
   "metadata": {},
   "source": [
    "\n",
    "### Example 3.6.4\n",
    "The lifetime risk of developing pancreatic cancer is about $1.28\\%$. Suppose we randomly sample $200$ people. Let $X =$ the number of people who will develop pancreatic cancer.\n",
    "\n",
    "1. Is it more likely that five people or six people of the $200$ people in the sample will develop pancreatic cancer? Justify your answer numerically.\n",
    "2. Find the probability that less than eight people develop pancreatic cancer.\n",
    "\n",
    "#### Solution\n",
    "For this problem, $X \\sim B(200, 0.0128)$.\n",
    "\n",
    "##### Part 1\n",
    "We need to find $P(X = 5)$ and $P(X = 6)$ and see which probability is greater."
   ]
  },
  {
   "cell_type": "code",
   "execution_count": 1,
   "metadata": {},
   "outputs": [
    {
     "data": {
      "text/html": [
       "<ol class=list-inline>\n",
       "\t<li>0.0706549781513899</li>\n",
       "\t<li>0.0297735726407802</li>\n",
       "</ol>\n"
      ],
      "text/latex": [
       "\\begin{enumerate*}\n",
       "\\item 0.0706549781513899\n",
       "\\item 0.0297735726407802\n",
       "\\end{enumerate*}\n"
      ],
      "text/markdown": [
       "1. 0.0706549781513899\n",
       "2. 0.0297735726407802\n",
       "\n",
       "\n"
      ],
      "text/plain": [
       "[1] 0.07065498 0.02977357"
      ]
     },
     "metadata": {},
     "output_type": "display_data"
    }
   ],
   "source": [
    "values = c(5, 6)\n",
    "dbinom(x = values, size = 200, prob = 0.0128)"
   ]
  },
  {
   "cell_type": "markdown",
   "metadata": {},
   "source": [
    "So $P(x = 5) = 0.0707$ and $P(x = 6) = 0.0298$. Since the probability is greater when $x = 5$ than when $x = 6$, it is more likely that $5$ of the $200$ people develop pancreatic cancer than it is for $6$ of the $200$ people to develop pancreatic cancer.\n",
    "\n",
    "##### Part 2\n",
    "We want to find $P(X < 8)$."
   ]
  },
  {
   "cell_type": "code",
   "execution_count": 1,
   "metadata": {},
   "outputs": [
    {
     "data": {
      "text/html": [
       "0.995434178943854"
      ],
      "text/latex": [
       "0.995434178943854"
      ],
      "text/markdown": [
       "0.995434178943854"
      ],
      "text/plain": [
       "[1] 0.9954342"
      ]
     },
     "metadata": {},
     "output_type": "display_data"
    }
   ],
   "source": [
    "values = c(0, 1, 2, 3, 4, 5, 6, 7)\n",
    "probs = dbinom(x = values, size = 200, prob = 0.0128)\n",
    "sum(probs)"
   ]
  },
  {
   "cell_type": "markdown",
   "metadata": {},
   "source": [
    "So $P(x < 8) = 0.9954$. There is a 99.54% chance that fewer than $8$ of the $200$ people sampled develop pancreatic cancer."
   ]
  }
 ],
 "metadata": {
  "kernelspec": {
   "display_name": "R",
   "language": "R",
   "name": "ir"
  },
  "language_info": {
   "codemirror_mode": "r",
   "file_extension": ".r",
   "mimetype": "text/x-r-source",
   "name": "R",
   "pygments_lexer": "r",
   "version": "4.2.3"
  }
 },
 "nbformat": 4,
 "nbformat_minor": 4
}
