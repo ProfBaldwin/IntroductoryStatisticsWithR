{
 "cells": [
  {
   "cell_type": "markdown",
   "metadata": {},
   "source": [
    "# Using Google Colab\n",
    "## Objectives\n",
    "- Create a new Google Colab Notebook.\n",
    "- Share a Notebook.\n",
    "- Access a previously saved Notebook.\n",
    "- Create, move, and delete code cells and text cells within a Notebook.\n",
    "- Create lists, italic and bold text, and tables within a text cell."
   ]
  },
  {
   "cell_type": "markdown",
   "metadata": {},
   "source": [
    "## What is Google Colab?\n",
    "**Google Colab** is a web-based interactive computational environment created by Google that is free to use and \n",
    "allows users to create documents, called Notebooks, that intermix computer code and text. We will use computer code to do the calculations (just like a calculator) and text to analyze those calculations. The Notebooks are stored in Google Drive and can be accessed and edited from any internet-enabled computer."
   ]
  },
  {
   "cell_type": "markdown",
   "metadata": {},
   "source": [
    "## Create a New Google Colab Notebook\n",
    "To create a new Google Colab Notebook, simply click this link or any similar link provided by your instructor in your course shell:\n",
    "\n",
    "[https://colab.fan/r](https://colab.fan/r)\n",
    "\n",
    "If you are not signed into a Google account, you will be prompted to do so. If you do not have a Google account, you will need to create one.\n",
    "\n",
    "Once your are signed in, you will see a new Notebook like the one pictured. This Notebook has been added to your Google Drive. You can edit the title of the Notebook by clicking the name in the top left-hand corner.\n",
    "\n",
    "<img src=\"NewNotebook.png\" alt=\"A New Google Colab Notebook\">\n",
    "\n",
    "**IMPORTANT: To create a new Notebook, you *MUST* click an appropriate link.** If you create a Notebook using another method (for example, if you go to File -> New Notebook in an already existing Notebook), the new Notebook will not understand the computer code we use for this class. (This is because Google Colab Notebooks default to the Python language, but we use the R language in this text.) You *must* use the provided link to create a new Notebook."
   ]
  }
 ],
 "metadata": {
  "kernelspec": {
   "display_name": "R",
   "language": "R",
   "name": "ir"
  },
  "language_info": {
   "codemirror_mode": "r",
   "file_extension": ".r",
   "mimetype": "text/x-r-source",
   "name": "R",
   "pygments_lexer": "r",
   "version": "3.6.1"
  }
 },
 "nbformat": 4,
 "nbformat_minor": 4
}
